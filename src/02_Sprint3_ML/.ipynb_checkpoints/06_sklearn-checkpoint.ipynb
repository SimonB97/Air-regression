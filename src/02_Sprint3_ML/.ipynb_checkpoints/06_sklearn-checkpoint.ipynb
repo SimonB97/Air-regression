{
 "cells": [
  {
   "cell_type": "code",
   "execution_count": 1,
   "id": "c3de78f5",
   "metadata": {},
   "outputs": [],
   "source": [
    "import pandas as pd\n",
    "import functions as func\n",
    "import orga_functions as org\n",
    "import json"
   ]
  },
  {
   "cell_type": "code",
   "execution_count": 2,
   "id": "c284bd29",
   "metadata": {},
   "outputs": [
    {
     "data": {
      "text/html": [
       "<div>\n",
       "<style scoped>\n",
       "    .dataframe tbody tr th:only-of-type {\n",
       "        vertical-align: middle;\n",
       "    }\n",
       "\n",
       "    .dataframe tbody tr th {\n",
       "        vertical-align: top;\n",
       "    }\n",
       "\n",
       "    .dataframe thead th {\n",
       "        text-align: right;\n",
       "    }\n",
       "</style>\n",
       "<table border=\"1\" class=\"dataframe\">\n",
       "  <thead>\n",
       "    <tr style=\"text-align: right;\">\n",
       "      <th></th>\n",
       "      <th>date</th>\n",
       "      <th>co_gt</th>\n",
       "      <th>pt08_s1_co</th>\n",
       "      <th>c6h6_gt</th>\n",
       "      <th>pt08_s2_nmhc</th>\n",
       "      <th>nox_gt</th>\n",
       "      <th>pt08_s3_nox</th>\n",
       "      <th>no2_gt</th>\n",
       "      <th>pt08_s4_no2</th>\n",
       "      <th>pt08_s5_o3</th>\n",
       "      <th>t</th>\n",
       "      <th>rh</th>\n",
       "      <th>ah</th>\n",
       "    </tr>\n",
       "  </thead>\n",
       "  <tbody>\n",
       "    <tr>\n",
       "      <th>0</th>\n",
       "      <td>2004-03-10 18:00:00</td>\n",
       "      <td>2.6</td>\n",
       "      <td>1360.0</td>\n",
       "      <td>11.9</td>\n",
       "      <td>1046.000000</td>\n",
       "      <td>166.0</td>\n",
       "      <td>1056.0</td>\n",
       "      <td>113.0</td>\n",
       "      <td>1692.0</td>\n",
       "      <td>1268.0</td>\n",
       "      <td>13.6</td>\n",
       "      <td>48.9</td>\n",
       "      <td>0.7578</td>\n",
       "    </tr>\n",
       "    <tr>\n",
       "      <th>1</th>\n",
       "      <td>2004-03-10 19:00:00</td>\n",
       "      <td>2.0</td>\n",
       "      <td>1292.0</td>\n",
       "      <td>9.4</td>\n",
       "      <td>955.000000</td>\n",
       "      <td>103.0</td>\n",
       "      <td>1174.0</td>\n",
       "      <td>92.0</td>\n",
       "      <td>1559.0</td>\n",
       "      <td>972.0</td>\n",
       "      <td>13.3</td>\n",
       "      <td>47.7</td>\n",
       "      <td>0.7255</td>\n",
       "    </tr>\n",
       "    <tr>\n",
       "      <th>2</th>\n",
       "      <td>2004-03-10 20:00:00</td>\n",
       "      <td>2.2</td>\n",
       "      <td>1402.0</td>\n",
       "      <td>9.0</td>\n",
       "      <td>939.000000</td>\n",
       "      <td>131.0</td>\n",
       "      <td>1140.0</td>\n",
       "      <td>114.0</td>\n",
       "      <td>1555.0</td>\n",
       "      <td>1074.0</td>\n",
       "      <td>11.9</td>\n",
       "      <td>54.0</td>\n",
       "      <td>0.7502</td>\n",
       "    </tr>\n",
       "    <tr>\n",
       "      <th>3</th>\n",
       "      <td>2004-03-10 21:00:00</td>\n",
       "      <td>2.2</td>\n",
       "      <td>1376.0</td>\n",
       "      <td>9.2</td>\n",
       "      <td>948.000000</td>\n",
       "      <td>172.0</td>\n",
       "      <td>1092.0</td>\n",
       "      <td>122.0</td>\n",
       "      <td>1584.0</td>\n",
       "      <td>1203.0</td>\n",
       "      <td>11.0</td>\n",
       "      <td>60.0</td>\n",
       "      <td>0.7867</td>\n",
       "    </tr>\n",
       "    <tr>\n",
       "      <th>4</th>\n",
       "      <td>2004-03-10 22:00:00</td>\n",
       "      <td>1.6</td>\n",
       "      <td>1272.0</td>\n",
       "      <td>6.5</td>\n",
       "      <td>836.000000</td>\n",
       "      <td>131.0</td>\n",
       "      <td>1205.0</td>\n",
       "      <td>116.0</td>\n",
       "      <td>1490.0</td>\n",
       "      <td>1110.0</td>\n",
       "      <td>11.2</td>\n",
       "      <td>59.6</td>\n",
       "      <td>0.7888</td>\n",
       "    </tr>\n",
       "    <tr>\n",
       "      <th>...</th>\n",
       "      <td>...</td>\n",
       "      <td>...</td>\n",
       "      <td>...</td>\n",
       "      <td>...</td>\n",
       "      <td>...</td>\n",
       "      <td>...</td>\n",
       "      <td>...</td>\n",
       "      <td>...</td>\n",
       "      <td>...</td>\n",
       "      <td>...</td>\n",
       "      <td>...</td>\n",
       "      <td>...</td>\n",
       "      <td>...</td>\n",
       "    </tr>\n",
       "    <tr>\n",
       "      <th>7993</th>\n",
       "      <td>2005-02-06 19:00:00</td>\n",
       "      <td>1.6</td>\n",
       "      <td>985.0</td>\n",
       "      <td>4.5</td>\n",
       "      <td>953.579453</td>\n",
       "      <td>227.0</td>\n",
       "      <td>891.0</td>\n",
       "      <td>165.0</td>\n",
       "      <td>875.0</td>\n",
       "      <td>774.0</td>\n",
       "      <td>6.0</td>\n",
       "      <td>38.0</td>\n",
       "      <td>0.3584</td>\n",
       "    </tr>\n",
       "    <tr>\n",
       "      <th>7994</th>\n",
       "      <td>2005-02-06 20:00:00</td>\n",
       "      <td>1.8</td>\n",
       "      <td>1002.0</td>\n",
       "      <td>5.3</td>\n",
       "      <td>780.000000</td>\n",
       "      <td>252.0</td>\n",
       "      <td>855.0</td>\n",
       "      <td>179.0</td>\n",
       "      <td>892.0</td>\n",
       "      <td>857.0</td>\n",
       "      <td>5.8</td>\n",
       "      <td>36.4</td>\n",
       "      <td>0.3385</td>\n",
       "    </tr>\n",
       "    <tr>\n",
       "      <th>7995</th>\n",
       "      <td>2005-02-06 21:00:00</td>\n",
       "      <td>1.4</td>\n",
       "      <td>938.0</td>\n",
       "      <td>3.7</td>\n",
       "      <td>953.579453</td>\n",
       "      <td>193.0</td>\n",
       "      <td>937.0</td>\n",
       "      <td>149.0</td>\n",
       "      <td>805.0</td>\n",
       "      <td>737.0</td>\n",
       "      <td>5.8</td>\n",
       "      <td>35.4</td>\n",
       "      <td>0.3286</td>\n",
       "    </tr>\n",
       "    <tr>\n",
       "      <th>7996</th>\n",
       "      <td>2005-02-06 22:00:00</td>\n",
       "      <td>1.1</td>\n",
       "      <td>896.0</td>\n",
       "      <td>2.6</td>\n",
       "      <td>953.579453</td>\n",
       "      <td>158.0</td>\n",
       "      <td>1033.0</td>\n",
       "      <td>126.0</td>\n",
       "      <td>782.0</td>\n",
       "      <td>610.0</td>\n",
       "      <td>5.4</td>\n",
       "      <td>36.6</td>\n",
       "      <td>0.3304</td>\n",
       "    </tr>\n",
       "    <tr>\n",
       "      <th>7997</th>\n",
       "      <td>2005-02-06 23:00:00</td>\n",
       "      <td>1.0</td>\n",
       "      <td>907.0</td>\n",
       "      <td>2.4</td>\n",
       "      <td>953.579453</td>\n",
       "      <td>150.0</td>\n",
       "      <td>1052.0</td>\n",
       "      <td>120.0</td>\n",
       "      <td>782.0</td>\n",
       "      <td>627.0</td>\n",
       "      <td>5.1</td>\n",
       "      <td>37.9</td>\n",
       "      <td>0.3358</td>\n",
       "    </tr>\n",
       "  </tbody>\n",
       "</table>\n",
       "<p>7998 rows × 13 columns</p>\n",
       "</div>"
      ],
      "text/plain": [
       "                     date  co_gt  pt08_s1_co  c6h6_gt  pt08_s2_nmhc  nox_gt  \\\n",
       "0     2004-03-10 18:00:00    2.6      1360.0     11.9   1046.000000   166.0   \n",
       "1     2004-03-10 19:00:00    2.0      1292.0      9.4    955.000000   103.0   \n",
       "2     2004-03-10 20:00:00    2.2      1402.0      9.0    939.000000   131.0   \n",
       "3     2004-03-10 21:00:00    2.2      1376.0      9.2    948.000000   172.0   \n",
       "4     2004-03-10 22:00:00    1.6      1272.0      6.5    836.000000   131.0   \n",
       "...                   ...    ...         ...      ...           ...     ...   \n",
       "7993  2005-02-06 19:00:00    1.6       985.0      4.5    953.579453   227.0   \n",
       "7994  2005-02-06 20:00:00    1.8      1002.0      5.3    780.000000   252.0   \n",
       "7995  2005-02-06 21:00:00    1.4       938.0      3.7    953.579453   193.0   \n",
       "7996  2005-02-06 22:00:00    1.1       896.0      2.6    953.579453   158.0   \n",
       "7997  2005-02-06 23:00:00    1.0       907.0      2.4    953.579453   150.0   \n",
       "\n",
       "      pt08_s3_nox  no2_gt  pt08_s4_no2  pt08_s5_o3     t    rh      ah  \n",
       "0          1056.0   113.0       1692.0      1268.0  13.6  48.9  0.7578  \n",
       "1          1174.0    92.0       1559.0       972.0  13.3  47.7  0.7255  \n",
       "2          1140.0   114.0       1555.0      1074.0  11.9  54.0  0.7502  \n",
       "3          1092.0   122.0       1584.0      1203.0  11.0  60.0  0.7867  \n",
       "4          1205.0   116.0       1490.0      1110.0  11.2  59.6  0.7888  \n",
       "...           ...     ...          ...         ...   ...   ...     ...  \n",
       "7993        891.0   165.0        875.0       774.0   6.0  38.0  0.3584  \n",
       "7994        855.0   179.0        892.0       857.0   5.8  36.4  0.3385  \n",
       "7995        937.0   149.0        805.0       737.0   5.8  35.4  0.3286  \n",
       "7996       1033.0   126.0        782.0       610.0   5.4  36.6  0.3304  \n",
       "7997       1052.0   120.0        782.0       627.0   5.1  37.9  0.3358  \n",
       "\n",
       "[7998 rows x 13 columns]"
      ]
     },
     "execution_count": 2,
     "metadata": {},
     "output_type": "execute_result"
    }
   ],
   "source": [
    "df = pd.read_csv(org.path(\"02_AirQuality_processed.csv\"), sep=';')\n",
    "#df = pd.read_csv(org.path(\"03_AirQuality_normalized.csv\"), sep=';')\n",
    "df"
   ]
  },
  {
   "cell_type": "markdown",
   "id": "41bc15d1",
   "metadata": {},
   "source": [
    "# Feature Engineering"
   ]
  },
  {
   "cell_type": "markdown",
   "id": "c5f42012",
   "metadata": {},
   "source": [
    "## Selecting "
   ]
  },
  {
   "cell_type": "code",
   "execution_count": 3,
   "id": "27942c62",
   "metadata": {},
   "outputs": [],
   "source": [
    "# searching for best features by checking the best mean_absolute_error (LinearRegression)\n",
    "\n",
    "#0.0758\n",
    "#features = ['co_gt', 'pt08_s1_co',\"c6h6_gt\",\"pt08_s2_nmhc\", \"nox_gt\", \"pt08_s3_nox\",\"no2_gt\", \"pt08_s4_no2\",\"pt08_s5_o3\",\"t\", \"ah\"]\n",
    "\n",
    "# all without ah: 0.109093\n",
    "#features = ['co_gt', 'pt08_s1_co',\"c6h6_gt\",\"pt08_s2_nmhc\",\"nox_gt\", \"pt08_s3_nox\",\"no2_gt\", \"pt08_s4_no2\",\"pt08_s5_o3\",\"t\"]\n",
    "\n",
    "#0.17263\n",
    "#features = ['co_gt', 'pt08_s1_co',\"c6h6_gt\",\"pt08_s2_nmhc\",\"nox_gt\", \"pt08_s3_nox\",\"no2_gt\", \"pt08_s4_no2\",\"pt08_s5_o3\"]\n",
    "\n",
    "#0.174619\n",
    "#features = ['co_gt', 'pt08_s1_co',\"c6h6_gt\",\"pt08_s2_nmhc\",\"nox_gt\", \"pt08_s3_nox\",\"no2_gt\", \"pt08_s4_no2\"]\n",
    "\n",
    "#0.4676257\n",
    "#features = ['co_gt', 'pt08_s1_co',\"c6h6_gt\",\"pt08_s2_nmhc\",\"nox_gt\", \"pt08_s3_nox\",\"no2_gt\"]\n",
    "\n",
    "#0.53005\n",
    "#features = ['co_gt', 'pt08_s1_co',\"c6h6_gt\",\"pt08_s2_nmhc\",\"nox_gt\", \"pt08_s3_nox\"]\n",
    "\n",
    "#0.5355\n",
    "#features = ['co_gt', 'pt08_s1_co']"
   ]
  },
  {
   "cell_type": "markdown",
   "id": "9a70b60b",
   "metadata": {},
   "source": [
    "#### single features"
   ]
  },
  {
   "cell_type": "code",
   "execution_count": 4,
   "id": "ef8426cc",
   "metadata": {},
   "outputs": [],
   "source": [
    "#0.533077\n",
    "#features = ['co_gt']           #better than ['co_gt', 'pt08_s1_co']!!!\n",
    "\n",
    "#0.53368\n",
    "#features = ['pt08_s1_co']\n",
    "\n",
    "#0.5236\n",
    "#features = [\"c6h6_gt\"]\n",
    "\n",
    "#0.53027\n",
    "#features = [\"pt08_s2_nmhc\"]\n",
    "\n",
    "#0.52022\n",
    "#features = [\"nox_gt\"]\n",
    "\n",
    "#0.5558\n",
    "#features = [\"pt08_s3_nox\"]\n",
    "\n",
    "#0.53640\n",
    "#features = [\"pt08_s5_o3\"]"
   ]
  },
  {
   "cell_type": "markdown",
   "id": "1e0ece63",
   "metadata": {},
   "source": [
    "#### better than 0,5"
   ]
  },
  {
   "cell_type": "code",
   "execution_count": 5,
   "id": "74343dfe",
   "metadata": {},
   "outputs": [],
   "source": [
    "#0.49599\n",
    "#features = [\"no2_gt\"]\n",
    "\n",
    "#0.31505\n",
    "#features = ['pt08_s4_no2']\n",
    "\n",
    "#0.21176\n",
    "#features = ['t']\n",
    "\n",
    "#0.08831 -ignore?\n",
    "#features = [\"ah\"]"
   ]
  },
  {
   "cell_type": "markdown",
   "id": "2820b3b4",
   "metadata": {},
   "source": [
    "##### results:"
   ]
  },
  {
   "cell_type": "code",
   "execution_count": 6,
   "id": "00be75e8",
   "metadata": {},
   "outputs": [],
   "source": [
    "#0.1598\n",
    "#features = [\"pt08_s4_no2\",\"t\"]"
   ]
  },
  {
   "cell_type": "code",
   "execution_count": 7,
   "id": "85399bb0",
   "metadata": {},
   "outputs": [],
   "source": [
    "#0.11694\n",
    "#features = [\"no2_gt\", \"pt08_s4_no2\",\"t\"]"
   ]
  },
  {
   "cell_type": "markdown",
   "id": "cdb138ad",
   "metadata": {},
   "source": [
    "### Best  (\"pt08_s4_no2\",\"t\")-Combi"
   ]
  },
  {
   "cell_type": "markdown",
   "id": "995dfd0d",
   "metadata": {},
   "source": [
    "##### worse:"
   ]
  },
  {
   "cell_type": "code",
   "execution_count": 8,
   "id": "d042da23",
   "metadata": {},
   "outputs": [],
   "source": [
    "#0.11910\n",
    "#features = [\"nox_gt\",\"no2_gt\", \"pt08_s4_no2\",\"t\"]\n",
    "\n",
    "#0.13353\n",
    "#features = [\"pt08_s3_nox\",\"no2_gt\", \"pt08_s4_no2\",\"t\"]\n",
    "\n",
    "#0.11706\n",
    "#features = [\"pt08_s5_o3\",\"no2_gt\", \"pt08_s4_no2\",\"t\"]\n",
    "\n",
    "#0.116959\n",
    "#features = ['pt08_s1_co',\"no2_gt\", \"pt08_s4_no2\",\"t\"]"
   ]
  },
  {
   "cell_type": "markdown",
   "id": "1fa621ae",
   "metadata": {},
   "source": [
    "#### better:"
   ]
  },
  {
   "cell_type": "code",
   "execution_count": 9,
   "id": "af865a1f",
   "metadata": {},
   "outputs": [],
   "source": [
    "#0.1065670\n",
    "#features = [\"pt08_s2_nmhc\",\"no2_gt\", \"pt08_s4_no2\",\"t\"]\n",
    "\n",
    "#0.1107\n",
    "#features = [\"c6h6_gt\",\"no2_gt\", \"pt08_s4_no2\",\"t\"]\n",
    "\n",
    "#0.11682\n",
    "#features = ['co_gt',\"no2_gt\", \"pt08_s4_no2\",\"t\"]"
   ]
  },
  {
   "cell_type": "markdown",
   "id": "65861243",
   "metadata": {},
   "source": [
    "-  winner: features = [\"pt08_s2_nmhc\",\"no2_gt\", \"pt08_s4_no2\",\"t\"]"
   ]
  },
  {
   "cell_type": "markdown",
   "id": "04701414",
   "metadata": {},
   "source": [
    "### Best (\"pt08_s2_nmhc\",\"no2_gt\", \"pt08_s4_no2\",\"t\")-Combi"
   ]
  },
  {
   "cell_type": "markdown",
   "id": "b1caa95f",
   "metadata": {},
   "source": [
    "#### worse"
   ]
  },
  {
   "cell_type": "code",
   "execution_count": 10,
   "id": "a9cb8382",
   "metadata": {},
   "outputs": [],
   "source": [
    "#0.10721\n",
    "#features = [\"co_gt\",\"pt08_s2_nmhc\",\"no2_gt\", \"pt08_s4_no2\",\"t\"]\n",
    "\n",
    "#together\n",
    "#0.10828\n",
    "#features = [\"co_gt\",\"c6h6_gt\",\"pt08_s2_nmhc\",\"no2_gt\", \"pt08_s4_no2\",\"t\"]"
   ]
  },
  {
   "cell_type": "markdown",
   "id": "9182b836",
   "metadata": {},
   "source": [
    "#### better"
   ]
  },
  {
   "cell_type": "code",
   "execution_count": 11,
   "id": "7f1017a6",
   "metadata": {},
   "outputs": [],
   "source": [
    "#0.106266\n",
    "#features = [\"c6h6_gt\",\"pt08_s2_nmhc\",\"no2_gt\", \"pt08_s4_no2\",\"t\"]"
   ]
  },
  {
   "cell_type": "markdown",
   "id": "be579d59",
   "metadata": {},
   "source": [
    "- winner: features = [\"c6h6_gt\",\"pt08_s2_nmhc\",\"no2_gt\", \"pt08_s4_no2\",\"t\"]"
   ]
  },
  {
   "cell_type": "markdown",
   "id": "fcf45d78",
   "metadata": {},
   "source": [
    "### Best (\"c6h6_gt\",\"pt08_s2_nmhc\",\"no2_gt\", \"pt08_s4_no2\",\"t\")-Combi"
   ]
  },
  {
   "cell_type": "code",
   "execution_count": 12,
   "id": "c97a5681",
   "metadata": {},
   "outputs": [],
   "source": [
    "#0.10365\n",
    "#features = ['pt08_s1_co',\"c6h6_gt\",\"pt08_s2_nmhc\",\"no2_gt\", \"pt08_s4_no2\",\"t\"]                #1\n",
    "\n",
    "#0.1043\n",
    "#features = [\"c6h6_gt\",\"pt08_s2_nmhc\",\"no2_gt\", \"pt08_s4_no2\",\"pt08_s5_o3\",\"t\"]                #3\n",
    "\n",
    "#0.10427 (both)\n",
    "#features = ['pt08_s1_co',\"c6h6_gt\",\"pt08_s2_nmhc\",\"no2_gt\", \"pt08_s4_no2\",\"pt08_s5_o3\",\"t\"]   #2"
   ]
  },
  {
   "cell_type": "markdown",
   "id": "1827875d",
   "metadata": {},
   "source": [
    "- best features: ['pt08_s1_co',\"c6h6_gt\",\"pt08_s2_nmhc\",\"no2_gt\", \"pt08_s4_no2\",\"t\"]"
   ]
  },
  {
   "cell_type": "markdown",
   "id": "cf8fabab",
   "metadata": {},
   "source": [
    "### Final Result"
   ]
  },
  {
   "cell_type": "code",
   "execution_count": 13,
   "id": "283991aa",
   "metadata": {},
   "outputs": [],
   "source": [
    "best_features = ['pt08_s1_co',\"c6h6_gt\",\"pt08_s2_nmhc\",\"no2_gt\", \"pt08_s4_no2\",\"t\"]                #0.10365\n",
    "best_features_with_ah = ['pt08_s1_co',\"c6h6_gt\",\"pt08_s2_nmhc\",\"no2_gt\", \"pt08_s4_no2\",\"t\", \"ah\"]  #0.0735711 "
   ]
  },
  {
   "cell_type": "code",
   "execution_count": 14,
   "id": "fd05db80",
   "metadata": {},
   "outputs": [],
   "source": [
    "#features = best_features\n",
    "features = best_features_with_ah"
   ]
  },
  {
   "cell_type": "markdown",
   "id": "9812ff6c",
   "metadata": {},
   "source": [
    "# Forecasting"
   ]
  },
  {
   "cell_type": "markdown",
   "id": "07b25791",
   "metadata": {},
   "source": [
    "## Target"
   ]
  },
  {
   "cell_type": "code",
   "execution_count": 15,
   "id": "db85895d",
   "metadata": {},
   "outputs": [],
   "source": [
    "target = 'ah_target'"
   ]
  },
  {
   "cell_type": "markdown",
   "id": "aa06485f",
   "metadata": {},
   "source": [
    "## Shift"
   ]
  },
  {
   "cell_type": "code",
   "execution_count": 16,
   "id": "a1a7f685",
   "metadata": {},
   "outputs": [],
   "source": [
    "# shift abs humidty values by 8 hrs\n",
    "target = 'ah_target'\n",
    "df[target] = df.ah.shift(periods=-8)"
   ]
  },
  {
   "cell_type": "code",
   "execution_count": 17,
   "id": "d2aa9132",
   "metadata": {},
   "outputs": [
    {
     "data": {
      "text/html": [
       "<div>\n",
       "<style scoped>\n",
       "    .dataframe tbody tr th:only-of-type {\n",
       "        vertical-align: middle;\n",
       "    }\n",
       "\n",
       "    .dataframe tbody tr th {\n",
       "        vertical-align: top;\n",
       "    }\n",
       "\n",
       "    .dataframe thead th {\n",
       "        text-align: right;\n",
       "    }\n",
       "</style>\n",
       "<table border=\"1\" class=\"dataframe\">\n",
       "  <thead>\n",
       "    <tr style=\"text-align: right;\">\n",
       "      <th></th>\n",
       "      <th>date</th>\n",
       "      <th>co_gt</th>\n",
       "      <th>pt08_s1_co</th>\n",
       "      <th>c6h6_gt</th>\n",
       "      <th>pt08_s2_nmhc</th>\n",
       "      <th>nox_gt</th>\n",
       "      <th>pt08_s3_nox</th>\n",
       "      <th>no2_gt</th>\n",
       "      <th>pt08_s4_no2</th>\n",
       "      <th>pt08_s5_o3</th>\n",
       "      <th>t</th>\n",
       "      <th>rh</th>\n",
       "      <th>ah</th>\n",
       "      <th>ah_target</th>\n",
       "    </tr>\n",
       "  </thead>\n",
       "  <tbody>\n",
       "    <tr>\n",
       "      <th>0</th>\n",
       "      <td>2004-03-10 18:00:00</td>\n",
       "      <td>2.6</td>\n",
       "      <td>1360.0</td>\n",
       "      <td>11.9</td>\n",
       "      <td>1046.000000</td>\n",
       "      <td>166.0</td>\n",
       "      <td>1056.000000</td>\n",
       "      <td>113.000000</td>\n",
       "      <td>1692.0</td>\n",
       "      <td>1268.0</td>\n",
       "      <td>13.6</td>\n",
       "      <td>48.9</td>\n",
       "      <td>0.7578</td>\n",
       "      <td>0.7648</td>\n",
       "    </tr>\n",
       "    <tr>\n",
       "      <th>1</th>\n",
       "      <td>2004-03-10 19:00:00</td>\n",
       "      <td>2.0</td>\n",
       "      <td>1292.0</td>\n",
       "      <td>9.4</td>\n",
       "      <td>955.000000</td>\n",
       "      <td>103.0</td>\n",
       "      <td>1174.000000</td>\n",
       "      <td>92.000000</td>\n",
       "      <td>1559.0</td>\n",
       "      <td>972.0</td>\n",
       "      <td>13.3</td>\n",
       "      <td>47.7</td>\n",
       "      <td>0.7255</td>\n",
       "      <td>0.7517</td>\n",
       "    </tr>\n",
       "    <tr>\n",
       "      <th>2</th>\n",
       "      <td>2004-03-10 20:00:00</td>\n",
       "      <td>2.2</td>\n",
       "      <td>1402.0</td>\n",
       "      <td>9.0</td>\n",
       "      <td>939.000000</td>\n",
       "      <td>131.0</td>\n",
       "      <td>1140.000000</td>\n",
       "      <td>114.000000</td>\n",
       "      <td>1555.0</td>\n",
       "      <td>1074.0</td>\n",
       "      <td>11.9</td>\n",
       "      <td>54.0</td>\n",
       "      <td>0.7502</td>\n",
       "      <td>0.7465</td>\n",
       "    </tr>\n",
       "    <tr>\n",
       "      <th>3</th>\n",
       "      <td>2004-03-10 21:00:00</td>\n",
       "      <td>2.2</td>\n",
       "      <td>1376.0</td>\n",
       "      <td>9.2</td>\n",
       "      <td>948.000000</td>\n",
       "      <td>172.0</td>\n",
       "      <td>1092.000000</td>\n",
       "      <td>122.000000</td>\n",
       "      <td>1584.0</td>\n",
       "      <td>1203.0</td>\n",
       "      <td>11.0</td>\n",
       "      <td>60.0</td>\n",
       "      <td>0.7867</td>\n",
       "      <td>0.7366</td>\n",
       "    </tr>\n",
       "    <tr>\n",
       "      <th>4</th>\n",
       "      <td>2004-03-10 22:00:00</td>\n",
       "      <td>1.6</td>\n",
       "      <td>1272.0</td>\n",
       "      <td>6.5</td>\n",
       "      <td>836.000000</td>\n",
       "      <td>131.0</td>\n",
       "      <td>1205.000000</td>\n",
       "      <td>116.000000</td>\n",
       "      <td>1490.0</td>\n",
       "      <td>1110.0</td>\n",
       "      <td>11.2</td>\n",
       "      <td>59.6</td>\n",
       "      <td>0.7888</td>\n",
       "      <td>0.7353</td>\n",
       "    </tr>\n",
       "    <tr>\n",
       "      <th>5</th>\n",
       "      <td>2004-03-10 23:00:00</td>\n",
       "      <td>1.2</td>\n",
       "      <td>1197.0</td>\n",
       "      <td>4.7</td>\n",
       "      <td>750.000000</td>\n",
       "      <td>89.0</td>\n",
       "      <td>1337.000000</td>\n",
       "      <td>96.000000</td>\n",
       "      <td>1393.0</td>\n",
       "      <td>949.0</td>\n",
       "      <td>11.2</td>\n",
       "      <td>59.2</td>\n",
       "      <td>0.7848</td>\n",
       "      <td>0.7417</td>\n",
       "    </tr>\n",
       "    <tr>\n",
       "      <th>6</th>\n",
       "      <td>2004-03-11 00:00:00</td>\n",
       "      <td>1.2</td>\n",
       "      <td>1185.0</td>\n",
       "      <td>3.6</td>\n",
       "      <td>953.579453</td>\n",
       "      <td>62.0</td>\n",
       "      <td>848.762615</td>\n",
       "      <td>77.000000</td>\n",
       "      <td>1333.0</td>\n",
       "      <td>733.0</td>\n",
       "      <td>11.3</td>\n",
       "      <td>56.8</td>\n",
       "      <td>0.7603</td>\n",
       "      <td>0.7408</td>\n",
       "    </tr>\n",
       "    <tr>\n",
       "      <th>7</th>\n",
       "      <td>2004-03-11 01:00:00</td>\n",
       "      <td>1.0</td>\n",
       "      <td>1136.0</td>\n",
       "      <td>3.3</td>\n",
       "      <td>953.579453</td>\n",
       "      <td>62.0</td>\n",
       "      <td>848.762615</td>\n",
       "      <td>76.000000</td>\n",
       "      <td>1333.0</td>\n",
       "      <td>730.0</td>\n",
       "      <td>10.7</td>\n",
       "      <td>60.0</td>\n",
       "      <td>0.7702</td>\n",
       "      <td>0.7691</td>\n",
       "    </tr>\n",
       "    <tr>\n",
       "      <th>8</th>\n",
       "      <td>2004-03-11 02:00:00</td>\n",
       "      <td>0.9</td>\n",
       "      <td>1094.0</td>\n",
       "      <td>2.3</td>\n",
       "      <td>953.579453</td>\n",
       "      <td>45.0</td>\n",
       "      <td>848.762615</td>\n",
       "      <td>60.000000</td>\n",
       "      <td>1276.0</td>\n",
       "      <td>620.0</td>\n",
       "      <td>10.7</td>\n",
       "      <td>59.7</td>\n",
       "      <td>0.7648</td>\n",
       "      <td>0.7552</td>\n",
       "    </tr>\n",
       "    <tr>\n",
       "      <th>9</th>\n",
       "      <td>2004-03-11 03:00:00</td>\n",
       "      <td>0.6</td>\n",
       "      <td>1010.0</td>\n",
       "      <td>1.7</td>\n",
       "      <td>953.579453</td>\n",
       "      <td>45.0</td>\n",
       "      <td>848.762615</td>\n",
       "      <td>106.251831</td>\n",
       "      <td>1235.0</td>\n",
       "      <td>501.0</td>\n",
       "      <td>10.3</td>\n",
       "      <td>60.2</td>\n",
       "      <td>0.7517</td>\n",
       "      <td>0.7352</td>\n",
       "    </tr>\n",
       "  </tbody>\n",
       "</table>\n",
       "</div>"
      ],
      "text/plain": [
       "                  date  co_gt  pt08_s1_co  c6h6_gt  pt08_s2_nmhc  nox_gt  \\\n",
       "0  2004-03-10 18:00:00    2.6      1360.0     11.9   1046.000000   166.0   \n",
       "1  2004-03-10 19:00:00    2.0      1292.0      9.4    955.000000   103.0   \n",
       "2  2004-03-10 20:00:00    2.2      1402.0      9.0    939.000000   131.0   \n",
       "3  2004-03-10 21:00:00    2.2      1376.0      9.2    948.000000   172.0   \n",
       "4  2004-03-10 22:00:00    1.6      1272.0      6.5    836.000000   131.0   \n",
       "5  2004-03-10 23:00:00    1.2      1197.0      4.7    750.000000    89.0   \n",
       "6  2004-03-11 00:00:00    1.2      1185.0      3.6    953.579453    62.0   \n",
       "7  2004-03-11 01:00:00    1.0      1136.0      3.3    953.579453    62.0   \n",
       "8  2004-03-11 02:00:00    0.9      1094.0      2.3    953.579453    45.0   \n",
       "9  2004-03-11 03:00:00    0.6      1010.0      1.7    953.579453    45.0   \n",
       "\n",
       "   pt08_s3_nox      no2_gt  pt08_s4_no2  pt08_s5_o3     t    rh      ah  \\\n",
       "0  1056.000000  113.000000       1692.0      1268.0  13.6  48.9  0.7578   \n",
       "1  1174.000000   92.000000       1559.0       972.0  13.3  47.7  0.7255   \n",
       "2  1140.000000  114.000000       1555.0      1074.0  11.9  54.0  0.7502   \n",
       "3  1092.000000  122.000000       1584.0      1203.0  11.0  60.0  0.7867   \n",
       "4  1205.000000  116.000000       1490.0      1110.0  11.2  59.6  0.7888   \n",
       "5  1337.000000   96.000000       1393.0       949.0  11.2  59.2  0.7848   \n",
       "6   848.762615   77.000000       1333.0       733.0  11.3  56.8  0.7603   \n",
       "7   848.762615   76.000000       1333.0       730.0  10.7  60.0  0.7702   \n",
       "8   848.762615   60.000000       1276.0       620.0  10.7  59.7  0.7648   \n",
       "9   848.762615  106.251831       1235.0       501.0  10.3  60.2  0.7517   \n",
       "\n",
       "   ah_target  \n",
       "0     0.7648  \n",
       "1     0.7517  \n",
       "2     0.7465  \n",
       "3     0.7366  \n",
       "4     0.7353  \n",
       "5     0.7417  \n",
       "6     0.7408  \n",
       "7     0.7691  \n",
       "8     0.7552  \n",
       "9     0.7352  "
      ]
     },
     "execution_count": 17,
     "metadata": {},
     "output_type": "execute_result"
    }
   ],
   "source": [
    "df.head(10)"
   ]
  },
  {
   "cell_type": "markdown",
   "id": "db62d150",
   "metadata": {},
   "source": [
    "## Limitation of the ML_DataFrame"
   ]
  },
  {
   "cell_type": "code",
   "execution_count": 18,
   "id": "fefbe7d2",
   "metadata": {},
   "outputs": [],
   "source": [
    "# drop related cols to target that are unknown\n",
    "\n",
    "#df.drop(columns=['ah', 'rh'], inplace=True)\n",
    "df.drop(columns=['rh'], inplace=True)"
   ]
  },
  {
   "cell_type": "code",
   "execution_count": 19,
   "id": "42a268c3",
   "metadata": {},
   "outputs": [],
   "source": [
    "# drop rows where target is unknown\n",
    "df.dropna(subset=[target], inplace=True)"
   ]
  },
  {
   "cell_type": "code",
   "execution_count": 20,
   "id": "c08fbe15",
   "metadata": {},
   "outputs": [
    {
     "data": {
      "text/html": [
       "<div>\n",
       "<style scoped>\n",
       "    .dataframe tbody tr th:only-of-type {\n",
       "        vertical-align: middle;\n",
       "    }\n",
       "\n",
       "    .dataframe tbody tr th {\n",
       "        vertical-align: top;\n",
       "    }\n",
       "\n",
       "    .dataframe thead th {\n",
       "        text-align: right;\n",
       "    }\n",
       "</style>\n",
       "<table border=\"1\" class=\"dataframe\">\n",
       "  <thead>\n",
       "    <tr style=\"text-align: right;\">\n",
       "      <th></th>\n",
       "      <th>date</th>\n",
       "      <th>co_gt</th>\n",
       "      <th>pt08_s1_co</th>\n",
       "      <th>c6h6_gt</th>\n",
       "      <th>pt08_s2_nmhc</th>\n",
       "      <th>nox_gt</th>\n",
       "      <th>pt08_s3_nox</th>\n",
       "      <th>no2_gt</th>\n",
       "      <th>pt08_s4_no2</th>\n",
       "      <th>pt08_s5_o3</th>\n",
       "      <th>t</th>\n",
       "      <th>ah</th>\n",
       "      <th>ah_target</th>\n",
       "    </tr>\n",
       "  </thead>\n",
       "  <tbody>\n",
       "    <tr>\n",
       "      <th>0</th>\n",
       "      <td>2004-03-10 18:00:00</td>\n",
       "      <td>2.6</td>\n",
       "      <td>1360.0</td>\n",
       "      <td>11.9</td>\n",
       "      <td>1046.000000</td>\n",
       "      <td>166.0</td>\n",
       "      <td>1056.0</td>\n",
       "      <td>113.0</td>\n",
       "      <td>1692.0</td>\n",
       "      <td>1268.0</td>\n",
       "      <td>13.6</td>\n",
       "      <td>0.7578</td>\n",
       "      <td>0.7648</td>\n",
       "    </tr>\n",
       "    <tr>\n",
       "      <th>1</th>\n",
       "      <td>2004-03-10 19:00:00</td>\n",
       "      <td>2.0</td>\n",
       "      <td>1292.0</td>\n",
       "      <td>9.4</td>\n",
       "      <td>955.000000</td>\n",
       "      <td>103.0</td>\n",
       "      <td>1174.0</td>\n",
       "      <td>92.0</td>\n",
       "      <td>1559.0</td>\n",
       "      <td>972.0</td>\n",
       "      <td>13.3</td>\n",
       "      <td>0.7255</td>\n",
       "      <td>0.7517</td>\n",
       "    </tr>\n",
       "    <tr>\n",
       "      <th>2</th>\n",
       "      <td>2004-03-10 20:00:00</td>\n",
       "      <td>2.2</td>\n",
       "      <td>1402.0</td>\n",
       "      <td>9.0</td>\n",
       "      <td>939.000000</td>\n",
       "      <td>131.0</td>\n",
       "      <td>1140.0</td>\n",
       "      <td>114.0</td>\n",
       "      <td>1555.0</td>\n",
       "      <td>1074.0</td>\n",
       "      <td>11.9</td>\n",
       "      <td>0.7502</td>\n",
       "      <td>0.7465</td>\n",
       "    </tr>\n",
       "    <tr>\n",
       "      <th>3</th>\n",
       "      <td>2004-03-10 21:00:00</td>\n",
       "      <td>2.2</td>\n",
       "      <td>1376.0</td>\n",
       "      <td>9.2</td>\n",
       "      <td>948.000000</td>\n",
       "      <td>172.0</td>\n",
       "      <td>1092.0</td>\n",
       "      <td>122.0</td>\n",
       "      <td>1584.0</td>\n",
       "      <td>1203.0</td>\n",
       "      <td>11.0</td>\n",
       "      <td>0.7867</td>\n",
       "      <td>0.7366</td>\n",
       "    </tr>\n",
       "    <tr>\n",
       "      <th>4</th>\n",
       "      <td>2004-03-10 22:00:00</td>\n",
       "      <td>1.6</td>\n",
       "      <td>1272.0</td>\n",
       "      <td>6.5</td>\n",
       "      <td>836.000000</td>\n",
       "      <td>131.0</td>\n",
       "      <td>1205.0</td>\n",
       "      <td>116.0</td>\n",
       "      <td>1490.0</td>\n",
       "      <td>1110.0</td>\n",
       "      <td>11.2</td>\n",
       "      <td>0.7888</td>\n",
       "      <td>0.7353</td>\n",
       "    </tr>\n",
       "    <tr>\n",
       "      <th>...</th>\n",
       "      <td>...</td>\n",
       "      <td>...</td>\n",
       "      <td>...</td>\n",
       "      <td>...</td>\n",
       "      <td>...</td>\n",
       "      <td>...</td>\n",
       "      <td>...</td>\n",
       "      <td>...</td>\n",
       "      <td>...</td>\n",
       "      <td>...</td>\n",
       "      <td>...</td>\n",
       "      <td>...</td>\n",
       "      <td>...</td>\n",
       "    </tr>\n",
       "    <tr>\n",
       "      <th>7985</th>\n",
       "      <td>2005-02-06 11:00:00</td>\n",
       "      <td>2.0</td>\n",
       "      <td>1065.0</td>\n",
       "      <td>6.7</td>\n",
       "      <td>844.000000</td>\n",
       "      <td>351.0</td>\n",
       "      <td>780.0</td>\n",
       "      <td>212.0</td>\n",
       "      <td>979.0</td>\n",
       "      <td>1117.0</td>\n",
       "      <td>8.0</td>\n",
       "      <td>0.3591</td>\n",
       "      <td>0.3584</td>\n",
       "    </tr>\n",
       "    <tr>\n",
       "      <th>7986</th>\n",
       "      <td>2005-02-06 12:00:00</td>\n",
       "      <td>1.7</td>\n",
       "      <td>968.0</td>\n",
       "      <td>4.6</td>\n",
       "      <td>953.579453</td>\n",
       "      <td>249.0</td>\n",
       "      <td>886.0</td>\n",
       "      <td>173.0</td>\n",
       "      <td>840.0</td>\n",
       "      <td>774.0</td>\n",
       "      <td>10.7</td>\n",
       "      <td>0.3242</td>\n",
       "      <td>0.3385</td>\n",
       "    </tr>\n",
       "    <tr>\n",
       "      <th>7987</th>\n",
       "      <td>2005-02-06 13:00:00</td>\n",
       "      <td>1.2</td>\n",
       "      <td>911.0</td>\n",
       "      <td>3.5</td>\n",
       "      <td>953.579453</td>\n",
       "      <td>188.0</td>\n",
       "      <td>981.0</td>\n",
       "      <td>135.0</td>\n",
       "      <td>790.0</td>\n",
       "      <td>558.0</td>\n",
       "      <td>11.1</td>\n",
       "      <td>0.3105</td>\n",
       "      <td>0.3286</td>\n",
       "    </tr>\n",
       "    <tr>\n",
       "      <th>7988</th>\n",
       "      <td>2005-02-06 14:00:00</td>\n",
       "      <td>1.0</td>\n",
       "      <td>868.0</td>\n",
       "      <td>2.1</td>\n",
       "      <td>953.579453</td>\n",
       "      <td>127.0</td>\n",
       "      <td>1081.0</td>\n",
       "      <td>100.0</td>\n",
       "      <td>753.0</td>\n",
       "      <td>420.0</td>\n",
       "      <td>10.6</td>\n",
       "      <td>0.3320</td>\n",
       "      <td>0.3304</td>\n",
       "    </tr>\n",
       "    <tr>\n",
       "      <th>7989</th>\n",
       "      <td>2005-02-06 15:00:00</td>\n",
       "      <td>0.8</td>\n",
       "      <td>868.0</td>\n",
       "      <td>1.9</td>\n",
       "      <td>953.579453</td>\n",
       "      <td>96.0</td>\n",
       "      <td>1128.0</td>\n",
       "      <td>78.0</td>\n",
       "      <td>755.0</td>\n",
       "      <td>363.0</td>\n",
       "      <td>10.3</td>\n",
       "      <td>0.3481</td>\n",
       "      <td>0.3358</td>\n",
       "    </tr>\n",
       "  </tbody>\n",
       "</table>\n",
       "<p>7990 rows × 13 columns</p>\n",
       "</div>"
      ],
      "text/plain": [
       "                     date  co_gt  pt08_s1_co  c6h6_gt  pt08_s2_nmhc  nox_gt  \\\n",
       "0     2004-03-10 18:00:00    2.6      1360.0     11.9   1046.000000   166.0   \n",
       "1     2004-03-10 19:00:00    2.0      1292.0      9.4    955.000000   103.0   \n",
       "2     2004-03-10 20:00:00    2.2      1402.0      9.0    939.000000   131.0   \n",
       "3     2004-03-10 21:00:00    2.2      1376.0      9.2    948.000000   172.0   \n",
       "4     2004-03-10 22:00:00    1.6      1272.0      6.5    836.000000   131.0   \n",
       "...                   ...    ...         ...      ...           ...     ...   \n",
       "7985  2005-02-06 11:00:00    2.0      1065.0      6.7    844.000000   351.0   \n",
       "7986  2005-02-06 12:00:00    1.7       968.0      4.6    953.579453   249.0   \n",
       "7987  2005-02-06 13:00:00    1.2       911.0      3.5    953.579453   188.0   \n",
       "7988  2005-02-06 14:00:00    1.0       868.0      2.1    953.579453   127.0   \n",
       "7989  2005-02-06 15:00:00    0.8       868.0      1.9    953.579453    96.0   \n",
       "\n",
       "      pt08_s3_nox  no2_gt  pt08_s4_no2  pt08_s5_o3     t      ah  ah_target  \n",
       "0          1056.0   113.0       1692.0      1268.0  13.6  0.7578     0.7648  \n",
       "1          1174.0    92.0       1559.0       972.0  13.3  0.7255     0.7517  \n",
       "2          1140.0   114.0       1555.0      1074.0  11.9  0.7502     0.7465  \n",
       "3          1092.0   122.0       1584.0      1203.0  11.0  0.7867     0.7366  \n",
       "4          1205.0   116.0       1490.0      1110.0  11.2  0.7888     0.7353  \n",
       "...           ...     ...          ...         ...   ...     ...        ...  \n",
       "7985        780.0   212.0        979.0      1117.0   8.0  0.3591     0.3584  \n",
       "7986        886.0   173.0        840.0       774.0  10.7  0.3242     0.3385  \n",
       "7987        981.0   135.0        790.0       558.0  11.1  0.3105     0.3286  \n",
       "7988       1081.0   100.0        753.0       420.0  10.6  0.3320     0.3304  \n",
       "7989       1128.0    78.0        755.0       363.0  10.3  0.3481     0.3358  \n",
       "\n",
       "[7990 rows x 13 columns]"
      ]
     },
     "execution_count": 20,
     "metadata": {},
     "output_type": "execute_result"
    }
   ],
   "source": [
    "#df = df[features + [target]]\n",
    "df"
   ]
  },
  {
   "cell_type": "code",
   "execution_count": 21,
   "id": "fd253b59",
   "metadata": {},
   "outputs": [],
   "source": [
    "# Missing value treatment\n",
    "\n",
    "#df = df.dropna()\n",
    "#df.reset_index(drop=True, inplace=True)\n",
    "#df"
   ]
  },
  {
   "cell_type": "code",
   "execution_count": 22,
   "id": "acf6889e",
   "metadata": {},
   "outputs": [
    {
     "data": {
      "text/plain": [
       "(7990, 13)"
      ]
     },
     "execution_count": 22,
     "metadata": {},
     "output_type": "execute_result"
    }
   ],
   "source": [
    "df.shape"
   ]
  },
  {
   "cell_type": "markdown",
   "id": "c68e3e8f",
   "metadata": {},
   "source": [
    "# Preparation Data"
   ]
  },
  {
   "cell_type": "code",
   "execution_count": 23,
   "id": "a4015b4b",
   "metadata": {},
   "outputs": [],
   "source": [
    "from sklearn.model_selection import train_test_split\n",
    "#training, test = train_test_split(df, test_size=0.2, shuffle=False, random_state=1999)\n",
    "training, test = train_test_split(df, test_size=1000, shuffle=False, random_state=1999)"
   ]
  },
  {
   "cell_type": "code",
   "execution_count": 24,
   "id": "1fa4c38a",
   "metadata": {},
   "outputs": [],
   "source": [
    "X_train = training[features]\n",
    "y_train = training[target]\n",
    "\n",
    "x_test = test[features]\n",
    "y_test = test[target]"
   ]
  },
  {
   "cell_type": "code",
   "execution_count": 25,
   "id": "12780f7a",
   "metadata": {},
   "outputs": [
    {
     "data": {
      "text/html": [
       "<div>\n",
       "<style scoped>\n",
       "    .dataframe tbody tr th:only-of-type {\n",
       "        vertical-align: middle;\n",
       "    }\n",
       "\n",
       "    .dataframe tbody tr th {\n",
       "        vertical-align: top;\n",
       "    }\n",
       "\n",
       "    .dataframe thead th {\n",
       "        text-align: right;\n",
       "    }\n",
       "</style>\n",
       "<table border=\"1\" class=\"dataframe\">\n",
       "  <thead>\n",
       "    <tr style=\"text-align: right;\">\n",
       "      <th></th>\n",
       "      <th>pt08_s1_co</th>\n",
       "      <th>c6h6_gt</th>\n",
       "      <th>pt08_s2_nmhc</th>\n",
       "      <th>no2_gt</th>\n",
       "      <th>pt08_s4_no2</th>\n",
       "      <th>t</th>\n",
       "      <th>ah</th>\n",
       "    </tr>\n",
       "  </thead>\n",
       "  <tbody>\n",
       "    <tr>\n",
       "      <th>0</th>\n",
       "      <td>1360.0</td>\n",
       "      <td>11.9</td>\n",
       "      <td>1046.000000</td>\n",
       "      <td>113.0</td>\n",
       "      <td>1692.0</td>\n",
       "      <td>13.6</td>\n",
       "      <td>0.7578</td>\n",
       "    </tr>\n",
       "    <tr>\n",
       "      <th>1</th>\n",
       "      <td>1292.0</td>\n",
       "      <td>9.4</td>\n",
       "      <td>955.000000</td>\n",
       "      <td>92.0</td>\n",
       "      <td>1559.0</td>\n",
       "      <td>13.3</td>\n",
       "      <td>0.7255</td>\n",
       "    </tr>\n",
       "    <tr>\n",
       "      <th>2</th>\n",
       "      <td>1402.0</td>\n",
       "      <td>9.0</td>\n",
       "      <td>939.000000</td>\n",
       "      <td>114.0</td>\n",
       "      <td>1555.0</td>\n",
       "      <td>11.9</td>\n",
       "      <td>0.7502</td>\n",
       "    </tr>\n",
       "    <tr>\n",
       "      <th>3</th>\n",
       "      <td>1376.0</td>\n",
       "      <td>9.2</td>\n",
       "      <td>948.000000</td>\n",
       "      <td>122.0</td>\n",
       "      <td>1584.0</td>\n",
       "      <td>11.0</td>\n",
       "      <td>0.7867</td>\n",
       "    </tr>\n",
       "    <tr>\n",
       "      <th>4</th>\n",
       "      <td>1272.0</td>\n",
       "      <td>6.5</td>\n",
       "      <td>836.000000</td>\n",
       "      <td>116.0</td>\n",
       "      <td>1490.0</td>\n",
       "      <td>11.2</td>\n",
       "      <td>0.7888</td>\n",
       "    </tr>\n",
       "    <tr>\n",
       "      <th>...</th>\n",
       "      <td>...</td>\n",
       "      <td>...</td>\n",
       "      <td>...</td>\n",
       "      <td>...</td>\n",
       "      <td>...</td>\n",
       "      <td>...</td>\n",
       "      <td>...</td>\n",
       "    </tr>\n",
       "    <tr>\n",
       "      <th>6985</th>\n",
       "      <td>1423.0</td>\n",
       "      <td>14.0</td>\n",
       "      <td>1116.000000</td>\n",
       "      <td>146.0</td>\n",
       "      <td>1531.0</td>\n",
       "      <td>12.3</td>\n",
       "      <td>1.0768</td>\n",
       "    </tr>\n",
       "    <tr>\n",
       "      <th>6986</th>\n",
       "      <td>1408.0</td>\n",
       "      <td>13.1</td>\n",
       "      <td>1088.000000</td>\n",
       "      <td>139.0</td>\n",
       "      <td>1504.0</td>\n",
       "      <td>11.7</td>\n",
       "      <td>1.0938</td>\n",
       "    </tr>\n",
       "    <tr>\n",
       "      <th>6987</th>\n",
       "      <td>1178.0</td>\n",
       "      <td>7.2</td>\n",
       "      <td>866.000000</td>\n",
       "      <td>128.0</td>\n",
       "      <td>1342.0</td>\n",
       "      <td>11.8</td>\n",
       "      <td>1.1381</td>\n",
       "    </tr>\n",
       "    <tr>\n",
       "      <th>6988</th>\n",
       "      <td>985.0</td>\n",
       "      <td>3.8</td>\n",
       "      <td>953.579453</td>\n",
       "      <td>106.0</td>\n",
       "      <td>1187.0</td>\n",
       "      <td>11.8</td>\n",
       "      <td>1.0741</td>\n",
       "    </tr>\n",
       "    <tr>\n",
       "      <th>6989</th>\n",
       "      <td>1113.0</td>\n",
       "      <td>5.2</td>\n",
       "      <td>776.000000</td>\n",
       "      <td>114.0</td>\n",
       "      <td>1217.0</td>\n",
       "      <td>12.0</td>\n",
       "      <td>1.0095</td>\n",
       "    </tr>\n",
       "  </tbody>\n",
       "</table>\n",
       "<p>6990 rows × 7 columns</p>\n",
       "</div>"
      ],
      "text/plain": [
       "      pt08_s1_co  c6h6_gt  pt08_s2_nmhc  no2_gt  pt08_s4_no2     t      ah\n",
       "0         1360.0     11.9   1046.000000   113.0       1692.0  13.6  0.7578\n",
       "1         1292.0      9.4    955.000000    92.0       1559.0  13.3  0.7255\n",
       "2         1402.0      9.0    939.000000   114.0       1555.0  11.9  0.7502\n",
       "3         1376.0      9.2    948.000000   122.0       1584.0  11.0  0.7867\n",
       "4         1272.0      6.5    836.000000   116.0       1490.0  11.2  0.7888\n",
       "...          ...      ...           ...     ...          ...   ...     ...\n",
       "6985      1423.0     14.0   1116.000000   146.0       1531.0  12.3  1.0768\n",
       "6986      1408.0     13.1   1088.000000   139.0       1504.0  11.7  1.0938\n",
       "6987      1178.0      7.2    866.000000   128.0       1342.0  11.8  1.1381\n",
       "6988       985.0      3.8    953.579453   106.0       1187.0  11.8  1.0741\n",
       "6989      1113.0      5.2    776.000000   114.0       1217.0  12.0  1.0095\n",
       "\n",
       "[6990 rows x 7 columns]"
      ]
     },
     "execution_count": 25,
     "metadata": {},
     "output_type": "execute_result"
    }
   ],
   "source": [
    "X_train"
   ]
  },
  {
   "cell_type": "markdown",
   "id": "cc6d9756",
   "metadata": {},
   "source": [
    "# Models/Classification"
   ]
  },
  {
   "cell_type": "markdown",
   "id": "2bacf872",
   "metadata": {},
   "source": [
    "### Linear Regression"
   ]
  },
  {
   "cell_type": "code",
   "execution_count": 26,
   "id": "de9ff601",
   "metadata": {},
   "outputs": [
    {
     "data": {
      "text/html": [
       "<style>#sk-container-id-1 {color: black;background-color: white;}#sk-container-id-1 pre{padding: 0;}#sk-container-id-1 div.sk-toggleable {background-color: white;}#sk-container-id-1 label.sk-toggleable__label {cursor: pointer;display: block;width: 100%;margin-bottom: 0;padding: 0.3em;box-sizing: border-box;text-align: center;}#sk-container-id-1 label.sk-toggleable__label-arrow:before {content: \"▸\";float: left;margin-right: 0.25em;color: #696969;}#sk-container-id-1 label.sk-toggleable__label-arrow:hover:before {color: black;}#sk-container-id-1 div.sk-estimator:hover label.sk-toggleable__label-arrow:before {color: black;}#sk-container-id-1 div.sk-toggleable__content {max-height: 0;max-width: 0;overflow: hidden;text-align: left;background-color: #f0f8ff;}#sk-container-id-1 div.sk-toggleable__content pre {margin: 0.2em;color: black;border-radius: 0.25em;background-color: #f0f8ff;}#sk-container-id-1 input.sk-toggleable__control:checked~div.sk-toggleable__content {max-height: 200px;max-width: 100%;overflow: auto;}#sk-container-id-1 input.sk-toggleable__control:checked~label.sk-toggleable__label-arrow:before {content: \"▾\";}#sk-container-id-1 div.sk-estimator input.sk-toggleable__control:checked~label.sk-toggleable__label {background-color: #d4ebff;}#sk-container-id-1 div.sk-label input.sk-toggleable__control:checked~label.sk-toggleable__label {background-color: #d4ebff;}#sk-container-id-1 input.sk-hidden--visually {border: 0;clip: rect(1px 1px 1px 1px);clip: rect(1px, 1px, 1px, 1px);height: 1px;margin: -1px;overflow: hidden;padding: 0;position: absolute;width: 1px;}#sk-container-id-1 div.sk-estimator {font-family: monospace;background-color: #f0f8ff;border: 1px dotted black;border-radius: 0.25em;box-sizing: border-box;margin-bottom: 0.5em;}#sk-container-id-1 div.sk-estimator:hover {background-color: #d4ebff;}#sk-container-id-1 div.sk-parallel-item::after {content: \"\";width: 100%;border-bottom: 1px solid gray;flex-grow: 1;}#sk-container-id-1 div.sk-label:hover label.sk-toggleable__label {background-color: #d4ebff;}#sk-container-id-1 div.sk-serial::before {content: \"\";position: absolute;border-left: 1px solid gray;box-sizing: border-box;top: 0;bottom: 0;left: 50%;z-index: 0;}#sk-container-id-1 div.sk-serial {display: flex;flex-direction: column;align-items: center;background-color: white;padding-right: 0.2em;padding-left: 0.2em;position: relative;}#sk-container-id-1 div.sk-item {position: relative;z-index: 1;}#sk-container-id-1 div.sk-parallel {display: flex;align-items: stretch;justify-content: center;background-color: white;position: relative;}#sk-container-id-1 div.sk-item::before, #sk-container-id-1 div.sk-parallel-item::before {content: \"\";position: absolute;border-left: 1px solid gray;box-sizing: border-box;top: 0;bottom: 0;left: 50%;z-index: -1;}#sk-container-id-1 div.sk-parallel-item {display: flex;flex-direction: column;z-index: 1;position: relative;background-color: white;}#sk-container-id-1 div.sk-parallel-item:first-child::after {align-self: flex-end;width: 50%;}#sk-container-id-1 div.sk-parallel-item:last-child::after {align-self: flex-start;width: 50%;}#sk-container-id-1 div.sk-parallel-item:only-child::after {width: 0;}#sk-container-id-1 div.sk-dashed-wrapped {border: 1px dashed gray;margin: 0 0.4em 0.5em 0.4em;box-sizing: border-box;padding-bottom: 0.4em;background-color: white;}#sk-container-id-1 div.sk-label label {font-family: monospace;font-weight: bold;display: inline-block;line-height: 1.2em;}#sk-container-id-1 div.sk-label-container {text-align: center;}#sk-container-id-1 div.sk-container {/* jupyter's `normalize.less` sets `[hidden] { display: none; }` but bootstrap.min.css set `[hidden] { display: none !important; }` so we also need the `!important` here to be able to override the default hidden behavior on the sphinx rendered scikit-learn.org. See: https://github.com/scikit-learn/scikit-learn/issues/21755 */display: inline-block !important;position: relative;}#sk-container-id-1 div.sk-text-repr-fallback {display: none;}</style><div id=\"sk-container-id-1\" class=\"sk-top-container\"><div class=\"sk-text-repr-fallback\"><pre>LinearRegression()</pre><b>In a Jupyter environment, please rerun this cell to show the HTML representation or trust the notebook. <br />On GitHub, the HTML representation is unable to render, please try loading this page with nbviewer.org.</b></div><div class=\"sk-container\" hidden><div class=\"sk-item\"><div class=\"sk-estimator sk-toggleable\"><input class=\"sk-toggleable__control sk-hidden--visually\" id=\"sk-estimator-id-1\" type=\"checkbox\" checked><label for=\"sk-estimator-id-1\" class=\"sk-toggleable__label sk-toggleable__label-arrow\">LinearRegression</label><div class=\"sk-toggleable__content\"><pre>LinearRegression()</pre></div></div></div></div></div>"
      ],
      "text/plain": [
       "LinearRegression()"
      ]
     },
     "execution_count": 26,
     "metadata": {},
     "output_type": "execute_result"
    }
   ],
   "source": [
    "from sklearn.linear_model import LinearRegression\n",
    "clf_lin_reg = LinearRegression()\n",
    "clf_lin_reg.fit(X_train, y_train)"
   ]
  },
  {
   "cell_type": "code",
   "execution_count": 27,
   "id": "7973c886",
   "metadata": {
    "scrolled": true
   },
   "outputs": [],
   "source": [
    "pred_linr_y = clf_lin_reg.predict(x_test)"
   ]
  },
  {
   "cell_type": "markdown",
   "id": "39dcd08c",
   "metadata": {},
   "source": [
    "#### Performance Check"
   ]
  },
  {
   "cell_type": "code",
   "execution_count": 28,
   "id": "2b8dcbad",
   "metadata": {},
   "outputs": [],
   "source": [
    "#series of predicted values\n",
    "series_pred = pd.Series(pred_linr_y[0:10])\n",
    "\n",
    "#series of actual future values\n",
    "series_future = pd.Series(test.iloc[0:10][\"ah_target\"].values)"
   ]
  },
  {
   "cell_type": "code",
   "execution_count": 29,
   "id": "65d55671",
   "metadata": {},
   "outputs": [
    {
     "data": {
      "text/html": [
       "<div>\n",
       "<style scoped>\n",
       "    .dataframe tbody tr th:only-of-type {\n",
       "        vertical-align: middle;\n",
       "    }\n",
       "\n",
       "    .dataframe tbody tr th {\n",
       "        vertical-align: top;\n",
       "    }\n",
       "\n",
       "    .dataframe thead th {\n",
       "        text-align: right;\n",
       "    }\n",
       "</style>\n",
       "<table border=\"1\" class=\"dataframe\">\n",
       "  <thead>\n",
       "    <tr style=\"text-align: right;\">\n",
       "      <th></th>\n",
       "      <th>future_ah</th>\n",
       "      <th>predicted_ah</th>\n",
       "    </tr>\n",
       "  </thead>\n",
       "  <tbody>\n",
       "    <tr>\n",
       "      <th>0</th>\n",
       "      <td>0.9302</td>\n",
       "      <td>1.015039</td>\n",
       "    </tr>\n",
       "    <tr>\n",
       "      <th>1</th>\n",
       "      <td>0.9113</td>\n",
       "      <td>0.970854</td>\n",
       "    </tr>\n",
       "    <tr>\n",
       "      <th>2</th>\n",
       "      <td>0.9335</td>\n",
       "      <td>0.915901</td>\n",
       "    </tr>\n",
       "    <tr>\n",
       "      <th>3</th>\n",
       "      <td>0.9261</td>\n",
       "      <td>0.889508</td>\n",
       "    </tr>\n",
       "    <tr>\n",
       "      <th>4</th>\n",
       "      <td>0.9379</td>\n",
       "      <td>0.872615</td>\n",
       "    </tr>\n",
       "    <tr>\n",
       "      <th>5</th>\n",
       "      <td>0.9309</td>\n",
       "      <td>0.844618</td>\n",
       "    </tr>\n",
       "    <tr>\n",
       "      <th>6</th>\n",
       "      <td>0.9698</td>\n",
       "      <td>0.828373</td>\n",
       "    </tr>\n",
       "    <tr>\n",
       "      <th>7</th>\n",
       "      <td>1.0422</td>\n",
       "      <td>0.852229</td>\n",
       "    </tr>\n",
       "    <tr>\n",
       "      <th>8</th>\n",
       "      <td>1.0851</td>\n",
       "      <td>0.911977</td>\n",
       "    </tr>\n",
       "    <tr>\n",
       "      <th>9</th>\n",
       "      <td>1.0356</td>\n",
       "      <td>0.904484</td>\n",
       "    </tr>\n",
       "  </tbody>\n",
       "</table>\n",
       "</div>"
      ],
      "text/plain": [
       "   future_ah  predicted_ah\n",
       "0     0.9302      1.015039\n",
       "1     0.9113      0.970854\n",
       "2     0.9335      0.915901\n",
       "3     0.9261      0.889508\n",
       "4     0.9379      0.872615\n",
       "5     0.9309      0.844618\n",
       "6     0.9698      0.828373\n",
       "7     1.0422      0.852229\n",
       "8     1.0851      0.911977\n",
       "9     1.0356      0.904484"
      ]
     },
     "execution_count": 29,
     "metadata": {},
     "output_type": "execute_result"
    }
   ],
   "source": [
    "check_df = pd.concat([series_future, series_pred], axis=1)\n",
    "check_df.rename(columns= {0: \"future_ah\", 1:\"predicted_ah\"}, inplace = True)\n",
    "check_df"
   ]
  },
  {
   "cell_type": "code",
   "execution_count": 30,
   "id": "1a754f0a",
   "metadata": {},
   "outputs": [
    {
     "data": {
      "text/plain": [
       "0.07357114363730471"
      ]
     },
     "execution_count": 30,
     "metadata": {},
     "output_type": "execute_result"
    }
   ],
   "source": [
    "#Abweichung des voraussichtlichen(predicted) AH_Wertes von tatsächlich zukunftigen AH_Wert\n",
    "from sklearn.metrics import mean_absolute_error\n",
    "mean_absolute_error(y_test, pred_linr_y)"
   ]
  },
  {
   "cell_type": "code",
   "execution_count": 31,
   "id": "e5a9fc15",
   "metadata": {},
   "outputs": [],
   "source": [
    "#Abweichung des aktuellen AH-Wertes von den tatsächlichen zukunftigen AH_Wert\n",
    "#mean_absolute_error(y_test, test.ah)"
   ]
  },
  {
   "cell_type": "markdown",
   "id": "3f4c325c",
   "metadata": {},
   "source": [
    "## Decision Tree"
   ]
  },
  {
   "cell_type": "code",
   "execution_count": 32,
   "id": "744617a8",
   "metadata": {},
   "outputs": [
    {
     "data": {
      "text/html": [
       "<style>#sk-container-id-2 {color: black;background-color: white;}#sk-container-id-2 pre{padding: 0;}#sk-container-id-2 div.sk-toggleable {background-color: white;}#sk-container-id-2 label.sk-toggleable__label {cursor: pointer;display: block;width: 100%;margin-bottom: 0;padding: 0.3em;box-sizing: border-box;text-align: center;}#sk-container-id-2 label.sk-toggleable__label-arrow:before {content: \"▸\";float: left;margin-right: 0.25em;color: #696969;}#sk-container-id-2 label.sk-toggleable__label-arrow:hover:before {color: black;}#sk-container-id-2 div.sk-estimator:hover label.sk-toggleable__label-arrow:before {color: black;}#sk-container-id-2 div.sk-toggleable__content {max-height: 0;max-width: 0;overflow: hidden;text-align: left;background-color: #f0f8ff;}#sk-container-id-2 div.sk-toggleable__content pre {margin: 0.2em;color: black;border-radius: 0.25em;background-color: #f0f8ff;}#sk-container-id-2 input.sk-toggleable__control:checked~div.sk-toggleable__content {max-height: 200px;max-width: 100%;overflow: auto;}#sk-container-id-2 input.sk-toggleable__control:checked~label.sk-toggleable__label-arrow:before {content: \"▾\";}#sk-container-id-2 div.sk-estimator input.sk-toggleable__control:checked~label.sk-toggleable__label {background-color: #d4ebff;}#sk-container-id-2 div.sk-label input.sk-toggleable__control:checked~label.sk-toggleable__label {background-color: #d4ebff;}#sk-container-id-2 input.sk-hidden--visually {border: 0;clip: rect(1px 1px 1px 1px);clip: rect(1px, 1px, 1px, 1px);height: 1px;margin: -1px;overflow: hidden;padding: 0;position: absolute;width: 1px;}#sk-container-id-2 div.sk-estimator {font-family: monospace;background-color: #f0f8ff;border: 1px dotted black;border-radius: 0.25em;box-sizing: border-box;margin-bottom: 0.5em;}#sk-container-id-2 div.sk-estimator:hover {background-color: #d4ebff;}#sk-container-id-2 div.sk-parallel-item::after {content: \"\";width: 100%;border-bottom: 1px solid gray;flex-grow: 1;}#sk-container-id-2 div.sk-label:hover label.sk-toggleable__label {background-color: #d4ebff;}#sk-container-id-2 div.sk-serial::before {content: \"\";position: absolute;border-left: 1px solid gray;box-sizing: border-box;top: 0;bottom: 0;left: 50%;z-index: 0;}#sk-container-id-2 div.sk-serial {display: flex;flex-direction: column;align-items: center;background-color: white;padding-right: 0.2em;padding-left: 0.2em;position: relative;}#sk-container-id-2 div.sk-item {position: relative;z-index: 1;}#sk-container-id-2 div.sk-parallel {display: flex;align-items: stretch;justify-content: center;background-color: white;position: relative;}#sk-container-id-2 div.sk-item::before, #sk-container-id-2 div.sk-parallel-item::before {content: \"\";position: absolute;border-left: 1px solid gray;box-sizing: border-box;top: 0;bottom: 0;left: 50%;z-index: -1;}#sk-container-id-2 div.sk-parallel-item {display: flex;flex-direction: column;z-index: 1;position: relative;background-color: white;}#sk-container-id-2 div.sk-parallel-item:first-child::after {align-self: flex-end;width: 50%;}#sk-container-id-2 div.sk-parallel-item:last-child::after {align-self: flex-start;width: 50%;}#sk-container-id-2 div.sk-parallel-item:only-child::after {width: 0;}#sk-container-id-2 div.sk-dashed-wrapped {border: 1px dashed gray;margin: 0 0.4em 0.5em 0.4em;box-sizing: border-box;padding-bottom: 0.4em;background-color: white;}#sk-container-id-2 div.sk-label label {font-family: monospace;font-weight: bold;display: inline-block;line-height: 1.2em;}#sk-container-id-2 div.sk-label-container {text-align: center;}#sk-container-id-2 div.sk-container {/* jupyter's `normalize.less` sets `[hidden] { display: none; }` but bootstrap.min.css set `[hidden] { display: none !important; }` so we also need the `!important` here to be able to override the default hidden behavior on the sphinx rendered scikit-learn.org. See: https://github.com/scikit-learn/scikit-learn/issues/21755 */display: inline-block !important;position: relative;}#sk-container-id-2 div.sk-text-repr-fallback {display: none;}</style><div id=\"sk-container-id-2\" class=\"sk-top-container\"><div class=\"sk-text-repr-fallback\"><pre>DecisionTreeRegressor(random_state=0)</pre><b>In a Jupyter environment, please rerun this cell to show the HTML representation or trust the notebook. <br />On GitHub, the HTML representation is unable to render, please try loading this page with nbviewer.org.</b></div><div class=\"sk-container\" hidden><div class=\"sk-item\"><div class=\"sk-estimator sk-toggleable\"><input class=\"sk-toggleable__control sk-hidden--visually\" id=\"sk-estimator-id-2\" type=\"checkbox\" checked><label for=\"sk-estimator-id-2\" class=\"sk-toggleable__label sk-toggleable__label-arrow\">DecisionTreeRegressor</label><div class=\"sk-toggleable__content\"><pre>DecisionTreeRegressor(random_state=0)</pre></div></div></div></div></div>"
      ],
      "text/plain": [
       "DecisionTreeRegressor(random_state=0)"
      ]
     },
     "execution_count": 32,
     "metadata": {},
     "output_type": "execute_result"
    }
   ],
   "source": [
    "# import the regressor\n",
    "from sklearn.tree import DecisionTreeRegressor \n",
    "  \n",
    "# create a regressor object\n",
    "clf_tree = DecisionTreeRegressor(random_state = 0) \n",
    "  \n",
    "# fit the regressor with X and Y data\n",
    "clf_tree.fit(X_train, y_train)"
   ]
  },
  {
   "cell_type": "code",
   "execution_count": 33,
   "id": "bd80df6b",
   "metadata": {},
   "outputs": [],
   "source": [
    "pred_tree_y = clf_tree.predict(x_test)"
   ]
  },
  {
   "cell_type": "code",
   "execution_count": 34,
   "id": "66dcb7a4",
   "metadata": {},
   "outputs": [],
   "source": [
    "series_pred = pd.Series(pred_tree_y[0:10])\n",
    "#series_future = pd.Series(test.iloc[0:10][\"ah_target\"].values)"
   ]
  },
  {
   "cell_type": "code",
   "execution_count": 35,
   "id": "253e419b",
   "metadata": {},
   "outputs": [
    {
     "data": {
      "text/html": [
       "<div>\n",
       "<style scoped>\n",
       "    .dataframe tbody tr th:only-of-type {\n",
       "        vertical-align: middle;\n",
       "    }\n",
       "\n",
       "    .dataframe tbody tr th {\n",
       "        vertical-align: top;\n",
       "    }\n",
       "\n",
       "    .dataframe thead th {\n",
       "        text-align: right;\n",
       "    }\n",
       "</style>\n",
       "<table border=\"1\" class=\"dataframe\">\n",
       "  <thead>\n",
       "    <tr style=\"text-align: right;\">\n",
       "      <th></th>\n",
       "      <th>future_ah</th>\n",
       "      <th>predicted_ah</th>\n",
       "    </tr>\n",
       "  </thead>\n",
       "  <tbody>\n",
       "    <tr>\n",
       "      <th>0</th>\n",
       "      <td>0.9302</td>\n",
       "      <td>1.0063</td>\n",
       "    </tr>\n",
       "    <tr>\n",
       "      <th>1</th>\n",
       "      <td>0.9113</td>\n",
       "      <td>1.0768</td>\n",
       "    </tr>\n",
       "    <tr>\n",
       "      <th>2</th>\n",
       "      <td>0.9335</td>\n",
       "      <td>0.8264</td>\n",
       "    </tr>\n",
       "    <tr>\n",
       "      <th>3</th>\n",
       "      <td>0.9261</td>\n",
       "      <td>0.8210</td>\n",
       "    </tr>\n",
       "    <tr>\n",
       "      <th>4</th>\n",
       "      <td>0.9379</td>\n",
       "      <td>0.5598</td>\n",
       "    </tr>\n",
       "    <tr>\n",
       "      <th>5</th>\n",
       "      <td>0.9309</td>\n",
       "      <td>0.5598</td>\n",
       "    </tr>\n",
       "    <tr>\n",
       "      <th>6</th>\n",
       "      <td>0.9698</td>\n",
       "      <td>0.8453</td>\n",
       "    </tr>\n",
       "    <tr>\n",
       "      <th>7</th>\n",
       "      <td>1.0422</td>\n",
       "      <td>0.7759</td>\n",
       "    </tr>\n",
       "    <tr>\n",
       "      <th>8</th>\n",
       "      <td>1.0851</td>\n",
       "      <td>1.0537</td>\n",
       "    </tr>\n",
       "    <tr>\n",
       "      <th>9</th>\n",
       "      <td>1.0356</td>\n",
       "      <td>1.0574</td>\n",
       "    </tr>\n",
       "  </tbody>\n",
       "</table>\n",
       "</div>"
      ],
      "text/plain": [
       "   future_ah  predicted_ah\n",
       "0     0.9302        1.0063\n",
       "1     0.9113        1.0768\n",
       "2     0.9335        0.8264\n",
       "3     0.9261        0.8210\n",
       "4     0.9379        0.5598\n",
       "5     0.9309        0.5598\n",
       "6     0.9698        0.8453\n",
       "7     1.0422        0.7759\n",
       "8     1.0851        1.0537\n",
       "9     1.0356        1.0574"
      ]
     },
     "execution_count": 35,
     "metadata": {},
     "output_type": "execute_result"
    }
   ],
   "source": [
    "check_df = pd.concat([series_future, series_pred], axis=1)\n",
    "check_df.rename(columns= {0: \"future_ah\", 1:\"predicted_ah\"}, inplace = True)\n",
    "check_df"
   ]
  },
  {
   "cell_type": "code",
   "execution_count": 36,
   "id": "f109a1f7",
   "metadata": {},
   "outputs": [
    {
     "data": {
      "text/plain": [
       "0.11594685"
      ]
     },
     "execution_count": 36,
     "metadata": {},
     "output_type": "execute_result"
    }
   ],
   "source": [
    "mean_absolute_error(y_test, pred_tree_y)"
   ]
  },
  {
   "cell_type": "markdown",
   "id": "c37f7c81",
   "metadata": {},
   "source": [
    "# Saving Model"
   ]
  },
  {
   "cell_type": "markdown",
   "id": "201adc30",
   "metadata": {},
   "source": [
    "## Save Model"
   ]
  },
  {
   "cell_type": "code",
   "execution_count": 37,
   "id": "a2da01f1",
   "metadata": {},
   "outputs": [],
   "source": [
    "import pickle"
   ]
  },
  {
   "cell_type": "code",
   "execution_count": 38,
   "id": "cc0ac5e8",
   "metadata": {},
   "outputs": [],
   "source": [
    "new_path = org.path(\"LinearRegression_ah_classifier.pkl\")\n",
    "\n",
    "with open(new_path, 'wb') as f:\n",
    "    pickle.dump(clf_lin_reg, f)"
   ]
  },
  {
   "cell_type": "code",
   "execution_count": 39,
   "id": "4d78474a",
   "metadata": {},
   "outputs": [],
   "source": [
    "new_path = org.path(\"DecisionTree_ah_classifier.pkl\")\n",
    "\n",
    "with open(new_path, 'wb') as f:\n",
    "    pickle.dump(clf_tree, f)"
   ]
  },
  {
   "cell_type": "markdown",
   "id": "2e612cff",
   "metadata": {},
   "source": [
    "## Test - Load model"
   ]
  },
  {
   "cell_type": "code",
   "execution_count": 40,
   "id": "56ee6117",
   "metadata": {},
   "outputs": [],
   "source": [
    "with open(org.path(\"LinearRegression_ah_classifier.pkl\"), 'rb') as f:\n",
    "    loaded_clf = pickle.load(f)"
   ]
  },
  {
   "cell_type": "code",
   "execution_count": 41,
   "id": "f6d4be5d",
   "metadata": {},
   "outputs": [],
   "source": [
    "pred_y = loaded_clf.predict(x_test)"
   ]
  },
  {
   "cell_type": "code",
   "execution_count": 42,
   "id": "ab0a018a",
   "metadata": {},
   "outputs": [],
   "source": [
    "series_pred = pd.Series(pred_y[0:10])\n",
    "#series_future = pd.Series(test.iloc[0:10][\"ah_target\"].values)"
   ]
  },
  {
   "cell_type": "code",
   "execution_count": 43,
   "id": "70662c20",
   "metadata": {},
   "outputs": [
    {
     "data": {
      "text/html": [
       "<div>\n",
       "<style scoped>\n",
       "    .dataframe tbody tr th:only-of-type {\n",
       "        vertical-align: middle;\n",
       "    }\n",
       "\n",
       "    .dataframe tbody tr th {\n",
       "        vertical-align: top;\n",
       "    }\n",
       "\n",
       "    .dataframe thead th {\n",
       "        text-align: right;\n",
       "    }\n",
       "</style>\n",
       "<table border=\"1\" class=\"dataframe\">\n",
       "  <thead>\n",
       "    <tr style=\"text-align: right;\">\n",
       "      <th></th>\n",
       "      <th>future_ah</th>\n",
       "      <th>predicted_ah</th>\n",
       "    </tr>\n",
       "  </thead>\n",
       "  <tbody>\n",
       "    <tr>\n",
       "      <th>0</th>\n",
       "      <td>0.9302</td>\n",
       "      <td>1.015039</td>\n",
       "    </tr>\n",
       "    <tr>\n",
       "      <th>1</th>\n",
       "      <td>0.9113</td>\n",
       "      <td>0.970854</td>\n",
       "    </tr>\n",
       "    <tr>\n",
       "      <th>2</th>\n",
       "      <td>0.9335</td>\n",
       "      <td>0.915901</td>\n",
       "    </tr>\n",
       "    <tr>\n",
       "      <th>3</th>\n",
       "      <td>0.9261</td>\n",
       "      <td>0.889508</td>\n",
       "    </tr>\n",
       "    <tr>\n",
       "      <th>4</th>\n",
       "      <td>0.9379</td>\n",
       "      <td>0.872615</td>\n",
       "    </tr>\n",
       "    <tr>\n",
       "      <th>5</th>\n",
       "      <td>0.9309</td>\n",
       "      <td>0.844618</td>\n",
       "    </tr>\n",
       "    <tr>\n",
       "      <th>6</th>\n",
       "      <td>0.9698</td>\n",
       "      <td>0.828373</td>\n",
       "    </tr>\n",
       "    <tr>\n",
       "      <th>7</th>\n",
       "      <td>1.0422</td>\n",
       "      <td>0.852229</td>\n",
       "    </tr>\n",
       "    <tr>\n",
       "      <th>8</th>\n",
       "      <td>1.0851</td>\n",
       "      <td>0.911977</td>\n",
       "    </tr>\n",
       "    <tr>\n",
       "      <th>9</th>\n",
       "      <td>1.0356</td>\n",
       "      <td>0.904484</td>\n",
       "    </tr>\n",
       "  </tbody>\n",
       "</table>\n",
       "</div>"
      ],
      "text/plain": [
       "   future_ah  predicted_ah\n",
       "0     0.9302      1.015039\n",
       "1     0.9113      0.970854\n",
       "2     0.9335      0.915901\n",
       "3     0.9261      0.889508\n",
       "4     0.9379      0.872615\n",
       "5     0.9309      0.844618\n",
       "6     0.9698      0.828373\n",
       "7     1.0422      0.852229\n",
       "8     1.0851      0.911977\n",
       "9     1.0356      0.904484"
      ]
     },
     "execution_count": 43,
     "metadata": {},
     "output_type": "execute_result"
    }
   ],
   "source": [
    "check_df = pd.concat([series_future, series_pred], axis=1)\n",
    "check_df.rename(columns= {0: \"future_ah\", 1:\"predicted_ah\"}, inplace = True)\n",
    "check_df"
   ]
  },
  {
   "cell_type": "code",
   "execution_count": 44,
   "id": "baeee55a",
   "metadata": {},
   "outputs": [
    {
     "data": {
      "text/plain": [
       "0.07357114363730471"
      ]
     },
     "execution_count": 44,
     "metadata": {},
     "output_type": "execute_result"
    }
   ],
   "source": [
    "mean_absolute_error(y_test, pred_y)"
   ]
  }
 ],
 "metadata": {
  "kernelspec": {
   "display_name": "Python 3 (ipykernel)",
   "language": "python",
   "name": "python3"
  },
  "language_info": {
   "codemirror_mode": {
    "name": "ipython",
    "version": 3
   },
   "file_extension": ".py",
   "mimetype": "text/x-python",
   "name": "python",
   "nbconvert_exporter": "python",
   "pygments_lexer": "ipython3",
   "version": "3.9.7"
  }
 },
 "nbformat": 4,
 "nbformat_minor": 5
}
