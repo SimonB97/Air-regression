{
 "cells": [
  {
   "cell_type": "code",
   "execution_count": 2,
   "id": "8dd73209",
   "metadata": {},
   "outputs": [],
   "source": [
    "import json\n",
    "import pandas as pd\n",
    "import numpy as np\n",
    "import orga_functions as org\n",
    "import functions as func"
   ]
  },
  {
   "cell_type": "code",
   "execution_count": 5,
   "id": "1dc4c567",
   "metadata": {},
   "outputs": [],
   "source": [
    "# read in the dataframe\n",
    "path = org.path(\"00_FeatureList_original.csv\")\n",
    "#path = org.path(\"02_PlausFeatureList.csv\")\n",
    "feature_df = pd.read_csv(path, sep =\";\")"
   ]
  },
  {
   "cell_type": "markdown",
   "id": "67786e6b",
   "metadata": {},
   "source": [
    "## FeatureList DataPreparation"
   ]
  },
  {
   "cell_type": "code",
   "execution_count": 6,
   "id": "9a53e1c7",
   "metadata": {
    "scrolled": true
   },
   "outputs": [
    {
     "data": {
      "text/html": [
       "<div>\n",
       "<style scoped>\n",
       "    .dataframe tbody tr th:only-of-type {\n",
       "        vertical-align: middle;\n",
       "    }\n",
       "\n",
       "    .dataframe tbody tr th {\n",
       "        vertical-align: top;\n",
       "    }\n",
       "\n",
       "    .dataframe thead th {\n",
       "        text-align: right;\n",
       "    }\n",
       "</style>\n",
       "<table border=\"1\" class=\"dataframe\">\n",
       "  <thead>\n",
       "    <tr style=\"text-align: right;\">\n",
       "      <th></th>\n",
       "      <th>names</th>\n",
       "      <th>mean</th>\n",
       "      <th>25%</th>\n",
       "      <th>50%</th>\n",
       "      <th>75%</th>\n",
       "      <th>min</th>\n",
       "      <th>max</th>\n",
       "    </tr>\n",
       "  </thead>\n",
       "  <tbody>\n",
       "    <tr>\n",
       "      <th>0</th>\n",
       "      <td>co_gt</td>\n",
       "      <td>2.168604</td>\n",
       "      <td>1.1000</td>\n",
       "      <td>1.8000</td>\n",
       "      <td>2.9000</td>\n",
       "      <td>0.1000</td>\n",
       "      <td>5.600</td>\n",
       "    </tr>\n",
       "    <tr>\n",
       "      <th>1</th>\n",
       "      <td>pt08_s1_co</td>\n",
       "      <td>1098.303412</td>\n",
       "      <td>932.0000</td>\n",
       "      <td>1061.0000</td>\n",
       "      <td>1234.0000</td>\n",
       "      <td>647.0000</td>\n",
       "      <td>1687.000</td>\n",
       "    </tr>\n",
       "    <tr>\n",
       "      <th>2</th>\n",
       "      <td>c6h6_gt</td>\n",
       "      <td>10.458205</td>\n",
       "      <td>4.7000</td>\n",
       "      <td>8.6000</td>\n",
       "      <td>14.4000</td>\n",
       "      <td>0.1000</td>\n",
       "      <td>28.950</td>\n",
       "    </tr>\n",
       "    <tr>\n",
       "      <th>3</th>\n",
       "      <td>pt08_s2_nmhc</td>\n",
       "      <td>953.579453</td>\n",
       "      <td>749.0000</td>\n",
       "      <td>925.0000</td>\n",
       "      <td>1130.0000</td>\n",
       "      <td>749.0000</td>\n",
       "      <td>1701.500</td>\n",
       "    </tr>\n",
       "    <tr>\n",
       "      <th>4</th>\n",
       "      <td>nox_gt</td>\n",
       "      <td>232.360072</td>\n",
       "      <td>89.0000</td>\n",
       "      <td>164.0000</td>\n",
       "      <td>303.7500</td>\n",
       "      <td>0.1000</td>\n",
       "      <td>625.875</td>\n",
       "    </tr>\n",
       "    <tr>\n",
       "      <th>5</th>\n",
       "      <td>pt08_s3_nox</td>\n",
       "      <td>848.762615</td>\n",
       "      <td>672.0000</td>\n",
       "      <td>818.0000</td>\n",
       "      <td>984.0000</td>\n",
       "      <td>204.0000</td>\n",
       "      <td>1452.000</td>\n",
       "    </tr>\n",
       "    <tr>\n",
       "      <th>6</th>\n",
       "      <td>no2_gt</td>\n",
       "      <td>106.251831</td>\n",
       "      <td>73.0000</td>\n",
       "      <td>103.0000</td>\n",
       "      <td>132.0000</td>\n",
       "      <td>0.1000</td>\n",
       "      <td>220.500</td>\n",
       "    </tr>\n",
       "    <tr>\n",
       "      <th>7</th>\n",
       "      <td>pt08_s4_no2</td>\n",
       "      <td>1507.352834</td>\n",
       "      <td>1305.0000</td>\n",
       "      <td>1508.0000</td>\n",
       "      <td>1707.0000</td>\n",
       "      <td>702.0000</td>\n",
       "      <td>2310.000</td>\n",
       "    </tr>\n",
       "    <tr>\n",
       "      <th>8</th>\n",
       "      <td>pt08_s5_o3</td>\n",
       "      <td>1024.200026</td>\n",
       "      <td>737.0000</td>\n",
       "      <td>962.0000</td>\n",
       "      <td>1272.0000</td>\n",
       "      <td>253.0000</td>\n",
       "      <td>2074.500</td>\n",
       "    </tr>\n",
       "    <tr>\n",
       "      <th>9</th>\n",
       "      <td>t</td>\n",
       "      <td>19.476041</td>\n",
       "      <td>13.1000</td>\n",
       "      <td>19.3000</td>\n",
       "      <td>25.4000</td>\n",
       "      <td>0.3000</td>\n",
       "      <td>43.850</td>\n",
       "    </tr>\n",
       "    <tr>\n",
       "      <th>10</th>\n",
       "      <td>rh</td>\n",
       "      <td>48.969244</td>\n",
       "      <td>35.5000</td>\n",
       "      <td>49.4000</td>\n",
       "      <td>62.1000</td>\n",
       "      <td>9.2000</td>\n",
       "      <td>88.700</td>\n",
       "    </tr>\n",
       "    <tr>\n",
       "      <th>11</th>\n",
       "      <td>ah</td>\n",
       "      <td>1.082099</td>\n",
       "      <td>0.8167</td>\n",
       "      <td>1.0468</td>\n",
       "      <td>1.3713</td>\n",
       "      <td>0.1988</td>\n",
       "      <td>2.231</td>\n",
       "    </tr>\n",
       "  </tbody>\n",
       "</table>\n",
       "</div>"
      ],
      "text/plain": [
       "           names         mean        25%        50%        75%       min  \\\n",
       "0          co_gt     2.168604     1.1000     1.8000     2.9000    0.1000   \n",
       "1     pt08_s1_co  1098.303412   932.0000  1061.0000  1234.0000  647.0000   \n",
       "2        c6h6_gt    10.458205     4.7000     8.6000    14.4000    0.1000   \n",
       "3   pt08_s2_nmhc   953.579453   749.0000   925.0000  1130.0000  749.0000   \n",
       "4         nox_gt   232.360072    89.0000   164.0000   303.7500    0.1000   \n",
       "5    pt08_s3_nox   848.762615   672.0000   818.0000   984.0000  204.0000   \n",
       "6         no2_gt   106.251831    73.0000   103.0000   132.0000    0.1000   \n",
       "7    pt08_s4_no2  1507.352834  1305.0000  1508.0000  1707.0000  702.0000   \n",
       "8     pt08_s5_o3  1024.200026   737.0000   962.0000  1272.0000  253.0000   \n",
       "9              t    19.476041    13.1000    19.3000    25.4000    0.3000   \n",
       "10            rh    48.969244    35.5000    49.4000    62.1000    9.2000   \n",
       "11            ah     1.082099     0.8167     1.0468     1.3713    0.1988   \n",
       "\n",
       "         max  \n",
       "0      5.600  \n",
       "1   1687.000  \n",
       "2     28.950  \n",
       "3   1701.500  \n",
       "4    625.875  \n",
       "5   1452.000  \n",
       "6    220.500  \n",
       "7   2310.000  \n",
       "8   2074.500  \n",
       "9     43.850  \n",
       "10    88.700  \n",
       "11     2.231  "
      ]
     },
     "execution_count": 6,
     "metadata": {},
     "output_type": "execute_result"
    }
   ],
   "source": [
    "feature_df"
   ]
  },
  {
   "cell_type": "markdown",
   "id": "36354c46",
   "metadata": {},
   "source": [
    "#### Original Names"
   ]
  },
  {
   "cell_type": "code",
   "execution_count": 8,
   "id": "4f70f9be",
   "metadata": {},
   "outputs": [],
   "source": [
    "# Original Dataframe\n",
    "original_names = pd.read_csv(org.path(\"00_AirQuality_original.csv\"), sep=';', nrows=1).columns.tolist()\n",
    "del original_names[15:]"
   ]
  },
  {
   "cell_type": "code",
   "execution_count": 9,
   "id": "11b4c70c",
   "metadata": {},
   "outputs": [],
   "source": [
    "# Replace names by original/raw names\n",
    "def og_name(name):\n",
    "    for og in original_names:\n",
    "        if func.change_column(og) == name:\n",
    "            return og\n",
    "    return name"
   ]
  },
  {
   "cell_type": "code",
   "execution_count": 10,
   "id": "f4ddf0ec",
   "metadata": {},
   "outputs": [],
   "source": [
    "feature_df.names = [og_name(x) for x in feature_df.names]"
   ]
  },
  {
   "cell_type": "code",
   "execution_count": 11,
   "id": "8ed0482f",
   "metadata": {},
   "outputs": [
    {
     "data": {
      "text/html": [
       "<div>\n",
       "<style scoped>\n",
       "    .dataframe tbody tr th:only-of-type {\n",
       "        vertical-align: middle;\n",
       "    }\n",
       "\n",
       "    .dataframe tbody tr th {\n",
       "        vertical-align: top;\n",
       "    }\n",
       "\n",
       "    .dataframe thead th {\n",
       "        text-align: right;\n",
       "    }\n",
       "</style>\n",
       "<table border=\"1\" class=\"dataframe\">\n",
       "  <thead>\n",
       "    <tr style=\"text-align: right;\">\n",
       "      <th></th>\n",
       "      <th>names</th>\n",
       "      <th>mean</th>\n",
       "      <th>25%</th>\n",
       "      <th>50%</th>\n",
       "      <th>75%</th>\n",
       "      <th>min</th>\n",
       "      <th>max</th>\n",
       "    </tr>\n",
       "  </thead>\n",
       "  <tbody>\n",
       "    <tr>\n",
       "      <th>0</th>\n",
       "      <td>CO(GT)</td>\n",
       "      <td>2.168604</td>\n",
       "      <td>1.1000</td>\n",
       "      <td>1.8000</td>\n",
       "      <td>2.9000</td>\n",
       "      <td>0.1000</td>\n",
       "      <td>5.600</td>\n",
       "    </tr>\n",
       "    <tr>\n",
       "      <th>1</th>\n",
       "      <td>PT08.S1(CO)</td>\n",
       "      <td>1098.303412</td>\n",
       "      <td>932.0000</td>\n",
       "      <td>1061.0000</td>\n",
       "      <td>1234.0000</td>\n",
       "      <td>647.0000</td>\n",
       "      <td>1687.000</td>\n",
       "    </tr>\n",
       "    <tr>\n",
       "      <th>2</th>\n",
       "      <td>C6H6(GT)</td>\n",
       "      <td>10.458205</td>\n",
       "      <td>4.7000</td>\n",
       "      <td>8.6000</td>\n",
       "      <td>14.4000</td>\n",
       "      <td>0.1000</td>\n",
       "      <td>28.950</td>\n",
       "    </tr>\n",
       "    <tr>\n",
       "      <th>3</th>\n",
       "      <td>PT08.S2(NMHC)</td>\n",
       "      <td>953.579453</td>\n",
       "      <td>749.0000</td>\n",
       "      <td>925.0000</td>\n",
       "      <td>1130.0000</td>\n",
       "      <td>749.0000</td>\n",
       "      <td>1701.500</td>\n",
       "    </tr>\n",
       "    <tr>\n",
       "      <th>4</th>\n",
       "      <td>NOx(GT)</td>\n",
       "      <td>232.360072</td>\n",
       "      <td>89.0000</td>\n",
       "      <td>164.0000</td>\n",
       "      <td>303.7500</td>\n",
       "      <td>0.1000</td>\n",
       "      <td>625.875</td>\n",
       "    </tr>\n",
       "    <tr>\n",
       "      <th>5</th>\n",
       "      <td>PT08.S3(NOx)</td>\n",
       "      <td>848.762615</td>\n",
       "      <td>672.0000</td>\n",
       "      <td>818.0000</td>\n",
       "      <td>984.0000</td>\n",
       "      <td>204.0000</td>\n",
       "      <td>1452.000</td>\n",
       "    </tr>\n",
       "    <tr>\n",
       "      <th>6</th>\n",
       "      <td>NO2(GT)</td>\n",
       "      <td>106.251831</td>\n",
       "      <td>73.0000</td>\n",
       "      <td>103.0000</td>\n",
       "      <td>132.0000</td>\n",
       "      <td>0.1000</td>\n",
       "      <td>220.500</td>\n",
       "    </tr>\n",
       "    <tr>\n",
       "      <th>7</th>\n",
       "      <td>PT08.S4(NO2)</td>\n",
       "      <td>1507.352834</td>\n",
       "      <td>1305.0000</td>\n",
       "      <td>1508.0000</td>\n",
       "      <td>1707.0000</td>\n",
       "      <td>702.0000</td>\n",
       "      <td>2310.000</td>\n",
       "    </tr>\n",
       "    <tr>\n",
       "      <th>8</th>\n",
       "      <td>PT08.S5(O3)</td>\n",
       "      <td>1024.200026</td>\n",
       "      <td>737.0000</td>\n",
       "      <td>962.0000</td>\n",
       "      <td>1272.0000</td>\n",
       "      <td>253.0000</td>\n",
       "      <td>2074.500</td>\n",
       "    </tr>\n",
       "    <tr>\n",
       "      <th>9</th>\n",
       "      <td>T</td>\n",
       "      <td>19.476041</td>\n",
       "      <td>13.1000</td>\n",
       "      <td>19.3000</td>\n",
       "      <td>25.4000</td>\n",
       "      <td>0.3000</td>\n",
       "      <td>43.850</td>\n",
       "    </tr>\n",
       "    <tr>\n",
       "      <th>10</th>\n",
       "      <td>RH</td>\n",
       "      <td>48.969244</td>\n",
       "      <td>35.5000</td>\n",
       "      <td>49.4000</td>\n",
       "      <td>62.1000</td>\n",
       "      <td>9.2000</td>\n",
       "      <td>88.700</td>\n",
       "    </tr>\n",
       "    <tr>\n",
       "      <th>11</th>\n",
       "      <td>AH</td>\n",
       "      <td>1.082099</td>\n",
       "      <td>0.8167</td>\n",
       "      <td>1.0468</td>\n",
       "      <td>1.3713</td>\n",
       "      <td>0.1988</td>\n",
       "      <td>2.231</td>\n",
       "    </tr>\n",
       "  </tbody>\n",
       "</table>\n",
       "</div>"
      ],
      "text/plain": [
       "            names         mean        25%        50%        75%       min  \\\n",
       "0          CO(GT)     2.168604     1.1000     1.8000     2.9000    0.1000   \n",
       "1     PT08.S1(CO)  1098.303412   932.0000  1061.0000  1234.0000  647.0000   \n",
       "2        C6H6(GT)    10.458205     4.7000     8.6000    14.4000    0.1000   \n",
       "3   PT08.S2(NMHC)   953.579453   749.0000   925.0000  1130.0000  749.0000   \n",
       "4         NOx(GT)   232.360072    89.0000   164.0000   303.7500    0.1000   \n",
       "5    PT08.S3(NOx)   848.762615   672.0000   818.0000   984.0000  204.0000   \n",
       "6         NO2(GT)   106.251831    73.0000   103.0000   132.0000    0.1000   \n",
       "7    PT08.S4(NO2)  1507.352834  1305.0000  1508.0000  1707.0000  702.0000   \n",
       "8     PT08.S5(O3)  1024.200026   737.0000   962.0000  1272.0000  253.0000   \n",
       "9               T    19.476041    13.1000    19.3000    25.4000    0.3000   \n",
       "10             RH    48.969244    35.5000    49.4000    62.1000    9.2000   \n",
       "11             AH     1.082099     0.8167     1.0468     1.3713    0.1988   \n",
       "\n",
       "         max  \n",
       "0      5.600  \n",
       "1   1687.000  \n",
       "2     28.950  \n",
       "3   1701.500  \n",
       "4    625.875  \n",
       "5   1452.000  \n",
       "6    220.500  \n",
       "7   2310.000  \n",
       "8   2074.500  \n",
       "9     43.850  \n",
       "10    88.700  \n",
       "11     2.231  "
      ]
     },
     "execution_count": 11,
     "metadata": {},
     "output_type": "execute_result"
    }
   ],
   "source": [
    "feature_df"
   ]
  },
  {
   "cell_type": "markdown",
   "id": "79d75d16",
   "metadata": {},
   "source": [
    "#### Names as Index"
   ]
  },
  {
   "cell_type": "code",
   "execution_count": 12,
   "id": "efc511da",
   "metadata": {},
   "outputs": [],
   "source": [
    "feature_df.set_index('names', inplace = True)"
   ]
  },
  {
   "cell_type": "code",
   "execution_count": 13,
   "id": "e07e9fc3",
   "metadata": {},
   "outputs": [
    {
     "ename": "KeyError",
     "evalue": "\"['month' 'hour'] not found in axis\"",
     "output_type": "error",
     "traceback": [
      "\u001b[1;31m---------------------------------------------------------------------------\u001b[0m",
      "\u001b[1;31mKeyError\u001b[0m                                  Traceback (most recent call last)",
      "\u001b[1;32m~\\AppData\\Local\\Temp/ipykernel_20948/3845419965.py\u001b[0m in \u001b[0;36m<module>\u001b[1;34m\u001b[0m\n\u001b[1;32m----> 1\u001b[1;33m \u001b[0mfeature_df\u001b[0m\u001b[1;33m.\u001b[0m\u001b[0mdrop\u001b[0m\u001b[1;33m(\u001b[0m\u001b[0mindex\u001b[0m \u001b[1;33m=\u001b[0m \u001b[1;33m[\u001b[0m\u001b[1;34m\"month\"\u001b[0m\u001b[1;33m,\u001b[0m \u001b[1;34m\"hour\"\u001b[0m\u001b[1;33m]\u001b[0m\u001b[1;33m,\u001b[0m \u001b[0minplace\u001b[0m \u001b[1;33m=\u001b[0m \u001b[1;32mTrue\u001b[0m\u001b[1;33m)\u001b[0m\u001b[1;33m\u001b[0m\u001b[1;33m\u001b[0m\u001b[0m\n\u001b[0m",
      "\u001b[1;32m~\\anaconda3\\lib\\site-packages\\pandas\\util\\_decorators.py\u001b[0m in \u001b[0;36mwrapper\u001b[1;34m(*args, **kwargs)\u001b[0m\n\u001b[0;32m    309\u001b[0m                     \u001b[0mstacklevel\u001b[0m\u001b[1;33m=\u001b[0m\u001b[0mstacklevel\u001b[0m\u001b[1;33m,\u001b[0m\u001b[1;33m\u001b[0m\u001b[1;33m\u001b[0m\u001b[0m\n\u001b[0;32m    310\u001b[0m                 )\n\u001b[1;32m--> 311\u001b[1;33m             \u001b[1;32mreturn\u001b[0m \u001b[0mfunc\u001b[0m\u001b[1;33m(\u001b[0m\u001b[1;33m*\u001b[0m\u001b[0margs\u001b[0m\u001b[1;33m,\u001b[0m \u001b[1;33m**\u001b[0m\u001b[0mkwargs\u001b[0m\u001b[1;33m)\u001b[0m\u001b[1;33m\u001b[0m\u001b[1;33m\u001b[0m\u001b[0m\n\u001b[0m\u001b[0;32m    312\u001b[0m \u001b[1;33m\u001b[0m\u001b[0m\n\u001b[0;32m    313\u001b[0m         \u001b[1;32mreturn\u001b[0m \u001b[0mwrapper\u001b[0m\u001b[1;33m\u001b[0m\u001b[1;33m\u001b[0m\u001b[0m\n",
      "\u001b[1;32m~\\anaconda3\\lib\\site-packages\\pandas\\core\\frame.py\u001b[0m in \u001b[0;36mdrop\u001b[1;34m(self, labels, axis, index, columns, level, inplace, errors)\u001b[0m\n\u001b[0;32m   4904\u001b[0m                 \u001b[0mweight\u001b[0m  \u001b[1;36m1.0\u001b[0m     \u001b[1;36m0.8\u001b[0m\u001b[1;33m\u001b[0m\u001b[1;33m\u001b[0m\u001b[0m\n\u001b[0;32m   4905\u001b[0m         \"\"\"\n\u001b[1;32m-> 4906\u001b[1;33m         return super().drop(\n\u001b[0m\u001b[0;32m   4907\u001b[0m             \u001b[0mlabels\u001b[0m\u001b[1;33m=\u001b[0m\u001b[0mlabels\u001b[0m\u001b[1;33m,\u001b[0m\u001b[1;33m\u001b[0m\u001b[1;33m\u001b[0m\u001b[0m\n\u001b[0;32m   4908\u001b[0m             \u001b[0maxis\u001b[0m\u001b[1;33m=\u001b[0m\u001b[0maxis\u001b[0m\u001b[1;33m,\u001b[0m\u001b[1;33m\u001b[0m\u001b[1;33m\u001b[0m\u001b[0m\n",
      "\u001b[1;32m~\\anaconda3\\lib\\site-packages\\pandas\\core\\generic.py\u001b[0m in \u001b[0;36mdrop\u001b[1;34m(self, labels, axis, index, columns, level, inplace, errors)\u001b[0m\n\u001b[0;32m   4148\u001b[0m         \u001b[1;32mfor\u001b[0m \u001b[0maxis\u001b[0m\u001b[1;33m,\u001b[0m \u001b[0mlabels\u001b[0m \u001b[1;32min\u001b[0m \u001b[0maxes\u001b[0m\u001b[1;33m.\u001b[0m\u001b[0mitems\u001b[0m\u001b[1;33m(\u001b[0m\u001b[1;33m)\u001b[0m\u001b[1;33m:\u001b[0m\u001b[1;33m\u001b[0m\u001b[1;33m\u001b[0m\u001b[0m\n\u001b[0;32m   4149\u001b[0m             \u001b[1;32mif\u001b[0m \u001b[0mlabels\u001b[0m \u001b[1;32mis\u001b[0m \u001b[1;32mnot\u001b[0m \u001b[1;32mNone\u001b[0m\u001b[1;33m:\u001b[0m\u001b[1;33m\u001b[0m\u001b[1;33m\u001b[0m\u001b[0m\n\u001b[1;32m-> 4150\u001b[1;33m                 \u001b[0mobj\u001b[0m \u001b[1;33m=\u001b[0m \u001b[0mobj\u001b[0m\u001b[1;33m.\u001b[0m\u001b[0m_drop_axis\u001b[0m\u001b[1;33m(\u001b[0m\u001b[0mlabels\u001b[0m\u001b[1;33m,\u001b[0m \u001b[0maxis\u001b[0m\u001b[1;33m,\u001b[0m \u001b[0mlevel\u001b[0m\u001b[1;33m=\u001b[0m\u001b[0mlevel\u001b[0m\u001b[1;33m,\u001b[0m \u001b[0merrors\u001b[0m\u001b[1;33m=\u001b[0m\u001b[0merrors\u001b[0m\u001b[1;33m)\u001b[0m\u001b[1;33m\u001b[0m\u001b[1;33m\u001b[0m\u001b[0m\n\u001b[0m\u001b[0;32m   4151\u001b[0m \u001b[1;33m\u001b[0m\u001b[0m\n\u001b[0;32m   4152\u001b[0m         \u001b[1;32mif\u001b[0m \u001b[0minplace\u001b[0m\u001b[1;33m:\u001b[0m\u001b[1;33m\u001b[0m\u001b[1;33m\u001b[0m\u001b[0m\n",
      "\u001b[1;32m~\\anaconda3\\lib\\site-packages\\pandas\\core\\generic.py\u001b[0m in \u001b[0;36m_drop_axis\u001b[1;34m(self, labels, axis, level, errors)\u001b[0m\n\u001b[0;32m   4183\u001b[0m                 \u001b[0mnew_axis\u001b[0m \u001b[1;33m=\u001b[0m \u001b[0maxis\u001b[0m\u001b[1;33m.\u001b[0m\u001b[0mdrop\u001b[0m\u001b[1;33m(\u001b[0m\u001b[0mlabels\u001b[0m\u001b[1;33m,\u001b[0m \u001b[0mlevel\u001b[0m\u001b[1;33m=\u001b[0m\u001b[0mlevel\u001b[0m\u001b[1;33m,\u001b[0m \u001b[0merrors\u001b[0m\u001b[1;33m=\u001b[0m\u001b[0merrors\u001b[0m\u001b[1;33m)\u001b[0m\u001b[1;33m\u001b[0m\u001b[1;33m\u001b[0m\u001b[0m\n\u001b[0;32m   4184\u001b[0m             \u001b[1;32melse\u001b[0m\u001b[1;33m:\u001b[0m\u001b[1;33m\u001b[0m\u001b[1;33m\u001b[0m\u001b[0m\n\u001b[1;32m-> 4185\u001b[1;33m                 \u001b[0mnew_axis\u001b[0m \u001b[1;33m=\u001b[0m \u001b[0maxis\u001b[0m\u001b[1;33m.\u001b[0m\u001b[0mdrop\u001b[0m\u001b[1;33m(\u001b[0m\u001b[0mlabels\u001b[0m\u001b[1;33m,\u001b[0m \u001b[0merrors\u001b[0m\u001b[1;33m=\u001b[0m\u001b[0merrors\u001b[0m\u001b[1;33m)\u001b[0m\u001b[1;33m\u001b[0m\u001b[1;33m\u001b[0m\u001b[0m\n\u001b[0m\u001b[0;32m   4186\u001b[0m             \u001b[0mresult\u001b[0m \u001b[1;33m=\u001b[0m \u001b[0mself\u001b[0m\u001b[1;33m.\u001b[0m\u001b[0mreindex\u001b[0m\u001b[1;33m(\u001b[0m\u001b[1;33m**\u001b[0m\u001b[1;33m{\u001b[0m\u001b[0maxis_name\u001b[0m\u001b[1;33m:\u001b[0m \u001b[0mnew_axis\u001b[0m\u001b[1;33m}\u001b[0m\u001b[1;33m)\u001b[0m\u001b[1;33m\u001b[0m\u001b[1;33m\u001b[0m\u001b[0m\n\u001b[0;32m   4187\u001b[0m \u001b[1;33m\u001b[0m\u001b[0m\n",
      "\u001b[1;32m~\\anaconda3\\lib\\site-packages\\pandas\\core\\indexes\\base.py\u001b[0m in \u001b[0;36mdrop\u001b[1;34m(self, labels, errors)\u001b[0m\n\u001b[0;32m   6015\u001b[0m         \u001b[1;32mif\u001b[0m \u001b[0mmask\u001b[0m\u001b[1;33m.\u001b[0m\u001b[0many\u001b[0m\u001b[1;33m(\u001b[0m\u001b[1;33m)\u001b[0m\u001b[1;33m:\u001b[0m\u001b[1;33m\u001b[0m\u001b[1;33m\u001b[0m\u001b[0m\n\u001b[0;32m   6016\u001b[0m             \u001b[1;32mif\u001b[0m \u001b[0merrors\u001b[0m \u001b[1;33m!=\u001b[0m \u001b[1;34m\"ignore\"\u001b[0m\u001b[1;33m:\u001b[0m\u001b[1;33m\u001b[0m\u001b[1;33m\u001b[0m\u001b[0m\n\u001b[1;32m-> 6017\u001b[1;33m                 \u001b[1;32mraise\u001b[0m \u001b[0mKeyError\u001b[0m\u001b[1;33m(\u001b[0m\u001b[1;34mf\"{labels[mask]} not found in axis\"\u001b[0m\u001b[1;33m)\u001b[0m\u001b[1;33m\u001b[0m\u001b[1;33m\u001b[0m\u001b[0m\n\u001b[0m\u001b[0;32m   6018\u001b[0m             \u001b[0mindexer\u001b[0m \u001b[1;33m=\u001b[0m \u001b[0mindexer\u001b[0m\u001b[1;33m[\u001b[0m\u001b[1;33m~\u001b[0m\u001b[0mmask\u001b[0m\u001b[1;33m]\u001b[0m\u001b[1;33m\u001b[0m\u001b[1;33m\u001b[0m\u001b[0m\n\u001b[0;32m   6019\u001b[0m         \u001b[1;32mreturn\u001b[0m \u001b[0mself\u001b[0m\u001b[1;33m.\u001b[0m\u001b[0mdelete\u001b[0m\u001b[1;33m(\u001b[0m\u001b[0mindexer\u001b[0m\u001b[1;33m)\u001b[0m\u001b[1;33m\u001b[0m\u001b[1;33m\u001b[0m\u001b[0m\n",
      "\u001b[1;31mKeyError\u001b[0m: \"['month' 'hour'] not found in axis\""
     ]
    }
   ],
   "source": [
    "feature_df.drop(index = [\"month\", \"hour\"], inplace = True)"
   ]
  },
  {
   "cell_type": "code",
   "execution_count": 10,
   "id": "fa451510",
   "metadata": {
    "scrolled": true
   },
   "outputs": [
    {
     "data": {
      "text/html": [
       "<div>\n",
       "<style scoped>\n",
       "    .dataframe tbody tr th:only-of-type {\n",
       "        vertical-align: middle;\n",
       "    }\n",
       "\n",
       "    .dataframe tbody tr th {\n",
       "        vertical-align: top;\n",
       "    }\n",
       "\n",
       "    .dataframe thead th {\n",
       "        text-align: right;\n",
       "    }\n",
       "</style>\n",
       "<table border=\"1\" class=\"dataframe\">\n",
       "  <thead>\n",
       "    <tr style=\"text-align: right;\">\n",
       "      <th></th>\n",
       "      <th>min</th>\n",
       "      <th>max</th>\n",
       "    </tr>\n",
       "    <tr>\n",
       "      <th>names</th>\n",
       "      <th></th>\n",
       "      <th></th>\n",
       "    </tr>\n",
       "  </thead>\n",
       "  <tbody>\n",
       "    <tr>\n",
       "      <th>CO(GT)</th>\n",
       "      <td>0.1000</td>\n",
       "      <td>11.900</td>\n",
       "    </tr>\n",
       "    <tr>\n",
       "      <th>PT08.S1(CO)</th>\n",
       "      <td>647.0000</td>\n",
       "      <td>2040.000</td>\n",
       "    </tr>\n",
       "    <tr>\n",
       "      <th>NMHC(GT)</th>\n",
       "      <td>7.0000</td>\n",
       "      <td>1189.000</td>\n",
       "    </tr>\n",
       "    <tr>\n",
       "      <th>C6H6(GT)</th>\n",
       "      <td>0.1000</td>\n",
       "      <td>63.700</td>\n",
       "    </tr>\n",
       "    <tr>\n",
       "      <th>PT08.S2(NMHC)</th>\n",
       "      <td>383.0000</td>\n",
       "      <td>2214.000</td>\n",
       "    </tr>\n",
       "    <tr>\n",
       "      <th>NOx(GT)</th>\n",
       "      <td>2.0000</td>\n",
       "      <td>1479.000</td>\n",
       "    </tr>\n",
       "    <tr>\n",
       "      <th>PT08.S3(NOx)</th>\n",
       "      <td>322.0000</td>\n",
       "      <td>2683.000</td>\n",
       "    </tr>\n",
       "    <tr>\n",
       "      <th>NO2(GT)</th>\n",
       "      <td>2.0000</td>\n",
       "      <td>333.000</td>\n",
       "    </tr>\n",
       "    <tr>\n",
       "      <th>PT08.S4(NO2)</th>\n",
       "      <td>657.0000</td>\n",
       "      <td>2775.000</td>\n",
       "    </tr>\n",
       "    <tr>\n",
       "      <th>PT08.S5(O3)</th>\n",
       "      <td>253.0000</td>\n",
       "      <td>2523.000</td>\n",
       "    </tr>\n",
       "    <tr>\n",
       "      <th>T</th>\n",
       "      <td>0.3000</td>\n",
       "      <td>44.600</td>\n",
       "    </tr>\n",
       "    <tr>\n",
       "      <th>RH</th>\n",
       "      <td>9.2000</td>\n",
       "      <td>88.700</td>\n",
       "    </tr>\n",
       "    <tr>\n",
       "      <th>AH</th>\n",
       "      <td>0.1988</td>\n",
       "      <td>2.231</td>\n",
       "    </tr>\n",
       "  </tbody>\n",
       "</table>\n",
       "</div>"
      ],
      "text/plain": [
       "                    min       max\n",
       "names                            \n",
       "CO(GT)           0.1000    11.900\n",
       "PT08.S1(CO)    647.0000  2040.000\n",
       "NMHC(GT)         7.0000  1189.000\n",
       "C6H6(GT)         0.1000    63.700\n",
       "PT08.S2(NMHC)  383.0000  2214.000\n",
       "NOx(GT)          2.0000  1479.000\n",
       "PT08.S3(NOx)   322.0000  2683.000\n",
       "NO2(GT)          2.0000   333.000\n",
       "PT08.S4(NO2)   657.0000  2775.000\n",
       "PT08.S5(O3)    253.0000  2523.000\n",
       "T                0.3000    44.600\n",
       "RH               9.2000    88.700\n",
       "AH               0.1988     2.231"
      ]
     },
     "execution_count": 10,
     "metadata": {},
     "output_type": "execute_result"
    }
   ],
   "source": [
    "feature_df[[\"min\", \"max\"]]"
   ]
  },
  {
   "cell_type": "markdown",
   "id": "34a2bab6",
   "metadata": {},
   "source": [
    "# Create new entries"
   ]
  },
  {
   "cell_type": "markdown",
   "id": "0c27746d",
   "metadata": {},
   "source": [
    "### Functions"
   ]
  },
  {
   "cell_type": "code",
   "execution_count": 11,
   "id": "6ea6ec91",
   "metadata": {},
   "outputs": [],
   "source": [
    "def get_min(name):\n",
    "    return feature_df.loc[name][\"min\"]\n",
    "                         \n",
    "def get_max(name):\n",
    "    return feature_df.loc[name][\"max\"]\n",
    "                         "
   ]
  },
  {
   "cell_type": "code",
   "execution_count": 12,
   "id": "2e206b5c",
   "metadata": {},
   "outputs": [],
   "source": [
    "int_columns = func.og_int_column_list()"
   ]
  },
  {
   "cell_type": "code",
   "execution_count": 13,
   "id": "594cc597",
   "metadata": {},
   "outputs": [],
   "source": [
    "def get_correct(name):\n",
    "    if name in int_columns:\n",
    "        value = np.random.randint(get_min(name), get_max(name))\n",
    "        return value\n",
    "    else:\n",
    "        value = np.random.uniform(get_min(name), get_max(name))\n",
    "        return round(value, 2)"
   ]
  },
  {
   "cell_type": "code",
   "execution_count": 14,
   "id": "f9ae035b",
   "metadata": {},
   "outputs": [],
   "source": [
    "def get_too_small(name):\n",
    "    if name in int_columns:\n",
    "        value = np.random.randint(-250, get_min(name)-1)\n",
    "        return value\n",
    "    else:\n",
    "        value = np.random.uniform(-250, get_min(name)-1)\n",
    "        return round(value, 2)"
   ]
  },
  {
   "cell_type": "code",
   "execution_count": 15,
   "id": "68936ecd",
   "metadata": {},
   "outputs": [],
   "source": [
    "def get_too_big(name):\n",
    "    if name in int_columns:\n",
    "        value = np.random.randint(get_max(name)+1, 5000)\n",
    "        return value\n",
    "    else:\n",
    "        value = np.random.uniform(get_max(name)+1, 5000)\n",
    "        return round(value, 2)"
   ]
  },
  {
   "cell_type": "markdown",
   "id": "ce3aaf54",
   "metadata": {},
   "source": [
    "## Entry with only correct values"
   ]
  },
  {
   "cell_type": "code",
   "execution_count": 16,
   "id": "8f945e1f",
   "metadata": {},
   "outputs": [],
   "source": [
    "corr_dict = {}\n",
    "for i in feature_df.index.values:\n",
    "    corr_dict[i] = get_correct(i)"
   ]
  },
  {
   "cell_type": "code",
   "execution_count": 17,
   "id": "954493c6",
   "metadata": {},
   "outputs": [],
   "source": [
    "corr_dict[\"Date\"] = \"07/02/2005\"\n",
    "corr_dict[\"Time\"] = '00.00.00'"
   ]
  },
  {
   "cell_type": "markdown",
   "id": "38fa262b",
   "metadata": {},
   "source": [
    "## Entry with some too small values"
   ]
  },
  {
   "cell_type": "code",
   "execution_count": 18,
   "id": "deb1eb15",
   "metadata": {},
   "outputs": [],
   "source": [
    "change = 1\n",
    "small_dict = {}\n",
    "for i in feature_df.index.values:\n",
    "    if change %2 == 0:\n",
    "        small_dict[i] = get_correct(i)\n",
    "    else:\n",
    "        small_dict[i] = get_too_small(i)\n",
    "    change+=1"
   ]
  },
  {
   "cell_type": "code",
   "execution_count": 19,
   "id": "a43241d1",
   "metadata": {},
   "outputs": [],
   "source": [
    "small_dict[\"Date\"] = \"07/02/2005\"\n",
    "small_dict[\"Time\"] = '01.00.00'"
   ]
  },
  {
   "cell_type": "markdown",
   "id": "e7072117",
   "metadata": {},
   "source": [
    "## Entry some too big values"
   ]
  },
  {
   "cell_type": "code",
   "execution_count": 20,
   "id": "7dfff44c",
   "metadata": {},
   "outputs": [],
   "source": [
    "change = 1\n",
    "big_dict = {}\n",
    "for i in feature_df.index.values:\n",
    "    if change % 2 == 0:\n",
    "        big_dict[i] = get_correct(i)\n",
    "    else:\n",
    "        big_dict[i] = get_too_big(i)\n",
    "    change+=1"
   ]
  },
  {
   "cell_type": "code",
   "execution_count": 21,
   "id": "e15dfd13",
   "metadata": {},
   "outputs": [],
   "source": [
    "big_dict[\"Date\"] = \"07/02/2005\"\n",
    "big_dict[\"Time\"] = '02.00.00'"
   ]
  },
  {
   "cell_type": "markdown",
   "id": "2fc8a3ee",
   "metadata": {},
   "source": [
    "## Entry with mix values"
   ]
  },
  {
   "cell_type": "code",
   "execution_count": 22,
   "id": "53768952",
   "metadata": {},
   "outputs": [],
   "source": [
    "change = 1\n",
    "mix_dict = {}\n",
    "for i in feature_df.index.values:\n",
    "    if change % 3 == 0:              #3,6,9,12\n",
    "        mix_dict[i] = get_too_big(i)\n",
    "    elif change % 2 == 0:            #2,4,8,10,(12)\n",
    "        mix_dict[i] = get_too_small(i)\n",
    "    else:                            #1,5,7,11,13\n",
    "        mix_dict[i] = get_correct(i)\n",
    "    change+=1"
   ]
  },
  {
   "cell_type": "code",
   "execution_count": 23,
   "id": "a9e77a07",
   "metadata": {},
   "outputs": [],
   "source": [
    "mix_dict[\"Date\"] = \"07/02/2005\"\n",
    "mix_dict[\"Time\"] = '03.00.00'"
   ]
  },
  {
   "cell_type": "markdown",
   "id": "c98c6c56",
   "metadata": {},
   "source": [
    "## Entry with missing  values"
   ]
  },
  {
   "cell_type": "code",
   "execution_count": 24,
   "id": "39ef2461",
   "metadata": {},
   "outputs": [],
   "source": [
    "missing_dict = {}"
   ]
  },
  {
   "cell_type": "code",
   "execution_count": 25,
   "id": "c29ee200",
   "metadata": {},
   "outputs": [],
   "source": [
    "missing_dict[\"Date\"] = \"07/02/2005\"\n",
    "missing_dict[\"Time\"] = '04.00.00'"
   ]
  },
  {
   "cell_type": "code",
   "execution_count": 26,
   "id": "3be2e483",
   "metadata": {},
   "outputs": [],
   "source": [
    "missing_dict[\"CO(GT)\"] = get_correct('CO(GT)')\n",
    "missing_dict[\"PT08.S1(CO)\"] = get_correct('PT08.S1(CO)')\n",
    "missing_dict[\"NO2(GT)\"] = get_correct('NO2(GT)')"
   ]
  },
  {
   "cell_type": "code",
   "execution_count": 27,
   "id": "cc2a8fe2",
   "metadata": {},
   "outputs": [],
   "source": [
    "missing_dict[\"NOx(GT)\"] = np.nan"
   ]
  },
  {
   "cell_type": "markdown",
   "id": "192da1cb",
   "metadata": {},
   "source": [
    "# more entries"
   ]
  },
  {
   "cell_type": "code",
   "execution_count": 28,
   "id": "d483d2a0",
   "metadata": {},
   "outputs": [],
   "source": [
    "corr_dict2 = {}\n",
    "for i in feature_df.index.values:\n",
    "    corr_dict2[i] = get_correct(i)\n",
    "\n",
    "corr_dict2[\"Date\"] = \"07/02/2005\"\n",
    "corr_dict2[\"Time\"] = '05.00.00'"
   ]
  },
  {
   "cell_type": "code",
   "execution_count": 29,
   "id": "5a1d595e",
   "metadata": {},
   "outputs": [],
   "source": [
    "corr_dict3 = {}\n",
    "for i in feature_df.index.values:\n",
    "    corr_dict3[i] = get_correct(i)\n",
    "\n",
    "corr_dict3[\"Date\"] = \"07/02/2005\"\n",
    "corr_dict3[\"Time\"] = '06.00.00'"
   ]
  },
  {
   "cell_type": "code",
   "execution_count": 30,
   "id": "39f95a11",
   "metadata": {},
   "outputs": [],
   "source": [
    "corr_dict4 = {}\n",
    "for i in feature_df.index.values:\n",
    "    corr_dict4[i] = get_correct(i)\n",
    "\n",
    "corr_dict4[\"Date\"] = \"07/02/2005\"\n",
    "corr_dict4[\"Time\"] = '07.00.00'"
   ]
  },
  {
   "cell_type": "code",
   "execution_count": 31,
   "id": "1cce7b88",
   "metadata": {},
   "outputs": [],
   "source": [
    "corr_dict5 = {}\n",
    "for i in feature_df.index.values:\n",
    "    corr_dict5[i] = get_correct(i)\n",
    "\n",
    "corr_dict5[\"Date\"] = \"07/02/2005\"\n",
    "corr_dict5[\"Time\"] = '08.00.00'"
   ]
  },
  {
   "cell_type": "markdown",
   "id": "65ef93d8",
   "metadata": {},
   "source": [
    "# Save  LiveData in JSON File"
   ]
  },
  {
   "cell_type": "code",
   "execution_count": 32,
   "id": "d9ee5127",
   "metadata": {},
   "outputs": [],
   "source": [
    "#function\n",
    "def entry_list(*entries):\n",
    "    list = []\n",
    "    for e in entries:\n",
    "        list.append(e)\n",
    "    return list"
   ]
  },
  {
   "cell_type": "markdown",
   "id": "7721b17d",
   "metadata": {},
   "source": [
    "### Save some entries without missing values"
   ]
  },
  {
   "cell_type": "code",
   "execution_count": 33,
   "id": "62c2442c",
   "metadata": {},
   "outputs": [],
   "source": [
    "entries_v1 = entry_list(corr_dict, small_dict, big_dict, mix_dict)"
   ]
  },
  {
   "cell_type": "code",
   "execution_count": 34,
   "id": "914cf091",
   "metadata": {},
   "outputs": [],
   "source": [
    "# Save as JSON file\n",
    "new_path = org.path(\"00_LiveData.json\")\n",
    "\n",
    "with open(new_path, 'w') as jf:\n",
    "    json.dump(entries_v1, jf, indent = 2)"
   ]
  },
  {
   "cell_type": "markdown",
   "id": "81e92bdc",
   "metadata": {},
   "source": [
    "### Save only the entry with missing values"
   ]
  },
  {
   "cell_type": "code",
   "execution_count": 35,
   "id": "0d499637",
   "metadata": {},
   "outputs": [],
   "source": [
    "# Save as JSON file\n",
    "new_path = org.path(\"01_LiveData_missing.json\")\n",
    "\n",
    "with open(new_path, 'w') as jf:\n",
    "    json.dump(entry_list(missing_dict), jf, indent = 2)"
   ]
  },
  {
   "cell_type": "markdown",
   "id": "abb44812",
   "metadata": {},
   "source": [
    "### Save all"
   ]
  },
  {
   "cell_type": "code",
   "execution_count": 36,
   "id": "0508c83f",
   "metadata": {},
   "outputs": [],
   "source": [
    "entries_all = entry_list(corr_dict, small_dict, big_dict, mix_dict, missing_dict, corr_dict2, corr_dict3, corr_dict4, corr_dict5)"
   ]
  },
  {
   "cell_type": "code",
   "execution_count": 37,
   "id": "9d63482a",
   "metadata": {},
   "outputs": [],
   "source": [
    "# Save as JSON file\n",
    "new_path = org.path(\"02_LiveData.json\")\n",
    "\n",
    "with open(new_path, 'w') as jf:\n",
    "    json.dump(entries_all, jf, indent = 2)"
   ]
  },
  {
   "cell_type": "code",
   "execution_count": 38,
   "id": "7bbab555",
   "metadata": {
    "scrolled": true
   },
   "outputs": [
    {
     "name": "stdout",
     "output_type": "stream",
     "text": [
      "[\n",
      "  {\n",
      "    \"CO(GT)\": 3.53,\n",
      "    \"PT08.S1(CO)\": 1107,\n",
      "    \"NMHC(GT)\": 466,\n",
      "    \"C6H6(GT)\": 63.68,\n",
      "    \"PT08.S2(NMHC)\": 2038,\n",
      "    \"NOx(GT)\": 550,\n",
      "    \"PT08.S3(NOx)\": 2437,\n",
      "    \"NO2(GT)\": 40,\n",
      "    \"PT08.S4(NO2)\": 1878,\n",
      "    \"PT08.S5(O3)\": 1977,\n",
      "    \"T\": 18.89,\n",
      "    \"RH\": 46.43,\n",
      "    \"AH\": 0.61,\n",
      "    \"Date\": \"07/02/2005\",\n",
      "    \"Time\": \"00.00.00\"\n",
      "  },\n",
      "  {\n",
      "    \"CO(GT)\": -76.52,\n",
      "    \"PT08.S1(CO)\": 1557,\n",
      "    \"NMHC(GT)\": -74,\n",
      "    \"C6H6(GT)\": 24.77,\n",
      "    \"PT08.S2(NMHC)\": -204,\n",
      "    \"NOx(GT)\": 1081,\n",
      "    \"PT08.S3(NOx)\": -150,\n",
      "    \"NO2(GT)\": 283,\n",
      "    \"PT08.S4(NO2)\": 28,\n",
      "    \"PT08.S5(O3)\": 1874,\n",
      "    \"T\": -38.2,\n",
      "    \"RH\": 73.57,\n",
      "    \"AH\": -76.35,\n",
      "    \"Date\": \"07/02/2005\",\n",
      "    \"Time\": \"01.00.00\"\n",
      "  },\n",
      "  {\n",
      "    \"CO(GT)\": 2482.49,\n",
      "    \"PT08.S1(CO)\": 1781,\n",
      "    \"NMHC(GT)\": 2709,\n",
      "    \"C6H6(GT)\": 9.06,\n",
      "    \"PT08.S2(NMHC)\": 2777,\n",
      "    \"NOx(GT)\": 904,\n",
      "    \"PT08.S3(NOx)\": 2936,\n",
      "    \"NO2(GT)\": 311,\n",
      "    \"PT08.S4(NO2)\": 4531,\n",
      "    \"PT08.S5(O3)\": 1787,\n",
      "    \"T\": 3480.0,\n",
      "    \"RH\": 30.83,\n",
      "    \"AH\": 3098.98,\n",
      "    \"Date\": \"07/02/2005\",\n",
      "    \"Time\": \"02.00.00\"\n",
      "  },\n",
      "  {\n",
      "    \"CO(GT)\": 6.0,\n",
      "    \"PT08.S1(CO)\": 207,\n",
      "    \"NMHC(GT)\": 1239,\n",
      "    \"C6H6(GT)\": -165.46,\n",
      "    \"PT08.S2(NMHC)\": 1888,\n",
      "    \"NOx(GT)\": 2268,\n",
      "    \"PT08.S3(NOx)\": 2344,\n",
      "    \"NO2(GT)\": -229,\n",
      "    \"PT08.S4(NO2)\": 3517,\n",
      "    \"PT08.S5(O3)\": -188,\n",
      "    \"T\": 29.39,\n",
      "    \"RH\": 2897.8,\n",
      "    \"AH\": 0.82,\n",
      "    \"Date\": \"07/02/2005\",\n",
      "    \"Time\": \"03.00.00\"\n",
      "  },\n",
      "  {\n",
      "    \"Date\": \"07/02/2005\",\n",
      "    \"Time\": \"04.00.00\",\n",
      "    \"CO(GT)\": 11.19,\n",
      "    \"PT08.S1(CO)\": 770,\n",
      "    \"NO2(GT)\": 177,\n",
      "    \"NOx(GT)\": NaN\n",
      "  },\n",
      "  {\n",
      "    \"CO(GT)\": 4.47,\n",
      "    \"PT08.S1(CO)\": 1003,\n",
      "    \"NMHC(GT)\": 592,\n",
      "    \"C6H6(GT)\": 48.93,\n",
      "    \"PT08.S2(NMHC)\": 1444,\n",
      "    \"NOx(GT)\": 1362,\n",
      "    \"PT08.S3(NOx)\": 883,\n",
      "    \"NO2(GT)\": 206,\n",
      "    \"PT08.S4(NO2)\": 2363,\n",
      "    \"PT08.S5(O3)\": 820,\n",
      "    \"T\": 41.35,\n",
      "    \"RH\": 19.37,\n",
      "    \"AH\": 0.89,\n",
      "    \"Date\": \"07/02/2005\",\n",
      "    \"Time\": \"05.00.00\"\n",
      "  },\n",
      "  {\n",
      "    \"CO(GT)\": 2.72,\n",
      "    \"PT08.S1(CO)\": 1407,\n",
      "    \"NMHC(GT)\": 1112,\n",
      "    \"C6H6(GT)\": 34.43,\n",
      "    \"PT08.S2(NMHC)\": 400,\n",
      "    \"NOx(GT)\": 437,\n",
      "    \"PT08.S3(NOx)\": 2528,\n",
      "    \"NO2(GT)\": 197,\n",
      "    \"PT08.S4(NO2)\": 1131,\n",
      "    \"PT08.S5(O3)\": 499,\n",
      "    \"T\": 4.12,\n",
      "    \"RH\": 13.05,\n",
      "    \"AH\": 1.78,\n",
      "    \"Date\": \"07/02/2005\",\n",
      "    \"Time\": \"06.00.00\"\n",
      "  },\n",
      "  {\n",
      "    \"CO(GT)\": 11.77,\n",
      "    \"PT08.S1(CO)\": 871,\n",
      "    \"NMHC(GT)\": 852,\n",
      "    \"C6H6(GT)\": 37.11,\n",
      "    \"PT08.S2(NMHC)\": 699,\n",
      "    \"NOx(GT)\": 702,\n",
      "    \"PT08.S3(NOx)\": 1280,\n",
      "    \"NO2(GT)\": 241,\n",
      "    \"PT08.S4(NO2)\": 1788,\n",
      "    \"PT08.S5(O3)\": 606,\n",
      "    \"T\": 29.34,\n",
      "    \"RH\": 62.96,\n",
      "    \"AH\": 0.76,\n",
      "    \"Date\": \"07/02/2005\",\n",
      "    \"Time\": \"07.00.00\"\n",
      "  },\n",
      "  {\n",
      "    \"CO(GT)\": 3.62,\n",
      "    \"PT08.S1(CO)\": 662,\n",
      "    \"NMHC(GT)\": 717,\n",
      "    \"C6H6(GT)\": 52.97,\n",
      "    \"PT08.S2(NMHC)\": 1693,\n",
      "    \"NOx(GT)\": 300,\n",
      "    \"PT08.S3(NOx)\": 1642,\n",
      "    \"NO2(GT)\": 43,\n",
      "    \"PT08.S4(NO2)\": 1573,\n",
      "    \"PT08.S5(O3)\": 1184,\n",
      "    \"T\": 20.6,\n",
      "    \"RH\": 39.3,\n",
      "    \"AH\": 2.18,\n",
      "    \"Date\": \"07/02/2005\",\n",
      "    \"Time\": \"08.00.00\"\n",
      "  }\n",
      "]\n"
     ]
    }
   ],
   "source": [
    "#Output\n",
    "print(json.dumps(entries_all, indent = 2))"
   ]
  }
 ],
 "metadata": {
  "kernelspec": {
   "display_name": "Python 3 (ipykernel)",
   "language": "python",
   "name": "python3"
  },
  "language_info": {
   "codemirror_mode": {
    "name": "ipython",
    "version": 3
   },
   "file_extension": ".py",
   "mimetype": "text/x-python",
   "name": "python",
   "nbconvert_exporter": "python",
   "pygments_lexer": "ipython3",
   "version": "3.9.7"
  }
 },
 "nbformat": 4,
 "nbformat_minor": 5
}
