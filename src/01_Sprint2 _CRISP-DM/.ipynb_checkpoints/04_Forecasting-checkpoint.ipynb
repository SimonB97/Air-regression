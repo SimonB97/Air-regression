{
 "cells": [
  {
   "cell_type": "markdown",
   "id": "426226b7",
   "metadata": {},
   "source": [
    "# Forecasting"
   ]
  },
  {
   "cell_type": "code",
   "execution_count": 1,
   "id": "ddd9e5b4",
   "metadata": {},
   "outputs": [],
   "source": [
    "# imports\n",
    "import pandas as pd\n",
    "from sklearn.linear_model import LinearRegression\n",
    "import orga_functions as org\n",
    "from sklearn.model_selection import TimeSeriesSplit\n",
    "from sklearn.model_selection import train_test_split\n",
    "from sklearn.metrics import mean_absolute_error"
   ]
  },
  {
   "cell_type": "code",
   "execution_count": 2,
   "id": "1aba9ccd",
   "metadata": {},
   "outputs": [
    {
     "data": {
      "text/html": [
       "<div>\n",
       "<style scoped>\n",
       "    .dataframe tbody tr th:only-of-type {\n",
       "        vertical-align: middle;\n",
       "    }\n",
       "\n",
       "    .dataframe tbody tr th {\n",
       "        vertical-align: top;\n",
       "    }\n",
       "\n",
       "    .dataframe thead th {\n",
       "        text-align: right;\n",
       "    }\n",
       "</style>\n",
       "<table border=\"1\" class=\"dataframe\">\n",
       "  <thead>\n",
       "    <tr style=\"text-align: right;\">\n",
       "      <th></th>\n",
       "      <th>co_gt</th>\n",
       "      <th>pt08_s1_co</th>\n",
       "      <th>nmhc_gt</th>\n",
       "      <th>c6h6_gt</th>\n",
       "      <th>pt08_s2_nmhc</th>\n",
       "      <th>nox_gt</th>\n",
       "      <th>pt08_s3_nox</th>\n",
       "      <th>no2_gt</th>\n",
       "      <th>pt08_s4_no2</th>\n",
       "      <th>pt08_s5_o3</th>\n",
       "      <th>t</th>\n",
       "      <th>rh</th>\n",
       "      <th>ah</th>\n",
       "    </tr>\n",
       "    <tr>\n",
       "      <th>date</th>\n",
       "      <th></th>\n",
       "      <th></th>\n",
       "      <th></th>\n",
       "      <th></th>\n",
       "      <th></th>\n",
       "      <th></th>\n",
       "      <th></th>\n",
       "      <th></th>\n",
       "      <th></th>\n",
       "      <th></th>\n",
       "      <th></th>\n",
       "      <th></th>\n",
       "      <th></th>\n",
       "    </tr>\n",
       "  </thead>\n",
       "  <tbody>\n",
       "    <tr>\n",
       "      <th>2004-03-10 18:00:00</th>\n",
       "      <td>2.6</td>\n",
       "      <td>1360.0</td>\n",
       "      <td>150.0</td>\n",
       "      <td>11.9</td>\n",
       "      <td>1046.0</td>\n",
       "      <td>166.0</td>\n",
       "      <td>1056.0</td>\n",
       "      <td>113.0</td>\n",
       "      <td>1692.0</td>\n",
       "      <td>1268.0</td>\n",
       "      <td>13.6</td>\n",
       "      <td>48.9</td>\n",
       "      <td>0.7578</td>\n",
       "    </tr>\n",
       "    <tr>\n",
       "      <th>2004-03-10 19:00:00</th>\n",
       "      <td>2.0</td>\n",
       "      <td>1292.0</td>\n",
       "      <td>112.0</td>\n",
       "      <td>9.4</td>\n",
       "      <td>955.0</td>\n",
       "      <td>103.0</td>\n",
       "      <td>1174.0</td>\n",
       "      <td>92.0</td>\n",
       "      <td>1559.0</td>\n",
       "      <td>972.0</td>\n",
       "      <td>13.3</td>\n",
       "      <td>47.7</td>\n",
       "      <td>0.7255</td>\n",
       "    </tr>\n",
       "    <tr>\n",
       "      <th>2004-03-10 20:00:00</th>\n",
       "      <td>2.2</td>\n",
       "      <td>1402.0</td>\n",
       "      <td>88.0</td>\n",
       "      <td>9.0</td>\n",
       "      <td>939.0</td>\n",
       "      <td>131.0</td>\n",
       "      <td>1140.0</td>\n",
       "      <td>114.0</td>\n",
       "      <td>1555.0</td>\n",
       "      <td>1074.0</td>\n",
       "      <td>11.9</td>\n",
       "      <td>54.0</td>\n",
       "      <td>0.7502</td>\n",
       "    </tr>\n",
       "    <tr>\n",
       "      <th>2004-03-10 21:00:00</th>\n",
       "      <td>2.2</td>\n",
       "      <td>1376.0</td>\n",
       "      <td>80.0</td>\n",
       "      <td>9.2</td>\n",
       "      <td>948.0</td>\n",
       "      <td>172.0</td>\n",
       "      <td>1092.0</td>\n",
       "      <td>122.0</td>\n",
       "      <td>1584.0</td>\n",
       "      <td>1203.0</td>\n",
       "      <td>11.0</td>\n",
       "      <td>60.0</td>\n",
       "      <td>0.7867</td>\n",
       "    </tr>\n",
       "    <tr>\n",
       "      <th>2004-03-10 22:00:00</th>\n",
       "      <td>1.6</td>\n",
       "      <td>1272.0</td>\n",
       "      <td>51.0</td>\n",
       "      <td>6.5</td>\n",
       "      <td>836.0</td>\n",
       "      <td>131.0</td>\n",
       "      <td>1205.0</td>\n",
       "      <td>116.0</td>\n",
       "      <td>1490.0</td>\n",
       "      <td>1110.0</td>\n",
       "      <td>11.2</td>\n",
       "      <td>59.6</td>\n",
       "      <td>0.7888</td>\n",
       "    </tr>\n",
       "    <tr>\n",
       "      <th>...</th>\n",
       "      <td>...</td>\n",
       "      <td>...</td>\n",
       "      <td>...</td>\n",
       "      <td>...</td>\n",
       "      <td>...</td>\n",
       "      <td>...</td>\n",
       "      <td>...</td>\n",
       "      <td>...</td>\n",
       "      <td>...</td>\n",
       "      <td>...</td>\n",
       "      <td>...</td>\n",
       "      <td>...</td>\n",
       "      <td>...</td>\n",
       "    </tr>\n",
       "    <tr>\n",
       "      <th>2005-02-06 19:00:00</th>\n",
       "      <td>1.6</td>\n",
       "      <td>985.0</td>\n",
       "      <td>NaN</td>\n",
       "      <td>4.5</td>\n",
       "      <td>736.0</td>\n",
       "      <td>227.0</td>\n",
       "      <td>891.0</td>\n",
       "      <td>165.0</td>\n",
       "      <td>875.0</td>\n",
       "      <td>774.0</td>\n",
       "      <td>6.0</td>\n",
       "      <td>38.0</td>\n",
       "      <td>0.3584</td>\n",
       "    </tr>\n",
       "    <tr>\n",
       "      <th>2005-02-06 20:00:00</th>\n",
       "      <td>1.8</td>\n",
       "      <td>1002.0</td>\n",
       "      <td>NaN</td>\n",
       "      <td>5.3</td>\n",
       "      <td>780.0</td>\n",
       "      <td>252.0</td>\n",
       "      <td>855.0</td>\n",
       "      <td>179.0</td>\n",
       "      <td>892.0</td>\n",
       "      <td>857.0</td>\n",
       "      <td>5.8</td>\n",
       "      <td>36.4</td>\n",
       "      <td>0.3385</td>\n",
       "    </tr>\n",
       "    <tr>\n",
       "      <th>2005-02-06 21:00:00</th>\n",
       "      <td>1.4</td>\n",
       "      <td>938.0</td>\n",
       "      <td>NaN</td>\n",
       "      <td>3.7</td>\n",
       "      <td>692.0</td>\n",
       "      <td>193.0</td>\n",
       "      <td>937.0</td>\n",
       "      <td>149.0</td>\n",
       "      <td>805.0</td>\n",
       "      <td>737.0</td>\n",
       "      <td>5.8</td>\n",
       "      <td>35.4</td>\n",
       "      <td>0.3286</td>\n",
       "    </tr>\n",
       "    <tr>\n",
       "      <th>2005-02-06 22:00:00</th>\n",
       "      <td>1.1</td>\n",
       "      <td>896.0</td>\n",
       "      <td>NaN</td>\n",
       "      <td>2.6</td>\n",
       "      <td>627.0</td>\n",
       "      <td>158.0</td>\n",
       "      <td>1033.0</td>\n",
       "      <td>126.0</td>\n",
       "      <td>782.0</td>\n",
       "      <td>610.0</td>\n",
       "      <td>5.4</td>\n",
       "      <td>36.6</td>\n",
       "      <td>0.3304</td>\n",
       "    </tr>\n",
       "    <tr>\n",
       "      <th>2005-02-06 23:00:00</th>\n",
       "      <td>1.0</td>\n",
       "      <td>907.0</td>\n",
       "      <td>NaN</td>\n",
       "      <td>2.4</td>\n",
       "      <td>614.0</td>\n",
       "      <td>150.0</td>\n",
       "      <td>1052.0</td>\n",
       "      <td>120.0</td>\n",
       "      <td>782.0</td>\n",
       "      <td>627.0</td>\n",
       "      <td>5.1</td>\n",
       "      <td>37.9</td>\n",
       "      <td>0.3358</td>\n",
       "    </tr>\n",
       "  </tbody>\n",
       "</table>\n",
       "<p>7998 rows × 13 columns</p>\n",
       "</div>"
      ],
      "text/plain": [
       "                     co_gt  pt08_s1_co  nmhc_gt  c6h6_gt  pt08_s2_nmhc  \\\n",
       "date                                                                     \n",
       "2004-03-10 18:00:00    2.6      1360.0    150.0     11.9        1046.0   \n",
       "2004-03-10 19:00:00    2.0      1292.0    112.0      9.4         955.0   \n",
       "2004-03-10 20:00:00    2.2      1402.0     88.0      9.0         939.0   \n",
       "2004-03-10 21:00:00    2.2      1376.0     80.0      9.2         948.0   \n",
       "2004-03-10 22:00:00    1.6      1272.0     51.0      6.5         836.0   \n",
       "...                    ...         ...      ...      ...           ...   \n",
       "2005-02-06 19:00:00    1.6       985.0      NaN      4.5         736.0   \n",
       "2005-02-06 20:00:00    1.8      1002.0      NaN      5.3         780.0   \n",
       "2005-02-06 21:00:00    1.4       938.0      NaN      3.7         692.0   \n",
       "2005-02-06 22:00:00    1.1       896.0      NaN      2.6         627.0   \n",
       "2005-02-06 23:00:00    1.0       907.0      NaN      2.4         614.0   \n",
       "\n",
       "                     nox_gt  pt08_s3_nox  no2_gt  pt08_s4_no2  pt08_s5_o3  \\\n",
       "date                                                                        \n",
       "2004-03-10 18:00:00   166.0       1056.0   113.0       1692.0      1268.0   \n",
       "2004-03-10 19:00:00   103.0       1174.0    92.0       1559.0       972.0   \n",
       "2004-03-10 20:00:00   131.0       1140.0   114.0       1555.0      1074.0   \n",
       "2004-03-10 21:00:00   172.0       1092.0   122.0       1584.0      1203.0   \n",
       "2004-03-10 22:00:00   131.0       1205.0   116.0       1490.0      1110.0   \n",
       "...                     ...          ...     ...          ...         ...   \n",
       "2005-02-06 19:00:00   227.0        891.0   165.0        875.0       774.0   \n",
       "2005-02-06 20:00:00   252.0        855.0   179.0        892.0       857.0   \n",
       "2005-02-06 21:00:00   193.0        937.0   149.0        805.0       737.0   \n",
       "2005-02-06 22:00:00   158.0       1033.0   126.0        782.0       610.0   \n",
       "2005-02-06 23:00:00   150.0       1052.0   120.0        782.0       627.0   \n",
       "\n",
       "                        t    rh      ah  \n",
       "date                                     \n",
       "2004-03-10 18:00:00  13.6  48.9  0.7578  \n",
       "2004-03-10 19:00:00  13.3  47.7  0.7255  \n",
       "2004-03-10 20:00:00  11.9  54.0  0.7502  \n",
       "2004-03-10 21:00:00  11.0  60.0  0.7867  \n",
       "2004-03-10 22:00:00  11.2  59.6  0.7888  \n",
       "...                   ...   ...     ...  \n",
       "2005-02-06 19:00:00   6.0  38.0  0.3584  \n",
       "2005-02-06 20:00:00   5.8  36.4  0.3385  \n",
       "2005-02-06 21:00:00   5.8  35.4  0.3286  \n",
       "2005-02-06 22:00:00   5.4  36.6  0.3304  \n",
       "2005-02-06 23:00:00   5.1  37.9  0.3358  \n",
       "\n",
       "[7998 rows x 13 columns]"
      ]
     },
     "execution_count": 2,
     "metadata": {},
     "output_type": "execute_result"
    }
   ],
   "source": [
    "df = pd.read_csv(org.path(\"01_AirQuality_processed.csv\"), sep=';', index_col='date')\n",
    "df"
   ]
  },
  {
   "cell_type": "code",
   "execution_count": 3,
   "id": "830832b0",
   "metadata": {},
   "outputs": [],
   "source": [
    "# shift abs humidty values by 6 hrs\n",
    "target = 'ah_target'\n",
    "df[target] = df.ah.shift(periods=6)"
   ]
  },
  {
   "cell_type": "code",
   "execution_count": 4,
   "id": "946f8045",
   "metadata": {},
   "outputs": [],
   "source": [
    "# drop related cols to target that are unknown\n",
    "df.drop(columns=['ah', 'rh'], inplace=True)\n",
    "\n",
    "# drop rows where target is unknown\n",
    "df.dropna(subset=[target], inplace=True)"
   ]
  },
  {
   "cell_type": "code",
   "execution_count": 5,
   "id": "dc045ad2",
   "metadata": {},
   "outputs": [],
   "source": [
    "# define features list\n",
    "features = ['co_gt', 'pt08_s1_co']"
   ]
  },
  {
   "cell_type": "code",
   "execution_count": 6,
   "id": "8daace26",
   "metadata": {},
   "outputs": [],
   "source": [
    "df = df[features + [target]]"
   ]
  },
  {
   "cell_type": "code",
   "execution_count": 7,
   "id": "58028861",
   "metadata": {},
   "outputs": [],
   "source": [
    "# Missing value treatment goes here\n",
    "df = df.dropna()"
   ]
  },
  {
   "cell_type": "code",
   "execution_count": 8,
   "id": "a149e6b7",
   "metadata": {},
   "outputs": [
    {
     "data": {
      "text/plain": [
       "(6024, 3)"
      ]
     },
     "execution_count": 8,
     "metadata": {},
     "output_type": "execute_result"
    }
   ],
   "source": [
    "df.shape"
   ]
  },
  {
   "cell_type": "code",
   "execution_count": 9,
   "id": "d15d2ddd",
   "metadata": {},
   "outputs": [],
   "source": [
    "X = df[features]\n",
    "y = df[target]"
   ]
  },
  {
   "cell_type": "code",
   "execution_count": 10,
   "id": "42268a49",
   "metadata": {},
   "outputs": [],
   "source": [
    "X_train, X_test, y_train, y_test = train_test_split(X, y, test_size=1000, shuffle=False, random_state=1997)"
   ]
  },
  {
   "cell_type": "code",
   "execution_count": 11,
   "id": "15d7a324",
   "metadata": {},
   "outputs": [
    {
     "data": {
      "text/plain": [
       "0.5159891293713774"
      ]
     },
     "execution_count": 11,
     "metadata": {},
     "output_type": "execute_result"
    }
   ],
   "source": [
    "model = LinearRegression()\n",
    "model.fit(X_train, y_train)\n",
    "y_pred = model.predict(X_test)\n",
    "mean_absolute_error(y_test, y_pred)"
   ]
  },
  {
   "cell_type": "code",
   "execution_count": 12,
   "id": "7d8107be",
   "metadata": {},
   "outputs": [
    {
     "data": {
      "text/plain": [
       "0.6348"
      ]
     },
     "execution_count": 12,
     "metadata": {},
     "output_type": "execute_result"
    }
   ],
   "source": [
    "y_test[0]"
   ]
  },
  {
   "cell_type": "code",
   "execution_count": 13,
   "id": "28150100",
   "metadata": {},
   "outputs": [],
   "source": [
    "# define train/test cv-split\n",
    "#tscv = TimeSeriesSplit(gap=0, n_splits=5, test_size=1000, max_train_size=None)"
   ]
  },
  {
   "cell_type": "code",
   "execution_count": 14,
   "id": "b193cb7b",
   "metadata": {},
   "outputs": [],
   "source": [
    "#tscv\n",
    "#X.index"
   ]
  },
  {
   "cell_type": "code",
   "execution_count": 15,
   "id": "94711ef1",
   "metadata": {},
   "outputs": [],
   "source": [
    "#for train_index, test_index in tscv.split(X):\n",
    "#    print(\"TRAIN:\", train_index, \"TEST:\", test_index)\n",
    "#    X_train, X_test = X[train_index], X[test_index]\n",
    "#    y_train, y_test = y[train_index], y[test_index]"
   ]
  },
  {
   "cell_type": "code",
   "execution_count": null,
   "id": "36e39330",
   "metadata": {},
   "outputs": [],
   "source": []
  }
 ],
 "metadata": {
  "kernelspec": {
   "display_name": "Python 3 (ipykernel)",
   "language": "python",
   "name": "python3"
  },
  "language_info": {
   "codemirror_mode": {
    "name": "ipython",
    "version": 3
   },
   "file_extension": ".py",
   "mimetype": "text/x-python",
   "name": "python",
   "nbconvert_exporter": "python",
   "pygments_lexer": "ipython3",
   "version": "3.9.7"
  }
 },
 "nbformat": 4,
 "nbformat_minor": 5
}
