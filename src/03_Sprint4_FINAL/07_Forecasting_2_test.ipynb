{
 "cells": [
  {
   "cell_type": "markdown",
   "id": "93919be6",
   "metadata": {},
   "source": [
    "# Purpose of the Notebook:"
   ]
  },
  {
   "cell_type": "markdown",
   "id": "dd26cfae",
   "metadata": {},
   "source": [
    "In this notebook, it is verified that the saving of the regressors was successful and that they can be further used."
   ]
  },
  {
   "cell_type": "markdown",
   "id": "78429fe9",
   "metadata": {},
   "source": [
    "# Forecasting Test"
   ]
  },
  {
   "cell_type": "markdown",
   "id": "5a433c71",
   "metadata": {},
   "source": [
    "## Imports"
   ]
  },
  {
   "cell_type": "code",
   "execution_count": 1,
   "id": "802f73de",
   "metadata": {},
   "outputs": [],
   "source": [
    "# imports\n",
    "import pandas as pd\n",
    "import pickle\n",
    "import X3_Forecasting as forecast\n",
    "import orga_functions as org\n",
    "\n",
    "from sklearn.metrics import mean_absolute_error"
   ]
  },
  {
   "cell_type": "code",
   "execution_count": 2,
   "id": "fb2ad027",
   "metadata": {},
   "outputs": [],
   "source": [
    "# import the features (x_test) and the actual value of the target (y_test)\n",
    "x_test = pd.read_csv(org.path(\"00_x_test.csv\"), sep=';')\n",
    "y_test = pd.read_csv(org.path(\"00_y_test.csv\"), sep=';')"
   ]
  },
  {
   "cell_type": "code",
   "execution_count": 3,
   "id": "8fd16322",
   "metadata": {},
   "outputs": [
    {
     "data": {
      "text/html": [
       "<div>\n",
       "<style scoped>\n",
       "    .dataframe tbody tr th:only-of-type {\n",
       "        vertical-align: middle;\n",
       "    }\n",
       "\n",
       "    .dataframe tbody tr th {\n",
       "        vertical-align: top;\n",
       "    }\n",
       "\n",
       "    .dataframe thead th {\n",
       "        text-align: right;\n",
       "    }\n",
       "</style>\n",
       "<table border=\"1\" class=\"dataframe\">\n",
       "  <thead>\n",
       "    <tr style=\"text-align: right;\">\n",
       "      <th></th>\n",
       "      <th>date</th>\n",
       "      <th>t</th>\n",
       "      <th>ah</th>\n",
       "    </tr>\n",
       "  </thead>\n",
       "  <tbody>\n",
       "    <tr>\n",
       "      <th>0</th>\n",
       "      <td>2004-12-27 02:00:00</td>\n",
       "      <td>0.262181</td>\n",
       "      <td>0.9411</td>\n",
       "    </tr>\n",
       "    <tr>\n",
       "      <th>1</th>\n",
       "      <td>2004-12-27 03:00:00</td>\n",
       "      <td>0.259861</td>\n",
       "      <td>0.9106</td>\n",
       "    </tr>\n",
       "    <tr>\n",
       "      <th>2</th>\n",
       "      <td>2004-12-27 04:00:00</td>\n",
       "      <td>0.264501</td>\n",
       "      <td>0.8888</td>\n",
       "    </tr>\n",
       "    <tr>\n",
       "      <th>3</th>\n",
       "      <td>2004-12-27 05:00:00</td>\n",
       "      <td>0.269142</td>\n",
       "      <td>0.8527</td>\n",
       "    </tr>\n",
       "    <tr>\n",
       "      <th>4</th>\n",
       "      <td>2004-12-27 06:00:00</td>\n",
       "      <td>0.283063</td>\n",
       "      <td>0.8269</td>\n",
       "    </tr>\n",
       "    <tr>\n",
       "      <th>5</th>\n",
       "      <td>2004-12-27 07:00:00</td>\n",
       "      <td>0.278422</td>\n",
       "      <td>0.8562</td>\n",
       "    </tr>\n",
       "    <tr>\n",
       "      <th>6</th>\n",
       "      <td>2004-12-27 08:00:00</td>\n",
       "      <td>0.259861</td>\n",
       "      <td>0.9302</td>\n",
       "    </tr>\n",
       "    <tr>\n",
       "      <th>7</th>\n",
       "      <td>2004-12-27 09:00:00</td>\n",
       "      <td>0.283063</td>\n",
       "      <td>0.9113</td>\n",
       "    </tr>\n",
       "    <tr>\n",
       "      <th>8</th>\n",
       "      <td>2004-12-27 10:00:00</td>\n",
       "      <td>0.292343</td>\n",
       "      <td>0.9335</td>\n",
       "    </tr>\n",
       "    <tr>\n",
       "      <th>9</th>\n",
       "      <td>2004-12-27 11:00:00</td>\n",
       "      <td>0.306265</td>\n",
       "      <td>0.9261</td>\n",
       "    </tr>\n",
       "  </tbody>\n",
       "</table>\n",
       "</div>"
      ],
      "text/plain": [
       "                  date         t      ah\n",
       "0  2004-12-27 02:00:00  0.262181  0.9411\n",
       "1  2004-12-27 03:00:00  0.259861  0.9106\n",
       "2  2004-12-27 04:00:00  0.264501  0.8888\n",
       "3  2004-12-27 05:00:00  0.269142  0.8527\n",
       "4  2004-12-27 06:00:00  0.283063  0.8269\n",
       "5  2004-12-27 07:00:00  0.278422  0.8562\n",
       "6  2004-12-27 08:00:00  0.259861  0.9302\n",
       "7  2004-12-27 09:00:00  0.283063  0.9113\n",
       "8  2004-12-27 10:00:00  0.292343  0.9335\n",
       "9  2004-12-27 11:00:00  0.306265  0.9261"
      ]
     },
     "execution_count": 3,
     "metadata": {},
     "output_type": "execute_result"
    }
   ],
   "source": [
    "x_test.head(10)"
   ]
  },
  {
   "cell_type": "code",
   "execution_count": 4,
   "id": "5e8cd59c",
   "metadata": {},
   "outputs": [],
   "source": [
    "# import model\n",
    "with open(org.path(\"LinearRegression_ah_regressor.pkl\"), 'rb') as f:\n",
    "    linr_clf = pickle.load(f)"
   ]
  },
  {
   "cell_type": "code",
   "execution_count": 5,
   "id": "28f8c88f",
   "metadata": {},
   "outputs": [],
   "source": [
    "# predict for x_test\n",
    "pred_y = forecast.pred_array(x_test, linr_clf)"
   ]
  },
  {
   "cell_type": "markdown",
   "id": "bb27c6df",
   "metadata": {},
   "source": [
    "## Result"
   ]
  },
  {
   "cell_type": "code",
   "execution_count": 6,
   "id": "1e1c151e",
   "metadata": {},
   "outputs": [
    {
     "data": {
      "text/html": [
       "<div>\n",
       "<style scoped>\n",
       "    .dataframe tbody tr th:only-of-type {\n",
       "        vertical-align: middle;\n",
       "    }\n",
       "\n",
       "    .dataframe tbody tr th {\n",
       "        vertical-align: top;\n",
       "    }\n",
       "\n",
       "    .dataframe thead th {\n",
       "        text-align: right;\n",
       "    }\n",
       "</style>\n",
       "<table border=\"1\" class=\"dataframe\">\n",
       "  <thead>\n",
       "    <tr style=\"text-align: right;\">\n",
       "      <th></th>\n",
       "      <th>future_ah</th>\n",
       "      <th>predicted_ah</th>\n",
       "    </tr>\n",
       "    <tr>\n",
       "      <th>future_datetime</th>\n",
       "      <th></th>\n",
       "      <th></th>\n",
       "    </tr>\n",
       "  </thead>\n",
       "  <tbody>\n",
       "    <tr>\n",
       "      <th>2004-12-27 08:00:00</th>\n",
       "      <td>0.9302</td>\n",
       "      <td>0.914418</td>\n",
       "    </tr>\n",
       "    <tr>\n",
       "      <th>2004-12-27 09:00:00</th>\n",
       "      <td>0.9113</td>\n",
       "      <td>0.887897</td>\n",
       "    </tr>\n",
       "    <tr>\n",
       "      <th>2004-12-27 10:00:00</th>\n",
       "      <td>0.9335</td>\n",
       "      <td>0.870580</td>\n",
       "    </tr>\n",
       "    <tr>\n",
       "      <th>2004-12-27 11:00:00</th>\n",
       "      <td>0.9261</td>\n",
       "      <td>0.841111</td>\n",
       "    </tr>\n",
       "    <tr>\n",
       "      <th>2004-12-27 12:00:00</th>\n",
       "      <td>0.9379</td>\n",
       "      <td>0.822809</td>\n",
       "    </tr>\n",
       "    <tr>\n",
       "      <th>...</th>\n",
       "      <td>...</td>\n",
       "      <td>...</td>\n",
       "    </tr>\n",
       "    <tr>\n",
       "      <th>2005-02-06 19:00:00</th>\n",
       "      <td>0.3584</td>\n",
       "      <td>0.375556</td>\n",
       "    </tr>\n",
       "    <tr>\n",
       "      <th>2005-02-06 20:00:00</th>\n",
       "      <td>0.3385</td>\n",
       "      <td>0.390809</td>\n",
       "    </tr>\n",
       "    <tr>\n",
       "      <th>2005-02-06 21:00:00</th>\n",
       "      <td>0.3286</td>\n",
       "      <td>0.402679</td>\n",
       "    </tr>\n",
       "    <tr>\n",
       "      <th>2005-02-06 22:00:00</th>\n",
       "      <td>0.3304</td>\n",
       "      <td>0.405050</td>\n",
       "    </tr>\n",
       "    <tr>\n",
       "      <th>2005-02-06 23:00:00</th>\n",
       "      <td>0.3358</td>\n",
       "      <td>0.395871</td>\n",
       "    </tr>\n",
       "  </tbody>\n",
       "</table>\n",
       "<p>1000 rows × 2 columns</p>\n",
       "</div>"
      ],
      "text/plain": [
       "                     future_ah  predicted_ah\n",
       "future_datetime                             \n",
       "2004-12-27 08:00:00     0.9302      0.914418\n",
       "2004-12-27 09:00:00     0.9113      0.887897\n",
       "2004-12-27 10:00:00     0.9335      0.870580\n",
       "2004-12-27 11:00:00     0.9261      0.841111\n",
       "2004-12-27 12:00:00     0.9379      0.822809\n",
       "...                        ...           ...\n",
       "2005-02-06 19:00:00     0.3584      0.375556\n",
       "2005-02-06 20:00:00     0.3385      0.390809\n",
       "2005-02-06 21:00:00     0.3286      0.402679\n",
       "2005-02-06 22:00:00     0.3304      0.405050\n",
       "2005-02-06 23:00:00     0.3358      0.395871\n",
       "\n",
       "[1000 rows x 2 columns]"
      ]
     },
     "execution_count": 6,
     "metadata": {},
     "output_type": "execute_result"
    }
   ],
   "source": [
    "# visual comparison of the actual and estimated values\n",
    "check = forecast.check_df(x_test,y_test, linr_clf)\n",
    "check"
   ]
  },
  {
   "cell_type": "code",
   "execution_count": 7,
   "id": "bee3bfce",
   "metadata": {},
   "outputs": [
    {
     "data": {
      "text/plain": [
       "0.0563969743878939"
      ]
     },
     "execution_count": 7,
     "metadata": {},
     "output_type": "execute_result"
    }
   ],
   "source": [
    "mean_absolute_error(y_test, pred_y)"
   ]
  }
 ],
 "metadata": {
  "kernelspec": {
   "display_name": "Python 3 (ipykernel)",
   "language": "python",
   "name": "python3"
  },
  "language_info": {
   "codemirror_mode": {
    "name": "ipython",
    "version": 3
   },
   "file_extension": ".py",
   "mimetype": "text/x-python",
   "name": "python",
   "nbconvert_exporter": "python",
   "pygments_lexer": "ipython3",
   "version": "3.9.7"
  }
 },
 "nbformat": 4,
 "nbformat_minor": 5
}
