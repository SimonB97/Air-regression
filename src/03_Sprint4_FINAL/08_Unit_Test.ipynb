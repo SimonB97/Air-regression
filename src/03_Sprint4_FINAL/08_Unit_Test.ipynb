{
 "cells": [
  {
   "cell_type": "markdown",
   "id": "14775e9e",
   "metadata": {},
   "source": [
    "# Purpose of the Notebook:"
   ]
  },
  {
   "cell_type": "markdown",
   "id": "4408840e",
   "metadata": {},
   "source": [
    "> In this notebook, a regressor is used to make a prediction from the previously simulated data.\n",
    "> We decided to use the linear regression."
   ]
  },
  {
   "cell_type": "markdown",
   "id": "5a433c71",
   "metadata": {},
   "source": [
    "## Imports"
   ]
  },
  {
   "cell_type": "code",
   "execution_count": 1,
   "id": "802f73de",
   "metadata": {},
   "outputs": [],
   "source": [
    "# import\n",
    "import pandas as pd\n",
    "import pickle\n",
    "import json\n",
    "import orga_functions as org\n",
    "\n",
    "import X3_Forecasting as forecast\n",
    "import X4_ReadJSON as readj"
   ]
  },
  {
   "cell_type": "code",
   "execution_count": 2,
   "id": "5e8cd59c",
   "metadata": {},
   "outputs": [],
   "source": [
    "# import model\n",
    "with open(org.path(\"LinearRegression_ah_regressor.pkl\"), 'rb') as f:\n",
    "    linr_clf = pickle.load(f)"
   ]
  },
  {
   "cell_type": "markdown",
   "id": "52933a82",
   "metadata": {},
   "source": [
    "# JSON"
   ]
  },
  {
   "cell_type": "markdown",
   "id": "ba0dd185",
   "metadata": {},
   "source": [
    "## Test 1 - step by step"
   ]
  },
  {
   "cell_type": "code",
   "execution_count": 3,
   "id": "56b82efa",
   "metadata": {},
   "outputs": [],
   "source": [
    "# 1. step: Output of the JSON File in the original form\n",
    "f = open(org.path(\"01_LiveData.json\"))\n",
    "json_entry = json.load(f)\n",
    "f.close()"
   ]
  },
  {
   "cell_type": "code",
   "execution_count": 4,
   "id": "a5cc6053",
   "metadata": {},
   "outputs": [
    {
     "data": {
      "text/plain": [
       "[{'CO(GT)': 4.92,\n",
       "  'PT08.S1(CO)': 935,\n",
       "  'NMHC(GT)': 631,\n",
       "  'C6H6(GT)': 5.31,\n",
       "  'PT08.S2(NMHC)': 1396,\n",
       "  'NOx(GT)': 416,\n",
       "  'PT08.S3(NOx)': 312,\n",
       "  'NO2(GT)': 1,\n",
       "  'PT08.S4(NO2)': 1131,\n",
       "  'PT08.S5(O3)': 1513,\n",
       "  'T': 39.62,\n",
       "  'RH': 26.04,\n",
       "  'AH': 1.02,\n",
       "  'Date': '07/02/2005',\n",
       "  'Time': '00.00.00'}]"
      ]
     },
     "execution_count": 4,
     "metadata": {},
     "output_type": "execute_result"
    }
   ],
   "source": [
    "json_entry"
   ]
  },
  {
   "cell_type": "code",
   "execution_count": 5,
   "id": "60b54ed4",
   "metadata": {},
   "outputs": [
    {
     "data": {
      "text/html": [
       "<div>\n",
       "<style scoped>\n",
       "    .dataframe tbody tr th:only-of-type {\n",
       "        vertical-align: middle;\n",
       "    }\n",
       "\n",
       "    .dataframe tbody tr th {\n",
       "        vertical-align: top;\n",
       "    }\n",
       "\n",
       "    .dataframe thead th {\n",
       "        text-align: right;\n",
       "    }\n",
       "</style>\n",
       "<table border=\"1\" class=\"dataframe\">\n",
       "  <thead>\n",
       "    <tr style=\"text-align: right;\">\n",
       "      <th></th>\n",
       "      <th>Date</th>\n",
       "      <th>Time</th>\n",
       "      <th>CO(GT)</th>\n",
       "      <th>PT08.S1(CO)</th>\n",
       "      <th>NMHC(GT)</th>\n",
       "      <th>C6H6(GT)</th>\n",
       "      <th>PT08.S2(NMHC)</th>\n",
       "      <th>NOx(GT)</th>\n",
       "      <th>PT08.S3(NOx)</th>\n",
       "      <th>NO2(GT)</th>\n",
       "      <th>PT08.S4(NO2)</th>\n",
       "      <th>PT08.S5(O3)</th>\n",
       "      <th>T</th>\n",
       "      <th>RH</th>\n",
       "      <th>AH</th>\n",
       "    </tr>\n",
       "  </thead>\n",
       "  <tbody>\n",
       "    <tr>\n",
       "      <th>0</th>\n",
       "      <td>07/02/2005</td>\n",
       "      <td>00.00.00</td>\n",
       "      <td>4.92</td>\n",
       "      <td>935</td>\n",
       "      <td>631</td>\n",
       "      <td>5.31</td>\n",
       "      <td>1396</td>\n",
       "      <td>416</td>\n",
       "      <td>312</td>\n",
       "      <td>1</td>\n",
       "      <td>1131</td>\n",
       "      <td>1513</td>\n",
       "      <td>39.62</td>\n",
       "      <td>26.04</td>\n",
       "      <td>1.02</td>\n",
       "    </tr>\n",
       "  </tbody>\n",
       "</table>\n",
       "</div>"
      ],
      "text/plain": [
       "         Date      Time  CO(GT) PT08.S1(CO) NMHC(GT)  C6H6(GT) PT08.S2(NMHC)  \\\n",
       "0  07/02/2005  00.00.00    4.92         935      631      5.31          1396   \n",
       "\n",
       "  NOx(GT) PT08.S3(NOx) NO2(GT) PT08.S4(NO2) PT08.S5(O3)      T     RH    AH  \n",
       "0     416          312       1         1131        1513  39.62  26.04  1.02  "
      ]
     },
     "execution_count": 5,
     "metadata": {},
     "output_type": "execute_result"
    }
   ],
   "source": [
    "# 2. step: Output of the JSON File as a DataFrame\n",
    "json_single_og = readj.json_to_df(\"01_LiveData.json\")\n",
    "json_single_og"
   ]
  },
  {
   "cell_type": "code",
   "execution_count": 6,
   "id": "a4d665d2",
   "metadata": {},
   "outputs": [
    {
     "data": {
      "text/html": [
       "<div>\n",
       "<style scoped>\n",
       "    .dataframe tbody tr th:only-of-type {\n",
       "        vertical-align: middle;\n",
       "    }\n",
       "\n",
       "    .dataframe tbody tr th {\n",
       "        vertical-align: top;\n",
       "    }\n",
       "\n",
       "    .dataframe thead th {\n",
       "        text-align: right;\n",
       "    }\n",
       "</style>\n",
       "<table border=\"1\" class=\"dataframe\">\n",
       "  <thead>\n",
       "    <tr style=\"text-align: right;\">\n",
       "      <th></th>\n",
       "      <th>date</th>\n",
       "      <th>co_gt</th>\n",
       "      <th>pt08_s1_co</th>\n",
       "      <th>nmhc_gt</th>\n",
       "      <th>c6h6_gt</th>\n",
       "      <th>pt08_s2_nmhc</th>\n",
       "      <th>nox_gt</th>\n",
       "      <th>pt08_s3_nox</th>\n",
       "      <th>no2_gt</th>\n",
       "      <th>pt08_s4_no2</th>\n",
       "      <th>pt08_s5_o3</th>\n",
       "      <th>t</th>\n",
       "      <th>rh</th>\n",
       "      <th>ah</th>\n",
       "    </tr>\n",
       "  </thead>\n",
       "  <tbody>\n",
       "    <tr>\n",
       "      <th>0</th>\n",
       "      <td>2005-02-07</td>\n",
       "      <td>4.92</td>\n",
       "      <td>935</td>\n",
       "      <td>631</td>\n",
       "      <td>5.31</td>\n",
       "      <td>1396</td>\n",
       "      <td>416</td>\n",
       "      <td>312</td>\n",
       "      <td>1</td>\n",
       "      <td>1131</td>\n",
       "      <td>1513</td>\n",
       "      <td>39.62</td>\n",
       "      <td>26.04</td>\n",
       "      <td>1.02</td>\n",
       "    </tr>\n",
       "  </tbody>\n",
       "</table>\n",
       "</div>"
      ],
      "text/plain": [
       "        date  co_gt pt08_s1_co nmhc_gt  c6h6_gt pt08_s2_nmhc nox_gt  \\\n",
       "0 2005-02-07   4.92        935     631     5.31         1396    416   \n",
       "\n",
       "  pt08_s3_nox no2_gt pt08_s4_no2 pt08_s5_o3      t     rh    ah  \n",
       "0         312      1        1131       1513  39.62  26.04  1.02  "
      ]
     },
     "execution_count": 6,
     "metadata": {},
     "output_type": "execute_result"
    }
   ],
   "source": [
    "# 2. step: Output of the JSON File as a prepared DataFrame\n",
    "readj.json_to_prepared_df(\"01_LiveData.json\")"
   ]
  },
  {
   "cell_type": "code",
   "execution_count": 7,
   "id": "0d8f12bc",
   "metadata": {},
   "outputs": [
    {
     "data": {
      "text/html": [
       "<div>\n",
       "<style scoped>\n",
       "    .dataframe tbody tr th:only-of-type {\n",
       "        vertical-align: middle;\n",
       "    }\n",
       "\n",
       "    .dataframe tbody tr th {\n",
       "        vertical-align: top;\n",
       "    }\n",
       "\n",
       "    .dataframe thead th {\n",
       "        text-align: right;\n",
       "    }\n",
       "</style>\n",
       "<table border=\"1\" class=\"dataframe\">\n",
       "  <thead>\n",
       "    <tr style=\"text-align: right;\">\n",
       "      <th></th>\n",
       "      <th>date</th>\n",
       "      <th>co_gt</th>\n",
       "      <th>pt08_s1_co</th>\n",
       "      <th>nmhc_gt</th>\n",
       "      <th>c6h6_gt</th>\n",
       "      <th>pt08_s2_nmhc</th>\n",
       "      <th>nox_gt</th>\n",
       "      <th>pt08_s3_nox</th>\n",
       "      <th>no2_gt</th>\n",
       "      <th>pt08_s4_no2</th>\n",
       "      <th>pt08_s5_o3</th>\n",
       "      <th>t</th>\n",
       "      <th>rh</th>\n",
       "      <th>ah</th>\n",
       "    </tr>\n",
       "  </thead>\n",
       "  <tbody>\n",
       "    <tr>\n",
       "      <th>0</th>\n",
       "      <td>2005-02-07</td>\n",
       "      <td>4.92</td>\n",
       "      <td>935</td>\n",
       "      <td>631</td>\n",
       "      <td>5.31</td>\n",
       "      <td>1396</td>\n",
       "      <td>416</td>\n",
       "      <td>312</td>\n",
       "      <td>1</td>\n",
       "      <td>1131</td>\n",
       "      <td>1513</td>\n",
       "      <td>39.62</td>\n",
       "      <td>26.04</td>\n",
       "      <td>1.02</td>\n",
       "    </tr>\n",
       "  </tbody>\n",
       "</table>\n",
       "</div>"
      ],
      "text/plain": [
       "        date  co_gt  pt08_s1_co  nmhc_gt  c6h6_gt  pt08_s2_nmhc  nox_gt  \\\n",
       "0 2005-02-07   4.92         935      631     5.31          1396     416   \n",
       "\n",
       "   pt08_s3_nox  no2_gt  pt08_s4_no2  pt08_s5_o3      t     rh    ah  \n",
       "0          312       1         1131        1513  39.62  26.04  1.02  "
      ]
     },
     "execution_count": 7,
     "metadata": {},
     "output_type": "execute_result"
    }
   ],
   "source": [
    "# 3. step: Output of the JSON File as a prepared DataFrame with missing value treatment\n",
    "readj.json_to_correct_missing_df(\"01_LiveData.json\", \"02_AlleFeatureList.csv\")"
   ]
  },
  {
   "cell_type": "code",
   "execution_count": 8,
   "id": "083a7cfa",
   "metadata": {},
   "outputs": [
    {
     "data": {
      "text/html": [
       "<div>\n",
       "<style scoped>\n",
       "    .dataframe tbody tr th:only-of-type {\n",
       "        vertical-align: middle;\n",
       "    }\n",
       "\n",
       "    .dataframe tbody tr th {\n",
       "        vertical-align: top;\n",
       "    }\n",
       "\n",
       "    .dataframe thead th {\n",
       "        text-align: right;\n",
       "    }\n",
       "</style>\n",
       "<table border=\"1\" class=\"dataframe\">\n",
       "  <thead>\n",
       "    <tr style=\"text-align: right;\">\n",
       "      <th></th>\n",
       "      <th>pt08_s1_co</th>\n",
       "      <th>c6h6_gt</th>\n",
       "      <th>pt08_s2_nmhc</th>\n",
       "      <th>no2_gt</th>\n",
       "      <th>pt08_s4_no2</th>\n",
       "      <th>t</th>\n",
       "      <th>ah</th>\n",
       "    </tr>\n",
       "    <tr>\n",
       "      <th>date</th>\n",
       "      <th></th>\n",
       "      <th></th>\n",
       "      <th></th>\n",
       "      <th></th>\n",
       "      <th></th>\n",
       "      <th></th>\n",
       "      <th></th>\n",
       "    </tr>\n",
       "  </thead>\n",
       "  <tbody>\n",
       "    <tr>\n",
       "      <th>2005-02-07</th>\n",
       "      <td>935</td>\n",
       "      <td>5.31</td>\n",
       "      <td>1396</td>\n",
       "      <td>1</td>\n",
       "      <td>1131</td>\n",
       "      <td>39.62</td>\n",
       "      <td>1.02</td>\n",
       "    </tr>\n",
       "  </tbody>\n",
       "</table>\n",
       "</div>"
      ],
      "text/plain": [
       "            pt08_s1_co  c6h6_gt  pt08_s2_nmhc  no2_gt  pt08_s4_no2      t  \\\n",
       "date                                                                        \n",
       "2005-02-07         935     5.31          1396       1         1131  39.62   \n",
       "\n",
       "              ah  \n",
       "date              \n",
       "2005-02-07  1.02  "
      ]
     },
     "execution_count": 8,
     "metadata": {},
     "output_type": "execute_result"
    }
   ],
   "source": [
    "# 4. step: Output of relevant features of the JSON file as a  DataFrame\n",
    "js = readj.json_to_ml_features_df(\"01_LiveData.json\", linr_clf)\n",
    "js"
   ]
  },
  {
   "cell_type": "code",
   "execution_count": 9,
   "id": "98e773cc",
   "metadata": {},
   "outputs": [
    {
     "data": {
      "text/html": [
       "<div>\n",
       "<style scoped>\n",
       "    .dataframe tbody tr th:only-of-type {\n",
       "        vertical-align: middle;\n",
       "    }\n",
       "\n",
       "    .dataframe tbody tr th {\n",
       "        vertical-align: top;\n",
       "    }\n",
       "\n",
       "    .dataframe thead th {\n",
       "        text-align: right;\n",
       "    }\n",
       "</style>\n",
       "<table border=\"1\" class=\"dataframe\">\n",
       "  <thead>\n",
       "    <tr style=\"text-align: right;\">\n",
       "      <th></th>\n",
       "      <th>predicted_ah</th>\n",
       "    </tr>\n",
       "    <tr>\n",
       "      <th>future_datetime</th>\n",
       "      <th></th>\n",
       "    </tr>\n",
       "  </thead>\n",
       "  <tbody>\n",
       "    <tr>\n",
       "      <th>2005-02-07 06:00:00</th>\n",
       "      <td>1.186925</td>\n",
       "    </tr>\n",
       "  </tbody>\n",
       "</table>\n",
       "</div>"
      ],
      "text/plain": [
       "                     predicted_ah\n",
       "future_datetime                  \n",
       "2005-02-07 06:00:00      1.186925"
      ]
     },
     "execution_count": 9,
     "metadata": {},
     "output_type": "execute_result"
    }
   ],
   "source": [
    "# 5. step: Output of the Prediction-DataFrame based on the JSON file and the given regressor\n",
    "readj.pred_json_df(\"01_LiveData.json\", linr_clf)"
   ]
  },
  {
   "cell_type": "markdown",
   "id": "ada9eae3",
   "metadata": {},
   "source": [
    "## Test 2"
   ]
  },
  {
   "cell_type": "code",
   "execution_count": 12,
   "id": "083d3acf",
   "metadata": {},
   "outputs": [
    {
     "data": {
      "text/plain": [
       "[{'CO(GT)': -219.11,\n",
       "  'PT08.S1(CO)': 898,\n",
       "  'NMHC(GT)': -241,\n",
       "  'C6H6(GT)': 14.72,\n",
       "  'PT08.S2(NMHC)': 390,\n",
       "  'NOx(GT)': 396,\n",
       "  'PT08.S3(NOx)': 135,\n",
       "  'NO2(GT)': 218,\n",
       "  'PT08.S4(NO2)': 274,\n",
       "  'PT08.S5(O3)': 2016,\n",
       "  'T': -182.66,\n",
       "  'RH': 19.85,\n",
       "  'AH': -39.73,\n",
       "  'Date': '07/02/2005',\n",
       "  'Time': '01.00.00'}]"
      ]
     },
     "execution_count": 12,
     "metadata": {},
     "output_type": "execute_result"
    }
   ],
   "source": [
    "# JSON File in the original form\n",
    "f = open(org.path(\"02_LiveData.json\"))\n",
    "json_entry = json.load(f)\n",
    "f.close()\n",
    "\n",
    "json_entry"
   ]
  },
  {
   "cell_type": "code",
   "execution_count": 10,
   "id": "2c3414b1",
   "metadata": {},
   "outputs": [
    {
     "data": {
      "text/html": [
       "<div>\n",
       "<style scoped>\n",
       "    .dataframe tbody tr th:only-of-type {\n",
       "        vertical-align: middle;\n",
       "    }\n",
       "\n",
       "    .dataframe tbody tr th {\n",
       "        vertical-align: top;\n",
       "    }\n",
       "\n",
       "    .dataframe thead th {\n",
       "        text-align: right;\n",
       "    }\n",
       "</style>\n",
       "<table border=\"1\" class=\"dataframe\">\n",
       "  <thead>\n",
       "    <tr style=\"text-align: right;\">\n",
       "      <th></th>\n",
       "      <th>predicted_ah</th>\n",
       "    </tr>\n",
       "    <tr>\n",
       "      <th>future_datetime</th>\n",
       "      <th></th>\n",
       "    </tr>\n",
       "  </thead>\n",
       "  <tbody>\n",
       "    <tr>\n",
       "      <th>2005-02-07 07:00:00</th>\n",
       "      <td>1.095722</td>\n",
       "    </tr>\n",
       "  </tbody>\n",
       "</table>\n",
       "</div>"
      ],
      "text/plain": [
       "                     predicted_ah\n",
       "future_datetime                  \n",
       "2005-02-07 07:00:00      1.095722"
      ]
     },
     "execution_count": 10,
     "metadata": {},
     "output_type": "execute_result"
    }
   ],
   "source": [
    "# Output of the Prediction-DataFrame based on the JSON file and the given regressor\n",
    "# entire data preparation and prediction in one step\n",
    "readj.pred_json_df(\"02_LiveData.json\", linr_clf)"
   ]
  }
 ],
 "metadata": {
  "kernelspec": {
   "display_name": "Python 3 (ipykernel)",
   "language": "python",
   "name": "python3"
  },
  "language_info": {
   "codemirror_mode": {
    "name": "ipython",
    "version": 3
   },
   "file_extension": ".py",
   "mimetype": "text/x-python",
   "name": "python",
   "nbconvert_exporter": "python",
   "pygments_lexer": "ipython3",
   "version": "3.9.7"
  }
 },
 "nbformat": 4,
 "nbformat_minor": 5
}
