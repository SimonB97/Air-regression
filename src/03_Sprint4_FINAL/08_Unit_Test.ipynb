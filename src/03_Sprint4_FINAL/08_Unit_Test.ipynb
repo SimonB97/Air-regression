{
 "cells": [
  {
   "cell_type": "code",
   "execution_count": 1,
   "id": "802f73de",
   "metadata": {},
   "outputs": [],
   "source": [
    "import pandas as pd\n",
    "import pickle\n",
    "import json\n",
    "import orga_functions as org"
   ]
  },
  {
   "cell_type": "code",
   "execution_count": 2,
   "id": "dc52ccda",
   "metadata": {},
   "outputs": [],
   "source": [
    "import X3_Forecasting as forecast\n",
    "import X4_ReadJSON as readj"
   ]
  },
  {
   "cell_type": "code",
   "execution_count": 3,
   "id": "2b7cc7c5",
   "metadata": {},
   "outputs": [],
   "source": [
    "from sklearn.metrics import mean_absolute_error"
   ]
  },
  {
   "cell_type": "markdown",
   "id": "5a433c71",
   "metadata": {},
   "source": [
    "## Imports"
   ]
  },
  {
   "cell_type": "code",
   "execution_count": 4,
   "id": "5e8cd59c",
   "metadata": {},
   "outputs": [],
   "source": [
    "# import model\n",
    "with open(org.path(\"LinearRegression_ah_classifier.pkl\"), 'rb') as f:\n",
    "    linr_clf = pickle.load(f)"
   ]
  },
  {
   "cell_type": "markdown",
   "id": "52933a82",
   "metadata": {},
   "source": [
    "# JSON"
   ]
  },
  {
   "cell_type": "markdown",
   "id": "ba0dd185",
   "metadata": {},
   "source": [
    "## First Test"
   ]
  },
  {
   "cell_type": "code",
   "execution_count": 5,
   "id": "56b82efa",
   "metadata": {},
   "outputs": [],
   "source": [
    "# original JSON File \n",
    "f = open(org.path(\"03_LiveData_single.json\"))\n",
    "json_entry = json.load(f)\n",
    "f.close()"
   ]
  },
  {
   "cell_type": "code",
   "execution_count": 6,
   "id": "a5cc6053",
   "metadata": {},
   "outputs": [
    {
     "data": {
      "text/plain": [
       "[{'CO(GT)': 4.96,\n",
       "  'PT08.S1(CO)': 882,\n",
       "  'NMHC(GT)': 141,\n",
       "  'C6H6(GT)': 5.85,\n",
       "  'PT08.S2(NMHC)': 1588,\n",
       "  'NOx(GT)': 237,\n",
       "  'PT08.S3(NOx)': 292,\n",
       "  'NO2(GT)': 131,\n",
       "  'PT08.S4(NO2)': 1730,\n",
       "  'PT08.S5(O3)': 1825,\n",
       "  'T': 10.9,\n",
       "  'RH': 11.14,\n",
       "  'AH': 1.7,\n",
       "  'Katze': 'missy',\n",
       "  'Date': '07/02/2005',\n",
       "  'Time': '09.00.00'}]"
      ]
     },
     "execution_count": 6,
     "metadata": {},
     "output_type": "execute_result"
    }
   ],
   "source": [
    "json_entry"
   ]
  },
  {
   "cell_type": "code",
   "execution_count": 7,
   "id": "60b54ed4",
   "metadata": {},
   "outputs": [
    {
     "data": {
      "text/html": [
       "<div>\n",
       "<style scoped>\n",
       "    .dataframe tbody tr th:only-of-type {\n",
       "        vertical-align: middle;\n",
       "    }\n",
       "\n",
       "    .dataframe tbody tr th {\n",
       "        vertical-align: top;\n",
       "    }\n",
       "\n",
       "    .dataframe thead th {\n",
       "        text-align: right;\n",
       "    }\n",
       "</style>\n",
       "<table border=\"1\" class=\"dataframe\">\n",
       "  <thead>\n",
       "    <tr style=\"text-align: right;\">\n",
       "      <th></th>\n",
       "      <th>Date</th>\n",
       "      <th>Time</th>\n",
       "      <th>CO(GT)</th>\n",
       "      <th>PT08.S1(CO)</th>\n",
       "      <th>NMHC(GT)</th>\n",
       "      <th>C6H6(GT)</th>\n",
       "      <th>PT08.S2(NMHC)</th>\n",
       "      <th>NOx(GT)</th>\n",
       "      <th>PT08.S3(NOx)</th>\n",
       "      <th>NO2(GT)</th>\n",
       "      <th>PT08.S4(NO2)</th>\n",
       "      <th>PT08.S5(O3)</th>\n",
       "      <th>T</th>\n",
       "      <th>RH</th>\n",
       "      <th>AH</th>\n",
       "      <th>Katze</th>\n",
       "    </tr>\n",
       "  </thead>\n",
       "  <tbody>\n",
       "    <tr>\n",
       "      <th>0</th>\n",
       "      <td>07/02/2005</td>\n",
       "      <td>09.00.00</td>\n",
       "      <td>4.96</td>\n",
       "      <td>882</td>\n",
       "      <td>141</td>\n",
       "      <td>5.85</td>\n",
       "      <td>1588</td>\n",
       "      <td>237</td>\n",
       "      <td>292</td>\n",
       "      <td>131</td>\n",
       "      <td>1730</td>\n",
       "      <td>1825</td>\n",
       "      <td>10.9</td>\n",
       "      <td>11.14</td>\n",
       "      <td>1.7</td>\n",
       "      <td>missy</td>\n",
       "    </tr>\n",
       "  </tbody>\n",
       "</table>\n",
       "</div>"
      ],
      "text/plain": [
       "         Date      Time  CO(GT) PT08.S1(CO) NMHC(GT)  C6H6(GT) PT08.S2(NMHC)  \\\n",
       "0  07/02/2005  09.00.00    4.96         882      141      5.85          1588   \n",
       "\n",
       "  NOx(GT) PT08.S3(NOx) NO2(GT) PT08.S4(NO2) PT08.S5(O3)     T     RH   AH  \\\n",
       "0     237          292     131         1730        1825  10.9  11.14  1.7   \n",
       "\n",
       "   Katze  \n",
       "0  missy  "
      ]
     },
     "execution_count": 7,
     "metadata": {},
     "output_type": "execute_result"
    }
   ],
   "source": [
    "# original DataFrame\n",
    "json_single_og = readj.json_to_df(\"03_LiveData_single.json\")\n",
    "json_single_og"
   ]
  },
  {
   "cell_type": "code",
   "execution_count": 8,
   "id": "a4d665d2",
   "metadata": {},
   "outputs": [
    {
     "data": {
      "text/html": [
       "<div>\n",
       "<style scoped>\n",
       "    .dataframe tbody tr th:only-of-type {\n",
       "        vertical-align: middle;\n",
       "    }\n",
       "\n",
       "    .dataframe tbody tr th {\n",
       "        vertical-align: top;\n",
       "    }\n",
       "\n",
       "    .dataframe thead th {\n",
       "        text-align: right;\n",
       "    }\n",
       "</style>\n",
       "<table border=\"1\" class=\"dataframe\">\n",
       "  <thead>\n",
       "    <tr style=\"text-align: right;\">\n",
       "      <th></th>\n",
       "      <th>date</th>\n",
       "      <th>co_gt</th>\n",
       "      <th>pt08_s1_co</th>\n",
       "      <th>nmhc_gt</th>\n",
       "      <th>c6h6_gt</th>\n",
       "      <th>pt08_s2_nmhc</th>\n",
       "      <th>nox_gt</th>\n",
       "      <th>pt08_s3_nox</th>\n",
       "      <th>no2_gt</th>\n",
       "      <th>pt08_s4_no2</th>\n",
       "      <th>pt08_s5_o3</th>\n",
       "      <th>t</th>\n",
       "      <th>rh</th>\n",
       "      <th>ah</th>\n",
       "    </tr>\n",
       "  </thead>\n",
       "  <tbody>\n",
       "    <tr>\n",
       "      <th>0</th>\n",
       "      <td>2005-02-07 09:00:00</td>\n",
       "      <td>4.96</td>\n",
       "      <td>882</td>\n",
       "      <td>141</td>\n",
       "      <td>5.85</td>\n",
       "      <td>1588</td>\n",
       "      <td>237</td>\n",
       "      <td>292</td>\n",
       "      <td>131</td>\n",
       "      <td>1730</td>\n",
       "      <td>1825</td>\n",
       "      <td>10.9</td>\n",
       "      <td>11.14</td>\n",
       "      <td>1.7</td>\n",
       "    </tr>\n",
       "  </tbody>\n",
       "</table>\n",
       "</div>"
      ],
      "text/plain": [
       "                 date  co_gt pt08_s1_co nmhc_gt  c6h6_gt pt08_s2_nmhc nox_gt  \\\n",
       "0 2005-02-07 09:00:00   4.96        882     141     5.85         1588    237   \n",
       "\n",
       "  pt08_s3_nox no2_gt pt08_s4_no2 pt08_s5_o3     t     rh   ah  \n",
       "0         292    131        1730       1825  10.9  11.14  1.7  "
      ]
     },
     "execution_count": 8,
     "metadata": {},
     "output_type": "execute_result"
    }
   ],
   "source": [
    "readj.json_to_prepared_df(\"03_LiveData_single.json\")"
   ]
  },
  {
   "cell_type": "code",
   "execution_count": 9,
   "id": "0d8f12bc",
   "metadata": {},
   "outputs": [
    {
     "data": {
      "text/html": [
       "<div>\n",
       "<style scoped>\n",
       "    .dataframe tbody tr th:only-of-type {\n",
       "        vertical-align: middle;\n",
       "    }\n",
       "\n",
       "    .dataframe tbody tr th {\n",
       "        vertical-align: top;\n",
       "    }\n",
       "\n",
       "    .dataframe thead th {\n",
       "        text-align: right;\n",
       "    }\n",
       "</style>\n",
       "<table border=\"1\" class=\"dataframe\">\n",
       "  <thead>\n",
       "    <tr style=\"text-align: right;\">\n",
       "      <th></th>\n",
       "      <th>date</th>\n",
       "      <th>co_gt</th>\n",
       "      <th>pt08_s1_co</th>\n",
       "      <th>nmhc_gt</th>\n",
       "      <th>c6h6_gt</th>\n",
       "      <th>pt08_s2_nmhc</th>\n",
       "      <th>nox_gt</th>\n",
       "      <th>pt08_s3_nox</th>\n",
       "      <th>no2_gt</th>\n",
       "      <th>pt08_s4_no2</th>\n",
       "      <th>pt08_s5_o3</th>\n",
       "      <th>t</th>\n",
       "      <th>rh</th>\n",
       "      <th>ah</th>\n",
       "    </tr>\n",
       "  </thead>\n",
       "  <tbody>\n",
       "    <tr>\n",
       "      <th>0</th>\n",
       "      <td>2005-02-07 09:00:00</td>\n",
       "      <td>4.96</td>\n",
       "      <td>882</td>\n",
       "      <td>141</td>\n",
       "      <td>5.85</td>\n",
       "      <td>1588</td>\n",
       "      <td>237</td>\n",
       "      <td>292</td>\n",
       "      <td>131</td>\n",
       "      <td>1730</td>\n",
       "      <td>1825</td>\n",
       "      <td>10.9</td>\n",
       "      <td>11.14</td>\n",
       "      <td>1.7</td>\n",
       "    </tr>\n",
       "  </tbody>\n",
       "</table>\n",
       "</div>"
      ],
      "text/plain": [
       "                 date  co_gt  pt08_s1_co  nmhc_gt  c6h6_gt  pt08_s2_nmhc  \\\n",
       "0 2005-02-07 09:00:00   4.96         882      141     5.85          1588   \n",
       "\n",
       "   nox_gt  pt08_s3_nox  no2_gt  pt08_s4_no2  pt08_s5_o3     t     rh   ah  \n",
       "0     237          292     131         1730        1825  10.9  11.14  1.7  "
      ]
     },
     "execution_count": 9,
     "metadata": {},
     "output_type": "execute_result"
    }
   ],
   "source": [
    "readj.json_to_correct_missing_df(\"03_LiveData_single.json\", \"02_AlleFeatureList.csv\")"
   ]
  },
  {
   "cell_type": "code",
   "execution_count": 10,
   "id": "083a7cfa",
   "metadata": {},
   "outputs": [
    {
     "data": {
      "text/html": [
       "<div>\n",
       "<style scoped>\n",
       "    .dataframe tbody tr th:only-of-type {\n",
       "        vertical-align: middle;\n",
       "    }\n",
       "\n",
       "    .dataframe tbody tr th {\n",
       "        vertical-align: top;\n",
       "    }\n",
       "\n",
       "    .dataframe thead th {\n",
       "        text-align: right;\n",
       "    }\n",
       "</style>\n",
       "<table border=\"1\" class=\"dataframe\">\n",
       "  <thead>\n",
       "    <tr style=\"text-align: right;\">\n",
       "      <th></th>\n",
       "      <th>pt08_s1_co</th>\n",
       "      <th>c6h6_gt</th>\n",
       "      <th>pt08_s2_nmhc</th>\n",
       "      <th>no2_gt</th>\n",
       "      <th>pt08_s4_no2</th>\n",
       "      <th>t</th>\n",
       "      <th>ah</th>\n",
       "    </tr>\n",
       "    <tr>\n",
       "      <th>date</th>\n",
       "      <th></th>\n",
       "      <th></th>\n",
       "      <th></th>\n",
       "      <th></th>\n",
       "      <th></th>\n",
       "      <th></th>\n",
       "      <th></th>\n",
       "    </tr>\n",
       "  </thead>\n",
       "  <tbody>\n",
       "    <tr>\n",
       "      <th>2005-02-07 09:00:00</th>\n",
       "      <td>882</td>\n",
       "      <td>5.85</td>\n",
       "      <td>1588</td>\n",
       "      <td>131</td>\n",
       "      <td>1730</td>\n",
       "      <td>10.9</td>\n",
       "      <td>1.7</td>\n",
       "    </tr>\n",
       "  </tbody>\n",
       "</table>\n",
       "</div>"
      ],
      "text/plain": [
       "                     pt08_s1_co  c6h6_gt  pt08_s2_nmhc  no2_gt  pt08_s4_no2  \\\n",
       "date                                                                          \n",
       "2005-02-07 09:00:00         882     5.85          1588     131         1730   \n",
       "\n",
       "                        t   ah  \n",
       "date                            \n",
       "2005-02-07 09:00:00  10.9  1.7  "
      ]
     },
     "execution_count": 10,
     "metadata": {},
     "output_type": "execute_result"
    }
   ],
   "source": [
    "js = readj.json_to_ml_features_df(\"03_LiveData_single.json\", linr_clf)\n",
    "js"
   ]
  },
  {
   "cell_type": "code",
   "execution_count": 11,
   "id": "98e773cc",
   "metadata": {},
   "outputs": [
    {
     "data": {
      "text/html": [
       "<div>\n",
       "<style scoped>\n",
       "    .dataframe tbody tr th:only-of-type {\n",
       "        vertical-align: middle;\n",
       "    }\n",
       "\n",
       "    .dataframe tbody tr th {\n",
       "        vertical-align: top;\n",
       "    }\n",
       "\n",
       "    .dataframe thead th {\n",
       "        text-align: right;\n",
       "    }\n",
       "</style>\n",
       "<table border=\"1\" class=\"dataframe\">\n",
       "  <thead>\n",
       "    <tr style=\"text-align: right;\">\n",
       "      <th></th>\n",
       "      <th>predicted_ah</th>\n",
       "    </tr>\n",
       "    <tr>\n",
       "      <th>future_datetime</th>\n",
       "      <th></th>\n",
       "    </tr>\n",
       "  </thead>\n",
       "  <tbody>\n",
       "    <tr>\n",
       "      <th>2005-02-07 15:00:00</th>\n",
       "      <td>1.550254</td>\n",
       "    </tr>\n",
       "  </tbody>\n",
       "</table>\n",
       "</div>"
      ],
      "text/plain": [
       "                     predicted_ah\n",
       "future_datetime                  \n",
       "2005-02-07 15:00:00      1.550254"
      ]
     },
     "execution_count": 11,
     "metadata": {},
     "output_type": "execute_result"
    }
   ],
   "source": [
    "# entire DataPreparation and Prediction - ALL IN ONE\n",
    "readj.pred_json_df(\"03_LiveData_single.json\", linr_clf)"
   ]
  }
 ],
 "metadata": {
  "kernelspec": {
   "display_name": "Python 3 (ipykernel)",
   "language": "python",
   "name": "python3"
  },
  "language_info": {
   "codemirror_mode": {
    "name": "ipython",
    "version": 3
   },
   "file_extension": ".py",
   "mimetype": "text/x-python",
   "name": "python",
   "nbconvert_exporter": "python",
   "pygments_lexer": "ipython3",
   "version": "3.9.7"
  }
 },
 "nbformat": 4,
 "nbformat_minor": 5
}
