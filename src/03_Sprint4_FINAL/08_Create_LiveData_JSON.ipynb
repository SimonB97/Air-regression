{
 "cells": [
  {
   "cell_type": "markdown",
   "id": "744692d6",
   "metadata": {},
   "source": [
    "# Purpose of the Notebook:"
   ]
  },
  {
   "cell_type": "markdown",
   "id": "f25f2b5f",
   "metadata": {},
   "source": [
    "In this notebook, a sample of simulated live data is generated.\n",
    "Those samples can be used in later notebooks to check whether the forecasting algorithm works in every possible situation."
   ]
  },
  {
   "cell_type": "markdown",
   "id": "10356d94",
   "metadata": {},
   "source": [
    "# Create JSON LiveData"
   ]
  },
  {
   "cell_type": "code",
   "execution_count": 1,
   "id": "8dd73209",
   "metadata": {},
   "outputs": [],
   "source": [
    "# import\n",
    "import json\n",
    "import pandas as pd\n",
    "import numpy as np\n",
    "import orga_functions as org\n",
    "\n",
    "from X1_DataPreparation import change_column\n",
    "from X1_DataPreparation import og_column_list\n",
    "from X1_DataPreparation import og_int_column_list"
   ]
  },
  {
   "cell_type": "code",
   "execution_count": 2,
   "id": "1dc4c567",
   "metadata": {},
   "outputs": [],
   "source": [
    "# read in the feature codebook\n",
    "path = org.path(\"02_AlleFeatureList.csv\")\n",
    "feature_df = pd.read_csv(path, sep =\";\")"
   ]
  },
  {
   "cell_type": "markdown",
   "id": "67786e6b",
   "metadata": {},
   "source": [
    "## FeatureList DataPreparation"
   ]
  },
  {
   "cell_type": "code",
   "execution_count": 3,
   "id": "9a53e1c7",
   "metadata": {
    "scrolled": true
   },
   "outputs": [
    {
     "data": {
      "text/html": [
       "<div>\n",
       "<style scoped>\n",
       "    .dataframe tbody tr th:only-of-type {\n",
       "        vertical-align: middle;\n",
       "    }\n",
       "\n",
       "    .dataframe tbody tr th {\n",
       "        vertical-align: top;\n",
       "    }\n",
       "\n",
       "    .dataframe thead th {\n",
       "        text-align: right;\n",
       "    }\n",
       "</style>\n",
       "<table border=\"1\" class=\"dataframe\">\n",
       "  <thead>\n",
       "    <tr style=\"text-align: right;\">\n",
       "      <th></th>\n",
       "      <th>names</th>\n",
       "      <th>mean</th>\n",
       "      <th>25%</th>\n",
       "      <th>50%</th>\n",
       "      <th>75%</th>\n",
       "      <th>min</th>\n",
       "      <th>max</th>\n",
       "    </tr>\n",
       "  </thead>\n",
       "  <tbody>\n",
       "    <tr>\n",
       "      <th>0</th>\n",
       "      <td>co_gt</td>\n",
       "      <td>2.168604</td>\n",
       "      <td>1.1000</td>\n",
       "      <td>1.8000</td>\n",
       "      <td>2.9000</td>\n",
       "      <td>0.1000</td>\n",
       "      <td>5.600</td>\n",
       "    </tr>\n",
       "    <tr>\n",
       "      <th>1</th>\n",
       "      <td>pt08_s1_co</td>\n",
       "      <td>1098.303412</td>\n",
       "      <td>932.0000</td>\n",
       "      <td>1061.0000</td>\n",
       "      <td>1234.0000</td>\n",
       "      <td>647.0000</td>\n",
       "      <td>1687.000</td>\n",
       "    </tr>\n",
       "    <tr>\n",
       "      <th>2</th>\n",
       "      <td>nmhc_gt</td>\n",
       "      <td>218.607666</td>\n",
       "      <td>66.0000</td>\n",
       "      <td>145.0000</td>\n",
       "      <td>297.0000</td>\n",
       "      <td>0.1000</td>\n",
       "      <td>643.500</td>\n",
       "    </tr>\n",
       "    <tr>\n",
       "      <th>3</th>\n",
       "      <td>c6h6_gt</td>\n",
       "      <td>10.458205</td>\n",
       "      <td>4.7000</td>\n",
       "      <td>8.6000</td>\n",
       "      <td>14.4000</td>\n",
       "      <td>0.1000</td>\n",
       "      <td>28.950</td>\n",
       "    </tr>\n",
       "    <tr>\n",
       "      <th>4</th>\n",
       "      <td>pt08_s2_nmhc</td>\n",
       "      <td>953.579453</td>\n",
       "      <td>749.0000</td>\n",
       "      <td>925.0000</td>\n",
       "      <td>1130.0000</td>\n",
       "      <td>749.0000</td>\n",
       "      <td>1701.500</td>\n",
       "    </tr>\n",
       "    <tr>\n",
       "      <th>5</th>\n",
       "      <td>nox_gt</td>\n",
       "      <td>232.360072</td>\n",
       "      <td>89.0000</td>\n",
       "      <td>164.0000</td>\n",
       "      <td>303.7500</td>\n",
       "      <td>0.1000</td>\n",
       "      <td>625.875</td>\n",
       "    </tr>\n",
       "    <tr>\n",
       "      <th>6</th>\n",
       "      <td>pt08_s3_nox</td>\n",
       "      <td>848.762615</td>\n",
       "      <td>672.0000</td>\n",
       "      <td>818.0000</td>\n",
       "      <td>984.0000</td>\n",
       "      <td>204.0000</td>\n",
       "      <td>1452.000</td>\n",
       "    </tr>\n",
       "    <tr>\n",
       "      <th>7</th>\n",
       "      <td>no2_gt</td>\n",
       "      <td>106.251831</td>\n",
       "      <td>73.0000</td>\n",
       "      <td>103.0000</td>\n",
       "      <td>132.0000</td>\n",
       "      <td>0.1000</td>\n",
       "      <td>220.500</td>\n",
       "    </tr>\n",
       "    <tr>\n",
       "      <th>8</th>\n",
       "      <td>pt08_s4_no2</td>\n",
       "      <td>1507.352834</td>\n",
       "      <td>1305.0000</td>\n",
       "      <td>1508.0000</td>\n",
       "      <td>1707.0000</td>\n",
       "      <td>702.0000</td>\n",
       "      <td>2310.000</td>\n",
       "    </tr>\n",
       "    <tr>\n",
       "      <th>9</th>\n",
       "      <td>pt08_s5_o3</td>\n",
       "      <td>1024.200026</td>\n",
       "      <td>737.0000</td>\n",
       "      <td>962.0000</td>\n",
       "      <td>1272.0000</td>\n",
       "      <td>253.0000</td>\n",
       "      <td>2074.500</td>\n",
       "    </tr>\n",
       "    <tr>\n",
       "      <th>10</th>\n",
       "      <td>t</td>\n",
       "      <td>19.476041</td>\n",
       "      <td>13.1000</td>\n",
       "      <td>19.3000</td>\n",
       "      <td>25.4000</td>\n",
       "      <td>0.3000</td>\n",
       "      <td>43.850</td>\n",
       "    </tr>\n",
       "    <tr>\n",
       "      <th>11</th>\n",
       "      <td>rh</td>\n",
       "      <td>48.969244</td>\n",
       "      <td>35.5000</td>\n",
       "      <td>49.4000</td>\n",
       "      <td>62.1000</td>\n",
       "      <td>9.2000</td>\n",
       "      <td>88.700</td>\n",
       "    </tr>\n",
       "    <tr>\n",
       "      <th>12</th>\n",
       "      <td>ah</td>\n",
       "      <td>1.082099</td>\n",
       "      <td>0.8167</td>\n",
       "      <td>1.0468</td>\n",
       "      <td>1.3713</td>\n",
       "      <td>0.1988</td>\n",
       "      <td>2.231</td>\n",
       "    </tr>\n",
       "  </tbody>\n",
       "</table>\n",
       "</div>"
      ],
      "text/plain": [
       "           names         mean        25%        50%        75%       min  \\\n",
       "0          co_gt     2.168604     1.1000     1.8000     2.9000    0.1000   \n",
       "1     pt08_s1_co  1098.303412   932.0000  1061.0000  1234.0000  647.0000   \n",
       "2        nmhc_gt   218.607666    66.0000   145.0000   297.0000    0.1000   \n",
       "3        c6h6_gt    10.458205     4.7000     8.6000    14.4000    0.1000   \n",
       "4   pt08_s2_nmhc   953.579453   749.0000   925.0000  1130.0000  749.0000   \n",
       "5         nox_gt   232.360072    89.0000   164.0000   303.7500    0.1000   \n",
       "6    pt08_s3_nox   848.762615   672.0000   818.0000   984.0000  204.0000   \n",
       "7         no2_gt   106.251831    73.0000   103.0000   132.0000    0.1000   \n",
       "8    pt08_s4_no2  1507.352834  1305.0000  1508.0000  1707.0000  702.0000   \n",
       "9     pt08_s5_o3  1024.200026   737.0000   962.0000  1272.0000  253.0000   \n",
       "10             t    19.476041    13.1000    19.3000    25.4000    0.3000   \n",
       "11            rh    48.969244    35.5000    49.4000    62.1000    9.2000   \n",
       "12            ah     1.082099     0.8167     1.0468     1.3713    0.1988   \n",
       "\n",
       "         max  \n",
       "0      5.600  \n",
       "1   1687.000  \n",
       "2    643.500  \n",
       "3     28.950  \n",
       "4   1701.500  \n",
       "5    625.875  \n",
       "6   1452.000  \n",
       "7    220.500  \n",
       "8   2310.000  \n",
       "9   2074.500  \n",
       "10    43.850  \n",
       "11    88.700  \n",
       "12     2.231  "
      ]
     },
     "execution_count": 3,
     "metadata": {},
     "output_type": "execute_result"
    }
   ],
   "source": [
    "feature_df"
   ]
  },
  {
   "cell_type": "markdown",
   "id": "36354c46",
   "metadata": {},
   "source": [
    "#### Original Names"
   ]
  },
  {
   "cell_type": "code",
   "execution_count": 4,
   "id": "3e54b6a5",
   "metadata": {},
   "outputs": [],
   "source": [
    "# original Names List\n",
    "original_names = og_column_list()"
   ]
  },
  {
   "cell_type": "code",
   "execution_count": 5,
   "id": "11b4c70c",
   "metadata": {},
   "outputs": [],
   "source": [
    "# replace names by original/raw names\n",
    "def og_name(name):\n",
    "    for og in original_names:\n",
    "        if change_column(og) == name:\n",
    "            return og\n",
    "    return name\n",
    "\n",
    "feature_df.names = [og_name(x) for x in feature_df.names]"
   ]
  },
  {
   "cell_type": "code",
   "execution_count": 6,
   "id": "8ed0482f",
   "metadata": {},
   "outputs": [
    {
     "data": {
      "text/html": [
       "<div>\n",
       "<style scoped>\n",
       "    .dataframe tbody tr th:only-of-type {\n",
       "        vertical-align: middle;\n",
       "    }\n",
       "\n",
       "    .dataframe tbody tr th {\n",
       "        vertical-align: top;\n",
       "    }\n",
       "\n",
       "    .dataframe thead th {\n",
       "        text-align: right;\n",
       "    }\n",
       "</style>\n",
       "<table border=\"1\" class=\"dataframe\">\n",
       "  <thead>\n",
       "    <tr style=\"text-align: right;\">\n",
       "      <th></th>\n",
       "      <th>names</th>\n",
       "      <th>mean</th>\n",
       "      <th>25%</th>\n",
       "      <th>50%</th>\n",
       "      <th>75%</th>\n",
       "      <th>min</th>\n",
       "      <th>max</th>\n",
       "    </tr>\n",
       "  </thead>\n",
       "  <tbody>\n",
       "    <tr>\n",
       "      <th>0</th>\n",
       "      <td>CO(GT)</td>\n",
       "      <td>2.168604</td>\n",
       "      <td>1.1000</td>\n",
       "      <td>1.8000</td>\n",
       "      <td>2.9000</td>\n",
       "      <td>0.1000</td>\n",
       "      <td>5.600</td>\n",
       "    </tr>\n",
       "    <tr>\n",
       "      <th>1</th>\n",
       "      <td>PT08.S1(CO)</td>\n",
       "      <td>1098.303412</td>\n",
       "      <td>932.0000</td>\n",
       "      <td>1061.0000</td>\n",
       "      <td>1234.0000</td>\n",
       "      <td>647.0000</td>\n",
       "      <td>1687.000</td>\n",
       "    </tr>\n",
       "    <tr>\n",
       "      <th>2</th>\n",
       "      <td>NMHC(GT)</td>\n",
       "      <td>218.607666</td>\n",
       "      <td>66.0000</td>\n",
       "      <td>145.0000</td>\n",
       "      <td>297.0000</td>\n",
       "      <td>0.1000</td>\n",
       "      <td>643.500</td>\n",
       "    </tr>\n",
       "    <tr>\n",
       "      <th>3</th>\n",
       "      <td>C6H6(GT)</td>\n",
       "      <td>10.458205</td>\n",
       "      <td>4.7000</td>\n",
       "      <td>8.6000</td>\n",
       "      <td>14.4000</td>\n",
       "      <td>0.1000</td>\n",
       "      <td>28.950</td>\n",
       "    </tr>\n",
       "    <tr>\n",
       "      <th>4</th>\n",
       "      <td>PT08.S2(NMHC)</td>\n",
       "      <td>953.579453</td>\n",
       "      <td>749.0000</td>\n",
       "      <td>925.0000</td>\n",
       "      <td>1130.0000</td>\n",
       "      <td>749.0000</td>\n",
       "      <td>1701.500</td>\n",
       "    </tr>\n",
       "    <tr>\n",
       "      <th>5</th>\n",
       "      <td>NOx(GT)</td>\n",
       "      <td>232.360072</td>\n",
       "      <td>89.0000</td>\n",
       "      <td>164.0000</td>\n",
       "      <td>303.7500</td>\n",
       "      <td>0.1000</td>\n",
       "      <td>625.875</td>\n",
       "    </tr>\n",
       "    <tr>\n",
       "      <th>6</th>\n",
       "      <td>PT08.S3(NOx)</td>\n",
       "      <td>848.762615</td>\n",
       "      <td>672.0000</td>\n",
       "      <td>818.0000</td>\n",
       "      <td>984.0000</td>\n",
       "      <td>204.0000</td>\n",
       "      <td>1452.000</td>\n",
       "    </tr>\n",
       "    <tr>\n",
       "      <th>7</th>\n",
       "      <td>NO2(GT)</td>\n",
       "      <td>106.251831</td>\n",
       "      <td>73.0000</td>\n",
       "      <td>103.0000</td>\n",
       "      <td>132.0000</td>\n",
       "      <td>0.1000</td>\n",
       "      <td>220.500</td>\n",
       "    </tr>\n",
       "    <tr>\n",
       "      <th>8</th>\n",
       "      <td>PT08.S4(NO2)</td>\n",
       "      <td>1507.352834</td>\n",
       "      <td>1305.0000</td>\n",
       "      <td>1508.0000</td>\n",
       "      <td>1707.0000</td>\n",
       "      <td>702.0000</td>\n",
       "      <td>2310.000</td>\n",
       "    </tr>\n",
       "    <tr>\n",
       "      <th>9</th>\n",
       "      <td>PT08.S5(O3)</td>\n",
       "      <td>1024.200026</td>\n",
       "      <td>737.0000</td>\n",
       "      <td>962.0000</td>\n",
       "      <td>1272.0000</td>\n",
       "      <td>253.0000</td>\n",
       "      <td>2074.500</td>\n",
       "    </tr>\n",
       "    <tr>\n",
       "      <th>10</th>\n",
       "      <td>T</td>\n",
       "      <td>19.476041</td>\n",
       "      <td>13.1000</td>\n",
       "      <td>19.3000</td>\n",
       "      <td>25.4000</td>\n",
       "      <td>0.3000</td>\n",
       "      <td>43.850</td>\n",
       "    </tr>\n",
       "    <tr>\n",
       "      <th>11</th>\n",
       "      <td>RH</td>\n",
       "      <td>48.969244</td>\n",
       "      <td>35.5000</td>\n",
       "      <td>49.4000</td>\n",
       "      <td>62.1000</td>\n",
       "      <td>9.2000</td>\n",
       "      <td>88.700</td>\n",
       "    </tr>\n",
       "    <tr>\n",
       "      <th>12</th>\n",
       "      <td>AH</td>\n",
       "      <td>1.082099</td>\n",
       "      <td>0.8167</td>\n",
       "      <td>1.0468</td>\n",
       "      <td>1.3713</td>\n",
       "      <td>0.1988</td>\n",
       "      <td>2.231</td>\n",
       "    </tr>\n",
       "  </tbody>\n",
       "</table>\n",
       "</div>"
      ],
      "text/plain": [
       "            names         mean        25%        50%        75%       min  \\\n",
       "0          CO(GT)     2.168604     1.1000     1.8000     2.9000    0.1000   \n",
       "1     PT08.S1(CO)  1098.303412   932.0000  1061.0000  1234.0000  647.0000   \n",
       "2        NMHC(GT)   218.607666    66.0000   145.0000   297.0000    0.1000   \n",
       "3        C6H6(GT)    10.458205     4.7000     8.6000    14.4000    0.1000   \n",
       "4   PT08.S2(NMHC)   953.579453   749.0000   925.0000  1130.0000  749.0000   \n",
       "5         NOx(GT)   232.360072    89.0000   164.0000   303.7500    0.1000   \n",
       "6    PT08.S3(NOx)   848.762615   672.0000   818.0000   984.0000  204.0000   \n",
       "7         NO2(GT)   106.251831    73.0000   103.0000   132.0000    0.1000   \n",
       "8    PT08.S4(NO2)  1507.352834  1305.0000  1508.0000  1707.0000  702.0000   \n",
       "9     PT08.S5(O3)  1024.200026   737.0000   962.0000  1272.0000  253.0000   \n",
       "10              T    19.476041    13.1000    19.3000    25.4000    0.3000   \n",
       "11             RH    48.969244    35.5000    49.4000    62.1000    9.2000   \n",
       "12             AH     1.082099     0.8167     1.0468     1.3713    0.1988   \n",
       "\n",
       "         max  \n",
       "0      5.600  \n",
       "1   1687.000  \n",
       "2    643.500  \n",
       "3     28.950  \n",
       "4   1701.500  \n",
       "5    625.875  \n",
       "6   1452.000  \n",
       "7    220.500  \n",
       "8   2310.000  \n",
       "9   2074.500  \n",
       "10    43.850  \n",
       "11    88.700  \n",
       "12     2.231  "
      ]
     },
     "execution_count": 6,
     "metadata": {},
     "output_type": "execute_result"
    }
   ],
   "source": [
    "feature_df"
   ]
  },
  {
   "cell_type": "code",
   "execution_count": 7,
   "id": "efc511da",
   "metadata": {},
   "outputs": [],
   "source": [
    "# the name column is set as the new index column\n",
    "feature_df.set_index('names', inplace = True)"
   ]
  },
  {
   "cell_type": "code",
   "execution_count": 8,
   "id": "fa451510",
   "metadata": {
    "scrolled": true
   },
   "outputs": [
    {
     "data": {
      "text/html": [
       "<div>\n",
       "<style scoped>\n",
       "    .dataframe tbody tr th:only-of-type {\n",
       "        vertical-align: middle;\n",
       "    }\n",
       "\n",
       "    .dataframe tbody tr th {\n",
       "        vertical-align: top;\n",
       "    }\n",
       "\n",
       "    .dataframe thead th {\n",
       "        text-align: right;\n",
       "    }\n",
       "</style>\n",
       "<table border=\"1\" class=\"dataframe\">\n",
       "  <thead>\n",
       "    <tr style=\"text-align: right;\">\n",
       "      <th></th>\n",
       "      <th>min</th>\n",
       "      <th>max</th>\n",
       "    </tr>\n",
       "    <tr>\n",
       "      <th>names</th>\n",
       "      <th></th>\n",
       "      <th></th>\n",
       "    </tr>\n",
       "  </thead>\n",
       "  <tbody>\n",
       "    <tr>\n",
       "      <th>CO(GT)</th>\n",
       "      <td>0.1000</td>\n",
       "      <td>5.600</td>\n",
       "    </tr>\n",
       "    <tr>\n",
       "      <th>PT08.S1(CO)</th>\n",
       "      <td>647.0000</td>\n",
       "      <td>1687.000</td>\n",
       "    </tr>\n",
       "    <tr>\n",
       "      <th>NMHC(GT)</th>\n",
       "      <td>0.1000</td>\n",
       "      <td>643.500</td>\n",
       "    </tr>\n",
       "    <tr>\n",
       "      <th>C6H6(GT)</th>\n",
       "      <td>0.1000</td>\n",
       "      <td>28.950</td>\n",
       "    </tr>\n",
       "    <tr>\n",
       "      <th>PT08.S2(NMHC)</th>\n",
       "      <td>749.0000</td>\n",
       "      <td>1701.500</td>\n",
       "    </tr>\n",
       "    <tr>\n",
       "      <th>NOx(GT)</th>\n",
       "      <td>0.1000</td>\n",
       "      <td>625.875</td>\n",
       "    </tr>\n",
       "    <tr>\n",
       "      <th>PT08.S3(NOx)</th>\n",
       "      <td>204.0000</td>\n",
       "      <td>1452.000</td>\n",
       "    </tr>\n",
       "    <tr>\n",
       "      <th>NO2(GT)</th>\n",
       "      <td>0.1000</td>\n",
       "      <td>220.500</td>\n",
       "    </tr>\n",
       "    <tr>\n",
       "      <th>PT08.S4(NO2)</th>\n",
       "      <td>702.0000</td>\n",
       "      <td>2310.000</td>\n",
       "    </tr>\n",
       "    <tr>\n",
       "      <th>PT08.S5(O3)</th>\n",
       "      <td>253.0000</td>\n",
       "      <td>2074.500</td>\n",
       "    </tr>\n",
       "    <tr>\n",
       "      <th>T</th>\n",
       "      <td>0.3000</td>\n",
       "      <td>43.850</td>\n",
       "    </tr>\n",
       "    <tr>\n",
       "      <th>RH</th>\n",
       "      <td>9.2000</td>\n",
       "      <td>88.700</td>\n",
       "    </tr>\n",
       "    <tr>\n",
       "      <th>AH</th>\n",
       "      <td>0.1988</td>\n",
       "      <td>2.231</td>\n",
       "    </tr>\n",
       "  </tbody>\n",
       "</table>\n",
       "</div>"
      ],
      "text/plain": [
       "                    min       max\n",
       "names                            \n",
       "CO(GT)           0.1000     5.600\n",
       "PT08.S1(CO)    647.0000  1687.000\n",
       "NMHC(GT)         0.1000   643.500\n",
       "C6H6(GT)         0.1000    28.950\n",
       "PT08.S2(NMHC)  749.0000  1701.500\n",
       "NOx(GT)          0.1000   625.875\n",
       "PT08.S3(NOx)   204.0000  1452.000\n",
       "NO2(GT)          0.1000   220.500\n",
       "PT08.S4(NO2)   702.0000  2310.000\n",
       "PT08.S5(O3)    253.0000  2074.500\n",
       "T                0.3000    43.850\n",
       "RH               9.2000    88.700\n",
       "AH               0.1988     2.231"
      ]
     },
     "execution_count": 8,
     "metadata": {},
     "output_type": "execute_result"
    }
   ],
   "source": [
    "feature_df[[\"min\", \"max\"]]"
   ]
  },
  {
   "cell_type": "markdown",
   "id": "34a2bab6",
   "metadata": {},
   "source": [
    "## Create new entries"
   ]
  },
  {
   "cell_type": "markdown",
   "id": "0c27746d",
   "metadata": {},
   "source": [
    "#### Functions"
   ]
  },
  {
   "cell_type": "markdown",
   "id": "7560b64b",
   "metadata": {},
   "source": [
    "inner functions"
   ]
  },
  {
   "cell_type": "code",
   "execution_count": 9,
   "id": "6ea6ec91",
   "metadata": {},
   "outputs": [],
   "source": [
    "# gets the min for the given feature\n",
    "def get_min(feature_name):\n",
    "    return feature_df.loc[feature_name][\"min\"]\n",
    "\n",
    "# gets the max for the given feature\n",
    "def get_max(feature_name):\n",
    "    return feature_df.loc[feature_name][\"max\"]\n",
    "                         "
   ]
  },
  {
   "cell_type": "markdown",
   "id": "15cf1c8f",
   "metadata": {},
   "source": [
    "main functions"
   ]
  },
  {
   "cell_type": "code",
   "execution_count": 10,
   "id": "594cc597",
   "metadata": {},
   "outputs": [],
   "source": [
    "# returns a correct value for the given feature\n",
    "def get_correct(feat_name):\n",
    "    if feat_name in og_int_column_list():\n",
    "        value = np.random.randint(get_min(feat_name), get_max(feat_name))\n",
    "        return value\n",
    "    else:\n",
    "        value = np.random.uniform(get_min(feat_name), get_max(feat_name))\n",
    "        return round(value, 2)"
   ]
  },
  {
   "cell_type": "code",
   "execution_count": 11,
   "id": "f9ae035b",
   "metadata": {},
   "outputs": [],
   "source": [
    "# returns a to small value for the given feature\n",
    "def get_too_small(feat_name):\n",
    "    if feat_name in og_int_column_list():\n",
    "        value = np.random.randint(-250, get_min(feat_name)-1)\n",
    "        return value\n",
    "    else:\n",
    "        value = np.random.uniform(-250, get_min(feat_name)-1)\n",
    "        return round(value, 2)"
   ]
  },
  {
   "cell_type": "code",
   "execution_count": 12,
   "id": "68936ecd",
   "metadata": {},
   "outputs": [],
   "source": [
    "# returns a to big value for the given feature\n",
    "def get_too_big(feat_name):\n",
    "    if feat_name in og_int_column_list():\n",
    "        value = np.random.randint(get_max(feat_name)+1, 5000)\n",
    "        return value\n",
    "    else:\n",
    "        value = np.random.uniform(get_max(feat_name)+1, 5000)\n",
    "        return round(value, 2)"
   ]
  },
  {
   "cell_type": "markdown",
   "id": "ce3aaf54",
   "metadata": {},
   "source": [
    " ### Entry with only correct values"
   ]
  },
  {
   "cell_type": "code",
   "execution_count": 13,
   "id": "8f945e1f",
   "metadata": {},
   "outputs": [],
   "source": [
    "# generate values for the all columns besides the date and time columns\n",
    "corr_dict = {}\n",
    "for i in feature_df.index.values:\n",
    "    corr_dict[i] = get_correct(i)"
   ]
  },
  {
   "cell_type": "code",
   "execution_count": 14,
   "id": "954493c6",
   "metadata": {},
   "outputs": [],
   "source": [
    "corr_dict[\"Date\"] = \"07/02/2005\"\n",
    "corr_dict[\"Time\"] = '00.00.00'"
   ]
  },
  {
   "cell_type": "markdown",
   "id": "38fa262b",
   "metadata": {},
   "source": [
    "### Entry with some too small values"
   ]
  },
  {
   "cell_type": "code",
   "execution_count": 15,
   "id": "deb1eb15",
   "metadata": {},
   "outputs": [],
   "source": [
    "# generate values for the all columns besides the date and time columns\n",
    "small_dict = {}\n",
    "\n",
    "change = 1\n",
    "\n",
    "for i in feature_df.index.values:\n",
    "    if change %2 == 0:\n",
    "        small_dict[i] = get_correct(i)\n",
    "    else:\n",
    "        small_dict[i] = get_too_small(i)\n",
    "    change+=1"
   ]
  },
  {
   "cell_type": "code",
   "execution_count": 16,
   "id": "a43241d1",
   "metadata": {},
   "outputs": [],
   "source": [
    "small_dict[\"Date\"] = \"07/02/2005\"\n",
    "small_dict[\"Time\"] = '01.00.00'"
   ]
  },
  {
   "cell_type": "markdown",
   "id": "e7072117",
   "metadata": {},
   "source": [
    "### Entry some too big values"
   ]
  },
  {
   "cell_type": "code",
   "execution_count": 17,
   "id": "7dfff44c",
   "metadata": {},
   "outputs": [],
   "source": [
    "# generate values for the all columns besides the date and time columns\n",
    "big_dict = {}\n",
    "\n",
    "# variable \n",
    "change = 1\n",
    "\n",
    "for i in feature_df.index.values:\n",
    "    if change % 2 == 0:\n",
    "        big_dict[i] = get_correct(i)\n",
    "    else:\n",
    "        big_dict[i] = get_too_big(i)\n",
    "    change+=1"
   ]
  },
  {
   "cell_type": "code",
   "execution_count": 18,
   "id": "e15dfd13",
   "metadata": {},
   "outputs": [],
   "source": [
    "big_dict[\"Date\"] = \"07/02/2005\"\n",
    "big_dict[\"Time\"] = '02.00.00'"
   ]
  },
  {
   "cell_type": "markdown",
   "id": "2fc8a3ee",
   "metadata": {},
   "source": [
    "### Entry with mix values"
   ]
  },
  {
   "cell_type": "code",
   "execution_count": 19,
   "id": "53768952",
   "metadata": {},
   "outputs": [],
   "source": [
    "# generate values for the all columns besides the date and time columns\n",
    "mix_dict = {}\n",
    "\n",
    "change = 1\n",
    "\n",
    "for i in feature_df.index.values:\n",
    "    if change % 3 == 0:              \n",
    "        mix_dict[i] = get_too_big(i)\n",
    "    elif change % 2 == 0:            \n",
    "        mix_dict[i] = get_too_small(i)\n",
    "    else:                            \n",
    "        mix_dict[i] = get_correct(i)\n",
    "    change+=1"
   ]
  },
  {
   "cell_type": "code",
   "execution_count": 20,
   "id": "a9e77a07",
   "metadata": {},
   "outputs": [],
   "source": [
    "mix_dict[\"Date\"] = \"07/02/2005\"\n",
    "mix_dict[\"Time\"] = '03.00.00'"
   ]
  },
  {
   "cell_type": "markdown",
   "id": "c98c6c56",
   "metadata": {},
   "source": [
    "### Entry with missing  values"
   ]
  },
  {
   "cell_type": "code",
   "execution_count": 21,
   "id": "39ef2461",
   "metadata": {},
   "outputs": [],
   "source": [
    "missing_dict = {}"
   ]
  },
  {
   "cell_type": "code",
   "execution_count": 22,
   "id": "c29ee200",
   "metadata": {},
   "outputs": [],
   "source": [
    "missing_dict[\"Date\"] = \"07/02/2005\"\n",
    "missing_dict[\"Time\"] = '04.00.00'"
   ]
  },
  {
   "cell_type": "code",
   "execution_count": 23,
   "id": "3be2e483",
   "metadata": {},
   "outputs": [],
   "source": [
    "# generate same values for the all columns besides the date and time columns\n",
    "missing_dict[\"CO(GT)\"] = get_correct('CO(GT)')\n",
    "missing_dict[\"PT08.S1(CO)\"] = get_correct('PT08.S1(CO)')\n",
    "missing_dict[\"NO2(GT)\"] = get_correct('NO2(GT)')"
   ]
  },
  {
   "cell_type": "code",
   "execution_count": 24,
   "id": "cc2a8fe2",
   "metadata": {},
   "outputs": [],
   "source": [
    "missing_dict[\"NOx(GT)\"] = np.nan"
   ]
  },
  {
   "cell_type": "markdown",
   "id": "b7e2b856",
   "metadata": {},
   "source": [
    "### entry with an unknown column"
   ]
  },
  {
   "cell_type": "code",
   "execution_count": 25,
   "id": "01d1798b",
   "metadata": {},
   "outputs": [],
   "source": [
    "dict_unknown = {}\n",
    "for i in feature_df.index.values:\n",
    "    dict_unknown[i] = get_correct(i)\n",
    "dict_unknown[\"unknown\"] = \"low\"\n",
    "dict_unknown[\"Date\"] = \"07/02/2005\"\n",
    "dict_unknown[\"Time\"] = '05.00.00'"
   ]
  },
  {
   "cell_type": "markdown",
   "id": "192da1cb",
   "metadata": {},
   "source": [
    "### more entries"
   ]
  },
  {
   "cell_type": "code",
   "execution_count": 26,
   "id": "d483d2a0",
   "metadata": {},
   "outputs": [],
   "source": [
    "corr_dict2 = {}\n",
    "for i in feature_df.index.values:\n",
    "    corr_dict2[i] = get_correct(i)\n",
    "\n",
    "corr_dict2[\"Date\"] = \"07/02/2005\"\n",
    "corr_dict2[\"Time\"] = '06.00.00'"
   ]
  },
  {
   "cell_type": "code",
   "execution_count": 27,
   "id": "5a1d595e",
   "metadata": {},
   "outputs": [],
   "source": [
    "corr_dict3 = {}\n",
    "for i in feature_df.index.values:\n",
    "    corr_dict3[i] = get_correct(i)\n",
    "\n",
    "corr_dict3[\"Date\"] = \"07/02/2005\"\n",
    "corr_dict3[\"Time\"] = '07.00.00'"
   ]
  },
  {
   "cell_type": "markdown",
   "id": "65ef93d8",
   "metadata": {},
   "source": [
    "## Save  LiveData in JSON File"
   ]
  },
  {
   "cell_type": "code",
   "execution_count": 28,
   "id": "d9ee5127",
   "metadata": {},
   "outputs": [],
   "source": [
    "#function that saves the data in a JSON form\n",
    "def entry_list(*entries):\n",
    "    list = []\n",
    "    for e in entries:\n",
    "        list.append(e)\n",
    "    return list"
   ]
  },
  {
   "cell_type": "markdown",
   "id": "abb44812",
   "metadata": {},
   "source": [
    "### Save"
   ]
  },
  {
   "cell_type": "code",
   "execution_count": 29,
   "id": "33a25a60",
   "metadata": {},
   "outputs": [],
   "source": [
    "# convert each every into a JSON-like form\n",
    "first_entry = entry_list(corr_dict)\n",
    "second_entry = entry_list(small_dict)\n",
    "third_entry = entry_list(big_dict)\n",
    "fourth_entry = entry_list(mix_dict)\n",
    "fifth_entry = entry_list(missing_dict)\n",
    "sixth_entry = entry_list(dict_unknown)"
   ]
  },
  {
   "cell_type": "code",
   "execution_count": 30,
   "id": "38ac2054",
   "metadata": {},
   "outputs": [],
   "source": [
    "# convert the last two entries into a single JSON-like form\n",
    "other_entries = entry_list(corr_dict2, corr_dict3)"
   ]
  },
  {
   "cell_type": "code",
   "execution_count": 31,
   "id": "9d63482a",
   "metadata": {},
   "outputs": [],
   "source": [
    "# Save as JSON file\n",
    "new_path = org.path(\"01_LiveData.json\")\n",
    "\n",
    "with open(new_path, 'w') as jf:\n",
    "    json.dump(first_entry, jf, indent = 2)"
   ]
  },
  {
   "cell_type": "code",
   "execution_count": 32,
   "id": "3cd0e5bb",
   "metadata": {},
   "outputs": [],
   "source": [
    "# Save as JSON file\n",
    "new_path = org.path(\"02_LiveData.json\")\n",
    "\n",
    "with open(new_path, 'w') as jf:\n",
    "    json.dump(second_entry, jf, indent = 2)"
   ]
  },
  {
   "cell_type": "code",
   "execution_count": 33,
   "id": "1bb25dba",
   "metadata": {},
   "outputs": [],
   "source": [
    "# Save as JSON file\n",
    "new_path = org.path(\"03_LiveData.json\")\n",
    "\n",
    "with open(new_path, 'w') as jf:\n",
    "    json.dump(third_entry, jf, indent = 2)"
   ]
  },
  {
   "cell_type": "code",
   "execution_count": 34,
   "id": "fdbfbaef",
   "metadata": {},
   "outputs": [],
   "source": [
    "# Save as JSON file\n",
    "new_path = org.path(\"04_LiveData.json\")\n",
    "\n",
    "with open(new_path, 'w') as jf:\n",
    "    json.dump(fourth_entry, jf, indent = 2)"
   ]
  },
  {
   "cell_type": "code",
   "execution_count": 35,
   "id": "ff42632f",
   "metadata": {},
   "outputs": [],
   "source": [
    "# Save as JSON file\n",
    "new_path = org.path(\"05_LiveData.json\")\n",
    "\n",
    "with open(new_path, 'w') as jf:\n",
    "    json.dump(fifth_entry, jf, indent = 2)"
   ]
  },
  {
   "cell_type": "code",
   "execution_count": 36,
   "id": "73f5ae44",
   "metadata": {},
   "outputs": [],
   "source": [
    "# Save as JSON file\n",
    "new_path = org.path(\"06_LiveData.json\")\n",
    "\n",
    "with open(new_path, 'w') as jf:\n",
    "    json.dump(sixth_entry, jf, indent = 2)"
   ]
  },
  {
   "cell_type": "code",
   "execution_count": 37,
   "id": "8d58c609",
   "metadata": {},
   "outputs": [],
   "source": [
    "# Save as JSON file\n",
    "new_path = org.path(\"07_LiveData.json\")\n",
    "\n",
    "with open(new_path, 'w') as jf:\n",
    "    json.dump(other_entries, jf, indent = 2)"
   ]
  },
  {
   "cell_type": "markdown",
   "id": "8c71d946",
   "metadata": {},
   "source": [
    "### Exemplarily Output"
   ]
  },
  {
   "cell_type": "code",
   "execution_count": 38,
   "id": "7bbab555",
   "metadata": {
    "scrolled": true
   },
   "outputs": [
    {
     "name": "stdout",
     "output_type": "stream",
     "text": [
      "[\n",
      "  {\n",
      "    \"CO(GT)\": 3.3,\n",
      "    \"PT08.S1(CO)\": 1042,\n",
      "    \"NMHC(GT)\": 377,\n",
      "    \"C6H6(GT)\": 16.59,\n",
      "    \"PT08.S2(NMHC)\": 1436,\n",
      "    \"NOx(GT)\": 187,\n",
      "    \"PT08.S3(NOx)\": 1232,\n",
      "    \"NO2(GT)\": 184,\n",
      "    \"PT08.S4(NO2)\": 1290,\n",
      "    \"PT08.S5(O3)\": 525,\n",
      "    \"T\": 1.2,\n",
      "    \"RH\": 87.77,\n",
      "    \"AH\": 0.47,\n",
      "    \"Date\": \"07/02/2005\",\n",
      "    \"Time\": \"00.00.00\"\n",
      "  }\n",
      "]\n"
     ]
    }
   ],
   "source": [
    "#Output for the first entry\n",
    "print(json.dumps(first_entry, indent = 2))"
   ]
  },
  {
   "cell_type": "code",
   "execution_count": 39,
   "id": "df98b4ee",
   "metadata": {},
   "outputs": [
    {
     "name": "stdout",
     "output_type": "stream",
     "text": [
      "[\n",
      "  {\n",
      "    \"CO(GT)\": 4.66,\n",
      "    \"PT08.S1(CO)\": 1317,\n",
      "    \"NMHC(GT)\": 122,\n",
      "    \"C6H6(GT)\": 19.8,\n",
      "    \"PT08.S2(NMHC)\": 1006,\n",
      "    \"NOx(GT)\": 82,\n",
      "    \"PT08.S3(NOx)\": 1119,\n",
      "    \"NO2(GT)\": 147,\n",
      "    \"PT08.S4(NO2)\": 1244,\n",
      "    \"PT08.S5(O3)\": 480,\n",
      "    \"T\": 26.91,\n",
      "    \"RH\": 59.16,\n",
      "    \"AH\": 1.21,\n",
      "    \"Date\": \"07/02/2005\",\n",
      "    \"Time\": \"06.00.00\"\n",
      "  },\n",
      "  {\n",
      "    \"CO(GT)\": 3.47,\n",
      "    \"PT08.S1(CO)\": 1576,\n",
      "    \"NMHC(GT)\": 281,\n",
      "    \"C6H6(GT)\": 11.73,\n",
      "    \"PT08.S2(NMHC)\": 880,\n",
      "    \"NOx(GT)\": 419,\n",
      "    \"PT08.S3(NOx)\": 327,\n",
      "    \"NO2(GT)\": 160,\n",
      "    \"PT08.S4(NO2)\": 1857,\n",
      "    \"PT08.S5(O3)\": 2017,\n",
      "    \"T\": 8.21,\n",
      "    \"RH\": 40.05,\n",
      "    \"AH\": 0.57,\n",
      "    \"Date\": \"07/02/2005\",\n",
      "    \"Time\": \"07.00.00\"\n",
      "  }\n",
      "]\n"
     ]
    }
   ],
   "source": [
    "#Output for the two last entries \n",
    "print(json.dumps(other_entries, indent = 2))"
   ]
  }
 ],
 "metadata": {
  "kernelspec": {
   "display_name": "Python 3 (ipykernel)",
   "language": "python",
   "name": "python3"
  },
  "language_info": {
   "codemirror_mode": {
    "name": "ipython",
    "version": 3
   },
   "file_extension": ".py",
   "mimetype": "text/x-python",
   "name": "python",
   "nbconvert_exporter": "python",
   "pygments_lexer": "ipython3",
   "version": "3.9.7"
  }
 },
 "nbformat": 4,
 "nbformat_minor": 5
}
