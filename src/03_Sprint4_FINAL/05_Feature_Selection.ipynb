{
 "cells": [
  {
   "cell_type": "markdown",
   "id": "003a8704",
   "metadata": {},
   "source": [
    "# Purpose of the Notebook\n",
    "\n",
    "What is meant by Feature Selection is that we are trying to select the (combination of) features which have the most positive impact on the performance of the model. "
   ]
  },
  {
   "cell_type": "markdown",
   "id": "41bc15d1",
   "metadata": {},
   "source": [
    "# Feature Selection\n",
    "\n",
    "In order to make a selection, the feature importance is determined using the coefficients of the model. Coefficients in multiple linear models represent the relationship between the given feature and the target, assuming that all the other features remain constant (conditional dependence). "
   ]
  },
  {
   "cell_type": "code",
   "execution_count": 1,
   "id": "c3de78f5",
   "metadata": {},
   "outputs": [],
   "source": [
    "# imports\n",
    "import pandas as pd\n",
    "import X3_Forecasting as forecast\n",
    "import orga_functions as org\n",
    "from sklearn.datasets import make_regression\n",
    "from sklearn.linear_model import LinearRegression\n",
    "import matplotlib.pyplot as plt\n",
    "from sklearn.model_selection import train_test_split\n",
    "from sklearn.metrics import mean_absolute_error"
   ]
  },
  {
   "cell_type": "markdown",
   "id": "82533776",
   "metadata": {},
   "source": [
    "Since the coefficients used by the model to calculate the prediction depend on the scale in which the values of the respective feature vary, the **normalized dataset** is used to determine the feature importance. In this dataset, the values of all features vary on the same scale."
   ]
  },
  {
   "cell_type": "code",
   "execution_count": 2,
   "id": "c284bd29",
   "metadata": {
    "scrolled": false
   },
   "outputs": [],
   "source": [
    "# read in the data\n",
    "df = pd.read_csv(org.path(\"03_AirQuality_normalized.csv\"), sep=';')"
   ]
  },
  {
   "cell_type": "markdown",
   "id": "385d6763",
   "metadata": {},
   "source": [
    "The model must be trained to be able to extract the coefficients from it. Therefore, a time shift has to be applied first to get the target column 'ah_target':"
   ]
  },
  {
   "cell_type": "code",
   "execution_count": 3,
   "id": "a1a7f685",
   "metadata": {},
   "outputs": [],
   "source": [
    "# shift abs humidty values by 6 hrs\n",
    "target = 'ah_target'\n",
    "df[target] = df.ah.shift(periods=-6)"
   ]
  },
  {
   "cell_type": "code",
   "execution_count": 4,
   "id": "d2aa9132",
   "metadata": {},
   "outputs": [
    {
     "data": {
      "text/html": [
       "<div>\n",
       "<style scoped>\n",
       "    .dataframe tbody tr th:only-of-type {\n",
       "        vertical-align: middle;\n",
       "    }\n",
       "\n",
       "    .dataframe tbody tr th {\n",
       "        vertical-align: top;\n",
       "    }\n",
       "\n",
       "    .dataframe thead th {\n",
       "        text-align: right;\n",
       "    }\n",
       "</style>\n",
       "<table border=\"1\" class=\"dataframe\">\n",
       "  <thead>\n",
       "    <tr style=\"text-align: right;\">\n",
       "      <th></th>\n",
       "      <th>date</th>\n",
       "      <th>co_gt</th>\n",
       "      <th>pt08_s1_co</th>\n",
       "      <th>nmhc_gt</th>\n",
       "      <th>c6h6_gt</th>\n",
       "      <th>pt08_s2_nmhc</th>\n",
       "      <th>nox_gt</th>\n",
       "      <th>pt08_s3_nox</th>\n",
       "      <th>no2_gt</th>\n",
       "      <th>pt08_s4_no2</th>\n",
       "      <th>pt08_s5_o3</th>\n",
       "      <th>t</th>\n",
       "      <th>rh</th>\n",
       "      <th>ah</th>\n",
       "      <th>ah_target</th>\n",
       "    </tr>\n",
       "  </thead>\n",
       "  <tbody>\n",
       "    <tr>\n",
       "      <th>0</th>\n",
       "      <td>2004-03-10 18:00:00</td>\n",
       "      <td>0.454545</td>\n",
       "      <td>0.688224</td>\n",
       "      <td>0.225197</td>\n",
       "      <td>0.409722</td>\n",
       "      <td>0.311975</td>\n",
       "      <td>0.263242</td>\n",
       "      <td>0.649558</td>\n",
       "      <td>0.509174</td>\n",
       "      <td>0.616822</td>\n",
       "      <td>0.557692</td>\n",
       "      <td>0.308585</td>\n",
       "      <td>0.499371</td>\n",
       "      <td>0.7578</td>\n",
       "      <td>0.7603</td>\n",
       "    </tr>\n",
       "    <tr>\n",
       "      <th>1</th>\n",
       "      <td>2004-03-10 19:00:00</td>\n",
       "      <td>0.345455</td>\n",
       "      <td>0.622587</td>\n",
       "      <td>0.165354</td>\n",
       "      <td>0.322917</td>\n",
       "      <td>0.216387</td>\n",
       "      <td>0.162119</td>\n",
       "      <td>0.753982</td>\n",
       "      <td>0.412844</td>\n",
       "      <td>0.533956</td>\n",
       "      <td>0.395055</td>\n",
       "      <td>0.301624</td>\n",
       "      <td>0.484277</td>\n",
       "      <td>0.7255</td>\n",
       "      <td>0.7702</td>\n",
       "    </tr>\n",
       "    <tr>\n",
       "      <th>2</th>\n",
       "      <td>2004-03-10 20:00:00</td>\n",
       "      <td>0.381818</td>\n",
       "      <td>0.728764</td>\n",
       "      <td>0.127559</td>\n",
       "      <td>0.309028</td>\n",
       "      <td>0.199580</td>\n",
       "      <td>0.207063</td>\n",
       "      <td>0.723894</td>\n",
       "      <td>0.513761</td>\n",
       "      <td>0.531464</td>\n",
       "      <td>0.451099</td>\n",
       "      <td>0.269142</td>\n",
       "      <td>0.563522</td>\n",
       "      <td>0.7502</td>\n",
       "      <td>0.7648</td>\n",
       "    </tr>\n",
       "    <tr>\n",
       "      <th>3</th>\n",
       "      <td>2004-03-10 21:00:00</td>\n",
       "      <td>0.381818</td>\n",
       "      <td>0.703668</td>\n",
       "      <td>0.114961</td>\n",
       "      <td>0.315972</td>\n",
       "      <td>0.209034</td>\n",
       "      <td>0.272873</td>\n",
       "      <td>0.681416</td>\n",
       "      <td>0.550459</td>\n",
       "      <td>0.549533</td>\n",
       "      <td>0.521978</td>\n",
       "      <td>0.248260</td>\n",
       "      <td>0.638994</td>\n",
       "      <td>0.7867</td>\n",
       "      <td>0.7517</td>\n",
       "    </tr>\n",
       "    <tr>\n",
       "      <th>4</th>\n",
       "      <td>2004-03-10 22:00:00</td>\n",
       "      <td>0.272727</td>\n",
       "      <td>0.603282</td>\n",
       "      <td>0.069291</td>\n",
       "      <td>0.222222</td>\n",
       "      <td>0.091387</td>\n",
       "      <td>0.207063</td>\n",
       "      <td>0.781416</td>\n",
       "      <td>0.522936</td>\n",
       "      <td>0.490966</td>\n",
       "      <td>0.470879</td>\n",
       "      <td>0.252900</td>\n",
       "      <td>0.633962</td>\n",
       "      <td>0.7888</td>\n",
       "      <td>0.7465</td>\n",
       "    </tr>\n",
       "    <tr>\n",
       "      <th>5</th>\n",
       "      <td>2004-03-10 23:00:00</td>\n",
       "      <td>0.200000</td>\n",
       "      <td>0.530888</td>\n",
       "      <td>0.048819</td>\n",
       "      <td>0.159722</td>\n",
       "      <td>0.001050</td>\n",
       "      <td>0.139647</td>\n",
       "      <td>0.898230</td>\n",
       "      <td>0.431193</td>\n",
       "      <td>0.430530</td>\n",
       "      <td>0.382418</td>\n",
       "      <td>0.252900</td>\n",
       "      <td>0.628931</td>\n",
       "      <td>0.7848</td>\n",
       "      <td>0.7366</td>\n",
       "    </tr>\n",
       "    <tr>\n",
       "      <th>6</th>\n",
       "      <td>2004-03-11 00:00:00</td>\n",
       "      <td>0.200000</td>\n",
       "      <td>0.519305</td>\n",
       "      <td>0.037795</td>\n",
       "      <td>0.121528</td>\n",
       "      <td>0.214894</td>\n",
       "      <td>0.096308</td>\n",
       "      <td>0.466162</td>\n",
       "      <td>0.344037</td>\n",
       "      <td>0.393146</td>\n",
       "      <td>0.263736</td>\n",
       "      <td>0.255220</td>\n",
       "      <td>0.598742</td>\n",
       "      <td>0.7603</td>\n",
       "      <td>0.7353</td>\n",
       "    </tr>\n",
       "    <tr>\n",
       "      <th>7</th>\n",
       "      <td>2004-03-11 01:00:00</td>\n",
       "      <td>0.163636</td>\n",
       "      <td>0.472008</td>\n",
       "      <td>0.037795</td>\n",
       "      <td>0.111111</td>\n",
       "      <td>0.214894</td>\n",
       "      <td>0.096308</td>\n",
       "      <td>0.466162</td>\n",
       "      <td>0.339450</td>\n",
       "      <td>0.393146</td>\n",
       "      <td>0.262088</td>\n",
       "      <td>0.241299</td>\n",
       "      <td>0.638994</td>\n",
       "      <td>0.7702</td>\n",
       "      <td>0.7417</td>\n",
       "    </tr>\n",
       "  </tbody>\n",
       "</table>\n",
       "</div>"
      ],
      "text/plain": [
       "                  date     co_gt  pt08_s1_co   nmhc_gt   c6h6_gt  \\\n",
       "0  2004-03-10 18:00:00  0.454545    0.688224  0.225197  0.409722   \n",
       "1  2004-03-10 19:00:00  0.345455    0.622587  0.165354  0.322917   \n",
       "2  2004-03-10 20:00:00  0.381818    0.728764  0.127559  0.309028   \n",
       "3  2004-03-10 21:00:00  0.381818    0.703668  0.114961  0.315972   \n",
       "4  2004-03-10 22:00:00  0.272727    0.603282  0.069291  0.222222   \n",
       "5  2004-03-10 23:00:00  0.200000    0.530888  0.048819  0.159722   \n",
       "6  2004-03-11 00:00:00  0.200000    0.519305  0.037795  0.121528   \n",
       "7  2004-03-11 01:00:00  0.163636    0.472008  0.037795  0.111111   \n",
       "\n",
       "   pt08_s2_nmhc    nox_gt  pt08_s3_nox    no2_gt  pt08_s4_no2  pt08_s5_o3  \\\n",
       "0      0.311975  0.263242     0.649558  0.509174     0.616822    0.557692   \n",
       "1      0.216387  0.162119     0.753982  0.412844     0.533956    0.395055   \n",
       "2      0.199580  0.207063     0.723894  0.513761     0.531464    0.451099   \n",
       "3      0.209034  0.272873     0.681416  0.550459     0.549533    0.521978   \n",
       "4      0.091387  0.207063     0.781416  0.522936     0.490966    0.470879   \n",
       "5      0.001050  0.139647     0.898230  0.431193     0.430530    0.382418   \n",
       "6      0.214894  0.096308     0.466162  0.344037     0.393146    0.263736   \n",
       "7      0.214894  0.096308     0.466162  0.339450     0.393146    0.262088   \n",
       "\n",
       "          t        rh      ah  ah_target  \n",
       "0  0.308585  0.499371  0.7578     0.7603  \n",
       "1  0.301624  0.484277  0.7255     0.7702  \n",
       "2  0.269142  0.563522  0.7502     0.7648  \n",
       "3  0.248260  0.638994  0.7867     0.7517  \n",
       "4  0.252900  0.633962  0.7888     0.7465  \n",
       "5  0.252900  0.628931  0.7848     0.7366  \n",
       "6  0.255220  0.598742  0.7603     0.7353  \n",
       "7  0.241299  0.638994  0.7702     0.7417  "
      ]
     },
     "execution_count": 4,
     "metadata": {},
     "output_type": "execute_result"
    }
   ],
   "source": [
    "# check for difference\n",
    "df.head(8)"
   ]
  },
  {
   "cell_type": "markdown",
   "id": "0f7666fc",
   "metadata": {},
   "source": [
    "> As you can see, in each case a target value corresponds to the value that was actually measured 6 hours later."
   ]
  },
  {
   "cell_type": "markdown",
   "id": "ca37b7ce",
   "metadata": {},
   "source": [
    "Drop rows where target is unknown (last 6 rows with NaN ah_target):"
   ]
  },
  {
   "cell_type": "code",
   "execution_count": 5,
   "id": "42a268c3",
   "metadata": {},
   "outputs": [],
   "source": [
    "# drop unknown target-rows\n",
    "df.dropna(subset=[target], inplace=True)"
   ]
  },
  {
   "cell_type": "markdown",
   "id": "32d692e3",
   "metadata": {},
   "source": [
    "Split the Dataset into a set for training the model and one for testing its performance:"
   ]
  },
  {
   "cell_type": "code",
   "execution_count": 6,
   "id": "a4baf778",
   "metadata": {},
   "outputs": [],
   "source": [
    "# Train-/ test-split\n",
    "training, test = train_test_split(df, test_size=1000, shuffle=False, random_state=1999)"
   ]
  },
  {
   "cell_type": "markdown",
   "id": "b61b9e86",
   "metadata": {},
   "source": [
    "Definition of the features that are to be used to train the model. Be careful, because this also restricts the features for which the coefficient is obtained.\n",
    "In this case, 'date' and 'ah_target' is being omitted because it's not necessary."
   ]
  },
  {
   "cell_type": "code",
   "execution_count": 7,
   "id": "e040b7c5",
   "metadata": {},
   "outputs": [],
   "source": [
    "features = ['co_gt', 'pt08_s1_co',\"c6h6_gt\",\"pt08_s2_nmhc\", \"nox_gt\", \"pt08_s3_nox\",\"no2_gt\", \"pt08_s4_no2\",\"pt08_s5_o3\", \"t\", \"ah\"]"
   ]
  },
  {
   "cell_type": "markdown",
   "id": "93cdef28",
   "metadata": {},
   "source": [
    "Split the training set and the test set into input (Xi) and target (y):"
   ]
  },
  {
   "cell_type": "code",
   "execution_count": 8,
   "id": "b9787c52",
   "metadata": {},
   "outputs": [],
   "source": [
    "# Split into input and target\n",
    "X_train = training[features]\n",
    "y_train = training[target]\n",
    "x_test = test[features]\n",
    "y_test = test[target]"
   ]
  },
  {
   "cell_type": "markdown",
   "id": "52ebcb3e",
   "metadata": {},
   "source": [
    "Defining the model and training it:"
   ]
  },
  {
   "cell_type": "code",
   "execution_count": 9,
   "id": "d1f24cad",
   "metadata": {},
   "outputs": [
    {
     "data": {
      "text/html": [
       "<style>#sk-container-id-1 {color: black;background-color: white;}#sk-container-id-1 pre{padding: 0;}#sk-container-id-1 div.sk-toggleable {background-color: white;}#sk-container-id-1 label.sk-toggleable__label {cursor: pointer;display: block;width: 100%;margin-bottom: 0;padding: 0.3em;box-sizing: border-box;text-align: center;}#sk-container-id-1 label.sk-toggleable__label-arrow:before {content: \"▸\";float: left;margin-right: 0.25em;color: #696969;}#sk-container-id-1 label.sk-toggleable__label-arrow:hover:before {color: black;}#sk-container-id-1 div.sk-estimator:hover label.sk-toggleable__label-arrow:before {color: black;}#sk-container-id-1 div.sk-toggleable__content {max-height: 0;max-width: 0;overflow: hidden;text-align: left;background-color: #f0f8ff;}#sk-container-id-1 div.sk-toggleable__content pre {margin: 0.2em;color: black;border-radius: 0.25em;background-color: #f0f8ff;}#sk-container-id-1 input.sk-toggleable__control:checked~div.sk-toggleable__content {max-height: 200px;max-width: 100%;overflow: auto;}#sk-container-id-1 input.sk-toggleable__control:checked~label.sk-toggleable__label-arrow:before {content: \"▾\";}#sk-container-id-1 div.sk-estimator input.sk-toggleable__control:checked~label.sk-toggleable__label {background-color: #d4ebff;}#sk-container-id-1 div.sk-label input.sk-toggleable__control:checked~label.sk-toggleable__label {background-color: #d4ebff;}#sk-container-id-1 input.sk-hidden--visually {border: 0;clip: rect(1px 1px 1px 1px);clip: rect(1px, 1px, 1px, 1px);height: 1px;margin: -1px;overflow: hidden;padding: 0;position: absolute;width: 1px;}#sk-container-id-1 div.sk-estimator {font-family: monospace;background-color: #f0f8ff;border: 1px dotted black;border-radius: 0.25em;box-sizing: border-box;margin-bottom: 0.5em;}#sk-container-id-1 div.sk-estimator:hover {background-color: #d4ebff;}#sk-container-id-1 div.sk-parallel-item::after {content: \"\";width: 100%;border-bottom: 1px solid gray;flex-grow: 1;}#sk-container-id-1 div.sk-label:hover label.sk-toggleable__label {background-color: #d4ebff;}#sk-container-id-1 div.sk-serial::before {content: \"\";position: absolute;border-left: 1px solid gray;box-sizing: border-box;top: 0;bottom: 0;left: 50%;z-index: 0;}#sk-container-id-1 div.sk-serial {display: flex;flex-direction: column;align-items: center;background-color: white;padding-right: 0.2em;padding-left: 0.2em;position: relative;}#sk-container-id-1 div.sk-item {position: relative;z-index: 1;}#sk-container-id-1 div.sk-parallel {display: flex;align-items: stretch;justify-content: center;background-color: white;position: relative;}#sk-container-id-1 div.sk-item::before, #sk-container-id-1 div.sk-parallel-item::before {content: \"\";position: absolute;border-left: 1px solid gray;box-sizing: border-box;top: 0;bottom: 0;left: 50%;z-index: -1;}#sk-container-id-1 div.sk-parallel-item {display: flex;flex-direction: column;z-index: 1;position: relative;background-color: white;}#sk-container-id-1 div.sk-parallel-item:first-child::after {align-self: flex-end;width: 50%;}#sk-container-id-1 div.sk-parallel-item:last-child::after {align-self: flex-start;width: 50%;}#sk-container-id-1 div.sk-parallel-item:only-child::after {width: 0;}#sk-container-id-1 div.sk-dashed-wrapped {border: 1px dashed gray;margin: 0 0.4em 0.5em 0.4em;box-sizing: border-box;padding-bottom: 0.4em;background-color: white;}#sk-container-id-1 div.sk-label label {font-family: monospace;font-weight: bold;display: inline-block;line-height: 1.2em;}#sk-container-id-1 div.sk-label-container {text-align: center;}#sk-container-id-1 div.sk-container {/* jupyter's `normalize.less` sets `[hidden] { display: none; }` but bootstrap.min.css set `[hidden] { display: none !important; }` so we also need the `!important` here to be able to override the default hidden behavior on the sphinx rendered scikit-learn.org. See: https://github.com/scikit-learn/scikit-learn/issues/21755 */display: inline-block !important;position: relative;}#sk-container-id-1 div.sk-text-repr-fallback {display: none;}</style><div id=\"sk-container-id-1\" class=\"sk-top-container\"><div class=\"sk-text-repr-fallback\"><pre>LinearRegression()</pre><b>In a Jupyter environment, please rerun this cell to show the HTML representation or trust the notebook. <br />On GitHub, the HTML representation is unable to render, please try loading this page with nbviewer.org.</b></div><div class=\"sk-container\" hidden><div class=\"sk-item\"><div class=\"sk-estimator sk-toggleable\"><input class=\"sk-toggleable__control sk-hidden--visually\" id=\"sk-estimator-id-1\" type=\"checkbox\" checked><label for=\"sk-estimator-id-1\" class=\"sk-toggleable__label sk-toggleable__label-arrow\">LinearRegression</label><div class=\"sk-toggleable__content\"><pre>LinearRegression()</pre></div></div></div></div></div>"
      ],
      "text/plain": [
       "LinearRegression()"
      ]
     },
     "execution_count": 9,
     "metadata": {},
     "output_type": "execute_result"
    }
   ],
   "source": [
    "# define the model\n",
    "model = LinearRegression()\n",
    "\n",
    "# fit the model\n",
    "model.fit(X_train, y_train)"
   ]
  },
  {
   "cell_type": "markdown",
   "id": "c77addcd",
   "metadata": {},
   "source": [
    "Show the Coefficients for each feature:"
   ]
  },
  {
   "cell_type": "code",
   "execution_count": 10,
   "id": "df4e0154",
   "metadata": {},
   "outputs": [
    {
     "data": {
      "text/html": [
       "<div>\n",
       "<style scoped>\n",
       "    .dataframe tbody tr th:only-of-type {\n",
       "        vertical-align: middle;\n",
       "    }\n",
       "\n",
       "    .dataframe tbody tr th {\n",
       "        vertical-align: top;\n",
       "    }\n",
       "\n",
       "    .dataframe thead th {\n",
       "        text-align: right;\n",
       "    }\n",
       "</style>\n",
       "<table border=\"1\" class=\"dataframe\">\n",
       "  <thead>\n",
       "    <tr style=\"text-align: right;\">\n",
       "      <th></th>\n",
       "      <th>Coefficient</th>\n",
       "    </tr>\n",
       "    <tr>\n",
       "      <th>feature_names</th>\n",
       "      <th></th>\n",
       "    </tr>\n",
       "  </thead>\n",
       "  <tbody>\n",
       "    <tr>\n",
       "      <th>co_gt</th>\n",
       "      <td>0.028777</td>\n",
       "    </tr>\n",
       "    <tr>\n",
       "      <th>pt08_s1_co</th>\n",
       "      <td>-0.001742</td>\n",
       "    </tr>\n",
       "    <tr>\n",
       "      <th>c6h6_gt</th>\n",
       "      <td>0.037681</td>\n",
       "    </tr>\n",
       "    <tr>\n",
       "      <th>pt08_s2_nmhc</th>\n",
       "      <td>0.019976</td>\n",
       "    </tr>\n",
       "    <tr>\n",
       "      <th>nox_gt</th>\n",
       "      <td>-0.019546</td>\n",
       "    </tr>\n",
       "    <tr>\n",
       "      <th>pt08_s3_nox</th>\n",
       "      <td>-0.027832</td>\n",
       "    </tr>\n",
       "    <tr>\n",
       "      <th>no2_gt</th>\n",
       "      <td>-0.000379</td>\n",
       "    </tr>\n",
       "    <tr>\n",
       "      <th>pt08_s4_no2</th>\n",
       "      <td>-0.177317</td>\n",
       "    </tr>\n",
       "    <tr>\n",
       "      <th>pt08_s5_o3</th>\n",
       "      <td>0.032013</td>\n",
       "    </tr>\n",
       "    <tr>\n",
       "      <th>t</th>\n",
       "      <td>0.286913</td>\n",
       "    </tr>\n",
       "    <tr>\n",
       "      <th>ah</th>\n",
       "      <td>0.874710</td>\n",
       "    </tr>\n",
       "  </tbody>\n",
       "</table>\n",
       "</div>"
      ],
      "text/plain": [
       "               Coefficient\n",
       "feature_names             \n",
       "co_gt             0.028777\n",
       "pt08_s1_co       -0.001742\n",
       "c6h6_gt           0.037681\n",
       "pt08_s2_nmhc      0.019976\n",
       "nox_gt           -0.019546\n",
       "pt08_s3_nox      -0.027832\n",
       "no2_gt           -0.000379\n",
       "pt08_s4_no2      -0.177317\n",
       "pt08_s5_o3        0.032013\n",
       "t                 0.286913\n",
       "ah                0.874710"
      ]
     },
     "execution_count": 10,
     "metadata": {},
     "output_type": "execute_result"
    }
   ],
   "source": [
    "# get importance\n",
    "importance = model.coef_\n",
    "\n",
    "# summarize feature importance\n",
    "coefs = pd.DataFrame(\n",
    "    [importance]\n",
    ")\n",
    "coefs = coefs.T\n",
    "coefs.columns= ['Coefficient']\n",
    "coefs[\"feature_names\"] = pd.DataFrame(features)\n",
    "coefs.set_index(\"feature_names\", inplace=True)\n",
    "\n",
    "coefs"
   ]
  },
  {
   "cell_type": "markdown",
   "id": "517b61c8",
   "metadata": {},
   "source": [
    "Plotting of the table to determine important features more easily:"
   ]
  },
  {
   "cell_type": "code",
   "execution_count": 11,
   "id": "7ff9cd35",
   "metadata": {},
   "outputs": [
    {
     "data": {
      "image/png": "[encoded data removed]",
      "text/plain": [
       "<Figure size 1152x504 with 1 Axes>"
      ]
     },
     "metadata": {
      "needs_background": "light"
     },
     "output_type": "display_data"
    }
   ],
   "source": [
    "# plot feature importance\n",
    "coefs.plot.barh(figsize=(16, 7))\n",
    "plt.axvline(x=0, color=\".5\")\n",
    "plt.xlabel(\"Raw coefficient values\")\n",
    "plt.subplots_adjust(left=0.3)"
   ]
  },
  {
   "cell_type": "markdown",
   "id": "e8225dc9",
   "metadata": {},
   "source": [
    "> The Features 'ah', 't' and 'pt08_s4_no2' have the highest feature importance"
   ]
  },
  {
   "cell_type": "markdown",
   "id": "14a9ad38",
   "metadata": {},
   "source": [
    "# Testing the performance"
   ]
  },
  {
   "cell_type": "markdown",
   "id": "637e7b3f",
   "metadata": {},
   "source": [
    "Definition of the features that are to be used to train the model. This time, the model is being trained with the most important features to determine their impact on performance. \n",
    "\n",
    "The method to find the best performing combination of features works by first finding out the performance when all features are being used to train the model. Then one feature at a time is removed and measured again. The order in which the features are removed is determined by sorting by the ascending absolute value of the coefficient. So the feature with the smallest absolute coefficient is removed first."
   ]
  },
  {
   "cell_type": "code",
   "execution_count": 12,
   "id": "aa094250",
   "metadata": {},
   "outputs": [],
   "source": [
    "# feature combination - performance (mean absolute error)\n",
    "\n",
    "# features = [\"co_gt\", \"c6h6_gt\",\"pt08_s2_nmhc\", \"nox_gt\", \"pt08_s3_nox\", \"pt08_s4_no2\",\"pt08_s5_o3\", \"t\", \"ah\"] - 0.06295\n",
    "# features = [\"co_gt\", \"c6h6_gt\", \"nox_gt\", \"pt08_s3_nox\", \"pt08_s4_no2\",\"pt08_s5_o3\", \"t\", \"ah\"] - 0.06281\n",
    "# features = [\"co_gt\", \"c6h6_gt\", \"pt08_s3_nox\", \"pt08_s4_no2\",\"pt08_s5_o3\", \"t\", \"ah\"] - 0.06214\n",
    "# features = [\"co_gt\", \"c6h6_gt\", \"pt08_s4_no2\",\"pt08_s5_o3\", \"t\", \"ah\"] - 0.06153\n",
    "# features = [\"c6h6_gt\", \"pt08_s4_no2\",\"pt08_s5_o3\", \"t\", \"ah\"] - 0.06164\n",
    "# features = [\"c6h6_gt\", \"pt08_s4_no2\", \"t\", \"ah\"] - 0.06082\n",
    "# features = [\"pt08_s4_no2\", \"t\", \"ah\"] - 0.05871\n",
    "features = [\"t\", \"ah\"] # - 0.05639    --- Best performance here ---\n",
    "# features = [\"ah\"] - 0.07291\n",
    "\n",
    "# --- 'ah' normalized: \n",
    "\n",
    "# features = [\"t\", \"ah\"] - 0.02775 !!    (see #TODO 1 at the end)"
   ]
  },
  {
   "cell_type": "code",
   "execution_count": 13,
   "id": "a4e120ff",
   "metadata": {},
   "outputs": [
    {
     "data": {
      "text/plain": [
       "0.0563969743878939"
      ]
     },
     "execution_count": 13,
     "metadata": {},
     "output_type": "execute_result"
    }
   ],
   "source": [
    "# Split into input and target\n",
    "X_train = training[features]\n",
    "y_train = training[target]\n",
    "x_test = test[features]\n",
    "y_test = test[target]\n",
    "\n",
    "# fit the model\n",
    "model.fit(X_train, y_train)\n",
    "\n",
    "# make prediction\n",
    "pred_linr_y = model.predict(x_test)\n",
    "\n",
    "# calculate mean absolute error between prediction an target\n",
    "mean_absolute_error(y_test, pred_linr_y)"
   ]
  },
  {
   "cell_type": "markdown",
   "id": "6d770d7a",
   "metadata": {},
   "source": [
    "# ToDo's - Opportunities for improvement\n",
    "\n",
    "Below you will find some concepts that could improve the pipeline, but which have not yet been implemented due to time constraints or other reasons."
   ]
  },
  {
   "cell_type": "code",
   "execution_count": 15,
   "id": "b98d38b9",
   "metadata": {},
   "outputs": [],
   "source": [
    "#TODO 1: The column 'ah' can be normalized too in step 4 (Feature Scaling). \n",
    "#        This will improve the performance quite a bit, as you can tell from the list \n",
    "#        of performance values per combination. The last performance value belongs to the best combination, \n",
    "#        but with previously normalized 'ah' column. As you can see, the performance is almost doubled (!). \n",
    "#        The reason why this has not yet been implemented is that it would have an impact on other parts of the pipeline, \n",
    "#        which could not be addressed due to time constraints. For example, a prediction made by the model \n",
    "#        would first have to be calculated back to the original scaling before the value could be interpreted."
   ]
  }
 ],
 "metadata": {
  "kernelspec": {
   "display_name": "Python 3 (ipykernel)",
   "language": "python",
   "name": "python3"
  },
  "language_info": {
   "codemirror_mode": {
    "name": "ipython",
    "version": 3
   },
   "file_extension": ".py",
   "mimetype": "text/x-python",
   "name": "python",
   "nbconvert_exporter": "python",
   "pygments_lexer": "ipython3",
   "version": "3.9.7"
  }
 },
 "nbformat": 4,
 "nbformat_minor": 5
}
