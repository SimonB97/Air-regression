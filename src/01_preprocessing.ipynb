{
 "cells": [
  {
   "cell_type": "code",
   "execution_count": 1,
   "id": "d8a7e37b",
   "metadata": {},
   "outputs": [],
   "source": [
    "# imports\n",
    "import pandas as pd"
   ]
  },
  {
   "cell_type": "code",
   "execution_count": 2,
   "id": "5e083356",
   "metadata": {},
   "outputs": [],
   "source": [
    "# read in the dataframe\n",
    "path = 'AirQuality_train.csv'\n",
    "df = pd.read_csv(path, sep=';')"
   ]
  },
  {
   "cell_type": "markdown",
   "id": "9f697d70",
   "metadata": {},
   "source": [
    "# Untersuchung des Train-Datensatzes"
   ]
  },
  {
   "cell_type": "code",
   "execution_count": 3,
   "id": "80a9b91b",
   "metadata": {},
   "outputs": [
    {
     "data": {
      "text/html": [
       "<div>\n",
       "<style scoped>\n",
       "    .dataframe tbody tr th:only-of-type {\n",
       "        vertical-align: middle;\n",
       "    }\n",
       "\n",
       "    .dataframe tbody tr th {\n",
       "        vertical-align: top;\n",
       "    }\n",
       "\n",
       "    .dataframe thead th {\n",
       "        text-align: right;\n",
       "    }\n",
       "</style>\n",
       "<table border=\"1\" class=\"dataframe\">\n",
       "  <thead>\n",
       "    <tr style=\"text-align: right;\">\n",
       "      <th></th>\n",
       "      <th>Date</th>\n",
       "      <th>Time</th>\n",
       "      <th>CO(GT)</th>\n",
       "      <th>PT08.S1(CO)</th>\n",
       "      <th>NMHC(GT)</th>\n",
       "      <th>C6H6(GT)</th>\n",
       "      <th>PT08.S2(NMHC)</th>\n",
       "      <th>NOx(GT)</th>\n",
       "      <th>PT08.S3(NOx)</th>\n",
       "      <th>NO2(GT)</th>\n",
       "      <th>PT08.S4(NO2)</th>\n",
       "      <th>PT08.S5(O3)</th>\n",
       "      <th>T</th>\n",
       "      <th>RH</th>\n",
       "      <th>AH</th>\n",
       "      <th>Unnamed: 15</th>\n",
       "      <th>Unnamed: 16</th>\n",
       "    </tr>\n",
       "  </thead>\n",
       "  <tbody>\n",
       "    <tr>\n",
       "      <th>0</th>\n",
       "      <td>10/03/2004</td>\n",
       "      <td>18.00.00</td>\n",
       "      <td>2.6</td>\n",
       "      <td>1360</td>\n",
       "      <td>150</td>\n",
       "      <td>11.9</td>\n",
       "      <td>1046</td>\n",
       "      <td>166</td>\n",
       "      <td>1056</td>\n",
       "      <td>113</td>\n",
       "      <td>1692</td>\n",
       "      <td>1268</td>\n",
       "      <td>13.6</td>\n",
       "      <td>48.9</td>\n",
       "      <td>0.7578</td>\n",
       "      <td>NaN</td>\n",
       "      <td>NaN</td>\n",
       "    </tr>\n",
       "    <tr>\n",
       "      <th>1</th>\n",
       "      <td>10/03/2004</td>\n",
       "      <td>19.00.00</td>\n",
       "      <td>2.0</td>\n",
       "      <td>1292</td>\n",
       "      <td>112</td>\n",
       "      <td>9.4</td>\n",
       "      <td>955</td>\n",
       "      <td>103</td>\n",
       "      <td>1174</td>\n",
       "      <td>92</td>\n",
       "      <td>1559</td>\n",
       "      <td>972</td>\n",
       "      <td>13.3</td>\n",
       "      <td>47.7</td>\n",
       "      <td>0.7255</td>\n",
       "      <td>NaN</td>\n",
       "      <td>NaN</td>\n",
       "    </tr>\n",
       "    <tr>\n",
       "      <th>2</th>\n",
       "      <td>10/03/2004</td>\n",
       "      <td>20.00.00</td>\n",
       "      <td>2.2</td>\n",
       "      <td>1402</td>\n",
       "      <td>88</td>\n",
       "      <td>9.0</td>\n",
       "      <td>939</td>\n",
       "      <td>131</td>\n",
       "      <td>1140</td>\n",
       "      <td>114</td>\n",
       "      <td>1555</td>\n",
       "      <td>1074</td>\n",
       "      <td>11.9</td>\n",
       "      <td>54.0</td>\n",
       "      <td>0.7502</td>\n",
       "      <td>NaN</td>\n",
       "      <td>NaN</td>\n",
       "    </tr>\n",
       "    <tr>\n",
       "      <th>3</th>\n",
       "      <td>10/03/2004</td>\n",
       "      <td>21.00.00</td>\n",
       "      <td>2.2</td>\n",
       "      <td>1376</td>\n",
       "      <td>80</td>\n",
       "      <td>9.2</td>\n",
       "      <td>948</td>\n",
       "      <td>172</td>\n",
       "      <td>1092</td>\n",
       "      <td>122</td>\n",
       "      <td>1584</td>\n",
       "      <td>1203</td>\n",
       "      <td>11.0</td>\n",
       "      <td>60.0</td>\n",
       "      <td>0.7867</td>\n",
       "      <td>NaN</td>\n",
       "      <td>NaN</td>\n",
       "    </tr>\n",
       "    <tr>\n",
       "      <th>4</th>\n",
       "      <td>10/03/2004</td>\n",
       "      <td>22.00.00</td>\n",
       "      <td>1.6</td>\n",
       "      <td>1272</td>\n",
       "      <td>51</td>\n",
       "      <td>6.5</td>\n",
       "      <td>836</td>\n",
       "      <td>131</td>\n",
       "      <td>1205</td>\n",
       "      <td>116</td>\n",
       "      <td>1490</td>\n",
       "      <td>1110</td>\n",
       "      <td>11.2</td>\n",
       "      <td>59.6</td>\n",
       "      <td>0.7888</td>\n",
       "      <td>NaN</td>\n",
       "      <td>NaN</td>\n",
       "    </tr>\n",
       "    <tr>\n",
       "      <th>...</th>\n",
       "      <td>...</td>\n",
       "      <td>...</td>\n",
       "      <td>...</td>\n",
       "      <td>...</td>\n",
       "      <td>...</td>\n",
       "      <td>...</td>\n",
       "      <td>...</td>\n",
       "      <td>...</td>\n",
       "      <td>...</td>\n",
       "      <td>...</td>\n",
       "      <td>...</td>\n",
       "      <td>...</td>\n",
       "      <td>...</td>\n",
       "      <td>...</td>\n",
       "      <td>...</td>\n",
       "      <td>...</td>\n",
       "      <td>...</td>\n",
       "    </tr>\n",
       "    <tr>\n",
       "      <th>6393</th>\n",
       "      <td>02/12/2004</td>\n",
       "      <td>03.00.00</td>\n",
       "      <td>1.1</td>\n",
       "      <td>928</td>\n",
       "      <td>-200</td>\n",
       "      <td>3.8</td>\n",
       "      <td>699</td>\n",
       "      <td>-200</td>\n",
       "      <td>1930</td>\n",
       "      <td>-200</td>\n",
       "      <td>1198</td>\n",
       "      <td>785</td>\n",
       "      <td>11.9</td>\n",
       "      <td>78.2</td>\n",
       "      <td>1.0856</td>\n",
       "      <td>NaN</td>\n",
       "      <td>NaN</td>\n",
       "    </tr>\n",
       "    <tr>\n",
       "      <th>6394</th>\n",
       "      <td>02/12/2004</td>\n",
       "      <td>04.00.00</td>\n",
       "      <td>0.9</td>\n",
       "      <td>889</td>\n",
       "      <td>-200</td>\n",
       "      <td>2.9</td>\n",
       "      <td>646</td>\n",
       "      <td>131</td>\n",
       "      <td>2047</td>\n",
       "      <td>70</td>\n",
       "      <td>1163</td>\n",
       "      <td>743</td>\n",
       "      <td>12.0</td>\n",
       "      <td>77.4</td>\n",
       "      <td>1.0825</td>\n",
       "      <td>NaN</td>\n",
       "      <td>NaN</td>\n",
       "    </tr>\n",
       "    <tr>\n",
       "      <th>6395</th>\n",
       "      <td>02/12/2004</td>\n",
       "      <td>05.00.00</td>\n",
       "      <td>0.7</td>\n",
       "      <td>880</td>\n",
       "      <td>-200</td>\n",
       "      <td>2.4</td>\n",
       "      <td>610</td>\n",
       "      <td>101</td>\n",
       "      <td>2095</td>\n",
       "      <td>59</td>\n",
       "      <td>1150</td>\n",
       "      <td>711</td>\n",
       "      <td>12.0</td>\n",
       "      <td>78.0</td>\n",
       "      <td>1.0940</td>\n",
       "      <td>NaN</td>\n",
       "      <td>NaN</td>\n",
       "    </tr>\n",
       "    <tr>\n",
       "      <th>6396</th>\n",
       "      <td>02/12/2004</td>\n",
       "      <td>06.00.00</td>\n",
       "      <td>0.9</td>\n",
       "      <td>919</td>\n",
       "      <td>-200</td>\n",
       "      <td>4.0</td>\n",
       "      <td>711</td>\n",
       "      <td>189</td>\n",
       "      <td>1667</td>\n",
       "      <td>74</td>\n",
       "      <td>1195</td>\n",
       "      <td>819</td>\n",
       "      <td>12.4</td>\n",
       "      <td>75.3</td>\n",
       "      <td>1.0813</td>\n",
       "      <td>NaN</td>\n",
       "      <td>NaN</td>\n",
       "    </tr>\n",
       "    <tr>\n",
       "      <th>6397</th>\n",
       "      <td>02/12/2004</td>\n",
       "      <td>07.00.00</td>\n",
       "      <td>1.4</td>\n",
       "      <td>1073</td>\n",
       "      <td>-200</td>\n",
       "      <td>7.2</td>\n",
       "      <td>867</td>\n",
       "      <td>336</td>\n",
       "      <td>768</td>\n",
       "      <td>89</td>\n",
       "      <td>1329</td>\n",
       "      <td>981</td>\n",
       "      <td>12.5</td>\n",
       "      <td>76.4</td>\n",
       "      <td>1.1021</td>\n",
       "      <td>NaN</td>\n",
       "      <td>NaN</td>\n",
       "    </tr>\n",
       "  </tbody>\n",
       "</table>\n",
       "<p>6398 rows × 17 columns</p>\n",
       "</div>"
      ],
      "text/plain": [
       "            Date      Time  CO(GT)  PT08.S1(CO)  NMHC(GT)  C6H6(GT)  \\\n",
       "0     10/03/2004  18.00.00     2.6         1360       150      11.9   \n",
       "1     10/03/2004  19.00.00     2.0         1292       112       9.4   \n",
       "2     10/03/2004  20.00.00     2.2         1402        88       9.0   \n",
       "3     10/03/2004  21.00.00     2.2         1376        80       9.2   \n",
       "4     10/03/2004  22.00.00     1.6         1272        51       6.5   \n",
       "...          ...       ...     ...          ...       ...       ...   \n",
       "6393  02/12/2004  03.00.00     1.1          928      -200       3.8   \n",
       "6394  02/12/2004  04.00.00     0.9          889      -200       2.9   \n",
       "6395  02/12/2004  05.00.00     0.7          880      -200       2.4   \n",
       "6396  02/12/2004  06.00.00     0.9          919      -200       4.0   \n",
       "6397  02/12/2004  07.00.00     1.4         1073      -200       7.2   \n",
       "\n",
       "      PT08.S2(NMHC)  NOx(GT)  PT08.S3(NOx)  NO2(GT)  PT08.S4(NO2)  \\\n",
       "0              1046      166          1056      113          1692   \n",
       "1               955      103          1174       92          1559   \n",
       "2               939      131          1140      114          1555   \n",
       "3               948      172          1092      122          1584   \n",
       "4               836      131          1205      116          1490   \n",
       "...             ...      ...           ...      ...           ...   \n",
       "6393            699     -200          1930     -200          1198   \n",
       "6394            646      131          2047       70          1163   \n",
       "6395            610      101          2095       59          1150   \n",
       "6396            711      189          1667       74          1195   \n",
       "6397            867      336           768       89          1329   \n",
       "\n",
       "      PT08.S5(O3)     T    RH      AH  Unnamed: 15  Unnamed: 16  \n",
       "0            1268  13.6  48.9  0.7578          NaN          NaN  \n",
       "1             972  13.3  47.7  0.7255          NaN          NaN  \n",
       "2            1074  11.9  54.0  0.7502          NaN          NaN  \n",
       "3            1203  11.0  60.0  0.7867          NaN          NaN  \n",
       "4            1110  11.2  59.6  0.7888          NaN          NaN  \n",
       "...           ...   ...   ...     ...          ...          ...  \n",
       "6393          785  11.9  78.2  1.0856          NaN          NaN  \n",
       "6394          743  12.0  77.4  1.0825          NaN          NaN  \n",
       "6395          711  12.0  78.0  1.0940          NaN          NaN  \n",
       "6396          819  12.4  75.3  1.0813          NaN          NaN  \n",
       "6397          981  12.5  76.4  1.1021          NaN          NaN  \n",
       "\n",
       "[6398 rows x 17 columns]"
      ]
     },
     "execution_count": 3,
     "metadata": {},
     "output_type": "execute_result"
    }
   ],
   "source": [
    "# first output\n",
    "df"
   ]
  },
  {
   "cell_type": "code",
   "execution_count": 4,
   "id": "fb398d11",
   "metadata": {},
   "outputs": [
    {
     "data": {
      "text/plain": [
       "(6398, 17)"
      ]
     },
     "execution_count": 4,
     "metadata": {},
     "output_type": "execute_result"
    }
   ],
   "source": [
    "# number of rows and columns\n",
    "df.shape"
   ]
  },
  {
   "cell_type": "markdown",
   "id": "aa4dcdcb",
   "metadata": {},
   "source": [
    "### Informationen"
   ]
  },
  {
   "cell_type": "code",
   "execution_count": 5,
   "id": "8a8f5d88",
   "metadata": {},
   "outputs": [
    {
     "data": {
      "text/plain": [
       "Date              object\n",
       "Time              object\n",
       "CO(GT)           float64\n",
       "PT08.S1(CO)        int64\n",
       "NMHC(GT)           int64\n",
       "C6H6(GT)         float64\n",
       "PT08.S2(NMHC)      int64\n",
       "NOx(GT)            int64\n",
       "PT08.S3(NOx)       int64\n",
       "NO2(GT)            int64\n",
       "PT08.S4(NO2)       int64\n",
       "PT08.S5(O3)        int64\n",
       "T                float64\n",
       "RH               float64\n",
       "AH               float64\n",
       "Unnamed: 15      float64\n",
       "Unnamed: 16      float64\n",
       "dtype: object"
      ]
     },
     "execution_count": 5,
     "metadata": {},
     "output_type": "execute_result"
    }
   ],
   "source": [
    "# checking datatypes of all columns\n",
    "df.dtypes"
   ]
  },
  {
   "cell_type": "markdown",
   "id": "d9c80c65",
   "metadata": {},
   "source": [
    "# Cleaning der Daten"
   ]
  },
  {
   "cell_type": "code",
   "execution_count": 6,
   "id": "861fcffa",
   "metadata": {},
   "outputs": [],
   "source": [
    "# Remove columns that only contains NaN/None/Null-values\n",
    "df.dropna(axis = \"columns\", how = \"all\", inplace = True)"
   ]
  },
  {
   "cell_type": "code",
   "execution_count": 7,
   "id": "62ee87c7",
   "metadata": {},
   "outputs": [
    {
     "data": {
      "text/html": [
       "<div>\n",
       "<style scoped>\n",
       "    .dataframe tbody tr th:only-of-type {\n",
       "        vertical-align: middle;\n",
       "    }\n",
       "\n",
       "    .dataframe tbody tr th {\n",
       "        vertical-align: top;\n",
       "    }\n",
       "\n",
       "    .dataframe thead th {\n",
       "        text-align: right;\n",
       "    }\n",
       "</style>\n",
       "<table border=\"1\" class=\"dataframe\">\n",
       "  <thead>\n",
       "    <tr style=\"text-align: right;\">\n",
       "      <th></th>\n",
       "      <th>Date</th>\n",
       "      <th>Time</th>\n",
       "      <th>CO(GT)</th>\n",
       "      <th>PT08.S1(CO)</th>\n",
       "      <th>NMHC(GT)</th>\n",
       "      <th>C6H6(GT)</th>\n",
       "      <th>PT08.S2(NMHC)</th>\n",
       "      <th>NOx(GT)</th>\n",
       "      <th>PT08.S3(NOx)</th>\n",
       "      <th>NO2(GT)</th>\n",
       "      <th>PT08.S4(NO2)</th>\n",
       "      <th>PT08.S5(O3)</th>\n",
       "      <th>T</th>\n",
       "      <th>RH</th>\n",
       "      <th>AH</th>\n",
       "    </tr>\n",
       "  </thead>\n",
       "  <tbody>\n",
       "    <tr>\n",
       "      <th>0</th>\n",
       "      <td>10/03/2004</td>\n",
       "      <td>18.00.00</td>\n",
       "      <td>2.6</td>\n",
       "      <td>1360</td>\n",
       "      <td>150</td>\n",
       "      <td>11.9</td>\n",
       "      <td>1046</td>\n",
       "      <td>166</td>\n",
       "      <td>1056</td>\n",
       "      <td>113</td>\n",
       "      <td>1692</td>\n",
       "      <td>1268</td>\n",
       "      <td>13.6</td>\n",
       "      <td>48.9</td>\n",
       "      <td>0.7578</td>\n",
       "    </tr>\n",
       "    <tr>\n",
       "      <th>1</th>\n",
       "      <td>10/03/2004</td>\n",
       "      <td>19.00.00</td>\n",
       "      <td>2.0</td>\n",
       "      <td>1292</td>\n",
       "      <td>112</td>\n",
       "      <td>9.4</td>\n",
       "      <td>955</td>\n",
       "      <td>103</td>\n",
       "      <td>1174</td>\n",
       "      <td>92</td>\n",
       "      <td>1559</td>\n",
       "      <td>972</td>\n",
       "      <td>13.3</td>\n",
       "      <td>47.7</td>\n",
       "      <td>0.7255</td>\n",
       "    </tr>\n",
       "    <tr>\n",
       "      <th>2</th>\n",
       "      <td>10/03/2004</td>\n",
       "      <td>20.00.00</td>\n",
       "      <td>2.2</td>\n",
       "      <td>1402</td>\n",
       "      <td>88</td>\n",
       "      <td>9.0</td>\n",
       "      <td>939</td>\n",
       "      <td>131</td>\n",
       "      <td>1140</td>\n",
       "      <td>114</td>\n",
       "      <td>1555</td>\n",
       "      <td>1074</td>\n",
       "      <td>11.9</td>\n",
       "      <td>54.0</td>\n",
       "      <td>0.7502</td>\n",
       "    </tr>\n",
       "    <tr>\n",
       "      <th>3</th>\n",
       "      <td>10/03/2004</td>\n",
       "      <td>21.00.00</td>\n",
       "      <td>2.2</td>\n",
       "      <td>1376</td>\n",
       "      <td>80</td>\n",
       "      <td>9.2</td>\n",
       "      <td>948</td>\n",
       "      <td>172</td>\n",
       "      <td>1092</td>\n",
       "      <td>122</td>\n",
       "      <td>1584</td>\n",
       "      <td>1203</td>\n",
       "      <td>11.0</td>\n",
       "      <td>60.0</td>\n",
       "      <td>0.7867</td>\n",
       "    </tr>\n",
       "    <tr>\n",
       "      <th>4</th>\n",
       "      <td>10/03/2004</td>\n",
       "      <td>22.00.00</td>\n",
       "      <td>1.6</td>\n",
       "      <td>1272</td>\n",
       "      <td>51</td>\n",
       "      <td>6.5</td>\n",
       "      <td>836</td>\n",
       "      <td>131</td>\n",
       "      <td>1205</td>\n",
       "      <td>116</td>\n",
       "      <td>1490</td>\n",
       "      <td>1110</td>\n",
       "      <td>11.2</td>\n",
       "      <td>59.6</td>\n",
       "      <td>0.7888</td>\n",
       "    </tr>\n",
       "    <tr>\n",
       "      <th>...</th>\n",
       "      <td>...</td>\n",
       "      <td>...</td>\n",
       "      <td>...</td>\n",
       "      <td>...</td>\n",
       "      <td>...</td>\n",
       "      <td>...</td>\n",
       "      <td>...</td>\n",
       "      <td>...</td>\n",
       "      <td>...</td>\n",
       "      <td>...</td>\n",
       "      <td>...</td>\n",
       "      <td>...</td>\n",
       "      <td>...</td>\n",
       "      <td>...</td>\n",
       "      <td>...</td>\n",
       "    </tr>\n",
       "    <tr>\n",
       "      <th>6393</th>\n",
       "      <td>02/12/2004</td>\n",
       "      <td>03.00.00</td>\n",
       "      <td>1.1</td>\n",
       "      <td>928</td>\n",
       "      <td>-200</td>\n",
       "      <td>3.8</td>\n",
       "      <td>699</td>\n",
       "      <td>-200</td>\n",
       "      <td>1930</td>\n",
       "      <td>-200</td>\n",
       "      <td>1198</td>\n",
       "      <td>785</td>\n",
       "      <td>11.9</td>\n",
       "      <td>78.2</td>\n",
       "      <td>1.0856</td>\n",
       "    </tr>\n",
       "    <tr>\n",
       "      <th>6394</th>\n",
       "      <td>02/12/2004</td>\n",
       "      <td>04.00.00</td>\n",
       "      <td>0.9</td>\n",
       "      <td>889</td>\n",
       "      <td>-200</td>\n",
       "      <td>2.9</td>\n",
       "      <td>646</td>\n",
       "      <td>131</td>\n",
       "      <td>2047</td>\n",
       "      <td>70</td>\n",
       "      <td>1163</td>\n",
       "      <td>743</td>\n",
       "      <td>12.0</td>\n",
       "      <td>77.4</td>\n",
       "      <td>1.0825</td>\n",
       "    </tr>\n",
       "    <tr>\n",
       "      <th>6395</th>\n",
       "      <td>02/12/2004</td>\n",
       "      <td>05.00.00</td>\n",
       "      <td>0.7</td>\n",
       "      <td>880</td>\n",
       "      <td>-200</td>\n",
       "      <td>2.4</td>\n",
       "      <td>610</td>\n",
       "      <td>101</td>\n",
       "      <td>2095</td>\n",
       "      <td>59</td>\n",
       "      <td>1150</td>\n",
       "      <td>711</td>\n",
       "      <td>12.0</td>\n",
       "      <td>78.0</td>\n",
       "      <td>1.0940</td>\n",
       "    </tr>\n",
       "    <tr>\n",
       "      <th>6396</th>\n",
       "      <td>02/12/2004</td>\n",
       "      <td>06.00.00</td>\n",
       "      <td>0.9</td>\n",
       "      <td>919</td>\n",
       "      <td>-200</td>\n",
       "      <td>4.0</td>\n",
       "      <td>711</td>\n",
       "      <td>189</td>\n",
       "      <td>1667</td>\n",
       "      <td>74</td>\n",
       "      <td>1195</td>\n",
       "      <td>819</td>\n",
       "      <td>12.4</td>\n",
       "      <td>75.3</td>\n",
       "      <td>1.0813</td>\n",
       "    </tr>\n",
       "    <tr>\n",
       "      <th>6397</th>\n",
       "      <td>02/12/2004</td>\n",
       "      <td>07.00.00</td>\n",
       "      <td>1.4</td>\n",
       "      <td>1073</td>\n",
       "      <td>-200</td>\n",
       "      <td>7.2</td>\n",
       "      <td>867</td>\n",
       "      <td>336</td>\n",
       "      <td>768</td>\n",
       "      <td>89</td>\n",
       "      <td>1329</td>\n",
       "      <td>981</td>\n",
       "      <td>12.5</td>\n",
       "      <td>76.4</td>\n",
       "      <td>1.1021</td>\n",
       "    </tr>\n",
       "  </tbody>\n",
       "</table>\n",
       "<p>6398 rows × 15 columns</p>\n",
       "</div>"
      ],
      "text/plain": [
       "            Date      Time  CO(GT)  PT08.S1(CO)  NMHC(GT)  C6H6(GT)  \\\n",
       "0     10/03/2004  18.00.00     2.6         1360       150      11.9   \n",
       "1     10/03/2004  19.00.00     2.0         1292       112       9.4   \n",
       "2     10/03/2004  20.00.00     2.2         1402        88       9.0   \n",
       "3     10/03/2004  21.00.00     2.2         1376        80       9.2   \n",
       "4     10/03/2004  22.00.00     1.6         1272        51       6.5   \n",
       "...          ...       ...     ...          ...       ...       ...   \n",
       "6393  02/12/2004  03.00.00     1.1          928      -200       3.8   \n",
       "6394  02/12/2004  04.00.00     0.9          889      -200       2.9   \n",
       "6395  02/12/2004  05.00.00     0.7          880      -200       2.4   \n",
       "6396  02/12/2004  06.00.00     0.9          919      -200       4.0   \n",
       "6397  02/12/2004  07.00.00     1.4         1073      -200       7.2   \n",
       "\n",
       "      PT08.S2(NMHC)  NOx(GT)  PT08.S3(NOx)  NO2(GT)  PT08.S4(NO2)  \\\n",
       "0              1046      166          1056      113          1692   \n",
       "1               955      103          1174       92          1559   \n",
       "2               939      131          1140      114          1555   \n",
       "3               948      172          1092      122          1584   \n",
       "4               836      131          1205      116          1490   \n",
       "...             ...      ...           ...      ...           ...   \n",
       "6393            699     -200          1930     -200          1198   \n",
       "6394            646      131          2047       70          1163   \n",
       "6395            610      101          2095       59          1150   \n",
       "6396            711      189          1667       74          1195   \n",
       "6397            867      336           768       89          1329   \n",
       "\n",
       "      PT08.S5(O3)     T    RH      AH  \n",
       "0            1268  13.6  48.9  0.7578  \n",
       "1             972  13.3  47.7  0.7255  \n",
       "2            1074  11.9  54.0  0.7502  \n",
       "3            1203  11.0  60.0  0.7867  \n",
       "4            1110  11.2  59.6  0.7888  \n",
       "...           ...   ...   ...     ...  \n",
       "6393          785  11.9  78.2  1.0856  \n",
       "6394          743  12.0  77.4  1.0825  \n",
       "6395          711  12.0  78.0  1.0940  \n",
       "6396          819  12.4  75.3  1.0813  \n",
       "6397          981  12.5  76.4  1.1021  \n",
       "\n",
       "[6398 rows x 15 columns]"
      ]
     },
     "execution_count": 7,
     "metadata": {},
     "output_type": "execute_result"
    }
   ],
   "source": [
    "df"
   ]
  },
  {
   "cell_type": "markdown",
   "id": "e5cacbf3",
   "metadata": {},
   "source": [
    "## Korrektur des Datums"
   ]
  },
  {
   "cell_type": "code",
   "execution_count": 8,
   "id": "de6190a1",
   "metadata": {},
   "outputs": [],
   "source": [
    "df[\"Date\"] = df[\"Date\"] + \" \"+ df[\"Time\"]\n",
    "df.drop(columns= [\"Time\"], inplace = True)\n",
    "df[\"Date\"] = pd.to_datetime(df[\"Date\"], format = \"%d/%m/%Y %H.%M.%S\")\n"
   ]
  },
  {
   "cell_type": "code",
   "execution_count": 9,
   "id": "e01c5b08",
   "metadata": {
    "scrolled": true
   },
   "outputs": [
    {
     "data": {
      "text/html": [
       "<div>\n",
       "<style scoped>\n",
       "    .dataframe tbody tr th:only-of-type {\n",
       "        vertical-align: middle;\n",
       "    }\n",
       "\n",
       "    .dataframe tbody tr th {\n",
       "        vertical-align: top;\n",
       "    }\n",
       "\n",
       "    .dataframe thead th {\n",
       "        text-align: right;\n",
       "    }\n",
       "</style>\n",
       "<table border=\"1\" class=\"dataframe\">\n",
       "  <thead>\n",
       "    <tr style=\"text-align: right;\">\n",
       "      <th></th>\n",
       "      <th>Date</th>\n",
       "      <th>CO(GT)</th>\n",
       "      <th>PT08.S1(CO)</th>\n",
       "      <th>NMHC(GT)</th>\n",
       "      <th>C6H6(GT)</th>\n",
       "      <th>PT08.S2(NMHC)</th>\n",
       "      <th>NOx(GT)</th>\n",
       "      <th>PT08.S3(NOx)</th>\n",
       "      <th>NO2(GT)</th>\n",
       "      <th>PT08.S4(NO2)</th>\n",
       "      <th>PT08.S5(O3)</th>\n",
       "      <th>T</th>\n",
       "      <th>RH</th>\n",
       "      <th>AH</th>\n",
       "    </tr>\n",
       "  </thead>\n",
       "  <tbody>\n",
       "    <tr>\n",
       "      <th>0</th>\n",
       "      <td>2004-03-10 18:00:00</td>\n",
       "      <td>2.6</td>\n",
       "      <td>1360</td>\n",
       "      <td>150</td>\n",
       "      <td>11.9</td>\n",
       "      <td>1046</td>\n",
       "      <td>166</td>\n",
       "      <td>1056</td>\n",
       "      <td>113</td>\n",
       "      <td>1692</td>\n",
       "      <td>1268</td>\n",
       "      <td>13.6</td>\n",
       "      <td>48.9</td>\n",
       "      <td>0.7578</td>\n",
       "    </tr>\n",
       "    <tr>\n",
       "      <th>1</th>\n",
       "      <td>2004-03-10 19:00:00</td>\n",
       "      <td>2.0</td>\n",
       "      <td>1292</td>\n",
       "      <td>112</td>\n",
       "      <td>9.4</td>\n",
       "      <td>955</td>\n",
       "      <td>103</td>\n",
       "      <td>1174</td>\n",
       "      <td>92</td>\n",
       "      <td>1559</td>\n",
       "      <td>972</td>\n",
       "      <td>13.3</td>\n",
       "      <td>47.7</td>\n",
       "      <td>0.7255</td>\n",
       "    </tr>\n",
       "    <tr>\n",
       "      <th>2</th>\n",
       "      <td>2004-03-10 20:00:00</td>\n",
       "      <td>2.2</td>\n",
       "      <td>1402</td>\n",
       "      <td>88</td>\n",
       "      <td>9.0</td>\n",
       "      <td>939</td>\n",
       "      <td>131</td>\n",
       "      <td>1140</td>\n",
       "      <td>114</td>\n",
       "      <td>1555</td>\n",
       "      <td>1074</td>\n",
       "      <td>11.9</td>\n",
       "      <td>54.0</td>\n",
       "      <td>0.7502</td>\n",
       "    </tr>\n",
       "    <tr>\n",
       "      <th>3</th>\n",
       "      <td>2004-03-10 21:00:00</td>\n",
       "      <td>2.2</td>\n",
       "      <td>1376</td>\n",
       "      <td>80</td>\n",
       "      <td>9.2</td>\n",
       "      <td>948</td>\n",
       "      <td>172</td>\n",
       "      <td>1092</td>\n",
       "      <td>122</td>\n",
       "      <td>1584</td>\n",
       "      <td>1203</td>\n",
       "      <td>11.0</td>\n",
       "      <td>60.0</td>\n",
       "      <td>0.7867</td>\n",
       "    </tr>\n",
       "    <tr>\n",
       "      <th>4</th>\n",
       "      <td>2004-03-10 22:00:00</td>\n",
       "      <td>1.6</td>\n",
       "      <td>1272</td>\n",
       "      <td>51</td>\n",
       "      <td>6.5</td>\n",
       "      <td>836</td>\n",
       "      <td>131</td>\n",
       "      <td>1205</td>\n",
       "      <td>116</td>\n",
       "      <td>1490</td>\n",
       "      <td>1110</td>\n",
       "      <td>11.2</td>\n",
       "      <td>59.6</td>\n",
       "      <td>0.7888</td>\n",
       "    </tr>\n",
       "    <tr>\n",
       "      <th>...</th>\n",
       "      <td>...</td>\n",
       "      <td>...</td>\n",
       "      <td>...</td>\n",
       "      <td>...</td>\n",
       "      <td>...</td>\n",
       "      <td>...</td>\n",
       "      <td>...</td>\n",
       "      <td>...</td>\n",
       "      <td>...</td>\n",
       "      <td>...</td>\n",
       "      <td>...</td>\n",
       "      <td>...</td>\n",
       "      <td>...</td>\n",
       "      <td>...</td>\n",
       "    </tr>\n",
       "    <tr>\n",
       "      <th>6393</th>\n",
       "      <td>2004-12-02 03:00:00</td>\n",
       "      <td>1.1</td>\n",
       "      <td>928</td>\n",
       "      <td>-200</td>\n",
       "      <td>3.8</td>\n",
       "      <td>699</td>\n",
       "      <td>-200</td>\n",
       "      <td>1930</td>\n",
       "      <td>-200</td>\n",
       "      <td>1198</td>\n",
       "      <td>785</td>\n",
       "      <td>11.9</td>\n",
       "      <td>78.2</td>\n",
       "      <td>1.0856</td>\n",
       "    </tr>\n",
       "    <tr>\n",
       "      <th>6394</th>\n",
       "      <td>2004-12-02 04:00:00</td>\n",
       "      <td>0.9</td>\n",
       "      <td>889</td>\n",
       "      <td>-200</td>\n",
       "      <td>2.9</td>\n",
       "      <td>646</td>\n",
       "      <td>131</td>\n",
       "      <td>2047</td>\n",
       "      <td>70</td>\n",
       "      <td>1163</td>\n",
       "      <td>743</td>\n",
       "      <td>12.0</td>\n",
       "      <td>77.4</td>\n",
       "      <td>1.0825</td>\n",
       "    </tr>\n",
       "    <tr>\n",
       "      <th>6395</th>\n",
       "      <td>2004-12-02 05:00:00</td>\n",
       "      <td>0.7</td>\n",
       "      <td>880</td>\n",
       "      <td>-200</td>\n",
       "      <td>2.4</td>\n",
       "      <td>610</td>\n",
       "      <td>101</td>\n",
       "      <td>2095</td>\n",
       "      <td>59</td>\n",
       "      <td>1150</td>\n",
       "      <td>711</td>\n",
       "      <td>12.0</td>\n",
       "      <td>78.0</td>\n",
       "      <td>1.0940</td>\n",
       "    </tr>\n",
       "    <tr>\n",
       "      <th>6396</th>\n",
       "      <td>2004-12-02 06:00:00</td>\n",
       "      <td>0.9</td>\n",
       "      <td>919</td>\n",
       "      <td>-200</td>\n",
       "      <td>4.0</td>\n",
       "      <td>711</td>\n",
       "      <td>189</td>\n",
       "      <td>1667</td>\n",
       "      <td>74</td>\n",
       "      <td>1195</td>\n",
       "      <td>819</td>\n",
       "      <td>12.4</td>\n",
       "      <td>75.3</td>\n",
       "      <td>1.0813</td>\n",
       "    </tr>\n",
       "    <tr>\n",
       "      <th>6397</th>\n",
       "      <td>2004-12-02 07:00:00</td>\n",
       "      <td>1.4</td>\n",
       "      <td>1073</td>\n",
       "      <td>-200</td>\n",
       "      <td>7.2</td>\n",
       "      <td>867</td>\n",
       "      <td>336</td>\n",
       "      <td>768</td>\n",
       "      <td>89</td>\n",
       "      <td>1329</td>\n",
       "      <td>981</td>\n",
       "      <td>12.5</td>\n",
       "      <td>76.4</td>\n",
       "      <td>1.1021</td>\n",
       "    </tr>\n",
       "  </tbody>\n",
       "</table>\n",
       "<p>6398 rows × 14 columns</p>\n",
       "</div>"
      ],
      "text/plain": [
       "                    Date  CO(GT)  PT08.S1(CO)  NMHC(GT)  C6H6(GT)  \\\n",
       "0    2004-03-10 18:00:00     2.6         1360       150      11.9   \n",
       "1    2004-03-10 19:00:00     2.0         1292       112       9.4   \n",
       "2    2004-03-10 20:00:00     2.2         1402        88       9.0   \n",
       "3    2004-03-10 21:00:00     2.2         1376        80       9.2   \n",
       "4    2004-03-10 22:00:00     1.6         1272        51       6.5   \n",
       "...                  ...     ...          ...       ...       ...   \n",
       "6393 2004-12-02 03:00:00     1.1          928      -200       3.8   \n",
       "6394 2004-12-02 04:00:00     0.9          889      -200       2.9   \n",
       "6395 2004-12-02 05:00:00     0.7          880      -200       2.4   \n",
       "6396 2004-12-02 06:00:00     0.9          919      -200       4.0   \n",
       "6397 2004-12-02 07:00:00     1.4         1073      -200       7.2   \n",
       "\n",
       "      PT08.S2(NMHC)  NOx(GT)  PT08.S3(NOx)  NO2(GT)  PT08.S4(NO2)  \\\n",
       "0              1046      166          1056      113          1692   \n",
       "1               955      103          1174       92          1559   \n",
       "2               939      131          1140      114          1555   \n",
       "3               948      172          1092      122          1584   \n",
       "4               836      131          1205      116          1490   \n",
       "...             ...      ...           ...      ...           ...   \n",
       "6393            699     -200          1930     -200          1198   \n",
       "6394            646      131          2047       70          1163   \n",
       "6395            610      101          2095       59          1150   \n",
       "6396            711      189          1667       74          1195   \n",
       "6397            867      336           768       89          1329   \n",
       "\n",
       "      PT08.S5(O3)     T    RH      AH  \n",
       "0            1268  13.6  48.9  0.7578  \n",
       "1             972  13.3  47.7  0.7255  \n",
       "2            1074  11.9  54.0  0.7502  \n",
       "3            1203  11.0  60.0  0.7867  \n",
       "4            1110  11.2  59.6  0.7888  \n",
       "...           ...   ...   ...     ...  \n",
       "6393          785  11.9  78.2  1.0856  \n",
       "6394          743  12.0  77.4  1.0825  \n",
       "6395          711  12.0  78.0  1.0940  \n",
       "6396          819  12.4  75.3  1.0813  \n",
       "6397          981  12.5  76.4  1.1021  \n",
       "\n",
       "[6398 rows x 14 columns]"
      ]
     },
     "execution_count": 9,
     "metadata": {},
     "output_type": "execute_result"
    }
   ],
   "source": [
    "df"
   ]
  },
  {
   "cell_type": "code",
   "execution_count": 10,
   "id": "192c484e",
   "metadata": {},
   "outputs": [
    {
     "data": {
      "text/plain": [
       "Date             datetime64[ns]\n",
       "CO(GT)                  float64\n",
       "PT08.S1(CO)               int64\n",
       "NMHC(GT)                  int64\n",
       "C6H6(GT)                float64\n",
       "PT08.S2(NMHC)             int64\n",
       "NOx(GT)                   int64\n",
       "PT08.S3(NOx)              int64\n",
       "NO2(GT)                   int64\n",
       "PT08.S4(NO2)              int64\n",
       "PT08.S5(O3)               int64\n",
       "T                       float64\n",
       "RH                      float64\n",
       "AH                      float64\n",
       "dtype: object"
      ]
     },
     "execution_count": 10,
     "metadata": {},
     "output_type": "execute_result"
    }
   ],
   "source": [
    "df.dtypes"
   ]
  },
  {
   "cell_type": "markdown",
   "id": "024f15bb",
   "metadata": {},
   "source": [
    "## Anpassung der Spaltennamen"
   ]
  },
  {
   "cell_type": "code",
   "execution_count": 11,
   "id": "6aa5437f",
   "metadata": {},
   "outputs": [],
   "source": [
    "df.rename(columns = {\"CO(GT)\" : \"CO_GT\", \"PT08.S1(CO)\": \"PT08-S1_CO\", \"NMHC(GT)\": \"NMHC_GT\", \"C6H6(GT)\": \"C6H6_GT\", \"PT08.S2(NMHC)\": \"PT08-S2_NMHC\",\"NOx(GT)\":\"NOx_GT\",\"PT08.S3(NOx)\": \"PT08-S3_NOx\", \"NO2(GT)\": \"NO2_GT\", \"PT08.S4(NO2)\": \"PT08-S4_NO2\", \"PT08.S5(O3)\": \"PT08-S5_O3\"}, inplace = True)"
   ]
  },
  {
   "cell_type": "code",
   "execution_count": 12,
   "id": "19b00e1f",
   "metadata": {},
   "outputs": [],
   "source": [
    "df.columns = [x.lower() for x in df.columns]"
   ]
  },
  {
   "cell_type": "code",
   "execution_count": 13,
   "id": "8c51092c",
   "metadata": {
    "scrolled": false
   },
   "outputs": [
    {
     "data": {
      "text/html": [
       "<div>\n",
       "<style scoped>\n",
       "    .dataframe tbody tr th:only-of-type {\n",
       "        vertical-align: middle;\n",
       "    }\n",
       "\n",
       "    .dataframe tbody tr th {\n",
       "        vertical-align: top;\n",
       "    }\n",
       "\n",
       "    .dataframe thead th {\n",
       "        text-align: right;\n",
       "    }\n",
       "</style>\n",
       "<table border=\"1\" class=\"dataframe\">\n",
       "  <thead>\n",
       "    <tr style=\"text-align: right;\">\n",
       "      <th></th>\n",
       "      <th>date</th>\n",
       "      <th>co_gt</th>\n",
       "      <th>pt08-s1_co</th>\n",
       "      <th>nmhc_gt</th>\n",
       "      <th>c6h6_gt</th>\n",
       "      <th>pt08-s2_nmhc</th>\n",
       "      <th>nox_gt</th>\n",
       "      <th>pt08-s3_nox</th>\n",
       "      <th>no2_gt</th>\n",
       "      <th>pt08-s4_no2</th>\n",
       "      <th>pt08-s5_o3</th>\n",
       "      <th>t</th>\n",
       "      <th>rh</th>\n",
       "      <th>ah</th>\n",
       "    </tr>\n",
       "  </thead>\n",
       "  <tbody>\n",
       "    <tr>\n",
       "      <th>0</th>\n",
       "      <td>2004-03-10 18:00:00</td>\n",
       "      <td>2.6</td>\n",
       "      <td>1360</td>\n",
       "      <td>150</td>\n",
       "      <td>11.9</td>\n",
       "      <td>1046</td>\n",
       "      <td>166</td>\n",
       "      <td>1056</td>\n",
       "      <td>113</td>\n",
       "      <td>1692</td>\n",
       "      <td>1268</td>\n",
       "      <td>13.6</td>\n",
       "      <td>48.9</td>\n",
       "      <td>0.7578</td>\n",
       "    </tr>\n",
       "    <tr>\n",
       "      <th>1</th>\n",
       "      <td>2004-03-10 19:00:00</td>\n",
       "      <td>2.0</td>\n",
       "      <td>1292</td>\n",
       "      <td>112</td>\n",
       "      <td>9.4</td>\n",
       "      <td>955</td>\n",
       "      <td>103</td>\n",
       "      <td>1174</td>\n",
       "      <td>92</td>\n",
       "      <td>1559</td>\n",
       "      <td>972</td>\n",
       "      <td>13.3</td>\n",
       "      <td>47.7</td>\n",
       "      <td>0.7255</td>\n",
       "    </tr>\n",
       "    <tr>\n",
       "      <th>2</th>\n",
       "      <td>2004-03-10 20:00:00</td>\n",
       "      <td>2.2</td>\n",
       "      <td>1402</td>\n",
       "      <td>88</td>\n",
       "      <td>9.0</td>\n",
       "      <td>939</td>\n",
       "      <td>131</td>\n",
       "      <td>1140</td>\n",
       "      <td>114</td>\n",
       "      <td>1555</td>\n",
       "      <td>1074</td>\n",
       "      <td>11.9</td>\n",
       "      <td>54.0</td>\n",
       "      <td>0.7502</td>\n",
       "    </tr>\n",
       "    <tr>\n",
       "      <th>3</th>\n",
       "      <td>2004-03-10 21:00:00</td>\n",
       "      <td>2.2</td>\n",
       "      <td>1376</td>\n",
       "      <td>80</td>\n",
       "      <td>9.2</td>\n",
       "      <td>948</td>\n",
       "      <td>172</td>\n",
       "      <td>1092</td>\n",
       "      <td>122</td>\n",
       "      <td>1584</td>\n",
       "      <td>1203</td>\n",
       "      <td>11.0</td>\n",
       "      <td>60.0</td>\n",
       "      <td>0.7867</td>\n",
       "    </tr>\n",
       "    <tr>\n",
       "      <th>4</th>\n",
       "      <td>2004-03-10 22:00:00</td>\n",
       "      <td>1.6</td>\n",
       "      <td>1272</td>\n",
       "      <td>51</td>\n",
       "      <td>6.5</td>\n",
       "      <td>836</td>\n",
       "      <td>131</td>\n",
       "      <td>1205</td>\n",
       "      <td>116</td>\n",
       "      <td>1490</td>\n",
       "      <td>1110</td>\n",
       "      <td>11.2</td>\n",
       "      <td>59.6</td>\n",
       "      <td>0.7888</td>\n",
       "    </tr>\n",
       "    <tr>\n",
       "      <th>...</th>\n",
       "      <td>...</td>\n",
       "      <td>...</td>\n",
       "      <td>...</td>\n",
       "      <td>...</td>\n",
       "      <td>...</td>\n",
       "      <td>...</td>\n",
       "      <td>...</td>\n",
       "      <td>...</td>\n",
       "      <td>...</td>\n",
       "      <td>...</td>\n",
       "      <td>...</td>\n",
       "      <td>...</td>\n",
       "      <td>...</td>\n",
       "      <td>...</td>\n",
       "    </tr>\n",
       "    <tr>\n",
       "      <th>6393</th>\n",
       "      <td>2004-12-02 03:00:00</td>\n",
       "      <td>1.1</td>\n",
       "      <td>928</td>\n",
       "      <td>-200</td>\n",
       "      <td>3.8</td>\n",
       "      <td>699</td>\n",
       "      <td>-200</td>\n",
       "      <td>1930</td>\n",
       "      <td>-200</td>\n",
       "      <td>1198</td>\n",
       "      <td>785</td>\n",
       "      <td>11.9</td>\n",
       "      <td>78.2</td>\n",
       "      <td>1.0856</td>\n",
       "    </tr>\n",
       "    <tr>\n",
       "      <th>6394</th>\n",
       "      <td>2004-12-02 04:00:00</td>\n",
       "      <td>0.9</td>\n",
       "      <td>889</td>\n",
       "      <td>-200</td>\n",
       "      <td>2.9</td>\n",
       "      <td>646</td>\n",
       "      <td>131</td>\n",
       "      <td>2047</td>\n",
       "      <td>70</td>\n",
       "      <td>1163</td>\n",
       "      <td>743</td>\n",
       "      <td>12.0</td>\n",
       "      <td>77.4</td>\n",
       "      <td>1.0825</td>\n",
       "    </tr>\n",
       "    <tr>\n",
       "      <th>6395</th>\n",
       "      <td>2004-12-02 05:00:00</td>\n",
       "      <td>0.7</td>\n",
       "      <td>880</td>\n",
       "      <td>-200</td>\n",
       "      <td>2.4</td>\n",
       "      <td>610</td>\n",
       "      <td>101</td>\n",
       "      <td>2095</td>\n",
       "      <td>59</td>\n",
       "      <td>1150</td>\n",
       "      <td>711</td>\n",
       "      <td>12.0</td>\n",
       "      <td>78.0</td>\n",
       "      <td>1.0940</td>\n",
       "    </tr>\n",
       "    <tr>\n",
       "      <th>6396</th>\n",
       "      <td>2004-12-02 06:00:00</td>\n",
       "      <td>0.9</td>\n",
       "      <td>919</td>\n",
       "      <td>-200</td>\n",
       "      <td>4.0</td>\n",
       "      <td>711</td>\n",
       "      <td>189</td>\n",
       "      <td>1667</td>\n",
       "      <td>74</td>\n",
       "      <td>1195</td>\n",
       "      <td>819</td>\n",
       "      <td>12.4</td>\n",
       "      <td>75.3</td>\n",
       "      <td>1.0813</td>\n",
       "    </tr>\n",
       "    <tr>\n",
       "      <th>6397</th>\n",
       "      <td>2004-12-02 07:00:00</td>\n",
       "      <td>1.4</td>\n",
       "      <td>1073</td>\n",
       "      <td>-200</td>\n",
       "      <td>7.2</td>\n",
       "      <td>867</td>\n",
       "      <td>336</td>\n",
       "      <td>768</td>\n",
       "      <td>89</td>\n",
       "      <td>1329</td>\n",
       "      <td>981</td>\n",
       "      <td>12.5</td>\n",
       "      <td>76.4</td>\n",
       "      <td>1.1021</td>\n",
       "    </tr>\n",
       "  </tbody>\n",
       "</table>\n",
       "<p>6398 rows × 14 columns</p>\n",
       "</div>"
      ],
      "text/plain": [
       "                    date  co_gt  pt08-s1_co  nmhc_gt  c6h6_gt  pt08-s2_nmhc  \\\n",
       "0    2004-03-10 18:00:00    2.6        1360      150     11.9          1046   \n",
       "1    2004-03-10 19:00:00    2.0        1292      112      9.4           955   \n",
       "2    2004-03-10 20:00:00    2.2        1402       88      9.0           939   \n",
       "3    2004-03-10 21:00:00    2.2        1376       80      9.2           948   \n",
       "4    2004-03-10 22:00:00    1.6        1272       51      6.5           836   \n",
       "...                  ...    ...         ...      ...      ...           ...   \n",
       "6393 2004-12-02 03:00:00    1.1         928     -200      3.8           699   \n",
       "6394 2004-12-02 04:00:00    0.9         889     -200      2.9           646   \n",
       "6395 2004-12-02 05:00:00    0.7         880     -200      2.4           610   \n",
       "6396 2004-12-02 06:00:00    0.9         919     -200      4.0           711   \n",
       "6397 2004-12-02 07:00:00    1.4        1073     -200      7.2           867   \n",
       "\n",
       "      nox_gt  pt08-s3_nox  no2_gt  pt08-s4_no2  pt08-s5_o3     t    rh      ah  \n",
       "0        166         1056     113         1692        1268  13.6  48.9  0.7578  \n",
       "1        103         1174      92         1559         972  13.3  47.7  0.7255  \n",
       "2        131         1140     114         1555        1074  11.9  54.0  0.7502  \n",
       "3        172         1092     122         1584        1203  11.0  60.0  0.7867  \n",
       "4        131         1205     116         1490        1110  11.2  59.6  0.7888  \n",
       "...      ...          ...     ...          ...         ...   ...   ...     ...  \n",
       "6393    -200         1930    -200         1198         785  11.9  78.2  1.0856  \n",
       "6394     131         2047      70         1163         743  12.0  77.4  1.0825  \n",
       "6395     101         2095      59         1150         711  12.0  78.0  1.0940  \n",
       "6396     189         1667      74         1195         819  12.4  75.3  1.0813  \n",
       "6397     336          768      89         1329         981  12.5  76.4  1.1021  \n",
       "\n",
       "[6398 rows x 14 columns]"
      ]
     },
     "execution_count": 13,
     "metadata": {},
     "output_type": "execute_result"
    }
   ],
   "source": [
    "df "
   ]
  },
  {
   "cell_type": "markdown",
   "id": "4941d7b8",
   "metadata": {},
   "source": [
    "\n",
    "# Plotting data to evaluate their plausibility \n",
    "______________"
   ]
  },
  {
   "cell_type": "code",
   "execution_count": 14,
   "id": "61ed9c0e",
   "metadata": {
    "scrolled": false
   },
   "outputs": [
    {
     "data": {
      "text/html": [
       "<div>\n",
       "<style scoped>\n",
       "    .dataframe tbody tr th:only-of-type {\n",
       "        vertical-align: middle;\n",
       "    }\n",
       "\n",
       "    .dataframe tbody tr th {\n",
       "        vertical-align: top;\n",
       "    }\n",
       "\n",
       "    .dataframe thead th {\n",
       "        text-align: right;\n",
       "    }\n",
       "</style>\n",
       "<table border=\"1\" class=\"dataframe\">\n",
       "  <thead>\n",
       "    <tr style=\"text-align: right;\">\n",
       "      <th></th>\n",
       "      <th>co_gt</th>\n",
       "      <th>pt08-s1_co</th>\n",
       "      <th>nmhc_gt</th>\n",
       "      <th>c6h6_gt</th>\n",
       "      <th>pt08-s2_nmhc</th>\n",
       "      <th>nox_gt</th>\n",
       "      <th>pt08-s3_nox</th>\n",
       "      <th>no2_gt</th>\n",
       "      <th>pt08-s4_no2</th>\n",
       "      <th>pt08-s5_o3</th>\n",
       "      <th>t</th>\n",
       "      <th>rh</th>\n",
       "      <th>ah</th>\n",
       "    </tr>\n",
       "  </thead>\n",
       "  <tbody>\n",
       "    <tr>\n",
       "      <th>count</th>\n",
       "      <td>6398.000000</td>\n",
       "      <td>6398.00000</td>\n",
       "      <td>6398.000000</td>\n",
       "      <td>6398.000000</td>\n",
       "      <td>6398.000000</td>\n",
       "      <td>6398.000000</td>\n",
       "      <td>6398.000000</td>\n",
       "      <td>6398.000000</td>\n",
       "      <td>6398.000000</td>\n",
       "      <td>6398.000000</td>\n",
       "      <td>6398.000000</td>\n",
       "      <td>6398.000000</td>\n",
       "      <td>6398.000000</td>\n",
       "    </tr>\n",
       "    <tr>\n",
       "      <th>mean</th>\n",
       "      <td>-44.665708</td>\n",
       "      <td>1067.84292</td>\n",
       "      <td>-140.169741</td>\n",
       "      <td>5.879744</td>\n",
       "      <td>938.803063</td>\n",
       "      <td>105.962645</td>\n",
       "      <td>832.575805</td>\n",
       "      <td>31.324008</td>\n",
       "      <td>1545.275242</td>\n",
       "      <td>978.041107</td>\n",
       "      <td>16.712785</td>\n",
       "      <td>41.661879</td>\n",
       "      <td>-3.476407</td>\n",
       "    </tr>\n",
       "    <tr>\n",
       "      <th>std</th>\n",
       "      <td>85.265968</td>\n",
       "      <td>291.92723</td>\n",
       "      <td>165.673461</td>\n",
       "      <td>32.569186</td>\n",
       "      <td>316.002977</td>\n",
       "      <td>232.701884</td>\n",
       "      <td>296.767141</td>\n",
       "      <td>130.205538</td>\n",
       "      <td>393.040391</td>\n",
       "      <td>414.904414</td>\n",
       "      <td>34.202966</td>\n",
       "      <td>40.904550</td>\n",
       "      <td>30.246078</td>\n",
       "    </tr>\n",
       "    <tr>\n",
       "      <th>min</th>\n",
       "      <td>-200.000000</td>\n",
       "      <td>-200.00000</td>\n",
       "      <td>-200.000000</td>\n",
       "      <td>-200.000000</td>\n",
       "      <td>-200.000000</td>\n",
       "      <td>-200.000000</td>\n",
       "      <td>-200.000000</td>\n",
       "      <td>-200.000000</td>\n",
       "      <td>-200.000000</td>\n",
       "      <td>-200.000000</td>\n",
       "      <td>-200.000000</td>\n",
       "      <td>-200.000000</td>\n",
       "      <td>-200.000000</td>\n",
       "    </tr>\n",
       "    <tr>\n",
       "      <th>25%</th>\n",
       "      <td>0.400000</td>\n",
       "      <td>925.00000</td>\n",
       "      <td>-200.000000</td>\n",
       "      <td>4.800000</td>\n",
       "      <td>752.000000</td>\n",
       "      <td>25.000000</td>\n",
       "      <td>674.000000</td>\n",
       "      <td>33.250000</td>\n",
       "      <td>1380.000000</td>\n",
       "      <td>714.250000</td>\n",
       "      <td>15.800000</td>\n",
       "      <td>32.525000</td>\n",
       "      <td>0.901625</td>\n",
       "    </tr>\n",
       "    <tr>\n",
       "      <th>50%</th>\n",
       "      <td>1.400000</td>\n",
       "      <td>1055.00000</td>\n",
       "      <td>-200.000000</td>\n",
       "      <td>8.700000</td>\n",
       "      <td>929.000000</td>\n",
       "      <td>100.000000</td>\n",
       "      <td>818.000000</td>\n",
       "      <td>81.000000</td>\n",
       "      <td>1554.000000</td>\n",
       "      <td>934.000000</td>\n",
       "      <td>21.200000</td>\n",
       "      <td>47.200000</td>\n",
       "      <td>1.124100</td>\n",
       "    </tr>\n",
       "    <tr>\n",
       "      <th>75%</th>\n",
       "      <td>2.400000</td>\n",
       "      <td>1225.00000</td>\n",
       "      <td>-200.000000</td>\n",
       "      <td>14.400000</td>\n",
       "      <td>1130.000000</td>\n",
       "      <td>201.000000</td>\n",
       "      <td>986.000000</td>\n",
       "      <td>115.000000</td>\n",
       "      <td>1747.000000</td>\n",
       "      <td>1229.000000</td>\n",
       "      <td>26.600000</td>\n",
       "      <td>59.975000</td>\n",
       "      <td>1.443250</td>\n",
       "    </tr>\n",
       "    <tr>\n",
       "      <th>max</th>\n",
       "      <td>11.900000</td>\n",
       "      <td>2040.00000</td>\n",
       "      <td>1189.000000</td>\n",
       "      <td>63.700000</td>\n",
       "      <td>2214.000000</td>\n",
       "      <td>1389.000000</td>\n",
       "      <td>2121.000000</td>\n",
       "      <td>288.000000</td>\n",
       "      <td>2775.000000</td>\n",
       "      <td>2522.000000</td>\n",
       "      <td>44.600000</td>\n",
       "      <td>87.200000</td>\n",
       "      <td>2.231000</td>\n",
       "    </tr>\n",
       "  </tbody>\n",
       "</table>\n",
       "</div>"
      ],
      "text/plain": [
       "             co_gt  pt08-s1_co      nmhc_gt      c6h6_gt  pt08-s2_nmhc  \\\n",
       "count  6398.000000  6398.00000  6398.000000  6398.000000   6398.000000   \n",
       "mean    -44.665708  1067.84292  -140.169741     5.879744    938.803063   \n",
       "std      85.265968   291.92723   165.673461    32.569186    316.002977   \n",
       "min    -200.000000  -200.00000  -200.000000  -200.000000   -200.000000   \n",
       "25%       0.400000   925.00000  -200.000000     4.800000    752.000000   \n",
       "50%       1.400000  1055.00000  -200.000000     8.700000    929.000000   \n",
       "75%       2.400000  1225.00000  -200.000000    14.400000   1130.000000   \n",
       "max      11.900000  2040.00000  1189.000000    63.700000   2214.000000   \n",
       "\n",
       "            nox_gt  pt08-s3_nox       no2_gt  pt08-s4_no2   pt08-s5_o3  \\\n",
       "count  6398.000000  6398.000000  6398.000000  6398.000000  6398.000000   \n",
       "mean    105.962645   832.575805    31.324008  1545.275242   978.041107   \n",
       "std     232.701884   296.767141   130.205538   393.040391   414.904414   \n",
       "min    -200.000000  -200.000000  -200.000000  -200.000000  -200.000000   \n",
       "25%      25.000000   674.000000    33.250000  1380.000000   714.250000   \n",
       "50%     100.000000   818.000000    81.000000  1554.000000   934.000000   \n",
       "75%     201.000000   986.000000   115.000000  1747.000000  1229.000000   \n",
       "max    1389.000000  2121.000000   288.000000  2775.000000  2522.000000   \n",
       "\n",
       "                 t           rh           ah  \n",
       "count  6398.000000  6398.000000  6398.000000  \n",
       "mean     16.712785    41.661879    -3.476407  \n",
       "std      34.202966    40.904550    30.246078  \n",
       "min    -200.000000  -200.000000  -200.000000  \n",
       "25%      15.800000    32.525000     0.901625  \n",
       "50%      21.200000    47.200000     1.124100  \n",
       "75%      26.600000    59.975000     1.443250  \n",
       "max      44.600000    87.200000     2.231000  "
      ]
     },
     "execution_count": 14,
     "metadata": {},
     "output_type": "execute_result"
    }
   ],
   "source": [
    "# imports\n",
    "import matplotlib.pyplot as plt\n",
    "\n",
    "# configuration of how plots are displayed (width, height)\n",
    "plt.rcParams['figure.figsize'] = [15, 8]\n",
    "\n",
    "df.describe()"
   ]
  },
  {
   "cell_type": "markdown",
   "id": "11d8ce3d",
   "metadata": {},
   "source": [
    "## co_gt:"
   ]
  },
  {
   "cell_type": "code",
   "execution_count": 15,
   "id": "1fc3fde2",
   "metadata": {},
   "outputs": [
    {
     "data": {
      "text/plain": [
       "<function matplotlib.pyplot.show(close=None, block=None)>"
      ]
     },
     "execution_count": 15,
     "metadata": {},
     "output_type": "execute_result"
    },
    {
     "data": {
      "image/png": "[encoded data removed]",
      "text/plain": [
       "<Figure size 1080x576 with 1 Axes>"
      ]
     },
     "metadata": {
      "needs_background": "light"
     },
     "output_type": "display_data"
    }
   ],
   "source": [
    "x_lst = df['co_gt'].value_counts()\n",
    "\n",
    "plt.title('co_gt')\n",
    "plt.xlabel('Value')\n",
    "plt.ylabel('Number of entries')\n",
    "plt.scatter(x_lst.index, x_lst.values, s=5)\n",
    "plt.show"
   ]
  },
  {
   "cell_type": "code",
   "execution_count": 16,
   "id": "a7472896",
   "metadata": {},
   "outputs": [
    {
     "data": {
      "text/plain": [
       "-200.0    1481\n",
       " 1.6       182\n",
       " 0.7       176\n",
       " 1.2       175\n",
       " 1.0       173\n",
       "          ... \n",
       " 8.7         1\n",
       " 9.2         1\n",
       " 7.0         1\n",
       " 7.6         1\n",
       " 10.1        1\n",
       "Name: co_gt, Length: 90, dtype: int64"
      ]
     },
     "execution_count": 16,
     "metadata": {},
     "output_type": "execute_result"
    }
   ],
   "source": [
    "df['co_gt'].value_counts()"
   ]
  },
  {
   "cell_type": "code",
   "execution_count": 17,
   "id": "9c06f895",
   "metadata": {},
   "outputs": [],
   "source": [
    "# filter column so that values below -5 aren't included\n",
    "filt = df['co_gt'].between(-5, 30)\n",
    "filt_df = df['co_gt'].loc[filt]"
   ]
  },
  {
   "cell_type": "code",
   "execution_count": 18,
   "id": "dfe0b015",
   "metadata": {},
   "outputs": [
    {
     "data": {
      "text/plain": [
       "<function matplotlib.pyplot.show(close=None, block=None)>"
      ]
     },
     "execution_count": 18,
     "metadata": {},
     "output_type": "execute_result"
    },
    {
     "data": {
      "image/png": "[encoded data removed]",
      "text/plain": [
       "<Figure size 1080x576 with 1 Axes>"
      ]
     },
     "metadata": {
      "needs_background": "light"
     },
     "output_type": "display_data"
    }
   ],
   "source": [
    "plt.title('co_gt')\n",
    "plt.xlabel('Value')\n",
    "plt.ylabel('Number of entries')\n",
    "plt.hist(filt_df, bins= 12)\n",
    "plt.show"
   ]
  },
  {
   "cell_type": "markdown",
   "id": "cf4d0413",
   "metadata": {},
   "source": [
    "Value -200 seems to be an unwanted outlier\n",
    "\n",
    "## pt08.s1_co "
   ]
  },
  {
   "cell_type": "code",
   "execution_count": 19,
   "id": "4f562417",
   "metadata": {
    "scrolled": false
   },
   "outputs": [
    {
     "data": {
      "text/plain": [
       "<function matplotlib.pyplot.show(close=None, block=None)>"
      ]
     },
     "execution_count": 19,
     "metadata": {},
     "output_type": "execute_result"
    },
    {
     "data": {
      "image/png": "[encoded data removed]",
      "text/plain": [
       "<Figure size 1080x576 with 1 Axes>"
      ]
     },
     "metadata": {
      "needs_background": "light"
     },
     "output_type": "display_data"
    }
   ],
   "source": [
    "x_lst = df['pt08-s1_co'].value_counts()\n",
    "\n",
    "plt.title('pt08-s1_co')\n",
    "plt.xlabel('Value')\n",
    "plt.ylabel('Number of entries')\n",
    "plt.scatter(x_lst.index, x_lst.values, s=5)\n",
    "plt.show"
   ]
  },
  {
   "cell_type": "code",
   "execution_count": 20,
   "id": "0af1dba6",
   "metadata": {
    "scrolled": false
   },
   "outputs": [
    {
     "data": {
      "text/plain": [
       "-200     148\n",
       " 966      20\n",
       " 969      20\n",
       " 1050     20\n",
       " 1100     20\n",
       "        ... \n",
       " 1728      1\n",
       " 1673      1\n",
       " 1875      1\n",
       " 1973      1\n",
       " 1547      1\n",
       "Name: pt08-s1_co, Length: 1000, dtype: int64"
      ]
     },
     "execution_count": 20,
     "metadata": {},
     "output_type": "execute_result"
    }
   ],
   "source": [
    "df['pt08-s1_co'].value_counts()"
   ]
  },
  {
   "cell_type": "code",
   "execution_count": 21,
   "id": "77632abd",
   "metadata": {},
   "outputs": [],
   "source": [
    "# filter column so that values below 500 aren't included\n",
    "filt = df['pt08-s1_co'].between(500, 2500)\n",
    "filt_df = df['pt08-s1_co'].loc[filt]"
   ]
  },
  {
   "cell_type": "code",
   "execution_count": 22,
   "id": "506b359f",
   "metadata": {},
   "outputs": [
    {
     "data": {
      "text/plain": [
       "<function matplotlib.pyplot.show(close=None, block=None)>"
      ]
     },
     "execution_count": 22,
     "metadata": {},
     "output_type": "execute_result"
    },
    {
     "data": {
      "image/png": "[encoded data removed]",
      "text/plain": [
       "<Figure size 1080x576 with 1 Axes>"
      ]
     },
     "metadata": {
      "needs_background": "light"
     },
     "output_type": "display_data"
    }
   ],
   "source": [
    "# histogram based on filtered column\n",
    "plt.title('pt08-s1_co')\n",
    "plt.xlabel('Value')\n",
    "plt.ylabel('Number of entries')\n",
    "plt.hist(filt_df, bins=20)\n",
    "plt.show"
   ]
  },
  {
   "cell_type": "markdown",
   "id": "7aa7c163",
   "metadata": {},
   "source": [
    "Value -200 seems to be an unwanted outlier\n",
    "\n",
    "## nmhc_gt"
   ]
  },
  {
   "cell_type": "code",
   "execution_count": 23,
   "id": "2be36d69",
   "metadata": {},
   "outputs": [
    {
     "data": {
      "text/plain": [
       "<function matplotlib.pyplot.show(close=None, block=None)>"
      ]
     },
     "execution_count": 23,
     "metadata": {},
     "output_type": "execute_result"
    },
    {
     "data": {
      "image/png": "[encoded data removed]",
      "text/plain": [
       "<Figure size 1080x576 with 1 Axes>"
      ]
     },
     "metadata": {
      "needs_background": "light"
     },
     "output_type": "display_data"
    }
   ],
   "source": [
    "x_lst = df['nmhc_gt'].value_counts()\n",
    "\n",
    "plt.title('nmhc_gt')\n",
    "plt.xlabel('Value')\n",
    "plt.ylabel('Number of entries')\n",
    "plt.scatter(x_lst.index, x_lst.values, s=5)\n",
    "plt.show"
   ]
  },
  {
   "cell_type": "code",
   "execution_count": 24,
   "id": "9ce5a4c5",
   "metadata": {},
   "outputs": [
    {
     "data": {
      "text/plain": [
       "-200    5484\n",
       " 66       14\n",
       " 40        9\n",
       " 29        9\n",
       " 88        8\n",
       "        ... \n",
       " 422       1\n",
       " 424       1\n",
       " 339       1\n",
       " 445       1\n",
       " 307       1\n",
       "Name: nmhc_gt, Length: 430, dtype: int64"
      ]
     },
     "execution_count": 24,
     "metadata": {},
     "output_type": "execute_result"
    }
   ],
   "source": [
    "df['nmhc_gt'].value_counts()"
   ]
  },
  {
   "cell_type": "code",
   "execution_count": 25,
   "id": "1457f0d9",
   "metadata": {},
   "outputs": [],
   "source": [
    "# filter column so that values below 0 aren't included\n",
    "filt = df['nmhc_gt'].between(0, 1500)\n",
    "filt_df = df['nmhc_gt'].loc[filt]"
   ]
  },
  {
   "cell_type": "code",
   "execution_count": 26,
   "id": "f65b7bcc",
   "metadata": {},
   "outputs": [
    {
     "data": {
      "text/plain": [
       "<function matplotlib.pyplot.show(close=None, block=None)>"
      ]
     },
     "execution_count": 26,
     "metadata": {},
     "output_type": "execute_result"
    },
    {
     "data": {
      "image/png": "[encoded data removed]",
      "text/plain": [
       "<Figure size 1080x576 with 1 Axes>"
      ]
     },
     "metadata": {
      "needs_background": "light"
     },
     "output_type": "display_data"
    }
   ],
   "source": [
    "# histogram based on filtered column\n",
    "plt.title('nmhc_gt')\n",
    "plt.xlabel('Value')\n",
    "plt.ylabel('Number of entries')\n",
    "plt.hist(filt_df, bins=20)\n",
    "plt.show"
   ]
  },
  {
   "cell_type": "markdown",
   "id": "512f117d",
   "metadata": {},
   "source": [
    "Value -200 seems to be an unwanted outlier\n",
    "\n",
    "## c6h6_gt"
   ]
  },
  {
   "cell_type": "code",
   "execution_count": 27,
   "id": "fa167cc0",
   "metadata": {
    "scrolled": false
   },
   "outputs": [
    {
     "data": {
      "text/plain": [
       "<function matplotlib.pyplot.show(close=None, block=None)>"
      ]
     },
     "execution_count": 27,
     "metadata": {},
     "output_type": "execute_result"
    },
    {
     "data": {
      "image/png": "[encoded data removed]",
      "text/plain": [
       "<Figure size 1080x576 with 1 Axes>"
      ]
     },
     "metadata": {
      "needs_background": "light"
     },
     "output_type": "display_data"
    }
   ],
   "source": [
    "x_lst = df['c6h6_gt'].value_counts()\n",
    "\n",
    "plt.title('c6h6_gt')\n",
    "plt.xlabel('Value')\n",
    "plt.ylabel('Number of entries')\n",
    "plt.scatter(x_lst.index, x_lst.values, s=5)\n",
    "plt.show"
   ]
  },
  {
   "cell_type": "code",
   "execution_count": 28,
   "id": "06782b33",
   "metadata": {},
   "outputs": [
    {
     "data": {
      "text/plain": [
       "6160    63.7\n",
       "5520    52.1\n",
       "6159    50.7\n",
       "6193    50.6\n",
       "6192    49.5\n",
       "6194    49.4\n",
       "5690    48.2\n",
       "6048    47.7\n",
       "5736    47.5\n",
       "5495    46.3\n",
       "Name: c6h6_gt, dtype: float64"
      ]
     },
     "execution_count": 28,
     "metadata": {},
     "output_type": "execute_result"
    }
   ],
   "source": [
    "df['c6h6_gt'].nlargest(10)"
   ]
  },
  {
   "cell_type": "code",
   "execution_count": 29,
   "id": "f95381c3",
   "metadata": {},
   "outputs": [],
   "source": [
    "# filter column so that values below 0 aren't included\n",
    "filt = df['c6h6_gt'].between(-10, 100)\n",
    "filt_df = df['c6h6_gt'].loc[filt]"
   ]
  },
  {
   "cell_type": "code",
   "execution_count": 30,
   "id": "9f24e9a6",
   "metadata": {
    "scrolled": false
   },
   "outputs": [
    {
     "data": {
      "text/plain": [
       "<function matplotlib.pyplot.show(close=None, block=None)>"
      ]
     },
     "execution_count": 30,
     "metadata": {},
     "output_type": "execute_result"
    },
    {
     "data": {
      "image/png": "[encoded data removed]",
      "text/plain": [
       "<Figure size 1080x576 with 1 Axes>"
      ]
     },
     "metadata": {
      "needs_background": "light"
     },
     "output_type": "display_data"
    }
   ],
   "source": [
    "# histogram based on filtered column\n",
    "plt.title('c6h6_gt')\n",
    "plt.xlabel('Value')\n",
    "plt.ylabel('Number of entries')\n",
    "plt.hist(filt_df, bins=20)\n",
    "plt.show"
   ]
  },
  {
   "cell_type": "markdown",
   "id": "f1764ee5",
   "metadata": {},
   "source": [
    "Value -200 seems to be an unwanted outlier\n",
    "\n",
    "## pt08.s2_nmhc\t"
   ]
  },
  {
   "cell_type": "code",
   "execution_count": 31,
   "id": "8e9358e6",
   "metadata": {
    "scrolled": false
   },
   "outputs": [
    {
     "data": {
      "text/plain": [
       "<function matplotlib.pyplot.show(close=None, block=None)>"
      ]
     },
     "execution_count": 31,
     "metadata": {},
     "output_type": "execute_result"
    },
    {
     "data": {
      "image/png": "[encoded data removed]",
      "text/plain": [
       "<Figure size 1080x576 with 1 Axes>"
      ]
     },
     "metadata": {
      "needs_background": "light"
     },
     "output_type": "display_data"
    }
   ],
   "source": [
    "x_lst = df['pt08-s2_nmhc'].value_counts()\n",
    "\n",
    "plt.title('pt08-s2_nmhc')\n",
    "plt.xlabel('Value')\n",
    "plt.ylabel('Number of entries')\n",
    "plt.scatter(x_lst.index, x_lst.values, s=5)\n",
    "plt.show"
   ]
  },
  {
   "cell_type": "code",
   "execution_count": 32,
   "id": "dd74973f",
   "metadata": {},
   "outputs": [
    {
     "data": {
      "text/plain": [
       "-200     148\n",
       " 853      20\n",
       " 890      18\n",
       " 776      17\n",
       " 814      17\n",
       "        ... \n",
       " 1599      1\n",
       " 1254      1\n",
       " 1433      1\n",
       " 1593      1\n",
       " 1532      1\n",
       "Name: pt08-s2_nmhc, Length: 1178, dtype: int64"
      ]
     },
     "execution_count": 32,
     "metadata": {},
     "output_type": "execute_result"
    }
   ],
   "source": [
    "df['pt08-s2_nmhc'].value_counts()"
   ]
  },
  {
   "cell_type": "code",
   "execution_count": 33,
   "id": "ad56cdc6",
   "metadata": {},
   "outputs": [],
   "source": [
    "# filter column so that values below 200 aren't included\n",
    "filt = df['pt08-s2_nmhc'].between(200, 3000)\n",
    "filt_df = df['pt08-s2_nmhc'].loc[filt]"
   ]
  },
  {
   "cell_type": "code",
   "execution_count": 34,
   "id": "b8485e86",
   "metadata": {},
   "outputs": [
    {
     "data": {
      "text/plain": [
       "<function matplotlib.pyplot.show(close=None, block=None)>"
      ]
     },
     "execution_count": 34,
     "metadata": {},
     "output_type": "execute_result"
    },
    {
     "data": {
      "image/png": "[encoded data removed]",
      "text/plain": [
       "<Figure size 1080x576 with 1 Axes>"
      ]
     },
     "metadata": {
      "needs_background": "light"
     },
     "output_type": "display_data"
    }
   ],
   "source": [
    "# histogram based on filtered column\n",
    "plt.title('pt08-s2_nmhc')\n",
    "plt.xlabel('Value')\n",
    "plt.ylabel('Number of entries')\n",
    "plt.hist(filt_df, bins=20)\n",
    "plt.show"
   ]
  },
  {
   "cell_type": "markdown",
   "id": "fac27311",
   "metadata": {},
   "source": [
    "Value -200 seems to be an unwanted outlier\n",
    "\n",
    "## nox_gt \t"
   ]
  },
  {
   "cell_type": "code",
   "execution_count": 35,
   "id": "d4e936df",
   "metadata": {
    "scrolled": false
   },
   "outputs": [
    {
     "data": {
      "text/plain": [
       "<function matplotlib.pyplot.show(close=None, block=None)>"
      ]
     },
     "execution_count": 35,
     "metadata": {},
     "output_type": "execute_result"
    },
    {
     "data": {
      "image/png": "[encoded data removed]",
      "text/plain": [
       "<Figure size 1080x576 with 1 Axes>"
      ]
     },
     "metadata": {
      "needs_background": "light"
     },
     "output_type": "display_data"
    }
   ],
   "source": [
    "x_lst = df['nox_gt'].value_counts()\n",
    "\n",
    "plt.title('nox_gt')\n",
    "plt.xlabel('Value')\n",
    "plt.ylabel('Number of entries')\n",
    "plt.scatter(x_lst.index, x_lst.values, s=5)\n",
    "plt.show"
   ]
  },
  {
   "cell_type": "code",
   "execution_count": 36,
   "id": "ac7185c4",
   "metadata": {},
   "outputs": [
    {
     "data": {
      "text/plain": [
       "-200     1444\n",
       " 65        37\n",
       " 89        34\n",
       " 41        34\n",
       " 57        31\n",
       "         ... \n",
       " 683        1\n",
       " 512        1\n",
       " 595        1\n",
       " 1052       1\n",
       " 1040       1\n",
       "Name: nox_gt, Length: 735, dtype: int64"
      ]
     },
     "execution_count": 36,
     "metadata": {},
     "output_type": "execute_result"
    }
   ],
   "source": [
    "df['nox_gt'].value_counts()"
   ]
  },
  {
   "cell_type": "code",
   "execution_count": 37,
   "id": "0b6f843a",
   "metadata": {},
   "outputs": [],
   "source": [
    "# filter column so that values below -50 aren't included\n",
    "filt = df['nox_gt'].between(-50, 3000)\n",
    "filt_df = df['nox_gt'].loc[filt]"
   ]
  },
  {
   "cell_type": "code",
   "execution_count": 38,
   "id": "dc0e874c",
   "metadata": {},
   "outputs": [
    {
     "data": {
      "text/plain": [
       "<function matplotlib.pyplot.show(close=None, block=None)>"
      ]
     },
     "execution_count": 38,
     "metadata": {},
     "output_type": "execute_result"
    },
    {
     "data": {
      "image/png": "[encoded data removed]",
      "text/plain": [
       "<Figure size 1080x576 with 1 Axes>"
      ]
     },
     "metadata": {
      "needs_background": "light"
     },
     "output_type": "display_data"
    }
   ],
   "source": [
    "# histogram based on filtered column\n",
    "plt.title('nox_gt')\n",
    "plt.xlabel('Value')\n",
    "plt.ylabel('Number of entries')\n",
    "plt.hist(filt_df, bins=20)\n",
    "plt.show"
   ]
  },
  {
   "cell_type": "markdown",
   "id": "59d4c788",
   "metadata": {},
   "source": [
    "Value -200 seems to be an unwanted outlier\n",
    "\n",
    "## pt08.s3_nox \t \t"
   ]
  },
  {
   "cell_type": "code",
   "execution_count": 39,
   "id": "5d2f8b54",
   "metadata": {
    "scrolled": false
   },
   "outputs": [
    {
     "data": {
      "text/plain": [
       "<function matplotlib.pyplot.show(close=None, block=None)>"
      ]
     },
     "execution_count": 39,
     "metadata": {},
     "output_type": "execute_result"
    },
    {
     "data": {
      "image/png": "[encoded data removed]",
      "text/plain": [
       "<Figure size 1080x576 with 1 Axes>"
      ]
     },
     "metadata": {
      "needs_background": "light"
     },
     "output_type": "display_data"
    }
   ],
   "source": [
    "x_lst = df['pt08-s3_nox'].value_counts()\n",
    "\n",
    "plt.title('pt08-s3_nox')\n",
    "plt.xlabel('Value')\n",
    "plt.ylabel('Number of entries')\n",
    "plt.scatter(x_lst.index, x_lst.values, s=5)\n",
    "plt.show"
   ]
  },
  {
   "cell_type": "code",
   "execution_count": 40,
   "id": "ac35c8d4",
   "metadata": {},
   "outputs": [
    {
     "data": {
      "text/plain": [
       "-200     148\n",
       " 767      21\n",
       " 733      21\n",
       " 846      20\n",
       " 765      18\n",
       "        ... \n",
       " 1148      1\n",
       " 1100      1\n",
       " 1570      1\n",
       " 1581      1\n",
       " 1667      1\n",
       "Name: pt08-s3_nox, Length: 1142, dtype: int64"
      ]
     },
     "execution_count": 40,
     "metadata": {},
     "output_type": "execute_result"
    }
   ],
   "source": [
    "df['pt08-s3_nox'].value_counts()"
   ]
  },
  {
   "cell_type": "code",
   "execution_count": 41,
   "id": "a871ec60",
   "metadata": {},
   "outputs": [],
   "source": [
    "# filter column so that values below 200 aren't included\n",
    "filt = df['pt08-s3_nox'].between(200, 3000)\n",
    "filt_df = df['pt08-s3_nox'].loc[filt]"
   ]
  },
  {
   "cell_type": "code",
   "execution_count": 42,
   "id": "5ea6fc43",
   "metadata": {},
   "outputs": [
    {
     "data": {
      "text/plain": [
       "<function matplotlib.pyplot.show(close=None, block=None)>"
      ]
     },
     "execution_count": 42,
     "metadata": {},
     "output_type": "execute_result"
    },
    {
     "data": {
      "image/png": "[encoded data removed]",
      "text/plain": [
       "<Figure size 1080x576 with 1 Axes>"
      ]
     },
     "metadata": {
      "needs_background": "light"
     },
     "output_type": "display_data"
    }
   ],
   "source": [
    "# histogram based on filtered column\n",
    "plt.title('pt08-s3_nox')\n",
    "plt.xlabel('Value')\n",
    "plt.ylabel('Number of entries')\n",
    "plt.hist(filt_df, bins=20)\n",
    "plt.show"
   ]
  },
  {
   "cell_type": "markdown",
   "id": "23c46389",
   "metadata": {},
   "source": [
    "Value -200 seems to be an unwanted outlier\n",
    "\n",
    "## no2_gt\t"
   ]
  },
  {
   "cell_type": "code",
   "execution_count": 43,
   "id": "f687f9e5",
   "metadata": {
    "scrolled": false
   },
   "outputs": [
    {
     "data": {
      "text/plain": [
       "<function matplotlib.pyplot.show(close=None, block=None)>"
      ]
     },
     "execution_count": 43,
     "metadata": {},
     "output_type": "execute_result"
    },
    {
     "data": {
      "image/png": "[encoded data removed]",
      "text/plain": [
       "<Figure size 1080x576 with 1 Axes>"
      ]
     },
     "metadata": {
      "needs_background": "light"
     },
     "output_type": "display_data"
    }
   ],
   "source": [
    "x_lst = df['no2_gt'].value_counts()\n",
    "\n",
    "plt.title('no2_gt')\n",
    "plt.xlabel('Value')\n",
    "plt.ylabel('Number of entries')\n",
    "plt.scatter(x_lst.index, x_lst.values, s=5)\n",
    "plt.show"
   ]
  },
  {
   "cell_type": "code",
   "execution_count": 44,
   "id": "4acef34c",
   "metadata": {},
   "outputs": [
    {
     "data": {
      "text/plain": [
       "-200    1447\n",
       " 97       63\n",
       " 101      58\n",
       " 95       58\n",
       " 91       57\n",
       "        ... \n",
       " 7         1\n",
       " 2         1\n",
       " 226       1\n",
       " 223       1\n",
       " 255       1\n",
       "Name: no2_gt, Length: 239, dtype: int64"
      ]
     },
     "execution_count": 44,
     "metadata": {},
     "output_type": "execute_result"
    }
   ],
   "source": [
    "df['no2_gt'].value_counts()"
   ]
  },
  {
   "cell_type": "code",
   "execution_count": 45,
   "id": "9508d0fb",
   "metadata": {},
   "outputs": [],
   "source": [
    "# filter column so that values below -50 aren't included\n",
    "filt = df['no2_gt'].between(-50, 500)\n",
    "filt_df = df['no2_gt'].loc[filt]"
   ]
  },
  {
   "cell_type": "code",
   "execution_count": 46,
   "id": "14cab128",
   "metadata": {},
   "outputs": [
    {
     "data": {
      "text/plain": [
       "<function matplotlib.pyplot.show(close=None, block=None)>"
      ]
     },
     "execution_count": 46,
     "metadata": {},
     "output_type": "execute_result"
    },
    {
     "data": {
      "image/png": "[encoded data removed]",
      "text/plain": [
       "<Figure size 1080x576 with 1 Axes>"
      ]
     },
     "metadata": {
      "needs_background": "light"
     },
     "output_type": "display_data"
    }
   ],
   "source": [
    "# histogram based on filtered column\n",
    "plt.title('no2_gt')\n",
    "plt.xlabel('Value')\n",
    "plt.ylabel('Number of entries')\n",
    "plt.hist(filt_df, bins=20)\n",
    "plt.show"
   ]
  },
  {
   "cell_type": "markdown",
   "id": "f21b1957",
   "metadata": {},
   "source": [
    "Value -200 seems to be an unwanted outlier\n",
    "\n",
    "## PT08.S4(NO2)\t"
   ]
  },
  {
   "cell_type": "code",
   "execution_count": 47,
   "id": "2db4cd49",
   "metadata": {
    "scrolled": false
   },
   "outputs": [
    {
     "data": {
      "text/plain": [
       "<function matplotlib.pyplot.show(close=None, block=None)>"
      ]
     },
     "execution_count": 47,
     "metadata": {},
     "output_type": "execute_result"
    },
    {
     "data": {
      "image/png": "[encoded data removed]",
      "text/plain": [
       "<Figure size 1080x576 with 1 Axes>"
      ]
     },
     "metadata": {
      "needs_background": "light"
     },
     "output_type": "display_data"
    }
   ],
   "source": [
    "x_lst = df['pt08-s4_no2'].value_counts()\n",
    "\n",
    "plt.title('pt08-s4_no2')\n",
    "plt.xlabel('Value')\n",
    "plt.ylabel('Number of entries')\n",
    "plt.scatter(x_lst.index, x_lst.values, s=5)\n",
    "plt.show"
   ]
  },
  {
   "cell_type": "code",
   "execution_count": 48,
   "id": "2067f7a5",
   "metadata": {},
   "outputs": [
    {
     "data": {
      "text/plain": [
       "-200     148\n",
       " 1580     20\n",
       " 1467     19\n",
       " 1539     18\n",
       " 1418     17\n",
       "        ... \n",
       " 2446      1\n",
       " 2047      1\n",
       " 2159      1\n",
       " 2298      1\n",
       " 1163      1\n",
       "Name: pt08-s4_no2, Length: 1338, dtype: int64"
      ]
     },
     "execution_count": 48,
     "metadata": {},
     "output_type": "execute_result"
    }
   ],
   "source": [
    "df['pt08-s4_no2'].value_counts()"
   ]
  },
  {
   "cell_type": "code",
   "execution_count": 49,
   "id": "b621382f",
   "metadata": {},
   "outputs": [],
   "source": [
    "# filter column so that values below 500 aren't included\n",
    "filt = df['pt08-s4_no2'].between(500, 3000)\n",
    "filt_df = df['pt08-s4_no2'].loc[filt]"
   ]
  },
  {
   "cell_type": "code",
   "execution_count": 50,
   "id": "9831beaf",
   "metadata": {},
   "outputs": [
    {
     "data": {
      "text/plain": [
       "<function matplotlib.pyplot.show(close=None, block=None)>"
      ]
     },
     "execution_count": 50,
     "metadata": {},
     "output_type": "execute_result"
    },
    {
     "data": {
      "image/png": "[encoded data removed]",
      "text/plain": [
       "<Figure size 1080x576 with 1 Axes>"
      ]
     },
     "metadata": {
      "needs_background": "light"
     },
     "output_type": "display_data"
    }
   ],
   "source": [
    "# histogram based on filtered column\n",
    "plt.title('pt08-s4_no2')\n",
    "plt.xlabel('Value')\n",
    "plt.ylabel('Number of entries')\n",
    "plt.hist(filt_df, bins=20)\n",
    "plt.show"
   ]
  },
  {
   "cell_type": "markdown",
   "id": "2a404910",
   "metadata": {},
   "source": [
    "Value -200 seems to be an unwanted outlier\n",
    "\n",
    "## pt08.s5_o3\t\t"
   ]
  },
  {
   "cell_type": "code",
   "execution_count": 51,
   "id": "1aa7a7f6",
   "metadata": {
    "scrolled": false
   },
   "outputs": [
    {
     "data": {
      "text/plain": [
       "<function matplotlib.pyplot.show(close=None, block=None)>"
      ]
     },
     "execution_count": 51,
     "metadata": {},
     "output_type": "execute_result"
    },
    {
     "data": {
      "image/png": "[encoded data removed]",
      "text/plain": [
       "<Figure size 1080x576 with 1 Axes>"
      ]
     },
     "metadata": {
      "needs_background": "light"
     },
     "output_type": "display_data"
    }
   ],
   "source": [
    "x_lst = df['pt08-s5_o3'].value_counts()\n",
    "\n",
    "plt.title('pt08-s5_o3')\n",
    "plt.xlabel('Value')\n",
    "plt.ylabel('Number of entries')\n",
    "plt.scatter(x_lst.index, x_lst.values, s=5)\n",
    "plt.show"
   ]
  },
  {
   "cell_type": "code",
   "execution_count": 52,
   "id": "8980e442",
   "metadata": {},
   "outputs": [
    {
     "data": {
      "text/plain": [
       "-200     148\n",
       " 825      18\n",
       " 836      16\n",
       " 777      15\n",
       " 826      15\n",
       "        ... \n",
       " 426       1\n",
       " 331       1\n",
       " 600       1\n",
       " 320       1\n",
       " 2038      1\n",
       "Name: pt08-s5_o3, Length: 1551, dtype: int64"
      ]
     },
     "execution_count": 52,
     "metadata": {},
     "output_type": "execute_result"
    }
   ],
   "source": [
    "df['pt08-s5_o3'].value_counts()"
   ]
  },
  {
   "cell_type": "code",
   "execution_count": 53,
   "id": "556a6499",
   "metadata": {},
   "outputs": [],
   "source": [
    "# filter column so that values below 200 aren't included\n",
    "filt = df['pt08-s5_o3'].between(200, 3000)\n",
    "filt_df = df['pt08-s5_o3'].loc[filt]"
   ]
  },
  {
   "cell_type": "code",
   "execution_count": 54,
   "id": "ddeb7ede",
   "metadata": {},
   "outputs": [
    {
     "data": {
      "text/plain": [
       "<function matplotlib.pyplot.show(close=None, block=None)>"
      ]
     },
     "execution_count": 54,
     "metadata": {},
     "output_type": "execute_result"
    },
    {
     "data": {
      "image/png": "[encoded data removed]",
      "text/plain": [
       "<Figure size 1080x576 with 1 Axes>"
      ]
     },
     "metadata": {
      "needs_background": "light"
     },
     "output_type": "display_data"
    }
   ],
   "source": [
    "# histogram based on filtered column\n",
    "plt.title('pt08-s5_o3')\n",
    "plt.xlabel('Value')\n",
    "plt.ylabel('Number of entries')\n",
    "plt.hist(filt_df, bins=20)\n",
    "plt.show"
   ]
  },
  {
   "cell_type": "markdown",
   "id": "a9df350d",
   "metadata": {},
   "source": [
    "Value -200 seems to be an unwanted outlier\n",
    "\n",
    "## t"
   ]
  },
  {
   "cell_type": "code",
   "execution_count": 55,
   "id": "45569a51",
   "metadata": {
    "scrolled": false
   },
   "outputs": [
    {
     "data": {
      "text/plain": [
       "<function matplotlib.pyplot.show(close=None, block=None)>"
      ]
     },
     "execution_count": 55,
     "metadata": {},
     "output_type": "execute_result"
    },
    {
     "data": {
      "image/png": "[encoded data removed]",
      "text/plain": [
       "<Figure size 1080x576 with 1 Axes>"
      ]
     },
     "metadata": {
      "needs_background": "light"
     },
     "output_type": "display_data"
    }
   ],
   "source": [
    "x_lst = df['t'].value_counts()\n",
    "\n",
    "plt.title('t')\n",
    "plt.xlabel('Value')\n",
    "plt.ylabel('Number of entries')\n",
    "plt.scatter(x_lst.index, x_lst.values, s=5)\n",
    "plt.show"
   ]
  },
  {
   "cell_type": "code",
   "execution_count": 56,
   "id": "cb2e9ecf",
   "metadata": {},
   "outputs": [
    {
     "data": {
      "text/plain": [
       "-200.0    148\n",
       " 20.8      55\n",
       " 21.3      50\n",
       " 20.2      47\n",
       " 19.8      46\n",
       "         ... \n",
       " 44.3       1\n",
       " 44.6       1\n",
       " 43.4       1\n",
       " 40.7       1\n",
       " 41.0       1\n",
       "Name: t, Length: 391, dtype: int64"
      ]
     },
     "execution_count": 56,
     "metadata": {},
     "output_type": "execute_result"
    }
   ],
   "source": [
    "df['t'].value_counts()"
   ]
  },
  {
   "cell_type": "code",
   "execution_count": 57,
   "id": "6e7cb433",
   "metadata": {},
   "outputs": [],
   "source": [
    "# filter column so that values below -20 aren't included\n",
    "filt = df['t'].between(-20, 100)\n",
    "filt_df = df['t'].loc[filt]"
   ]
  },
  {
   "cell_type": "code",
   "execution_count": 58,
   "id": "f1de7d5f",
   "metadata": {},
   "outputs": [
    {
     "data": {
      "text/plain": [
       "<function matplotlib.pyplot.show(close=None, block=None)>"
      ]
     },
     "execution_count": 58,
     "metadata": {},
     "output_type": "execute_result"
    },
    {
     "data": {
      "image/png": "[encoded data removed]",
      "text/plain": [
       "<Figure size 1080x576 with 1 Axes>"
      ]
     },
     "metadata": {
      "needs_background": "light"
     },
     "output_type": "display_data"
    }
   ],
   "source": [
    "# histogram based on filtered column\n",
    "plt.title('t')\n",
    "plt.xlabel('Value')\n",
    "plt.ylabel('Number of entries')\n",
    "plt.hist(filt_df, bins=20)\n",
    "plt.show"
   ]
  },
  {
   "cell_type": "markdown",
   "id": "f7638d9d",
   "metadata": {},
   "source": [
    "Value -200 seems to be an unwanted outlier\n",
    "\n",
    "## rh\t"
   ]
  },
  {
   "cell_type": "code",
   "execution_count": 59,
   "id": "afb49997",
   "metadata": {
    "scrolled": false
   },
   "outputs": [
    {
     "data": {
      "text/plain": [
       "<function matplotlib.pyplot.show(close=None, block=None)>"
      ]
     },
     "execution_count": 59,
     "metadata": {},
     "output_type": "execute_result"
    },
    {
     "data": {
      "image/png": "[encoded data removed]",
      "text/plain": [
       "<Figure size 1080x576 with 1 Axes>"
      ]
     },
     "metadata": {
      "needs_background": "light"
     },
     "output_type": "display_data"
    }
   ],
   "source": [
    "x_lst = df['rh'].value_counts()\n",
    "\n",
    "plt.title('rh')\n",
    "plt.xlabel('Value')\n",
    "plt.ylabel('Number of entries')\n",
    "plt.scatter(x_lst.index, x_lst.values, s=5)\n",
    "plt.show"
   ]
  },
  {
   "cell_type": "code",
   "execution_count": 60,
   "id": "c788fb6d",
   "metadata": {},
   "outputs": [
    {
     "data": {
      "text/plain": [
       "-200.0    148\n",
       " 53.1      23\n",
       " 57.6      22\n",
       " 43.0      21\n",
       " 47.6      20\n",
       "         ... \n",
       " 11.6       1\n",
       " 85.2       1\n",
       " 17.6       1\n",
       " 78.7       1\n",
       " 82.8       1\n",
       "Name: rh, Length: 739, dtype: int64"
      ]
     },
     "execution_count": 60,
     "metadata": {},
     "output_type": "execute_result"
    }
   ],
   "source": [
    "df['rh'].value_counts()"
   ]
  },
  {
   "cell_type": "code",
   "execution_count": 61,
   "id": "f3c31ed0",
   "metadata": {},
   "outputs": [],
   "source": [
    "# filter column so that values below 0 aren't included\n",
    "filt = df['rh'].between(0, 100)\n",
    "filt_df = df['rh'].loc[filt]"
   ]
  },
  {
   "cell_type": "code",
   "execution_count": 62,
   "id": "abd53fd1",
   "metadata": {
    "scrolled": false
   },
   "outputs": [
    {
     "data": {
      "text/plain": [
       "<function matplotlib.pyplot.show(close=None, block=None)>"
      ]
     },
     "execution_count": 62,
     "metadata": {},
     "output_type": "execute_result"
    },
    {
     "data": {
      "image/png": "[encoded data removed]",
      "text/plain": [
       "<Figure size 1080x576 with 1 Axes>"
      ]
     },
     "metadata": {
      "needs_background": "light"
     },
     "output_type": "display_data"
    }
   ],
   "source": [
    "# histogram based on filtered column\n",
    "plt.title('rh')\n",
    "plt.xlabel('Value')\n",
    "plt.ylabel('Number of entries')\n",
    "plt.hist(filt_df, bins=20)\n",
    "plt.show"
   ]
  },
  {
   "cell_type": "markdown",
   "id": "ae0059bd",
   "metadata": {},
   "source": [
    "Value -200 seems to be an unwanted outlier\n",
    "\n",
    "## ah"
   ]
  },
  {
   "cell_type": "code",
   "execution_count": 63,
   "id": "15e08dfa",
   "metadata": {
    "scrolled": false
   },
   "outputs": [
    {
     "data": {
      "text/plain": [
       "<function matplotlib.pyplot.show(close=None, block=None)>"
      ]
     },
     "execution_count": 63,
     "metadata": {},
     "output_type": "execute_result"
    },
    {
     "data": {
      "image/png": "[encoded data removed]",
      "text/plain": [
       "<Figure size 1080x576 with 1 Axes>"
      ]
     },
     "metadata": {
      "needs_background": "light"
     },
     "output_type": "display_data"
    }
   ],
   "source": [
    "x_lst = df['ah'].value_counts()\n",
    "\n",
    "plt.title('ah')\n",
    "plt.xlabel('Value')\n",
    "plt.ylabel('Number of entries')\n",
    "plt.scatter(x_lst.index, x_lst.values, s=5)\n",
    "plt.show"
   ]
  },
  {
   "cell_type": "code",
   "execution_count": 64,
   "id": "37f14f14",
   "metadata": {},
   "outputs": [
    {
     "data": {
      "text/plain": [
       "-200.0000    148\n",
       " 1.1199        6\n",
       " 0.8394        5\n",
       " 1.5115        4\n",
       " 1.4495        4\n",
       "            ... \n",
       " 1.2777        1\n",
       " 1.2957        1\n",
       " 1.3319        1\n",
       " 1.3244        1\n",
       " 1.0825        1\n",
       "Name: ah, Length: 4915, dtype: int64"
      ]
     },
     "execution_count": 64,
     "metadata": {},
     "output_type": "execute_result"
    }
   ],
   "source": [
    "df['ah'].value_counts()"
   ]
  },
  {
   "cell_type": "code",
   "execution_count": 65,
   "id": "9f304ec9",
   "metadata": {},
   "outputs": [],
   "source": [
    "# filter column so that values below -10 aren't included\n",
    "filt = df['ah'].between(-10, 100)\n",
    "filt_df = df['ah'].loc[filt]"
   ]
  },
  {
   "cell_type": "code",
   "execution_count": 66,
   "id": "ceba8405",
   "metadata": {
    "scrolled": false
   },
   "outputs": [
    {
     "data": {
      "text/plain": [
       "<function matplotlib.pyplot.show(close=None, block=None)>"
      ]
     },
     "execution_count": 66,
     "metadata": {},
     "output_type": "execute_result"
    },
    {
     "data": {
      "image/png": "[encoded data removed]",
      "text/plain": [
       "<Figure size 1080x576 with 1 Axes>"
      ]
     },
     "metadata": {
      "needs_background": "light"
     },
     "output_type": "display_data"
    }
   ],
   "source": [
    "# histogram based on filtered column\n",
    "plt.title('ah')\n",
    "plt.xlabel('Value')\n",
    "plt.ylabel('Number of entries')\n",
    "plt.hist(filt_df, bins=20)\n",
    "plt.show"
   ]
  }
 ],
 "metadata": {
  "kernelspec": {
   "display_name": "Python 3 (ipykernel)",
   "language": "python",
   "name": "python3"
  },
  "language_info": {
   "codemirror_mode": {
    "name": "ipython",
    "version": 3
   },
   "file_extension": ".py",
   "mimetype": "text/x-python",
   "name": "python",
   "nbconvert_exporter": "python",
   "pygments_lexer": "ipython3",
   "version": "3.9.7"
  }
 },
 "nbformat": 4,
 "nbformat_minor": 5
}
