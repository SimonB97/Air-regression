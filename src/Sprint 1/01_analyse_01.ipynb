{
 "cells": [
  {
   "cell_type": "code",
   "execution_count": 1,
   "id": "d8a7e37b",
   "metadata": {},
   "outputs": [],
   "source": [
    "# imports\n",
    "import pandas as pd"
   ]
  },
  {
   "cell_type": "code",
   "execution_count": 2,
   "id": "5e083356",
   "metadata": {},
   "outputs": [],
   "source": [
    "# read in the dataframe\n",
    "url = 'https://raw.githubusercontent.com/joa24jm/21-12-13_air-qual/master/data/01_raw/AirQualityUCI.csv'\n",
    "df = pd.read_csv(url, sep=';', decimal=',')"
   ]
  },
  {
   "cell_type": "markdown",
   "id": "9f697d70",
   "metadata": {},
   "source": [
    "# Erste Untersuchung und Anpassung des Outputs"
   ]
  },
  {
   "cell_type": "markdown",
   "id": "172be85a",
   "metadata": {},
   "source": [
    "## Erste Untersuchung "
   ]
  },
  {
   "cell_type": "code",
   "execution_count": 3,
   "id": "80a9b91b",
   "metadata": {},
   "outputs": [
    {
     "data": {
      "text/html": [
       "<div>\n",
       "<style scoped>\n",
       "    .dataframe tbody tr th:only-of-type {\n",
       "        vertical-align: middle;\n",
       "    }\n",
       "\n",
       "    .dataframe tbody tr th {\n",
       "        vertical-align: top;\n",
       "    }\n",
       "\n",
       "    .dataframe thead th {\n",
       "        text-align: right;\n",
       "    }\n",
       "</style>\n",
       "<table border=\"1\" class=\"dataframe\">\n",
       "  <thead>\n",
       "    <tr style=\"text-align: right;\">\n",
       "      <th></th>\n",
       "      <th>Date</th>\n",
       "      <th>Time</th>\n",
       "      <th>CO(GT)</th>\n",
       "      <th>PT08.S1(CO)</th>\n",
       "      <th>NMHC(GT)</th>\n",
       "      <th>C6H6(GT)</th>\n",
       "      <th>PT08.S2(NMHC)</th>\n",
       "      <th>NOx(GT)</th>\n",
       "      <th>PT08.S3(NOx)</th>\n",
       "      <th>NO2(GT)</th>\n",
       "      <th>PT08.S4(NO2)</th>\n",
       "      <th>PT08.S5(O3)</th>\n",
       "      <th>T</th>\n",
       "      <th>RH</th>\n",
       "      <th>AH</th>\n",
       "      <th>Unnamed: 15</th>\n",
       "      <th>Unnamed: 16</th>\n",
       "    </tr>\n",
       "  </thead>\n",
       "  <tbody>\n",
       "    <tr>\n",
       "      <th>0</th>\n",
       "      <td>10/03/2004</td>\n",
       "      <td>18.00.00</td>\n",
       "      <td>2.6</td>\n",
       "      <td>1360</td>\n",
       "      <td>150</td>\n",
       "      <td>11.9</td>\n",
       "      <td>1046</td>\n",
       "      <td>166</td>\n",
       "      <td>1056</td>\n",
       "      <td>113</td>\n",
       "      <td>1692</td>\n",
       "      <td>1268</td>\n",
       "      <td>13.6</td>\n",
       "      <td>48.9</td>\n",
       "      <td>0.7578</td>\n",
       "      <td>NaN</td>\n",
       "      <td>NaN</td>\n",
       "    </tr>\n",
       "    <tr>\n",
       "      <th>1</th>\n",
       "      <td>10/03/2004</td>\n",
       "      <td>19.00.00</td>\n",
       "      <td>2.0</td>\n",
       "      <td>1292</td>\n",
       "      <td>112</td>\n",
       "      <td>9.4</td>\n",
       "      <td>955</td>\n",
       "      <td>103</td>\n",
       "      <td>1174</td>\n",
       "      <td>92</td>\n",
       "      <td>1559</td>\n",
       "      <td>972</td>\n",
       "      <td>13.3</td>\n",
       "      <td>47.7</td>\n",
       "      <td>0.7255</td>\n",
       "      <td>NaN</td>\n",
       "      <td>NaN</td>\n",
       "    </tr>\n",
       "    <tr>\n",
       "      <th>2</th>\n",
       "      <td>10/03/2004</td>\n",
       "      <td>20.00.00</td>\n",
       "      <td>2.2</td>\n",
       "      <td>1402</td>\n",
       "      <td>88</td>\n",
       "      <td>9.0</td>\n",
       "      <td>939</td>\n",
       "      <td>131</td>\n",
       "      <td>1140</td>\n",
       "      <td>114</td>\n",
       "      <td>1555</td>\n",
       "      <td>1074</td>\n",
       "      <td>11.9</td>\n",
       "      <td>54.0</td>\n",
       "      <td>0.7502</td>\n",
       "      <td>NaN</td>\n",
       "      <td>NaN</td>\n",
       "    </tr>\n",
       "    <tr>\n",
       "      <th>3</th>\n",
       "      <td>10/03/2004</td>\n",
       "      <td>21.00.00</td>\n",
       "      <td>2.2</td>\n",
       "      <td>1376</td>\n",
       "      <td>80</td>\n",
       "      <td>9.2</td>\n",
       "      <td>948</td>\n",
       "      <td>172</td>\n",
       "      <td>1092</td>\n",
       "      <td>122</td>\n",
       "      <td>1584</td>\n",
       "      <td>1203</td>\n",
       "      <td>11.0</td>\n",
       "      <td>60.0</td>\n",
       "      <td>0.7867</td>\n",
       "      <td>NaN</td>\n",
       "      <td>NaN</td>\n",
       "    </tr>\n",
       "    <tr>\n",
       "      <th>4</th>\n",
       "      <td>10/03/2004</td>\n",
       "      <td>22.00.00</td>\n",
       "      <td>1.6</td>\n",
       "      <td>1272</td>\n",
       "      <td>51</td>\n",
       "      <td>6.5</td>\n",
       "      <td>836</td>\n",
       "      <td>131</td>\n",
       "      <td>1205</td>\n",
       "      <td>116</td>\n",
       "      <td>1490</td>\n",
       "      <td>1110</td>\n",
       "      <td>11.2</td>\n",
       "      <td>59.6</td>\n",
       "      <td>0.7888</td>\n",
       "      <td>NaN</td>\n",
       "      <td>NaN</td>\n",
       "    </tr>\n",
       "    <tr>\n",
       "      <th>...</th>\n",
       "      <td>...</td>\n",
       "      <td>...</td>\n",
       "      <td>...</td>\n",
       "      <td>...</td>\n",
       "      <td>...</td>\n",
       "      <td>...</td>\n",
       "      <td>...</td>\n",
       "      <td>...</td>\n",
       "      <td>...</td>\n",
       "      <td>...</td>\n",
       "      <td>...</td>\n",
       "      <td>...</td>\n",
       "      <td>...</td>\n",
       "      <td>...</td>\n",
       "      <td>...</td>\n",
       "      <td>...</td>\n",
       "      <td>...</td>\n",
       "    </tr>\n",
       "    <tr>\n",
       "      <th>7993</th>\n",
       "      <td>06/02/2005</td>\n",
       "      <td>19.00.00</td>\n",
       "      <td>1.6</td>\n",
       "      <td>985</td>\n",
       "      <td>-200</td>\n",
       "      <td>4.5</td>\n",
       "      <td>736</td>\n",
       "      <td>227</td>\n",
       "      <td>891</td>\n",
       "      <td>165</td>\n",
       "      <td>875</td>\n",
       "      <td>774</td>\n",
       "      <td>6.0</td>\n",
       "      <td>38.0</td>\n",
       "      <td>0.3584</td>\n",
       "      <td>NaN</td>\n",
       "      <td>NaN</td>\n",
       "    </tr>\n",
       "    <tr>\n",
       "      <th>7994</th>\n",
       "      <td>06/02/2005</td>\n",
       "      <td>20.00.00</td>\n",
       "      <td>1.8</td>\n",
       "      <td>1002</td>\n",
       "      <td>-200</td>\n",
       "      <td>5.3</td>\n",
       "      <td>780</td>\n",
       "      <td>252</td>\n",
       "      <td>855</td>\n",
       "      <td>179</td>\n",
       "      <td>892</td>\n",
       "      <td>857</td>\n",
       "      <td>5.8</td>\n",
       "      <td>36.4</td>\n",
       "      <td>0.3385</td>\n",
       "      <td>NaN</td>\n",
       "      <td>NaN</td>\n",
       "    </tr>\n",
       "    <tr>\n",
       "      <th>7995</th>\n",
       "      <td>06/02/2005</td>\n",
       "      <td>21.00.00</td>\n",
       "      <td>1.4</td>\n",
       "      <td>938</td>\n",
       "      <td>-200</td>\n",
       "      <td>3.7</td>\n",
       "      <td>692</td>\n",
       "      <td>193</td>\n",
       "      <td>937</td>\n",
       "      <td>149</td>\n",
       "      <td>805</td>\n",
       "      <td>737</td>\n",
       "      <td>5.8</td>\n",
       "      <td>35.4</td>\n",
       "      <td>0.3286</td>\n",
       "      <td>NaN</td>\n",
       "      <td>NaN</td>\n",
       "    </tr>\n",
       "    <tr>\n",
       "      <th>7996</th>\n",
       "      <td>06/02/2005</td>\n",
       "      <td>22.00.00</td>\n",
       "      <td>1.1</td>\n",
       "      <td>896</td>\n",
       "      <td>-200</td>\n",
       "      <td>2.6</td>\n",
       "      <td>627</td>\n",
       "      <td>158</td>\n",
       "      <td>1033</td>\n",
       "      <td>126</td>\n",
       "      <td>782</td>\n",
       "      <td>610</td>\n",
       "      <td>5.4</td>\n",
       "      <td>36.6</td>\n",
       "      <td>0.3304</td>\n",
       "      <td>NaN</td>\n",
       "      <td>NaN</td>\n",
       "    </tr>\n",
       "    <tr>\n",
       "      <th>7997</th>\n",
       "      <td>06/02/2005</td>\n",
       "      <td>23.00.00</td>\n",
       "      <td>1.0</td>\n",
       "      <td>907</td>\n",
       "      <td>-200</td>\n",
       "      <td>2.4</td>\n",
       "      <td>614</td>\n",
       "      <td>150</td>\n",
       "      <td>1052</td>\n",
       "      <td>120</td>\n",
       "      <td>782</td>\n",
       "      <td>627</td>\n",
       "      <td>5.1</td>\n",
       "      <td>37.9</td>\n",
       "      <td>0.3358</td>\n",
       "      <td>NaN</td>\n",
       "      <td>NaN</td>\n",
       "    </tr>\n",
       "  </tbody>\n",
       "</table>\n",
       "<p>7998 rows × 17 columns</p>\n",
       "</div>"
      ],
      "text/plain": [
       "            Date      Time  CO(GT)  PT08.S1(CO)  NMHC(GT)  C6H6(GT)  \\\n",
       "0     10/03/2004  18.00.00     2.6         1360       150      11.9   \n",
       "1     10/03/2004  19.00.00     2.0         1292       112       9.4   \n",
       "2     10/03/2004  20.00.00     2.2         1402        88       9.0   \n",
       "3     10/03/2004  21.00.00     2.2         1376        80       9.2   \n",
       "4     10/03/2004  22.00.00     1.6         1272        51       6.5   \n",
       "...          ...       ...     ...          ...       ...       ...   \n",
       "7993  06/02/2005  19.00.00     1.6          985      -200       4.5   \n",
       "7994  06/02/2005  20.00.00     1.8         1002      -200       5.3   \n",
       "7995  06/02/2005  21.00.00     1.4          938      -200       3.7   \n",
       "7996  06/02/2005  22.00.00     1.1          896      -200       2.6   \n",
       "7997  06/02/2005  23.00.00     1.0          907      -200       2.4   \n",
       "\n",
       "      PT08.S2(NMHC)  NOx(GT)  PT08.S3(NOx)  NO2(GT)  PT08.S4(NO2)  \\\n",
       "0              1046      166          1056      113          1692   \n",
       "1               955      103          1174       92          1559   \n",
       "2               939      131          1140      114          1555   \n",
       "3               948      172          1092      122          1584   \n",
       "4               836      131          1205      116          1490   \n",
       "...             ...      ...           ...      ...           ...   \n",
       "7993            736      227           891      165           875   \n",
       "7994            780      252           855      179           892   \n",
       "7995            692      193           937      149           805   \n",
       "7996            627      158          1033      126           782   \n",
       "7997            614      150          1052      120           782   \n",
       "\n",
       "      PT08.S5(O3)     T    RH      AH  Unnamed: 15  Unnamed: 16  \n",
       "0            1268  13.6  48.9  0.7578          NaN          NaN  \n",
       "1             972  13.3  47.7  0.7255          NaN          NaN  \n",
       "2            1074  11.9  54.0  0.7502          NaN          NaN  \n",
       "3            1203  11.0  60.0  0.7867          NaN          NaN  \n",
       "4            1110  11.2  59.6  0.7888          NaN          NaN  \n",
       "...           ...   ...   ...     ...          ...          ...  \n",
       "7993          774   6.0  38.0  0.3584          NaN          NaN  \n",
       "7994          857   5.8  36.4  0.3385          NaN          NaN  \n",
       "7995          737   5.8  35.4  0.3286          NaN          NaN  \n",
       "7996          610   5.4  36.6  0.3304          NaN          NaN  \n",
       "7997          627   5.1  37.9  0.3358          NaN          NaN  \n",
       "\n",
       "[7998 rows x 17 columns]"
      ]
     },
     "execution_count": 3,
     "metadata": {},
     "output_type": "execute_result"
    }
   ],
   "source": [
    "# first output\n",
    "df"
   ]
  },
  {
   "cell_type": "code",
   "execution_count": 4,
   "id": "fb398d11",
   "metadata": {},
   "outputs": [
    {
     "data": {
      "text/plain": [
       "(7998, 17)"
      ]
     },
     "execution_count": 4,
     "metadata": {},
     "output_type": "execute_result"
    }
   ],
   "source": [
    "# number of rows and columns\n",
    "df.shape"
   ]
  },
  {
   "cell_type": "markdown",
   "id": "aa4dcdcb",
   "metadata": {},
   "source": [
    "### Einzelne Zeilen und Spalten"
   ]
  },
  {
   "cell_type": "code",
   "execution_count": 5,
   "id": "49e0e8cf",
   "metadata": {},
   "outputs": [
    {
     "data": {
      "text/html": [
       "<div>\n",
       "<style scoped>\n",
       "    .dataframe tbody tr th:only-of-type {\n",
       "        vertical-align: middle;\n",
       "    }\n",
       "\n",
       "    .dataframe tbody tr th {\n",
       "        vertical-align: top;\n",
       "    }\n",
       "\n",
       "    .dataframe thead th {\n",
       "        text-align: right;\n",
       "    }\n",
       "</style>\n",
       "<table border=\"1\" class=\"dataframe\">\n",
       "  <thead>\n",
       "    <tr style=\"text-align: right;\">\n",
       "      <th></th>\n",
       "      <th>Date</th>\n",
       "      <th>Time</th>\n",
       "      <th>CO(GT)</th>\n",
       "      <th>PT08.S1(CO)</th>\n",
       "      <th>NMHC(GT)</th>\n",
       "      <th>C6H6(GT)</th>\n",
       "      <th>PT08.S2(NMHC)</th>\n",
       "      <th>NOx(GT)</th>\n",
       "      <th>PT08.S3(NOx)</th>\n",
       "      <th>NO2(GT)</th>\n",
       "      <th>PT08.S4(NO2)</th>\n",
       "      <th>PT08.S5(O3)</th>\n",
       "      <th>T</th>\n",
       "      <th>RH</th>\n",
       "      <th>AH</th>\n",
       "      <th>Unnamed: 15</th>\n",
       "      <th>Unnamed: 16</th>\n",
       "    </tr>\n",
       "  </thead>\n",
       "  <tbody>\n",
       "    <tr>\n",
       "      <th>0</th>\n",
       "      <td>10/03/2004</td>\n",
       "      <td>18.00.00</td>\n",
       "      <td>2.6</td>\n",
       "      <td>1360</td>\n",
       "      <td>150</td>\n",
       "      <td>11.9</td>\n",
       "      <td>1046</td>\n",
       "      <td>166</td>\n",
       "      <td>1056</td>\n",
       "      <td>113</td>\n",
       "      <td>1692</td>\n",
       "      <td>1268</td>\n",
       "      <td>13.6</td>\n",
       "      <td>48.9</td>\n",
       "      <td>0.7578</td>\n",
       "      <td>NaN</td>\n",
       "      <td>NaN</td>\n",
       "    </tr>\n",
       "  </tbody>\n",
       "</table>\n",
       "</div>"
      ],
      "text/plain": [
       "         Date      Time  CO(GT)  PT08.S1(CO)  NMHC(GT)  C6H6(GT)  \\\n",
       "0  10/03/2004  18.00.00     2.6         1360       150      11.9   \n",
       "\n",
       "   PT08.S2(NMHC)  NOx(GT)  PT08.S3(NOx)  NO2(GT)  PT08.S4(NO2)  PT08.S5(O3)  \\\n",
       "0           1046      166          1056      113          1692         1268   \n",
       "\n",
       "      T    RH      AH  Unnamed: 15  Unnamed: 16  \n",
       "0  13.6  48.9  0.7578          NaN          NaN  "
      ]
     },
     "execution_count": 5,
     "metadata": {},
     "output_type": "execute_result"
    }
   ],
   "source": [
    "#first row\n",
    "df.head(1)"
   ]
  },
  {
   "cell_type": "code",
   "execution_count": 6,
   "id": "753cedbb",
   "metadata": {},
   "outputs": [
    {
     "data": {
      "text/html": [
       "<div>\n",
       "<style scoped>\n",
       "    .dataframe tbody tr th:only-of-type {\n",
       "        vertical-align: middle;\n",
       "    }\n",
       "\n",
       "    .dataframe tbody tr th {\n",
       "        vertical-align: top;\n",
       "    }\n",
       "\n",
       "    .dataframe thead th {\n",
       "        text-align: right;\n",
       "    }\n",
       "</style>\n",
       "<table border=\"1\" class=\"dataframe\">\n",
       "  <thead>\n",
       "    <tr style=\"text-align: right;\">\n",
       "      <th></th>\n",
       "      <th>Date</th>\n",
       "      <th>Time</th>\n",
       "      <th>CO(GT)</th>\n",
       "      <th>PT08.S1(CO)</th>\n",
       "      <th>NMHC(GT)</th>\n",
       "      <th>C6H6(GT)</th>\n",
       "      <th>PT08.S2(NMHC)</th>\n",
       "      <th>NOx(GT)</th>\n",
       "      <th>PT08.S3(NOx)</th>\n",
       "      <th>NO2(GT)</th>\n",
       "      <th>PT08.S4(NO2)</th>\n",
       "      <th>PT08.S5(O3)</th>\n",
       "      <th>T</th>\n",
       "      <th>RH</th>\n",
       "      <th>AH</th>\n",
       "      <th>Unnamed: 15</th>\n",
       "      <th>Unnamed: 16</th>\n",
       "    </tr>\n",
       "  </thead>\n",
       "  <tbody>\n",
       "    <tr>\n",
       "      <th>7997</th>\n",
       "      <td>06/02/2005</td>\n",
       "      <td>23.00.00</td>\n",
       "      <td>1.0</td>\n",
       "      <td>907</td>\n",
       "      <td>-200</td>\n",
       "      <td>2.4</td>\n",
       "      <td>614</td>\n",
       "      <td>150</td>\n",
       "      <td>1052</td>\n",
       "      <td>120</td>\n",
       "      <td>782</td>\n",
       "      <td>627</td>\n",
       "      <td>5.1</td>\n",
       "      <td>37.9</td>\n",
       "      <td>0.3358</td>\n",
       "      <td>NaN</td>\n",
       "      <td>NaN</td>\n",
       "    </tr>\n",
       "  </tbody>\n",
       "</table>\n",
       "</div>"
      ],
      "text/plain": [
       "            Date      Time  CO(GT)  PT08.S1(CO)  NMHC(GT)  C6H6(GT)  \\\n",
       "7997  06/02/2005  23.00.00     1.0          907      -200       2.4   \n",
       "\n",
       "      PT08.S2(NMHC)  NOx(GT)  PT08.S3(NOx)  NO2(GT)  PT08.S4(NO2)  \\\n",
       "7997            614      150          1052      120           782   \n",
       "\n",
       "      PT08.S5(O3)    T    RH      AH  Unnamed: 15  Unnamed: 16  \n",
       "7997          627  5.1  37.9  0.3358          NaN          NaN  "
      ]
     },
     "execution_count": 6,
     "metadata": {},
     "output_type": "execute_result"
    }
   ],
   "source": [
    "#last row\n",
    "df.tail(1)"
   ]
  },
  {
   "cell_type": "code",
   "execution_count": 7,
   "id": "175679cb",
   "metadata": {},
   "outputs": [
    {
     "data": {
      "text/html": [
       "<div>\n",
       "<style scoped>\n",
       "    .dataframe tbody tr th:only-of-type {\n",
       "        vertical-align: middle;\n",
       "    }\n",
       "\n",
       "    .dataframe tbody tr th {\n",
       "        vertical-align: top;\n",
       "    }\n",
       "\n",
       "    .dataframe thead th {\n",
       "        text-align: right;\n",
       "    }\n",
       "</style>\n",
       "<table border=\"1\" class=\"dataframe\">\n",
       "  <thead>\n",
       "    <tr style=\"text-align: right;\">\n",
       "      <th></th>\n",
       "      <th>Date</th>\n",
       "      <th>Unnamed: 16</th>\n",
       "    </tr>\n",
       "  </thead>\n",
       "  <tbody>\n",
       "    <tr>\n",
       "      <th>0</th>\n",
       "      <td>10/03/2004</td>\n",
       "      <td>NaN</td>\n",
       "    </tr>\n",
       "    <tr>\n",
       "      <th>1</th>\n",
       "      <td>10/03/2004</td>\n",
       "      <td>NaN</td>\n",
       "    </tr>\n",
       "    <tr>\n",
       "      <th>2</th>\n",
       "      <td>10/03/2004</td>\n",
       "      <td>NaN</td>\n",
       "    </tr>\n",
       "    <tr>\n",
       "      <th>3</th>\n",
       "      <td>10/03/2004</td>\n",
       "      <td>NaN</td>\n",
       "    </tr>\n",
       "    <tr>\n",
       "      <th>4</th>\n",
       "      <td>10/03/2004</td>\n",
       "      <td>NaN</td>\n",
       "    </tr>\n",
       "    <tr>\n",
       "      <th>...</th>\n",
       "      <td>...</td>\n",
       "      <td>...</td>\n",
       "    </tr>\n",
       "    <tr>\n",
       "      <th>7993</th>\n",
       "      <td>06/02/2005</td>\n",
       "      <td>NaN</td>\n",
       "    </tr>\n",
       "    <tr>\n",
       "      <th>7994</th>\n",
       "      <td>06/02/2005</td>\n",
       "      <td>NaN</td>\n",
       "    </tr>\n",
       "    <tr>\n",
       "      <th>7995</th>\n",
       "      <td>06/02/2005</td>\n",
       "      <td>NaN</td>\n",
       "    </tr>\n",
       "    <tr>\n",
       "      <th>7996</th>\n",
       "      <td>06/02/2005</td>\n",
       "      <td>NaN</td>\n",
       "    </tr>\n",
       "    <tr>\n",
       "      <th>7997</th>\n",
       "      <td>06/02/2005</td>\n",
       "      <td>NaN</td>\n",
       "    </tr>\n",
       "  </tbody>\n",
       "</table>\n",
       "<p>7998 rows × 2 columns</p>\n",
       "</div>"
      ],
      "text/plain": [
       "            Date  Unnamed: 16\n",
       "0     10/03/2004          NaN\n",
       "1     10/03/2004          NaN\n",
       "2     10/03/2004          NaN\n",
       "3     10/03/2004          NaN\n",
       "4     10/03/2004          NaN\n",
       "...          ...          ...\n",
       "7993  06/02/2005          NaN\n",
       "7994  06/02/2005          NaN\n",
       "7995  06/02/2005          NaN\n",
       "7996  06/02/2005          NaN\n",
       "7997  06/02/2005          NaN\n",
       "\n",
       "[7998 rows x 2 columns]"
      ]
     },
     "execution_count": 7,
     "metadata": {},
     "output_type": "execute_result"
    }
   ],
   "source": [
    "#first and last column\n",
    "df.iloc[:, [0, -1]]"
   ]
  },
  {
   "cell_type": "markdown",
   "id": "bba50744",
   "metadata": {},
   "source": [
    "### Weitere Informationen"
   ]
  },
  {
   "cell_type": "code",
   "execution_count": 8,
   "id": "de680b80",
   "metadata": {},
   "outputs": [
    {
     "data": {
      "text/html": [
       "<div>\n",
       "<style scoped>\n",
       "    .dataframe tbody tr th:only-of-type {\n",
       "        vertical-align: middle;\n",
       "    }\n",
       "\n",
       "    .dataframe tbody tr th {\n",
       "        vertical-align: top;\n",
       "    }\n",
       "\n",
       "    .dataframe thead th {\n",
       "        text-align: right;\n",
       "    }\n",
       "</style>\n",
       "<table border=\"1\" class=\"dataframe\">\n",
       "  <thead>\n",
       "    <tr style=\"text-align: right;\">\n",
       "      <th></th>\n",
       "      <th>CO(GT)</th>\n",
       "      <th>PT08.S1(CO)</th>\n",
       "      <th>NMHC(GT)</th>\n",
       "      <th>C6H6(GT)</th>\n",
       "      <th>PT08.S2(NMHC)</th>\n",
       "      <th>NOx(GT)</th>\n",
       "      <th>PT08.S3(NOx)</th>\n",
       "      <th>NO2(GT)</th>\n",
       "      <th>PT08.S4(NO2)</th>\n",
       "      <th>PT08.S5(O3)</th>\n",
       "      <th>T</th>\n",
       "      <th>RH</th>\n",
       "      <th>AH</th>\n",
       "      <th>Unnamed: 15</th>\n",
       "      <th>Unnamed: 16</th>\n",
       "    </tr>\n",
       "  </thead>\n",
       "  <tbody>\n",
       "    <tr>\n",
       "      <th>count</th>\n",
       "      <td>7998.000000</td>\n",
       "      <td>7998.000000</td>\n",
       "      <td>7998.000000</td>\n",
       "      <td>7998.000000</td>\n",
       "      <td>7998.000000</td>\n",
       "      <td>7998.000000</td>\n",
       "      <td>7998.000000</td>\n",
       "      <td>7998.000000</td>\n",
       "      <td>7998.000000</td>\n",
       "      <td>7998.000000</td>\n",
       "      <td>7998.000000</td>\n",
       "      <td>7998.000000</td>\n",
       "      <td>7998.000000</td>\n",
       "      <td>0.0</td>\n",
       "      <td>0.0</td>\n",
       "    </tr>\n",
       "    <tr>\n",
       "      <th>mean</th>\n",
       "      <td>-39.626619</td>\n",
       "      <td>1051.390473</td>\n",
       "      <td>-152.138785</td>\n",
       "      <td>2.853501</td>\n",
       "      <td>911.895974</td>\n",
       "      <td>149.096524</td>\n",
       "      <td>810.866592</td>\n",
       "      <td>45.156164</td>\n",
       "      <td>1445.659290</td>\n",
       "      <td>979.964741</td>\n",
       "      <td>11.545486</td>\n",
       "      <td>39.972981</td>\n",
       "      <td>-6.183809</td>\n",
       "      <td>NaN</td>\n",
       "      <td>NaN</td>\n",
       "    </tr>\n",
       "    <tr>\n",
       "      <th>std</th>\n",
       "      <td>81.903331</td>\n",
       "      <td>324.558998</td>\n",
       "      <td>150.096708</td>\n",
       "      <td>39.977717</td>\n",
       "      <td>340.000627</td>\n",
       "      <td>260.628377</td>\n",
       "      <td>321.385807</td>\n",
       "      <td>129.330765</td>\n",
       "      <td>455.347712</td>\n",
       "      <td>449.200147</td>\n",
       "      <td>41.835465</td>\n",
       "      <td>49.468677</td>\n",
       "      <td>37.531010</td>\n",
       "      <td>NaN</td>\n",
       "      <td>NaN</td>\n",
       "    </tr>\n",
       "    <tr>\n",
       "      <th>min</th>\n",
       "      <td>-200.000000</td>\n",
       "      <td>-200.000000</td>\n",
       "      <td>-200.000000</td>\n",
       "      <td>-200.000000</td>\n",
       "      <td>-200.000000</td>\n",
       "      <td>-200.000000</td>\n",
       "      <td>-200.000000</td>\n",
       "      <td>-200.000000</td>\n",
       "      <td>-200.000000</td>\n",
       "      <td>-200.000000</td>\n",
       "      <td>-200.000000</td>\n",
       "      <td>-200.000000</td>\n",
       "      <td>-200.000000</td>\n",
       "      <td>NaN</td>\n",
       "      <td>NaN</td>\n",
       "    </tr>\n",
       "    <tr>\n",
       "      <th>25%</th>\n",
       "      <td>0.500000</td>\n",
       "      <td>917.000000</td>\n",
       "      <td>-200.000000</td>\n",
       "      <td>4.300000</td>\n",
       "      <td>727.000000</td>\n",
       "      <td>39.000000</td>\n",
       "      <td>652.000000</td>\n",
       "      <td>44.000000</td>\n",
       "      <td>1275.250000</td>\n",
       "      <td>710.000000</td>\n",
       "      <td>12.300000</td>\n",
       "      <td>33.800000</td>\n",
       "      <td>0.779300</td>\n",
       "      <td>NaN</td>\n",
       "      <td>NaN</td>\n",
       "    </tr>\n",
       "    <tr>\n",
       "      <th>50%</th>\n",
       "      <td>1.500000</td>\n",
       "      <td>1051.500000</td>\n",
       "      <td>-200.000000</td>\n",
       "      <td>8.300000</td>\n",
       "      <td>911.000000</td>\n",
       "      <td>122.000000</td>\n",
       "      <td>807.000000</td>\n",
       "      <td>90.000000</td>\n",
       "      <td>1494.000000</td>\n",
       "      <td>942.000000</td>\n",
       "      <td>18.700000</td>\n",
       "      <td>48.500000</td>\n",
       "      <td>1.031600</td>\n",
       "      <td>NaN</td>\n",
       "      <td>NaN</td>\n",
       "    </tr>\n",
       "    <tr>\n",
       "      <th>75%</th>\n",
       "      <td>2.600000</td>\n",
       "      <td>1225.000000</td>\n",
       "      <td>-200.000000</td>\n",
       "      <td>14.200000</td>\n",
       "      <td>1122.000000</td>\n",
       "      <td>259.750000</td>\n",
       "      <td>976.000000</td>\n",
       "      <td>125.000000</td>\n",
       "      <td>1698.000000</td>\n",
       "      <td>1253.750000</td>\n",
       "      <td>25.100000</td>\n",
       "      <td>61.600000</td>\n",
       "      <td>1.358525</td>\n",
       "      <td>NaN</td>\n",
       "      <td>NaN</td>\n",
       "    </tr>\n",
       "    <tr>\n",
       "      <th>max</th>\n",
       "      <td>11.900000</td>\n",
       "      <td>2040.000000</td>\n",
       "      <td>1189.000000</td>\n",
       "      <td>63.700000</td>\n",
       "      <td>2214.000000</td>\n",
       "      <td>1479.000000</td>\n",
       "      <td>2683.000000</td>\n",
       "      <td>333.000000</td>\n",
       "      <td>2775.000000</td>\n",
       "      <td>2523.000000</td>\n",
       "      <td>44.600000</td>\n",
       "      <td>88.700000</td>\n",
       "      <td>2.231000</td>\n",
       "      <td>NaN</td>\n",
       "      <td>NaN</td>\n",
       "    </tr>\n",
       "  </tbody>\n",
       "</table>\n",
       "</div>"
      ],
      "text/plain": [
       "            CO(GT)  PT08.S1(CO)     NMHC(GT)     C6H6(GT)  PT08.S2(NMHC)  \\\n",
       "count  7998.000000  7998.000000  7998.000000  7998.000000    7998.000000   \n",
       "mean    -39.626619  1051.390473  -152.138785     2.853501     911.895974   \n",
       "std      81.903331   324.558998   150.096708    39.977717     340.000627   \n",
       "min    -200.000000  -200.000000  -200.000000  -200.000000    -200.000000   \n",
       "25%       0.500000   917.000000  -200.000000     4.300000     727.000000   \n",
       "50%       1.500000  1051.500000  -200.000000     8.300000     911.000000   \n",
       "75%       2.600000  1225.000000  -200.000000    14.200000    1122.000000   \n",
       "max      11.900000  2040.000000  1189.000000    63.700000    2214.000000   \n",
       "\n",
       "           NOx(GT)  PT08.S3(NOx)      NO2(GT)  PT08.S4(NO2)  PT08.S5(O3)  \\\n",
       "count  7998.000000   7998.000000  7998.000000   7998.000000  7998.000000   \n",
       "mean    149.096524    810.866592    45.156164   1445.659290   979.964741   \n",
       "std     260.628377    321.385807   129.330765    455.347712   449.200147   \n",
       "min    -200.000000   -200.000000  -200.000000   -200.000000  -200.000000   \n",
       "25%      39.000000    652.000000    44.000000   1275.250000   710.000000   \n",
       "50%     122.000000    807.000000    90.000000   1494.000000   942.000000   \n",
       "75%     259.750000    976.000000   125.000000   1698.000000  1253.750000   \n",
       "max    1479.000000   2683.000000   333.000000   2775.000000  2523.000000   \n",
       "\n",
       "                 T           RH           AH  Unnamed: 15  Unnamed: 16  \n",
       "count  7998.000000  7998.000000  7998.000000          0.0          0.0  \n",
       "mean     11.545486    39.972981    -6.183809          NaN          NaN  \n",
       "std      41.835465    49.468677    37.531010          NaN          NaN  \n",
       "min    -200.000000  -200.000000  -200.000000          NaN          NaN  \n",
       "25%      12.300000    33.800000     0.779300          NaN          NaN  \n",
       "50%      18.700000    48.500000     1.031600          NaN          NaN  \n",
       "75%      25.100000    61.600000     1.358525          NaN          NaN  \n",
       "max      44.600000    88.700000     2.231000          NaN          NaN  "
      ]
     },
     "execution_count": 8,
     "metadata": {},
     "output_type": "execute_result"
    }
   ],
   "source": [
    "df.describe()"
   ]
  },
  {
   "cell_type": "code",
   "execution_count": 9,
   "id": "8a8f5d88",
   "metadata": {},
   "outputs": [
    {
     "data": {
      "text/plain": [
       "Date              object\n",
       "Time              object\n",
       "CO(GT)           float64\n",
       "PT08.S1(CO)        int64\n",
       "NMHC(GT)           int64\n",
       "C6H6(GT)         float64\n",
       "PT08.S2(NMHC)      int64\n",
       "NOx(GT)            int64\n",
       "PT08.S3(NOx)       int64\n",
       "NO2(GT)            int64\n",
       "PT08.S4(NO2)       int64\n",
       "PT08.S5(O3)        int64\n",
       "T                float64\n",
       "RH               float64\n",
       "AH               float64\n",
       "Unnamed: 15      float64\n",
       "Unnamed: 16      float64\n",
       "dtype: object"
      ]
     },
     "execution_count": 9,
     "metadata": {},
     "output_type": "execute_result"
    }
   ],
   "source": [
    "# checking datatypes of all columns\n",
    "df.dtypes"
   ]
  },
  {
   "cell_type": "markdown",
   "id": "ca185e6e",
   "metadata": {},
   "source": [
    "## Anpassungen des Outputs"
   ]
  },
  {
   "cell_type": "code",
   "execution_count": 10,
   "id": "b2db1f1c",
   "metadata": {},
   "outputs": [],
   "source": [
    "pd.set_option(\"display.min_rows\", 12)\n"
   ]
  },
  {
   "cell_type": "code",
   "execution_count": 11,
   "id": "7e71d359",
   "metadata": {
    "scrolled": false
   },
   "outputs": [
    {
     "data": {
      "text/html": [
       "<div>\n",
       "<style scoped>\n",
       "    .dataframe tbody tr th:only-of-type {\n",
       "        vertical-align: middle;\n",
       "    }\n",
       "\n",
       "    .dataframe tbody tr th {\n",
       "        vertical-align: top;\n",
       "    }\n",
       "\n",
       "    .dataframe thead th {\n",
       "        text-align: right;\n",
       "    }\n",
       "</style>\n",
       "<table border=\"1\" class=\"dataframe\">\n",
       "  <thead>\n",
       "    <tr style=\"text-align: right;\">\n",
       "      <th></th>\n",
       "      <th>Date</th>\n",
       "      <th>Time</th>\n",
       "      <th>CO(GT)</th>\n",
       "      <th>PT08.S1(CO)</th>\n",
       "      <th>NMHC(GT)</th>\n",
       "      <th>C6H6(GT)</th>\n",
       "      <th>PT08.S2(NMHC)</th>\n",
       "      <th>NOx(GT)</th>\n",
       "      <th>PT08.S3(NOx)</th>\n",
       "      <th>NO2(GT)</th>\n",
       "      <th>PT08.S4(NO2)</th>\n",
       "      <th>PT08.S5(O3)</th>\n",
       "      <th>T</th>\n",
       "      <th>RH</th>\n",
       "      <th>AH</th>\n",
       "      <th>Unnamed: 15</th>\n",
       "      <th>Unnamed: 16</th>\n",
       "    </tr>\n",
       "  </thead>\n",
       "  <tbody>\n",
       "    <tr>\n",
       "      <th>0</th>\n",
       "      <td>10/03/2004</td>\n",
       "      <td>18.00.00</td>\n",
       "      <td>2.6</td>\n",
       "      <td>1360</td>\n",
       "      <td>150</td>\n",
       "      <td>11.9</td>\n",
       "      <td>1046</td>\n",
       "      <td>166</td>\n",
       "      <td>1056</td>\n",
       "      <td>113</td>\n",
       "      <td>1692</td>\n",
       "      <td>1268</td>\n",
       "      <td>13.6</td>\n",
       "      <td>48.9</td>\n",
       "      <td>0.7578</td>\n",
       "      <td>NaN</td>\n",
       "      <td>NaN</td>\n",
       "    </tr>\n",
       "    <tr>\n",
       "      <th>1</th>\n",
       "      <td>10/03/2004</td>\n",
       "      <td>19.00.00</td>\n",
       "      <td>2.0</td>\n",
       "      <td>1292</td>\n",
       "      <td>112</td>\n",
       "      <td>9.4</td>\n",
       "      <td>955</td>\n",
       "      <td>103</td>\n",
       "      <td>1174</td>\n",
       "      <td>92</td>\n",
       "      <td>1559</td>\n",
       "      <td>972</td>\n",
       "      <td>13.3</td>\n",
       "      <td>47.7</td>\n",
       "      <td>0.7255</td>\n",
       "      <td>NaN</td>\n",
       "      <td>NaN</td>\n",
       "    </tr>\n",
       "    <tr>\n",
       "      <th>2</th>\n",
       "      <td>10/03/2004</td>\n",
       "      <td>20.00.00</td>\n",
       "      <td>2.2</td>\n",
       "      <td>1402</td>\n",
       "      <td>88</td>\n",
       "      <td>9.0</td>\n",
       "      <td>939</td>\n",
       "      <td>131</td>\n",
       "      <td>1140</td>\n",
       "      <td>114</td>\n",
       "      <td>1555</td>\n",
       "      <td>1074</td>\n",
       "      <td>11.9</td>\n",
       "      <td>54.0</td>\n",
       "      <td>0.7502</td>\n",
       "      <td>NaN</td>\n",
       "      <td>NaN</td>\n",
       "    </tr>\n",
       "    <tr>\n",
       "      <th>3</th>\n",
       "      <td>10/03/2004</td>\n",
       "      <td>21.00.00</td>\n",
       "      <td>2.2</td>\n",
       "      <td>1376</td>\n",
       "      <td>80</td>\n",
       "      <td>9.2</td>\n",
       "      <td>948</td>\n",
       "      <td>172</td>\n",
       "      <td>1092</td>\n",
       "      <td>122</td>\n",
       "      <td>1584</td>\n",
       "      <td>1203</td>\n",
       "      <td>11.0</td>\n",
       "      <td>60.0</td>\n",
       "      <td>0.7867</td>\n",
       "      <td>NaN</td>\n",
       "      <td>NaN</td>\n",
       "    </tr>\n",
       "    <tr>\n",
       "      <th>4</th>\n",
       "      <td>10/03/2004</td>\n",
       "      <td>22.00.00</td>\n",
       "      <td>1.6</td>\n",
       "      <td>1272</td>\n",
       "      <td>51</td>\n",
       "      <td>6.5</td>\n",
       "      <td>836</td>\n",
       "      <td>131</td>\n",
       "      <td>1205</td>\n",
       "      <td>116</td>\n",
       "      <td>1490</td>\n",
       "      <td>1110</td>\n",
       "      <td>11.2</td>\n",
       "      <td>59.6</td>\n",
       "      <td>0.7888</td>\n",
       "      <td>NaN</td>\n",
       "      <td>NaN</td>\n",
       "    </tr>\n",
       "    <tr>\n",
       "      <th>5</th>\n",
       "      <td>10/03/2004</td>\n",
       "      <td>23.00.00</td>\n",
       "      <td>1.2</td>\n",
       "      <td>1197</td>\n",
       "      <td>38</td>\n",
       "      <td>4.7</td>\n",
       "      <td>750</td>\n",
       "      <td>89</td>\n",
       "      <td>1337</td>\n",
       "      <td>96</td>\n",
       "      <td>1393</td>\n",
       "      <td>949</td>\n",
       "      <td>11.2</td>\n",
       "      <td>59.2</td>\n",
       "      <td>0.7848</td>\n",
       "      <td>NaN</td>\n",
       "      <td>NaN</td>\n",
       "    </tr>\n",
       "    <tr>\n",
       "      <th>...</th>\n",
       "      <td>...</td>\n",
       "      <td>...</td>\n",
       "      <td>...</td>\n",
       "      <td>...</td>\n",
       "      <td>...</td>\n",
       "      <td>...</td>\n",
       "      <td>...</td>\n",
       "      <td>...</td>\n",
       "      <td>...</td>\n",
       "      <td>...</td>\n",
       "      <td>...</td>\n",
       "      <td>...</td>\n",
       "      <td>...</td>\n",
       "      <td>...</td>\n",
       "      <td>...</td>\n",
       "      <td>...</td>\n",
       "      <td>...</td>\n",
       "    </tr>\n",
       "    <tr>\n",
       "      <th>7992</th>\n",
       "      <td>06/02/2005</td>\n",
       "      <td>18.00.00</td>\n",
       "      <td>1.1</td>\n",
       "      <td>925</td>\n",
       "      <td>-200</td>\n",
       "      <td>2.9</td>\n",
       "      <td>649</td>\n",
       "      <td>186</td>\n",
       "      <td>1003</td>\n",
       "      <td>142</td>\n",
       "      <td>819</td>\n",
       "      <td>570</td>\n",
       "      <td>6.9</td>\n",
       "      <td>36.4</td>\n",
       "      <td>0.3635</td>\n",
       "      <td>NaN</td>\n",
       "      <td>NaN</td>\n",
       "    </tr>\n",
       "    <tr>\n",
       "      <th>7993</th>\n",
       "      <td>06/02/2005</td>\n",
       "      <td>19.00.00</td>\n",
       "      <td>1.6</td>\n",
       "      <td>985</td>\n",
       "      <td>-200</td>\n",
       "      <td>4.5</td>\n",
       "      <td>736</td>\n",
       "      <td>227</td>\n",
       "      <td>891</td>\n",
       "      <td>165</td>\n",
       "      <td>875</td>\n",
       "      <td>774</td>\n",
       "      <td>6.0</td>\n",
       "      <td>38.0</td>\n",
       "      <td>0.3584</td>\n",
       "      <td>NaN</td>\n",
       "      <td>NaN</td>\n",
       "    </tr>\n",
       "    <tr>\n",
       "      <th>7994</th>\n",
       "      <td>06/02/2005</td>\n",
       "      <td>20.00.00</td>\n",
       "      <td>1.8</td>\n",
       "      <td>1002</td>\n",
       "      <td>-200</td>\n",
       "      <td>5.3</td>\n",
       "      <td>780</td>\n",
       "      <td>252</td>\n",
       "      <td>855</td>\n",
       "      <td>179</td>\n",
       "      <td>892</td>\n",
       "      <td>857</td>\n",
       "      <td>5.8</td>\n",
       "      <td>36.4</td>\n",
       "      <td>0.3385</td>\n",
       "      <td>NaN</td>\n",
       "      <td>NaN</td>\n",
       "    </tr>\n",
       "    <tr>\n",
       "      <th>7995</th>\n",
       "      <td>06/02/2005</td>\n",
       "      <td>21.00.00</td>\n",
       "      <td>1.4</td>\n",
       "      <td>938</td>\n",
       "      <td>-200</td>\n",
       "      <td>3.7</td>\n",
       "      <td>692</td>\n",
       "      <td>193</td>\n",
       "      <td>937</td>\n",
       "      <td>149</td>\n",
       "      <td>805</td>\n",
       "      <td>737</td>\n",
       "      <td>5.8</td>\n",
       "      <td>35.4</td>\n",
       "      <td>0.3286</td>\n",
       "      <td>NaN</td>\n",
       "      <td>NaN</td>\n",
       "    </tr>\n",
       "    <tr>\n",
       "      <th>7996</th>\n",
       "      <td>06/02/2005</td>\n",
       "      <td>22.00.00</td>\n",
       "      <td>1.1</td>\n",
       "      <td>896</td>\n",
       "      <td>-200</td>\n",
       "      <td>2.6</td>\n",
       "      <td>627</td>\n",
       "      <td>158</td>\n",
       "      <td>1033</td>\n",
       "      <td>126</td>\n",
       "      <td>782</td>\n",
       "      <td>610</td>\n",
       "      <td>5.4</td>\n",
       "      <td>36.6</td>\n",
       "      <td>0.3304</td>\n",
       "      <td>NaN</td>\n",
       "      <td>NaN</td>\n",
       "    </tr>\n",
       "    <tr>\n",
       "      <th>7997</th>\n",
       "      <td>06/02/2005</td>\n",
       "      <td>23.00.00</td>\n",
       "      <td>1.0</td>\n",
       "      <td>907</td>\n",
       "      <td>-200</td>\n",
       "      <td>2.4</td>\n",
       "      <td>614</td>\n",
       "      <td>150</td>\n",
       "      <td>1052</td>\n",
       "      <td>120</td>\n",
       "      <td>782</td>\n",
       "      <td>627</td>\n",
       "      <td>5.1</td>\n",
       "      <td>37.9</td>\n",
       "      <td>0.3358</td>\n",
       "      <td>NaN</td>\n",
       "      <td>NaN</td>\n",
       "    </tr>\n",
       "  </tbody>\n",
       "</table>\n",
       "<p>7998 rows × 17 columns</p>\n",
       "</div>"
      ],
      "text/plain": [
       "            Date      Time  CO(GT)  PT08.S1(CO)  NMHC(GT)  C6H6(GT)  \\\n",
       "0     10/03/2004  18.00.00     2.6         1360       150      11.9   \n",
       "1     10/03/2004  19.00.00     2.0         1292       112       9.4   \n",
       "2     10/03/2004  20.00.00     2.2         1402        88       9.0   \n",
       "3     10/03/2004  21.00.00     2.2         1376        80       9.2   \n",
       "4     10/03/2004  22.00.00     1.6         1272        51       6.5   \n",
       "5     10/03/2004  23.00.00     1.2         1197        38       4.7   \n",
       "...          ...       ...     ...          ...       ...       ...   \n",
       "7992  06/02/2005  18.00.00     1.1          925      -200       2.9   \n",
       "7993  06/02/2005  19.00.00     1.6          985      -200       4.5   \n",
       "7994  06/02/2005  20.00.00     1.8         1002      -200       5.3   \n",
       "7995  06/02/2005  21.00.00     1.4          938      -200       3.7   \n",
       "7996  06/02/2005  22.00.00     1.1          896      -200       2.6   \n",
       "7997  06/02/2005  23.00.00     1.0          907      -200       2.4   \n",
       "\n",
       "      PT08.S2(NMHC)  NOx(GT)  PT08.S3(NOx)  NO2(GT)  PT08.S4(NO2)  \\\n",
       "0              1046      166          1056      113          1692   \n",
       "1               955      103          1174       92          1559   \n",
       "2               939      131          1140      114          1555   \n",
       "3               948      172          1092      122          1584   \n",
       "4               836      131          1205      116          1490   \n",
       "5               750       89          1337       96          1393   \n",
       "...             ...      ...           ...      ...           ...   \n",
       "7992            649      186          1003      142           819   \n",
       "7993            736      227           891      165           875   \n",
       "7994            780      252           855      179           892   \n",
       "7995            692      193           937      149           805   \n",
       "7996            627      158          1033      126           782   \n",
       "7997            614      150          1052      120           782   \n",
       "\n",
       "      PT08.S5(O3)     T    RH      AH  Unnamed: 15  Unnamed: 16  \n",
       "0            1268  13.6  48.9  0.7578          NaN          NaN  \n",
       "1             972  13.3  47.7  0.7255          NaN          NaN  \n",
       "2            1074  11.9  54.0  0.7502          NaN          NaN  \n",
       "3            1203  11.0  60.0  0.7867          NaN          NaN  \n",
       "4            1110  11.2  59.6  0.7888          NaN          NaN  \n",
       "5             949  11.2  59.2  0.7848          NaN          NaN  \n",
       "...           ...   ...   ...     ...          ...          ...  \n",
       "7992          570   6.9  36.4  0.3635          NaN          NaN  \n",
       "7993          774   6.0  38.0  0.3584          NaN          NaN  \n",
       "7994          857   5.8  36.4  0.3385          NaN          NaN  \n",
       "7995          737   5.8  35.4  0.3286          NaN          NaN  \n",
       "7996          610   5.4  36.6  0.3304          NaN          NaN  \n",
       "7997          627   5.1  37.9  0.3358          NaN          NaN  \n",
       "\n",
       "[7998 rows x 17 columns]"
      ]
     },
     "execution_count": 11,
     "metadata": {},
     "output_type": "execute_result"
    }
   ],
   "source": [
    "df"
   ]
  },
  {
   "cell_type": "markdown",
   "id": "d9c80c65",
   "metadata": {},
   "source": [
    "# Cleaning der Daten"
   ]
  },
  {
   "cell_type": "code",
   "execution_count": 12,
   "id": "861fcffa",
   "metadata": {},
   "outputs": [],
   "source": [
    "# Remove columns that only contains NaN/None/Null-values\n",
    "df.dropna(axis = \"columns\", how = \"all\", inplace = True)"
   ]
  },
  {
   "cell_type": "code",
   "execution_count": 13,
   "id": "62ee87c7",
   "metadata": {},
   "outputs": [
    {
     "data": {
      "text/html": [
       "<div>\n",
       "<style scoped>\n",
       "    .dataframe tbody tr th:only-of-type {\n",
       "        vertical-align: middle;\n",
       "    }\n",
       "\n",
       "    .dataframe tbody tr th {\n",
       "        vertical-align: top;\n",
       "    }\n",
       "\n",
       "    .dataframe thead th {\n",
       "        text-align: right;\n",
       "    }\n",
       "</style>\n",
       "<table border=\"1\" class=\"dataframe\">\n",
       "  <thead>\n",
       "    <tr style=\"text-align: right;\">\n",
       "      <th></th>\n",
       "      <th>Date</th>\n",
       "      <th>Time</th>\n",
       "      <th>CO(GT)</th>\n",
       "      <th>PT08.S1(CO)</th>\n",
       "      <th>NMHC(GT)</th>\n",
       "      <th>C6H6(GT)</th>\n",
       "      <th>PT08.S2(NMHC)</th>\n",
       "      <th>NOx(GT)</th>\n",
       "      <th>PT08.S3(NOx)</th>\n",
       "      <th>NO2(GT)</th>\n",
       "      <th>PT08.S4(NO2)</th>\n",
       "      <th>PT08.S5(O3)</th>\n",
       "      <th>T</th>\n",
       "      <th>RH</th>\n",
       "      <th>AH</th>\n",
       "    </tr>\n",
       "  </thead>\n",
       "  <tbody>\n",
       "    <tr>\n",
       "      <th>0</th>\n",
       "      <td>10/03/2004</td>\n",
       "      <td>18.00.00</td>\n",
       "      <td>2.6</td>\n",
       "      <td>1360</td>\n",
       "      <td>150</td>\n",
       "      <td>11.9</td>\n",
       "      <td>1046</td>\n",
       "      <td>166</td>\n",
       "      <td>1056</td>\n",
       "      <td>113</td>\n",
       "      <td>1692</td>\n",
       "      <td>1268</td>\n",
       "      <td>13.6</td>\n",
       "      <td>48.9</td>\n",
       "      <td>0.7578</td>\n",
       "    </tr>\n",
       "    <tr>\n",
       "      <th>1</th>\n",
       "      <td>10/03/2004</td>\n",
       "      <td>19.00.00</td>\n",
       "      <td>2.0</td>\n",
       "      <td>1292</td>\n",
       "      <td>112</td>\n",
       "      <td>9.4</td>\n",
       "      <td>955</td>\n",
       "      <td>103</td>\n",
       "      <td>1174</td>\n",
       "      <td>92</td>\n",
       "      <td>1559</td>\n",
       "      <td>972</td>\n",
       "      <td>13.3</td>\n",
       "      <td>47.7</td>\n",
       "      <td>0.7255</td>\n",
       "    </tr>\n",
       "    <tr>\n",
       "      <th>2</th>\n",
       "      <td>10/03/2004</td>\n",
       "      <td>20.00.00</td>\n",
       "      <td>2.2</td>\n",
       "      <td>1402</td>\n",
       "      <td>88</td>\n",
       "      <td>9.0</td>\n",
       "      <td>939</td>\n",
       "      <td>131</td>\n",
       "      <td>1140</td>\n",
       "      <td>114</td>\n",
       "      <td>1555</td>\n",
       "      <td>1074</td>\n",
       "      <td>11.9</td>\n",
       "      <td>54.0</td>\n",
       "      <td>0.7502</td>\n",
       "    </tr>\n",
       "    <tr>\n",
       "      <th>3</th>\n",
       "      <td>10/03/2004</td>\n",
       "      <td>21.00.00</td>\n",
       "      <td>2.2</td>\n",
       "      <td>1376</td>\n",
       "      <td>80</td>\n",
       "      <td>9.2</td>\n",
       "      <td>948</td>\n",
       "      <td>172</td>\n",
       "      <td>1092</td>\n",
       "      <td>122</td>\n",
       "      <td>1584</td>\n",
       "      <td>1203</td>\n",
       "      <td>11.0</td>\n",
       "      <td>60.0</td>\n",
       "      <td>0.7867</td>\n",
       "    </tr>\n",
       "    <tr>\n",
       "      <th>4</th>\n",
       "      <td>10/03/2004</td>\n",
       "      <td>22.00.00</td>\n",
       "      <td>1.6</td>\n",
       "      <td>1272</td>\n",
       "      <td>51</td>\n",
       "      <td>6.5</td>\n",
       "      <td>836</td>\n",
       "      <td>131</td>\n",
       "      <td>1205</td>\n",
       "      <td>116</td>\n",
       "      <td>1490</td>\n",
       "      <td>1110</td>\n",
       "      <td>11.2</td>\n",
       "      <td>59.6</td>\n",
       "      <td>0.7888</td>\n",
       "    </tr>\n",
       "    <tr>\n",
       "      <th>5</th>\n",
       "      <td>10/03/2004</td>\n",
       "      <td>23.00.00</td>\n",
       "      <td>1.2</td>\n",
       "      <td>1197</td>\n",
       "      <td>38</td>\n",
       "      <td>4.7</td>\n",
       "      <td>750</td>\n",
       "      <td>89</td>\n",
       "      <td>1337</td>\n",
       "      <td>96</td>\n",
       "      <td>1393</td>\n",
       "      <td>949</td>\n",
       "      <td>11.2</td>\n",
       "      <td>59.2</td>\n",
       "      <td>0.7848</td>\n",
       "    </tr>\n",
       "    <tr>\n",
       "      <th>...</th>\n",
       "      <td>...</td>\n",
       "      <td>...</td>\n",
       "      <td>...</td>\n",
       "      <td>...</td>\n",
       "      <td>...</td>\n",
       "      <td>...</td>\n",
       "      <td>...</td>\n",
       "      <td>...</td>\n",
       "      <td>...</td>\n",
       "      <td>...</td>\n",
       "      <td>...</td>\n",
       "      <td>...</td>\n",
       "      <td>...</td>\n",
       "      <td>...</td>\n",
       "      <td>...</td>\n",
       "    </tr>\n",
       "    <tr>\n",
       "      <th>7992</th>\n",
       "      <td>06/02/2005</td>\n",
       "      <td>18.00.00</td>\n",
       "      <td>1.1</td>\n",
       "      <td>925</td>\n",
       "      <td>-200</td>\n",
       "      <td>2.9</td>\n",
       "      <td>649</td>\n",
       "      <td>186</td>\n",
       "      <td>1003</td>\n",
       "      <td>142</td>\n",
       "      <td>819</td>\n",
       "      <td>570</td>\n",
       "      <td>6.9</td>\n",
       "      <td>36.4</td>\n",
       "      <td>0.3635</td>\n",
       "    </tr>\n",
       "    <tr>\n",
       "      <th>7993</th>\n",
       "      <td>06/02/2005</td>\n",
       "      <td>19.00.00</td>\n",
       "      <td>1.6</td>\n",
       "      <td>985</td>\n",
       "      <td>-200</td>\n",
       "      <td>4.5</td>\n",
       "      <td>736</td>\n",
       "      <td>227</td>\n",
       "      <td>891</td>\n",
       "      <td>165</td>\n",
       "      <td>875</td>\n",
       "      <td>774</td>\n",
       "      <td>6.0</td>\n",
       "      <td>38.0</td>\n",
       "      <td>0.3584</td>\n",
       "    </tr>\n",
       "    <tr>\n",
       "      <th>7994</th>\n",
       "      <td>06/02/2005</td>\n",
       "      <td>20.00.00</td>\n",
       "      <td>1.8</td>\n",
       "      <td>1002</td>\n",
       "      <td>-200</td>\n",
       "      <td>5.3</td>\n",
       "      <td>780</td>\n",
       "      <td>252</td>\n",
       "      <td>855</td>\n",
       "      <td>179</td>\n",
       "      <td>892</td>\n",
       "      <td>857</td>\n",
       "      <td>5.8</td>\n",
       "      <td>36.4</td>\n",
       "      <td>0.3385</td>\n",
       "    </tr>\n",
       "    <tr>\n",
       "      <th>7995</th>\n",
       "      <td>06/02/2005</td>\n",
       "      <td>21.00.00</td>\n",
       "      <td>1.4</td>\n",
       "      <td>938</td>\n",
       "      <td>-200</td>\n",
       "      <td>3.7</td>\n",
       "      <td>692</td>\n",
       "      <td>193</td>\n",
       "      <td>937</td>\n",
       "      <td>149</td>\n",
       "      <td>805</td>\n",
       "      <td>737</td>\n",
       "      <td>5.8</td>\n",
       "      <td>35.4</td>\n",
       "      <td>0.3286</td>\n",
       "    </tr>\n",
       "    <tr>\n",
       "      <th>7996</th>\n",
       "      <td>06/02/2005</td>\n",
       "      <td>22.00.00</td>\n",
       "      <td>1.1</td>\n",
       "      <td>896</td>\n",
       "      <td>-200</td>\n",
       "      <td>2.6</td>\n",
       "      <td>627</td>\n",
       "      <td>158</td>\n",
       "      <td>1033</td>\n",
       "      <td>126</td>\n",
       "      <td>782</td>\n",
       "      <td>610</td>\n",
       "      <td>5.4</td>\n",
       "      <td>36.6</td>\n",
       "      <td>0.3304</td>\n",
       "    </tr>\n",
       "    <tr>\n",
       "      <th>7997</th>\n",
       "      <td>06/02/2005</td>\n",
       "      <td>23.00.00</td>\n",
       "      <td>1.0</td>\n",
       "      <td>907</td>\n",
       "      <td>-200</td>\n",
       "      <td>2.4</td>\n",
       "      <td>614</td>\n",
       "      <td>150</td>\n",
       "      <td>1052</td>\n",
       "      <td>120</td>\n",
       "      <td>782</td>\n",
       "      <td>627</td>\n",
       "      <td>5.1</td>\n",
       "      <td>37.9</td>\n",
       "      <td>0.3358</td>\n",
       "    </tr>\n",
       "  </tbody>\n",
       "</table>\n",
       "<p>7998 rows × 15 columns</p>\n",
       "</div>"
      ],
      "text/plain": [
       "            Date      Time  CO(GT)  PT08.S1(CO)  NMHC(GT)  C6H6(GT)  \\\n",
       "0     10/03/2004  18.00.00     2.6         1360       150      11.9   \n",
       "1     10/03/2004  19.00.00     2.0         1292       112       9.4   \n",
       "2     10/03/2004  20.00.00     2.2         1402        88       9.0   \n",
       "3     10/03/2004  21.00.00     2.2         1376        80       9.2   \n",
       "4     10/03/2004  22.00.00     1.6         1272        51       6.5   \n",
       "5     10/03/2004  23.00.00     1.2         1197        38       4.7   \n",
       "...          ...       ...     ...          ...       ...       ...   \n",
       "7992  06/02/2005  18.00.00     1.1          925      -200       2.9   \n",
       "7993  06/02/2005  19.00.00     1.6          985      -200       4.5   \n",
       "7994  06/02/2005  20.00.00     1.8         1002      -200       5.3   \n",
       "7995  06/02/2005  21.00.00     1.4          938      -200       3.7   \n",
       "7996  06/02/2005  22.00.00     1.1          896      -200       2.6   \n",
       "7997  06/02/2005  23.00.00     1.0          907      -200       2.4   \n",
       "\n",
       "      PT08.S2(NMHC)  NOx(GT)  PT08.S3(NOx)  NO2(GT)  PT08.S4(NO2)  \\\n",
       "0              1046      166          1056      113          1692   \n",
       "1               955      103          1174       92          1559   \n",
       "2               939      131          1140      114          1555   \n",
       "3               948      172          1092      122          1584   \n",
       "4               836      131          1205      116          1490   \n",
       "5               750       89          1337       96          1393   \n",
       "...             ...      ...           ...      ...           ...   \n",
       "7992            649      186          1003      142           819   \n",
       "7993            736      227           891      165           875   \n",
       "7994            780      252           855      179           892   \n",
       "7995            692      193           937      149           805   \n",
       "7996            627      158          1033      126           782   \n",
       "7997            614      150          1052      120           782   \n",
       "\n",
       "      PT08.S5(O3)     T    RH      AH  \n",
       "0            1268  13.6  48.9  0.7578  \n",
       "1             972  13.3  47.7  0.7255  \n",
       "2            1074  11.9  54.0  0.7502  \n",
       "3            1203  11.0  60.0  0.7867  \n",
       "4            1110  11.2  59.6  0.7888  \n",
       "5             949  11.2  59.2  0.7848  \n",
       "...           ...   ...   ...     ...  \n",
       "7992          570   6.9  36.4  0.3635  \n",
       "7993          774   6.0  38.0  0.3584  \n",
       "7994          857   5.8  36.4  0.3385  \n",
       "7995          737   5.8  35.4  0.3286  \n",
       "7996          610   5.4  36.6  0.3304  \n",
       "7997          627   5.1  37.9  0.3358  \n",
       "\n",
       "[7998 rows x 15 columns]"
      ]
     },
     "execution_count": 13,
     "metadata": {},
     "output_type": "execute_result"
    }
   ],
   "source": [
    "df"
   ]
  },
  {
   "cell_type": "markdown",
   "id": "e5cacbf3",
   "metadata": {},
   "source": [
    "## Korrektur des Datums"
   ]
  },
  {
   "cell_type": "code",
   "execution_count": 14,
   "id": "de6190a1",
   "metadata": {},
   "outputs": [],
   "source": [
    "df[\"Date\"] = df[\"Date\"] + \" \"+ df[\"Time\"]\n",
    "df.drop(columns= [\"Time\"], inplace = True)\n",
    "df[\"Date\"] = pd.to_datetime(df[\"Date\"], format = \"%d/%m/%Y %H.%M.%S\")\n"
   ]
  },
  {
   "cell_type": "code",
   "execution_count": 15,
   "id": "e01c5b08",
   "metadata": {
    "scrolled": false
   },
   "outputs": [
    {
     "data": {
      "text/html": [
       "<div>\n",
       "<style scoped>\n",
       "    .dataframe tbody tr th:only-of-type {\n",
       "        vertical-align: middle;\n",
       "    }\n",
       "\n",
       "    .dataframe tbody tr th {\n",
       "        vertical-align: top;\n",
       "    }\n",
       "\n",
       "    .dataframe thead th {\n",
       "        text-align: right;\n",
       "    }\n",
       "</style>\n",
       "<table border=\"1\" class=\"dataframe\">\n",
       "  <thead>\n",
       "    <tr style=\"text-align: right;\">\n",
       "      <th></th>\n",
       "      <th>Date</th>\n",
       "      <th>CO(GT)</th>\n",
       "      <th>PT08.S1(CO)</th>\n",
       "      <th>NMHC(GT)</th>\n",
       "      <th>C6H6(GT)</th>\n",
       "      <th>PT08.S2(NMHC)</th>\n",
       "      <th>NOx(GT)</th>\n",
       "      <th>PT08.S3(NOx)</th>\n",
       "      <th>NO2(GT)</th>\n",
       "      <th>PT08.S4(NO2)</th>\n",
       "      <th>PT08.S5(O3)</th>\n",
       "      <th>T</th>\n",
       "      <th>RH</th>\n",
       "      <th>AH</th>\n",
       "    </tr>\n",
       "  </thead>\n",
       "  <tbody>\n",
       "    <tr>\n",
       "      <th>0</th>\n",
       "      <td>2004-03-10 18:00:00</td>\n",
       "      <td>2.6</td>\n",
       "      <td>1360</td>\n",
       "      <td>150</td>\n",
       "      <td>11.9</td>\n",
       "      <td>1046</td>\n",
       "      <td>166</td>\n",
       "      <td>1056</td>\n",
       "      <td>113</td>\n",
       "      <td>1692</td>\n",
       "      <td>1268</td>\n",
       "      <td>13.6</td>\n",
       "      <td>48.9</td>\n",
       "      <td>0.7578</td>\n",
       "    </tr>\n",
       "    <tr>\n",
       "      <th>1</th>\n",
       "      <td>2004-03-10 19:00:00</td>\n",
       "      <td>2.0</td>\n",
       "      <td>1292</td>\n",
       "      <td>112</td>\n",
       "      <td>9.4</td>\n",
       "      <td>955</td>\n",
       "      <td>103</td>\n",
       "      <td>1174</td>\n",
       "      <td>92</td>\n",
       "      <td>1559</td>\n",
       "      <td>972</td>\n",
       "      <td>13.3</td>\n",
       "      <td>47.7</td>\n",
       "      <td>0.7255</td>\n",
       "    </tr>\n",
       "    <tr>\n",
       "      <th>2</th>\n",
       "      <td>2004-03-10 20:00:00</td>\n",
       "      <td>2.2</td>\n",
       "      <td>1402</td>\n",
       "      <td>88</td>\n",
       "      <td>9.0</td>\n",
       "      <td>939</td>\n",
       "      <td>131</td>\n",
       "      <td>1140</td>\n",
       "      <td>114</td>\n",
       "      <td>1555</td>\n",
       "      <td>1074</td>\n",
       "      <td>11.9</td>\n",
       "      <td>54.0</td>\n",
       "      <td>0.7502</td>\n",
       "    </tr>\n",
       "    <tr>\n",
       "      <th>3</th>\n",
       "      <td>2004-03-10 21:00:00</td>\n",
       "      <td>2.2</td>\n",
       "      <td>1376</td>\n",
       "      <td>80</td>\n",
       "      <td>9.2</td>\n",
       "      <td>948</td>\n",
       "      <td>172</td>\n",
       "      <td>1092</td>\n",
       "      <td>122</td>\n",
       "      <td>1584</td>\n",
       "      <td>1203</td>\n",
       "      <td>11.0</td>\n",
       "      <td>60.0</td>\n",
       "      <td>0.7867</td>\n",
       "    </tr>\n",
       "    <tr>\n",
       "      <th>4</th>\n",
       "      <td>2004-03-10 22:00:00</td>\n",
       "      <td>1.6</td>\n",
       "      <td>1272</td>\n",
       "      <td>51</td>\n",
       "      <td>6.5</td>\n",
       "      <td>836</td>\n",
       "      <td>131</td>\n",
       "      <td>1205</td>\n",
       "      <td>116</td>\n",
       "      <td>1490</td>\n",
       "      <td>1110</td>\n",
       "      <td>11.2</td>\n",
       "      <td>59.6</td>\n",
       "      <td>0.7888</td>\n",
       "    </tr>\n",
       "    <tr>\n",
       "      <th>5</th>\n",
       "      <td>2004-03-10 23:00:00</td>\n",
       "      <td>1.2</td>\n",
       "      <td>1197</td>\n",
       "      <td>38</td>\n",
       "      <td>4.7</td>\n",
       "      <td>750</td>\n",
       "      <td>89</td>\n",
       "      <td>1337</td>\n",
       "      <td>96</td>\n",
       "      <td>1393</td>\n",
       "      <td>949</td>\n",
       "      <td>11.2</td>\n",
       "      <td>59.2</td>\n",
       "      <td>0.7848</td>\n",
       "    </tr>\n",
       "    <tr>\n",
       "      <th>...</th>\n",
       "      <td>...</td>\n",
       "      <td>...</td>\n",
       "      <td>...</td>\n",
       "      <td>...</td>\n",
       "      <td>...</td>\n",
       "      <td>...</td>\n",
       "      <td>...</td>\n",
       "      <td>...</td>\n",
       "      <td>...</td>\n",
       "      <td>...</td>\n",
       "      <td>...</td>\n",
       "      <td>...</td>\n",
       "      <td>...</td>\n",
       "      <td>...</td>\n",
       "    </tr>\n",
       "    <tr>\n",
       "      <th>7992</th>\n",
       "      <td>2005-02-06 18:00:00</td>\n",
       "      <td>1.1</td>\n",
       "      <td>925</td>\n",
       "      <td>-200</td>\n",
       "      <td>2.9</td>\n",
       "      <td>649</td>\n",
       "      <td>186</td>\n",
       "      <td>1003</td>\n",
       "      <td>142</td>\n",
       "      <td>819</td>\n",
       "      <td>570</td>\n",
       "      <td>6.9</td>\n",
       "      <td>36.4</td>\n",
       "      <td>0.3635</td>\n",
       "    </tr>\n",
       "    <tr>\n",
       "      <th>7993</th>\n",
       "      <td>2005-02-06 19:00:00</td>\n",
       "      <td>1.6</td>\n",
       "      <td>985</td>\n",
       "      <td>-200</td>\n",
       "      <td>4.5</td>\n",
       "      <td>736</td>\n",
       "      <td>227</td>\n",
       "      <td>891</td>\n",
       "      <td>165</td>\n",
       "      <td>875</td>\n",
       "      <td>774</td>\n",
       "      <td>6.0</td>\n",
       "      <td>38.0</td>\n",
       "      <td>0.3584</td>\n",
       "    </tr>\n",
       "    <tr>\n",
       "      <th>7994</th>\n",
       "      <td>2005-02-06 20:00:00</td>\n",
       "      <td>1.8</td>\n",
       "      <td>1002</td>\n",
       "      <td>-200</td>\n",
       "      <td>5.3</td>\n",
       "      <td>780</td>\n",
       "      <td>252</td>\n",
       "      <td>855</td>\n",
       "      <td>179</td>\n",
       "      <td>892</td>\n",
       "      <td>857</td>\n",
       "      <td>5.8</td>\n",
       "      <td>36.4</td>\n",
       "      <td>0.3385</td>\n",
       "    </tr>\n",
       "    <tr>\n",
       "      <th>7995</th>\n",
       "      <td>2005-02-06 21:00:00</td>\n",
       "      <td>1.4</td>\n",
       "      <td>938</td>\n",
       "      <td>-200</td>\n",
       "      <td>3.7</td>\n",
       "      <td>692</td>\n",
       "      <td>193</td>\n",
       "      <td>937</td>\n",
       "      <td>149</td>\n",
       "      <td>805</td>\n",
       "      <td>737</td>\n",
       "      <td>5.8</td>\n",
       "      <td>35.4</td>\n",
       "      <td>0.3286</td>\n",
       "    </tr>\n",
       "    <tr>\n",
       "      <th>7996</th>\n",
       "      <td>2005-02-06 22:00:00</td>\n",
       "      <td>1.1</td>\n",
       "      <td>896</td>\n",
       "      <td>-200</td>\n",
       "      <td>2.6</td>\n",
       "      <td>627</td>\n",
       "      <td>158</td>\n",
       "      <td>1033</td>\n",
       "      <td>126</td>\n",
       "      <td>782</td>\n",
       "      <td>610</td>\n",
       "      <td>5.4</td>\n",
       "      <td>36.6</td>\n",
       "      <td>0.3304</td>\n",
       "    </tr>\n",
       "    <tr>\n",
       "      <th>7997</th>\n",
       "      <td>2005-02-06 23:00:00</td>\n",
       "      <td>1.0</td>\n",
       "      <td>907</td>\n",
       "      <td>-200</td>\n",
       "      <td>2.4</td>\n",
       "      <td>614</td>\n",
       "      <td>150</td>\n",
       "      <td>1052</td>\n",
       "      <td>120</td>\n",
       "      <td>782</td>\n",
       "      <td>627</td>\n",
       "      <td>5.1</td>\n",
       "      <td>37.9</td>\n",
       "      <td>0.3358</td>\n",
       "    </tr>\n",
       "  </tbody>\n",
       "</table>\n",
       "<p>7998 rows × 14 columns</p>\n",
       "</div>"
      ],
      "text/plain": [
       "                    Date  CO(GT)  PT08.S1(CO)  NMHC(GT)  C6H6(GT)  \\\n",
       "0    2004-03-10 18:00:00     2.6         1360       150      11.9   \n",
       "1    2004-03-10 19:00:00     2.0         1292       112       9.4   \n",
       "2    2004-03-10 20:00:00     2.2         1402        88       9.0   \n",
       "3    2004-03-10 21:00:00     2.2         1376        80       9.2   \n",
       "4    2004-03-10 22:00:00     1.6         1272        51       6.5   \n",
       "5    2004-03-10 23:00:00     1.2         1197        38       4.7   \n",
       "...                  ...     ...          ...       ...       ...   \n",
       "7992 2005-02-06 18:00:00     1.1          925      -200       2.9   \n",
       "7993 2005-02-06 19:00:00     1.6          985      -200       4.5   \n",
       "7994 2005-02-06 20:00:00     1.8         1002      -200       5.3   \n",
       "7995 2005-02-06 21:00:00     1.4          938      -200       3.7   \n",
       "7996 2005-02-06 22:00:00     1.1          896      -200       2.6   \n",
       "7997 2005-02-06 23:00:00     1.0          907      -200       2.4   \n",
       "\n",
       "      PT08.S2(NMHC)  NOx(GT)  PT08.S3(NOx)  NO2(GT)  PT08.S4(NO2)  \\\n",
       "0              1046      166          1056      113          1692   \n",
       "1               955      103          1174       92          1559   \n",
       "2               939      131          1140      114          1555   \n",
       "3               948      172          1092      122          1584   \n",
       "4               836      131          1205      116          1490   \n",
       "5               750       89          1337       96          1393   \n",
       "...             ...      ...           ...      ...           ...   \n",
       "7992            649      186          1003      142           819   \n",
       "7993            736      227           891      165           875   \n",
       "7994            780      252           855      179           892   \n",
       "7995            692      193           937      149           805   \n",
       "7996            627      158          1033      126           782   \n",
       "7997            614      150          1052      120           782   \n",
       "\n",
       "      PT08.S5(O3)     T    RH      AH  \n",
       "0            1268  13.6  48.9  0.7578  \n",
       "1             972  13.3  47.7  0.7255  \n",
       "2            1074  11.9  54.0  0.7502  \n",
       "3            1203  11.0  60.0  0.7867  \n",
       "4            1110  11.2  59.6  0.7888  \n",
       "5             949  11.2  59.2  0.7848  \n",
       "...           ...   ...   ...     ...  \n",
       "7992          570   6.9  36.4  0.3635  \n",
       "7993          774   6.0  38.0  0.3584  \n",
       "7994          857   5.8  36.4  0.3385  \n",
       "7995          737   5.8  35.4  0.3286  \n",
       "7996          610   5.4  36.6  0.3304  \n",
       "7997          627   5.1  37.9  0.3358  \n",
       "\n",
       "[7998 rows x 14 columns]"
      ]
     },
     "execution_count": 15,
     "metadata": {},
     "output_type": "execute_result"
    }
   ],
   "source": [
    "df"
   ]
  },
  {
   "cell_type": "code",
   "execution_count": 16,
   "id": "192c484e",
   "metadata": {},
   "outputs": [
    {
     "data": {
      "text/plain": [
       "Date             datetime64[ns]\n",
       "CO(GT)                  float64\n",
       "PT08.S1(CO)               int64\n",
       "NMHC(GT)                  int64\n",
       "C6H6(GT)                float64\n",
       "PT08.S2(NMHC)             int64\n",
       "NOx(GT)                   int64\n",
       "PT08.S3(NOx)              int64\n",
       "NO2(GT)                   int64\n",
       "PT08.S4(NO2)              int64\n",
       "PT08.S5(O3)               int64\n",
       "T                       float64\n",
       "RH                      float64\n",
       "AH                      float64\n",
       "dtype: object"
      ]
     },
     "execution_count": 16,
     "metadata": {},
     "output_type": "execute_result"
    }
   ],
   "source": [
    "df.dtypes"
   ]
  },
  {
   "cell_type": "markdown",
   "id": "024f15bb",
   "metadata": {},
   "source": [
    "## Anpassung der Spaltennamen"
   ]
  },
  {
   "cell_type": "code",
   "execution_count": 17,
   "id": "6aa5437f",
   "metadata": {},
   "outputs": [],
   "source": [
    "df.rename(columns = {\"CO(GT)\" : \"CO_GT\", \"PT08.S1(CO)\": \"PT08.S1_CO\", \"NMHC(GT)\": \"NMHC_GT\", \"C6H6(GT)\": \"C6H6_GT\", \"PT08.S2(NMHC)\": \"PT08.S2_NMHC\",\"NOx(GT)\":\"NOx_GT\",\"PT08.S3(NOx)\": \"PT08.S3_NOx\", \"NO2(GT)\": \"NO2_GT\", \"PT08.S4(NO2)\": \"PT08.S4_NO2\", \"PT08.S5(O3)\": \"PT08.S5_O3\"}, inplace = True)"
   ]
  },
  {
   "cell_type": "code",
   "execution_count": 18,
   "id": "19b00e1f",
   "metadata": {},
   "outputs": [],
   "source": [
    "df.columns = [x.lower() for x in df.columns]"
   ]
  },
  {
   "cell_type": "code",
   "execution_count": 19,
   "id": "8c51092c",
   "metadata": {
    "scrolled": false
   },
   "outputs": [
    {
     "data": {
      "text/html": [
       "<div>\n",
       "<style scoped>\n",
       "    .dataframe tbody tr th:only-of-type {\n",
       "        vertical-align: middle;\n",
       "    }\n",
       "\n",
       "    .dataframe tbody tr th {\n",
       "        vertical-align: top;\n",
       "    }\n",
       "\n",
       "    .dataframe thead th {\n",
       "        text-align: right;\n",
       "    }\n",
       "</style>\n",
       "<table border=\"1\" class=\"dataframe\">\n",
       "  <thead>\n",
       "    <tr style=\"text-align: right;\">\n",
       "      <th></th>\n",
       "      <th>date</th>\n",
       "      <th>co_gt</th>\n",
       "      <th>pt08.s1_co</th>\n",
       "      <th>nmhc_gt</th>\n",
       "      <th>c6h6_gt</th>\n",
       "      <th>pt08.s2_nmhc</th>\n",
       "      <th>nox_gt</th>\n",
       "      <th>pt08.s3_nox</th>\n",
       "      <th>no2_gt</th>\n",
       "      <th>pt08.s4_no2</th>\n",
       "      <th>pt08.s5_o3</th>\n",
       "      <th>t</th>\n",
       "      <th>rh</th>\n",
       "      <th>ah</th>\n",
       "    </tr>\n",
       "  </thead>\n",
       "  <tbody>\n",
       "    <tr>\n",
       "      <th>0</th>\n",
       "      <td>2004-03-10 18:00:00</td>\n",
       "      <td>2.6</td>\n",
       "      <td>1360</td>\n",
       "      <td>150</td>\n",
       "      <td>11.9</td>\n",
       "      <td>1046</td>\n",
       "      <td>166</td>\n",
       "      <td>1056</td>\n",
       "      <td>113</td>\n",
       "      <td>1692</td>\n",
       "      <td>1268</td>\n",
       "      <td>13.6</td>\n",
       "      <td>48.9</td>\n",
       "      <td>0.7578</td>\n",
       "    </tr>\n",
       "    <tr>\n",
       "      <th>1</th>\n",
       "      <td>2004-03-10 19:00:00</td>\n",
       "      <td>2.0</td>\n",
       "      <td>1292</td>\n",
       "      <td>112</td>\n",
       "      <td>9.4</td>\n",
       "      <td>955</td>\n",
       "      <td>103</td>\n",
       "      <td>1174</td>\n",
       "      <td>92</td>\n",
       "      <td>1559</td>\n",
       "      <td>972</td>\n",
       "      <td>13.3</td>\n",
       "      <td>47.7</td>\n",
       "      <td>0.7255</td>\n",
       "    </tr>\n",
       "    <tr>\n",
       "      <th>2</th>\n",
       "      <td>2004-03-10 20:00:00</td>\n",
       "      <td>2.2</td>\n",
       "      <td>1402</td>\n",
       "      <td>88</td>\n",
       "      <td>9.0</td>\n",
       "      <td>939</td>\n",
       "      <td>131</td>\n",
       "      <td>1140</td>\n",
       "      <td>114</td>\n",
       "      <td>1555</td>\n",
       "      <td>1074</td>\n",
       "      <td>11.9</td>\n",
       "      <td>54.0</td>\n",
       "      <td>0.7502</td>\n",
       "    </tr>\n",
       "    <tr>\n",
       "      <th>3</th>\n",
       "      <td>2004-03-10 21:00:00</td>\n",
       "      <td>2.2</td>\n",
       "      <td>1376</td>\n",
       "      <td>80</td>\n",
       "      <td>9.2</td>\n",
       "      <td>948</td>\n",
       "      <td>172</td>\n",
       "      <td>1092</td>\n",
       "      <td>122</td>\n",
       "      <td>1584</td>\n",
       "      <td>1203</td>\n",
       "      <td>11.0</td>\n",
       "      <td>60.0</td>\n",
       "      <td>0.7867</td>\n",
       "    </tr>\n",
       "    <tr>\n",
       "      <th>4</th>\n",
       "      <td>2004-03-10 22:00:00</td>\n",
       "      <td>1.6</td>\n",
       "      <td>1272</td>\n",
       "      <td>51</td>\n",
       "      <td>6.5</td>\n",
       "      <td>836</td>\n",
       "      <td>131</td>\n",
       "      <td>1205</td>\n",
       "      <td>116</td>\n",
       "      <td>1490</td>\n",
       "      <td>1110</td>\n",
       "      <td>11.2</td>\n",
       "      <td>59.6</td>\n",
       "      <td>0.7888</td>\n",
       "    </tr>\n",
       "    <tr>\n",
       "      <th>5</th>\n",
       "      <td>2004-03-10 23:00:00</td>\n",
       "      <td>1.2</td>\n",
       "      <td>1197</td>\n",
       "      <td>38</td>\n",
       "      <td>4.7</td>\n",
       "      <td>750</td>\n",
       "      <td>89</td>\n",
       "      <td>1337</td>\n",
       "      <td>96</td>\n",
       "      <td>1393</td>\n",
       "      <td>949</td>\n",
       "      <td>11.2</td>\n",
       "      <td>59.2</td>\n",
       "      <td>0.7848</td>\n",
       "    </tr>\n",
       "    <tr>\n",
       "      <th>...</th>\n",
       "      <td>...</td>\n",
       "      <td>...</td>\n",
       "      <td>...</td>\n",
       "      <td>...</td>\n",
       "      <td>...</td>\n",
       "      <td>...</td>\n",
       "      <td>...</td>\n",
       "      <td>...</td>\n",
       "      <td>...</td>\n",
       "      <td>...</td>\n",
       "      <td>...</td>\n",
       "      <td>...</td>\n",
       "      <td>...</td>\n",
       "      <td>...</td>\n",
       "    </tr>\n",
       "    <tr>\n",
       "      <th>7992</th>\n",
       "      <td>2005-02-06 18:00:00</td>\n",
       "      <td>1.1</td>\n",
       "      <td>925</td>\n",
       "      <td>-200</td>\n",
       "      <td>2.9</td>\n",
       "      <td>649</td>\n",
       "      <td>186</td>\n",
       "      <td>1003</td>\n",
       "      <td>142</td>\n",
       "      <td>819</td>\n",
       "      <td>570</td>\n",
       "      <td>6.9</td>\n",
       "      <td>36.4</td>\n",
       "      <td>0.3635</td>\n",
       "    </tr>\n",
       "    <tr>\n",
       "      <th>7993</th>\n",
       "      <td>2005-02-06 19:00:00</td>\n",
       "      <td>1.6</td>\n",
       "      <td>985</td>\n",
       "      <td>-200</td>\n",
       "      <td>4.5</td>\n",
       "      <td>736</td>\n",
       "      <td>227</td>\n",
       "      <td>891</td>\n",
       "      <td>165</td>\n",
       "      <td>875</td>\n",
       "      <td>774</td>\n",
       "      <td>6.0</td>\n",
       "      <td>38.0</td>\n",
       "      <td>0.3584</td>\n",
       "    </tr>\n",
       "    <tr>\n",
       "      <th>7994</th>\n",
       "      <td>2005-02-06 20:00:00</td>\n",
       "      <td>1.8</td>\n",
       "      <td>1002</td>\n",
       "      <td>-200</td>\n",
       "      <td>5.3</td>\n",
       "      <td>780</td>\n",
       "      <td>252</td>\n",
       "      <td>855</td>\n",
       "      <td>179</td>\n",
       "      <td>892</td>\n",
       "      <td>857</td>\n",
       "      <td>5.8</td>\n",
       "      <td>36.4</td>\n",
       "      <td>0.3385</td>\n",
       "    </tr>\n",
       "    <tr>\n",
       "      <th>7995</th>\n",
       "      <td>2005-02-06 21:00:00</td>\n",
       "      <td>1.4</td>\n",
       "      <td>938</td>\n",
       "      <td>-200</td>\n",
       "      <td>3.7</td>\n",
       "      <td>692</td>\n",
       "      <td>193</td>\n",
       "      <td>937</td>\n",
       "      <td>149</td>\n",
       "      <td>805</td>\n",
       "      <td>737</td>\n",
       "      <td>5.8</td>\n",
       "      <td>35.4</td>\n",
       "      <td>0.3286</td>\n",
       "    </tr>\n",
       "    <tr>\n",
       "      <th>7996</th>\n",
       "      <td>2005-02-06 22:00:00</td>\n",
       "      <td>1.1</td>\n",
       "      <td>896</td>\n",
       "      <td>-200</td>\n",
       "      <td>2.6</td>\n",
       "      <td>627</td>\n",
       "      <td>158</td>\n",
       "      <td>1033</td>\n",
       "      <td>126</td>\n",
       "      <td>782</td>\n",
       "      <td>610</td>\n",
       "      <td>5.4</td>\n",
       "      <td>36.6</td>\n",
       "      <td>0.3304</td>\n",
       "    </tr>\n",
       "    <tr>\n",
       "      <th>7997</th>\n",
       "      <td>2005-02-06 23:00:00</td>\n",
       "      <td>1.0</td>\n",
       "      <td>907</td>\n",
       "      <td>-200</td>\n",
       "      <td>2.4</td>\n",
       "      <td>614</td>\n",
       "      <td>150</td>\n",
       "      <td>1052</td>\n",
       "      <td>120</td>\n",
       "      <td>782</td>\n",
       "      <td>627</td>\n",
       "      <td>5.1</td>\n",
       "      <td>37.9</td>\n",
       "      <td>0.3358</td>\n",
       "    </tr>\n",
       "  </tbody>\n",
       "</table>\n",
       "<p>7998 rows × 14 columns</p>\n",
       "</div>"
      ],
      "text/plain": [
       "                    date  co_gt  pt08.s1_co  nmhc_gt  c6h6_gt  pt08.s2_nmhc  \\\n",
       "0    2004-03-10 18:00:00    2.6        1360      150     11.9          1046   \n",
       "1    2004-03-10 19:00:00    2.0        1292      112      9.4           955   \n",
       "2    2004-03-10 20:00:00    2.2        1402       88      9.0           939   \n",
       "3    2004-03-10 21:00:00    2.2        1376       80      9.2           948   \n",
       "4    2004-03-10 22:00:00    1.6        1272       51      6.5           836   \n",
       "5    2004-03-10 23:00:00    1.2        1197       38      4.7           750   \n",
       "...                  ...    ...         ...      ...      ...           ...   \n",
       "7992 2005-02-06 18:00:00    1.1         925     -200      2.9           649   \n",
       "7993 2005-02-06 19:00:00    1.6         985     -200      4.5           736   \n",
       "7994 2005-02-06 20:00:00    1.8        1002     -200      5.3           780   \n",
       "7995 2005-02-06 21:00:00    1.4         938     -200      3.7           692   \n",
       "7996 2005-02-06 22:00:00    1.1         896     -200      2.6           627   \n",
       "7997 2005-02-06 23:00:00    1.0         907     -200      2.4           614   \n",
       "\n",
       "      nox_gt  pt08.s3_nox  no2_gt  pt08.s4_no2  pt08.s5_o3     t    rh      ah  \n",
       "0        166         1056     113         1692        1268  13.6  48.9  0.7578  \n",
       "1        103         1174      92         1559         972  13.3  47.7  0.7255  \n",
       "2        131         1140     114         1555        1074  11.9  54.0  0.7502  \n",
       "3        172         1092     122         1584        1203  11.0  60.0  0.7867  \n",
       "4        131         1205     116         1490        1110  11.2  59.6  0.7888  \n",
       "5         89         1337      96         1393         949  11.2  59.2  0.7848  \n",
       "...      ...          ...     ...          ...         ...   ...   ...     ...  \n",
       "7992     186         1003     142          819         570   6.9  36.4  0.3635  \n",
       "7993     227          891     165          875         774   6.0  38.0  0.3584  \n",
       "7994     252          855     179          892         857   5.8  36.4  0.3385  \n",
       "7995     193          937     149          805         737   5.8  35.4  0.3286  \n",
       "7996     158         1033     126          782         610   5.4  36.6  0.3304  \n",
       "7997     150         1052     120          782         627   5.1  37.9  0.3358  \n",
       "\n",
       "[7998 rows x 14 columns]"
      ]
     },
     "execution_count": 19,
     "metadata": {},
     "output_type": "execute_result"
    }
   ],
   "source": [
    "df"
   ]
  },
  {
   "cell_type": "markdown",
   "id": "4941d7b8",
   "metadata": {},
   "source": [
    "# Analyse der Datenintegrität\n",
    "\n",
    "## Plotten der einzelnen Spalten um Ausreißer zu erkennen\n",
    "______________"
   ]
  },
  {
   "cell_type": "code",
   "execution_count": 20,
   "id": "61ed9c0e",
   "metadata": {
    "scrolled": false
   },
   "outputs": [
    {
     "data": {
      "text/html": [
       "<div>\n",
       "<style scoped>\n",
       "    .dataframe tbody tr th:only-of-type {\n",
       "        vertical-align: middle;\n",
       "    }\n",
       "\n",
       "    .dataframe tbody tr th {\n",
       "        vertical-align: top;\n",
       "    }\n",
       "\n",
       "    .dataframe thead th {\n",
       "        text-align: right;\n",
       "    }\n",
       "</style>\n",
       "<table border=\"1\" class=\"dataframe\">\n",
       "  <thead>\n",
       "    <tr style=\"text-align: right;\">\n",
       "      <th></th>\n",
       "      <th>co_gt</th>\n",
       "      <th>pt08.s1_co</th>\n",
       "      <th>nmhc_gt</th>\n",
       "      <th>c6h6_gt</th>\n",
       "      <th>pt08.s2_nmhc</th>\n",
       "      <th>nox_gt</th>\n",
       "      <th>pt08.s3_nox</th>\n",
       "      <th>no2_gt</th>\n",
       "      <th>pt08.s4_no2</th>\n",
       "      <th>pt08.s5_o3</th>\n",
       "      <th>t</th>\n",
       "      <th>rh</th>\n",
       "      <th>ah</th>\n",
       "    </tr>\n",
       "  </thead>\n",
       "  <tbody>\n",
       "    <tr>\n",
       "      <th>count</th>\n",
       "      <td>7998.000000</td>\n",
       "      <td>7998.000000</td>\n",
       "      <td>7998.000000</td>\n",
       "      <td>7998.000000</td>\n",
       "      <td>7998.000000</td>\n",
       "      <td>7998.000000</td>\n",
       "      <td>7998.000000</td>\n",
       "      <td>7998.000000</td>\n",
       "      <td>7998.000000</td>\n",
       "      <td>7998.000000</td>\n",
       "      <td>7998.000000</td>\n",
       "      <td>7998.000000</td>\n",
       "      <td>7998.000000</td>\n",
       "    </tr>\n",
       "    <tr>\n",
       "      <th>mean</th>\n",
       "      <td>-39.626619</td>\n",
       "      <td>1051.390473</td>\n",
       "      <td>-152.138785</td>\n",
       "      <td>2.853501</td>\n",
       "      <td>911.895974</td>\n",
       "      <td>149.096524</td>\n",
       "      <td>810.866592</td>\n",
       "      <td>45.156164</td>\n",
       "      <td>1445.659290</td>\n",
       "      <td>979.964741</td>\n",
       "      <td>11.545486</td>\n",
       "      <td>39.972981</td>\n",
       "      <td>-6.183809</td>\n",
       "    </tr>\n",
       "    <tr>\n",
       "      <th>std</th>\n",
       "      <td>81.903331</td>\n",
       "      <td>324.558998</td>\n",
       "      <td>150.096708</td>\n",
       "      <td>39.977717</td>\n",
       "      <td>340.000627</td>\n",
       "      <td>260.628377</td>\n",
       "      <td>321.385807</td>\n",
       "      <td>129.330765</td>\n",
       "      <td>455.347712</td>\n",
       "      <td>449.200147</td>\n",
       "      <td>41.835465</td>\n",
       "      <td>49.468677</td>\n",
       "      <td>37.531010</td>\n",
       "    </tr>\n",
       "    <tr>\n",
       "      <th>min</th>\n",
       "      <td>-200.000000</td>\n",
       "      <td>-200.000000</td>\n",
       "      <td>-200.000000</td>\n",
       "      <td>-200.000000</td>\n",
       "      <td>-200.000000</td>\n",
       "      <td>-200.000000</td>\n",
       "      <td>-200.000000</td>\n",
       "      <td>-200.000000</td>\n",
       "      <td>-200.000000</td>\n",
       "      <td>-200.000000</td>\n",
       "      <td>-200.000000</td>\n",
       "      <td>-200.000000</td>\n",
       "      <td>-200.000000</td>\n",
       "    </tr>\n",
       "    <tr>\n",
       "      <th>25%</th>\n",
       "      <td>0.500000</td>\n",
       "      <td>917.000000</td>\n",
       "      <td>-200.000000</td>\n",
       "      <td>4.300000</td>\n",
       "      <td>727.000000</td>\n",
       "      <td>39.000000</td>\n",
       "      <td>652.000000</td>\n",
       "      <td>44.000000</td>\n",
       "      <td>1275.250000</td>\n",
       "      <td>710.000000</td>\n",
       "      <td>12.300000</td>\n",
       "      <td>33.800000</td>\n",
       "      <td>0.779300</td>\n",
       "    </tr>\n",
       "    <tr>\n",
       "      <th>50%</th>\n",
       "      <td>1.500000</td>\n",
       "      <td>1051.500000</td>\n",
       "      <td>-200.000000</td>\n",
       "      <td>8.300000</td>\n",
       "      <td>911.000000</td>\n",
       "      <td>122.000000</td>\n",
       "      <td>807.000000</td>\n",
       "      <td>90.000000</td>\n",
       "      <td>1494.000000</td>\n",
       "      <td>942.000000</td>\n",
       "      <td>18.700000</td>\n",
       "      <td>48.500000</td>\n",
       "      <td>1.031600</td>\n",
       "    </tr>\n",
       "    <tr>\n",
       "      <th>75%</th>\n",
       "      <td>2.600000</td>\n",
       "      <td>1225.000000</td>\n",
       "      <td>-200.000000</td>\n",
       "      <td>14.200000</td>\n",
       "      <td>1122.000000</td>\n",
       "      <td>259.750000</td>\n",
       "      <td>976.000000</td>\n",
       "      <td>125.000000</td>\n",
       "      <td>1698.000000</td>\n",
       "      <td>1253.750000</td>\n",
       "      <td>25.100000</td>\n",
       "      <td>61.600000</td>\n",
       "      <td>1.358525</td>\n",
       "    </tr>\n",
       "    <tr>\n",
       "      <th>max</th>\n",
       "      <td>11.900000</td>\n",
       "      <td>2040.000000</td>\n",
       "      <td>1189.000000</td>\n",
       "      <td>63.700000</td>\n",
       "      <td>2214.000000</td>\n",
       "      <td>1479.000000</td>\n",
       "      <td>2683.000000</td>\n",
       "      <td>333.000000</td>\n",
       "      <td>2775.000000</td>\n",
       "      <td>2523.000000</td>\n",
       "      <td>44.600000</td>\n",
       "      <td>88.700000</td>\n",
       "      <td>2.231000</td>\n",
       "    </tr>\n",
       "  </tbody>\n",
       "</table>\n",
       "</div>"
      ],
      "text/plain": [
       "             co_gt   pt08.s1_co      nmhc_gt      c6h6_gt  pt08.s2_nmhc  \\\n",
       "count  7998.000000  7998.000000  7998.000000  7998.000000   7998.000000   \n",
       "mean    -39.626619  1051.390473  -152.138785     2.853501    911.895974   \n",
       "std      81.903331   324.558998   150.096708    39.977717    340.000627   \n",
       "min    -200.000000  -200.000000  -200.000000  -200.000000   -200.000000   \n",
       "25%       0.500000   917.000000  -200.000000     4.300000    727.000000   \n",
       "50%       1.500000  1051.500000  -200.000000     8.300000    911.000000   \n",
       "75%       2.600000  1225.000000  -200.000000    14.200000   1122.000000   \n",
       "max      11.900000  2040.000000  1189.000000    63.700000   2214.000000   \n",
       "\n",
       "            nox_gt  pt08.s3_nox       no2_gt  pt08.s4_no2   pt08.s5_o3  \\\n",
       "count  7998.000000  7998.000000  7998.000000  7998.000000  7998.000000   \n",
       "mean    149.096524   810.866592    45.156164  1445.659290   979.964741   \n",
       "std     260.628377   321.385807   129.330765   455.347712   449.200147   \n",
       "min    -200.000000  -200.000000  -200.000000  -200.000000  -200.000000   \n",
       "25%      39.000000   652.000000    44.000000  1275.250000   710.000000   \n",
       "50%     122.000000   807.000000    90.000000  1494.000000   942.000000   \n",
       "75%     259.750000   976.000000   125.000000  1698.000000  1253.750000   \n",
       "max    1479.000000  2683.000000   333.000000  2775.000000  2523.000000   \n",
       "\n",
       "                 t           rh           ah  \n",
       "count  7998.000000  7998.000000  7998.000000  \n",
       "mean     11.545486    39.972981    -6.183809  \n",
       "std      41.835465    49.468677    37.531010  \n",
       "min    -200.000000  -200.000000  -200.000000  \n",
       "25%      12.300000    33.800000     0.779300  \n",
       "50%      18.700000    48.500000     1.031600  \n",
       "75%      25.100000    61.600000     1.358525  \n",
       "max      44.600000    88.700000     2.231000  "
      ]
     },
     "execution_count": 20,
     "metadata": {},
     "output_type": "execute_result"
    }
   ],
   "source": [
    "# imports\n",
    "import matplotlib.pyplot as plt\n",
    "\n",
    "# configuration of how plots are displayed (width, height)\n",
    "plt.rcParams['figure.figsize'] = [15, 8]\n",
    "\n",
    "df.describe()"
   ]
  },
  {
   "cell_type": "markdown",
   "id": "11d8ce3d",
   "metadata": {},
   "source": [
    "## co_gt:"
   ]
  },
  {
   "cell_type": "code",
   "execution_count": 21,
   "id": "1fc3fde2",
   "metadata": {},
   "outputs": [
    {
     "data": {
      "text/plain": [
       "<function matplotlib.pyplot.show(close=None, block=None)>"
      ]
     },
     "execution_count": 21,
     "metadata": {},
     "output_type": "execute_result"
    },
    {
     "data": {
      "image/png": "[encoded data removed]",
      "text/plain": [
       "<Figure size 1080x576 with 1 Axes>"
      ]
     },
     "metadata": {
      "needs_background": "light"
     },
     "output_type": "display_data"
    }
   ],
   "source": [
    "x_lst = df['co_gt'].value_counts()\n",
    "\n",
    "plt.title('co_gt')\n",
    "plt.xlabel('Value')\n",
    "plt.ylabel('Number of entries')\n",
    "plt.scatter(x_lst.index, x_lst.values, s=5)\n",
    "plt.show"
   ]
  },
  {
   "cell_type": "code",
   "execution_count": 22,
   "id": "a7472896",
   "metadata": {},
   "outputs": [
    {
     "data": {
      "text/plain": [
       "-200.0    1654\n",
       " 1.0       240\n",
       " 1.6       227\n",
       " 1.7       221\n",
       " 1.4       215\n",
       " 1.5       215\n",
       "          ... \n",
       " 11.5        1\n",
       " 11.9        1\n",
       " 9.5         1\n",
       " 7.6         1\n",
       " 7.0         1\n",
       " 8.5         1\n",
       "Name: co_gt, Length: 96, dtype: int64"
      ]
     },
     "execution_count": 22,
     "metadata": {},
     "output_type": "execute_result"
    }
   ],
   "source": [
    "df['co_gt'].value_counts()"
   ]
  },
  {
   "cell_type": "code",
   "execution_count": 23,
   "id": "9c06f895",
   "metadata": {},
   "outputs": [],
   "source": [
    "# filter column so that values below -5 aren't included\n",
    "filt = df['co_gt'].between(-5, 30)\n",
    "filt_df = df['co_gt'].loc[filt]"
   ]
  },
  {
   "cell_type": "code",
   "execution_count": 24,
   "id": "dfe0b015",
   "metadata": {},
   "outputs": [
    {
     "data": {
      "text/plain": [
       "<function matplotlib.pyplot.show(close=None, block=None)>"
      ]
     },
     "execution_count": 24,
     "metadata": {},
     "output_type": "execute_result"
    },
    {
     "data": {
      "image/png": "[encoded data removed]",
      "text/plain": [
       "<Figure size 1080x576 with 1 Axes>"
      ]
     },
     "metadata": {
      "needs_background": "light"
     },
     "output_type": "display_data"
    }
   ],
   "source": [
    "plt.title('co_gt')\n",
    "plt.xlabel('Value')\n",
    "plt.ylabel('Number of entries')\n",
    "plt.hist(filt_df, bins= 12)\n",
    "plt.show"
   ]
  },
  {
   "cell_type": "markdown",
   "id": "cf4d0413",
   "metadata": {},
   "source": [
    "Value -200 seems to be an unwanted outlier\n",
    "\n",
    "## pt08.s1_co "
   ]
  },
  {
   "cell_type": "code",
   "execution_count": 25,
   "id": "4f562417",
   "metadata": {
    "scrolled": false
   },
   "outputs": [
    {
     "data": {
      "text/plain": [
       "<function matplotlib.pyplot.show(close=None, block=None)>"
      ]
     },
     "execution_count": 25,
     "metadata": {},
     "output_type": "execute_result"
    },
    {
     "data": {
      "image/png": "[encoded data removed]",
      "text/plain": [
       "<Figure size 1080x576 with 1 Axes>"
      ]
     },
     "metadata": {
      "needs_background": "light"
     },
     "output_type": "display_data"
    }
   ],
   "source": [
    "x_lst = df['pt08.s1_co'].value_counts()\n",
    "\n",
    "plt.title('pt08.s1_co')\n",
    "plt.xlabel('Value')\n",
    "plt.ylabel('Number of entries')\n",
    "plt.scatter(x_lst.index, x_lst.values, s=5)\n",
    "plt.show"
   ]
  },
  {
   "cell_type": "code",
   "execution_count": 26,
   "id": "0af1dba6",
   "metadata": {
    "scrolled": false
   },
   "outputs": [
    {
     "data": {
      "text/plain": [
       "-200     289\n",
       " 969      25\n",
       " 973      24\n",
       " 1100     24\n",
       " 925      24\n",
       " 892      22\n",
       "        ... \n",
       " 1602      1\n",
       " 1776      1\n",
       " 717       1\n",
       " 731       1\n",
       " 782       1\n",
       " 1655      1\n",
       "Name: pt08.s1_co, Length: 1028, dtype: int64"
      ]
     },
     "execution_count": 26,
     "metadata": {},
     "output_type": "execute_result"
    }
   ],
   "source": [
    "df['pt08.s1_co'].value_counts()"
   ]
  },
  {
   "cell_type": "code",
   "execution_count": 27,
   "id": "77632abd",
   "metadata": {},
   "outputs": [],
   "source": [
    "# filter column so that values below 500 aren't included\n",
    "filt = df['pt08.s1_co'].between(500, 2500)\n",
    "filt_df = df['pt08.s1_co'].loc[filt]"
   ]
  },
  {
   "cell_type": "code",
   "execution_count": 28,
   "id": "506b359f",
   "metadata": {},
   "outputs": [
    {
     "data": {
      "text/plain": [
       "<function matplotlib.pyplot.show(close=None, block=None)>"
      ]
     },
     "execution_count": 28,
     "metadata": {},
     "output_type": "execute_result"
    },
    {
     "data": {
      "image/png": "[encoded data removed]",
      "text/plain": [
       "<Figure size 1080x576 with 1 Axes>"
      ]
     },
     "metadata": {
      "needs_background": "light"
     },
     "output_type": "display_data"
    }
   ],
   "source": [
    "# histogram based on filtered column\n",
    "plt.title('pt08.s1_co')\n",
    "plt.xlabel('Value')\n",
    "plt.ylabel('Number of entries')\n",
    "plt.hist(filt_df, bins=20)\n",
    "plt.show"
   ]
  },
  {
   "cell_type": "markdown",
   "id": "7aa7c163",
   "metadata": {},
   "source": [
    "Value -200 seems to be an unwanted outlier\n",
    "\n",
    "## nmhc_gt"
   ]
  },
  {
   "cell_type": "code",
   "execution_count": 29,
   "id": "2be36d69",
   "metadata": {},
   "outputs": [
    {
     "data": {
      "text/plain": [
       "<function matplotlib.pyplot.show(close=None, block=None)>"
      ]
     },
     "execution_count": 29,
     "metadata": {},
     "output_type": "execute_result"
    },
    {
     "data": {
      "image/png": "[encoded data removed]",
      "text/plain": [
       "<Figure size 1080x576 with 1 Axes>"
      ]
     },
     "metadata": {
      "needs_background": "light"
     },
     "output_type": "display_data"
    }
   ],
   "source": [
    "x_lst = df['nmhc_gt'].value_counts()\n",
    "\n",
    "plt.title('nmhc_gt')\n",
    "plt.xlabel('Value')\n",
    "plt.ylabel('Number of entries')\n",
    "plt.scatter(x_lst.index, x_lst.values, s=5)\n",
    "plt.show"
   ]
  },
  {
   "cell_type": "code",
   "execution_count": 30,
   "id": "9ce5a4c5",
   "metadata": {},
   "outputs": [
    {
     "data": {
      "text/plain": [
       "-200    7084\n",
       " 66       14\n",
       " 40        9\n",
       " 29        9\n",
       " 88        8\n",
       " 93        8\n",
       "        ... \n",
       " 618       1\n",
       " 422       1\n",
       " 424       1\n",
       " 339       1\n",
       " 445       1\n",
       " 307       1\n",
       "Name: nmhc_gt, Length: 430, dtype: int64"
      ]
     },
     "execution_count": 30,
     "metadata": {},
     "output_type": "execute_result"
    }
   ],
   "source": [
    "df['nmhc_gt'].value_counts()"
   ]
  },
  {
   "cell_type": "code",
   "execution_count": 31,
   "id": "1457f0d9",
   "metadata": {},
   "outputs": [],
   "source": [
    "# filter column so that values below 0 aren't included\n",
    "filt = df['nmhc_gt'].between(0, 1500)\n",
    "filt_df = df['nmhc_gt'].loc[filt]"
   ]
  },
  {
   "cell_type": "code",
   "execution_count": 32,
   "id": "f65b7bcc",
   "metadata": {},
   "outputs": [
    {
     "data": {
      "text/plain": [
       "<function matplotlib.pyplot.show(close=None, block=None)>"
      ]
     },
     "execution_count": 32,
     "metadata": {},
     "output_type": "execute_result"
    },
    {
     "data": {
      "image/png": "[encoded data removed]",
      "text/plain": [
       "<Figure size 1080x576 with 1 Axes>"
      ]
     },
     "metadata": {
      "needs_background": "light"
     },
     "output_type": "display_data"
    }
   ],
   "source": [
    "# histogram based on filtered column\n",
    "plt.title('nmhc_gt')\n",
    "plt.xlabel('Value')\n",
    "plt.ylabel('Number of entries')\n",
    "plt.hist(filt_df, bins=20)\n",
    "plt.show"
   ]
  },
  {
   "cell_type": "markdown",
   "id": "512f117d",
   "metadata": {},
   "source": [
    "Value -200 seems to be an unwanted outlier\n",
    "\n",
    "## c6h6_gt"
   ]
  },
  {
   "cell_type": "code",
   "execution_count": 33,
   "id": "fa167cc0",
   "metadata": {
    "scrolled": false
   },
   "outputs": [
    {
     "data": {
      "text/plain": [
       "<function matplotlib.pyplot.show(close=None, block=None)>"
      ]
     },
     "execution_count": 33,
     "metadata": {},
     "output_type": "execute_result"
    },
    {
     "data": {
      "image/png": "[encoded data removed]",
      "text/plain": [
       "<Figure size 1080x576 with 1 Axes>"
      ]
     },
     "metadata": {
      "needs_background": "light"
     },
     "output_type": "display_data"
    }
   ],
   "source": [
    "x_lst = df['c6h6_gt'].value_counts()\n",
    "\n",
    "plt.title('c6h6_gt')\n",
    "plt.xlabel('Value')\n",
    "plt.ylabel('Number of entries')\n",
    "plt.scatter(x_lst.index, x_lst.values, s=5)\n",
    "plt.show"
   ]
  },
  {
   "cell_type": "code",
   "execution_count": 34,
   "id": "06782b33",
   "metadata": {},
   "outputs": [
    {
     "data": {
      "text/plain": [
       "6160    63.7\n",
       "5520    52.1\n",
       "6672    50.8\n",
       "6159    50.7\n",
       "6193    50.6\n",
       "6192    49.5\n",
       "6194    49.4\n",
       "5690    48.2\n",
       "6048    47.7\n",
       "5736    47.5\n",
       "Name: c6h6_gt, dtype: float64"
      ]
     },
     "execution_count": 34,
     "metadata": {},
     "output_type": "execute_result"
    }
   ],
   "source": [
    "df['c6h6_gt'].nlargest(10)"
   ]
  },
  {
   "cell_type": "code",
   "execution_count": 35,
   "id": "f95381c3",
   "metadata": {},
   "outputs": [],
   "source": [
    "# filter column so that values below 0 aren't included\n",
    "filt = df['c6h6_gt'].between(-10, 100)\n",
    "filt_df = df['c6h6_gt'].loc[filt]"
   ]
  },
  {
   "cell_type": "code",
   "execution_count": 36,
   "id": "9f24e9a6",
   "metadata": {
    "scrolled": false
   },
   "outputs": [
    {
     "data": {
      "text/plain": [
       "<function matplotlib.pyplot.show(close=None, block=None)>"
      ]
     },
     "execution_count": 36,
     "metadata": {},
     "output_type": "execute_result"
    },
    {
     "data": {
      "image/png": "[encoded data removed]",
      "text/plain": [
       "<Figure size 1080x576 with 1 Axes>"
      ]
     },
     "metadata": {
      "needs_background": "light"
     },
     "output_type": "display_data"
    }
   ],
   "source": [
    "# histogram based on filtered column\n",
    "plt.title('c6h6_gt')\n",
    "plt.xlabel('Value')\n",
    "plt.ylabel('Number of entries')\n",
    "plt.hist(filt_df, bins=20)\n",
    "plt.show"
   ]
  },
  {
   "cell_type": "markdown",
   "id": "f1764ee5",
   "metadata": {},
   "source": [
    "Value -200 seems to be an unwanted outlier\n",
    "\n",
    "## pt08.s2_nmhc\t"
   ]
  },
  {
   "cell_type": "code",
   "execution_count": 37,
   "id": "8e9358e6",
   "metadata": {
    "scrolled": false
   },
   "outputs": [
    {
     "data": {
      "text/plain": [
       "<function matplotlib.pyplot.show(close=None, block=None)>"
      ]
     },
     "execution_count": 37,
     "metadata": {},
     "output_type": "execute_result"
    },
    {
     "data": {
      "image/png": "[encoded data removed]",
      "text/plain": [
       "<Figure size 1080x576 with 1 Axes>"
      ]
     },
     "metadata": {
      "needs_background": "light"
     },
     "output_type": "display_data"
    }
   ],
   "source": [
    "x_lst = df['pt08.s2_nmhc'].value_counts()\n",
    "\n",
    "plt.title('pt08.s2_nmhc')\n",
    "plt.xlabel('Value')\n",
    "plt.ylabel('Number of entries')\n",
    "plt.scatter(x_lst.index, x_lst.values, s=5)\n",
    "plt.show"
   ]
  },
  {
   "cell_type": "code",
   "execution_count": 38,
   "id": "dd74973f",
   "metadata": {},
   "outputs": [
    {
     "data": {
      "text/plain": [
       "-200     289\n",
       " 853      22\n",
       " 776      20\n",
       " 859      20\n",
       " 814      19\n",
       " 880      19\n",
       "        ... \n",
       " 1683      1\n",
       " 1536      1\n",
       " 1866      1\n",
       " 1569      1\n",
       " 1782      1\n",
       " 1284      1\n",
       "Name: pt08.s2_nmhc, Length: 1222, dtype: int64"
      ]
     },
     "execution_count": 38,
     "metadata": {},
     "output_type": "execute_result"
    }
   ],
   "source": [
    "df['pt08.s2_nmhc'].value_counts()"
   ]
  },
  {
   "cell_type": "code",
   "execution_count": 39,
   "id": "ad56cdc6",
   "metadata": {},
   "outputs": [],
   "source": [
    "# filter column so that values below 200 aren't included\n",
    "filt = df['pt08.s2_nmhc'].between(200, 3000)\n",
    "filt_df = df['pt08.s2_nmhc'].loc[filt]"
   ]
  },
  {
   "cell_type": "code",
   "execution_count": 40,
   "id": "b8485e86",
   "metadata": {},
   "outputs": [
    {
     "data": {
      "text/plain": [
       "<function matplotlib.pyplot.show(close=None, block=None)>"
      ]
     },
     "execution_count": 40,
     "metadata": {},
     "output_type": "execute_result"
    },
    {
     "data": {
      "image/png": "[encoded data removed]",
      "text/plain": [
       "<Figure size 1080x576 with 1 Axes>"
      ]
     },
     "metadata": {
      "needs_background": "light"
     },
     "output_type": "display_data"
    }
   ],
   "source": [
    "# histogram based on filtered column\n",
    "plt.title('pt08.s2_nmhc')\n",
    "plt.xlabel('Value')\n",
    "plt.ylabel('Number of entries')\n",
    "plt.hist(filt_df, bins=20)\n",
    "plt.show"
   ]
  },
  {
   "cell_type": "markdown",
   "id": "fac27311",
   "metadata": {},
   "source": [
    "Value -200 seems to be an unwanted outlier\n",
    "\n",
    "## nox_gt \t"
   ]
  },
  {
   "cell_type": "code",
   "execution_count": 41,
   "id": "d4e936df",
   "metadata": {
    "scrolled": false
   },
   "outputs": [
    {
     "data": {
      "text/plain": [
       "<function matplotlib.pyplot.show(close=None, block=None)>"
      ]
     },
     "execution_count": 41,
     "metadata": {},
     "output_type": "execute_result"
    },
    {
     "data": {
      "image/png": "[encoded data removed]",
      "text/plain": [
       "<Figure size 1080x576 with 1 Axes>"
      ]
     },
     "metadata": {
      "needs_background": "light"
     },
     "output_type": "display_data"
    }
   ],
   "source": [
    "x_lst = df['nox_gt'].value_counts()\n",
    "\n",
    "plt.title('nox_gt')\n",
    "plt.xlabel('Value')\n",
    "plt.ylabel('Number of entries')\n",
    "plt.scatter(x_lst.index, x_lst.values, s=5)\n",
    "plt.show"
   ]
  },
  {
   "cell_type": "code",
   "execution_count": 42,
   "id": "ac7185c4",
   "metadata": {},
   "outputs": [
    {
     "data": {
      "text/plain": [
       "-200     1604\n",
       " 89        39\n",
       " 65        37\n",
       " 41        36\n",
       " 57        32\n",
       " 51        32\n",
       "         ... \n",
       " 1056       1\n",
       " 856        1\n",
       " 949        1\n",
       " 932        1\n",
       " 1134       1\n",
       " 708        1\n",
       "Name: nox_gt, Length: 891, dtype: int64"
      ]
     },
     "execution_count": 42,
     "metadata": {},
     "output_type": "execute_result"
    }
   ],
   "source": [
    "df['nox_gt'].value_counts()"
   ]
  },
  {
   "cell_type": "code",
   "execution_count": 43,
   "id": "0b6f843a",
   "metadata": {},
   "outputs": [],
   "source": [
    "# filter column so that values below -50 aren't included\n",
    "filt = df['nox_gt'].between(-50, 3000)\n",
    "filt_df = df['nox_gt'].loc[filt]"
   ]
  },
  {
   "cell_type": "code",
   "execution_count": 44,
   "id": "dc0e874c",
   "metadata": {},
   "outputs": [
    {
     "data": {
      "text/plain": [
       "<function matplotlib.pyplot.show(close=None, block=None)>"
      ]
     },
     "execution_count": 44,
     "metadata": {},
     "output_type": "execute_result"
    },
    {
     "data": {
      "image/png": "[encoded data removed]",
      "text/plain": [
       "<Figure size 1080x576 with 1 Axes>"
      ]
     },
     "metadata": {
      "needs_background": "light"
     },
     "output_type": "display_data"
    }
   ],
   "source": [
    "# histogram based on filtered column\n",
    "plt.title('nox_gt')\n",
    "plt.xlabel('Value')\n",
    "plt.ylabel('Number of entries')\n",
    "plt.hist(filt_df, bins=20)\n",
    "plt.show"
   ]
  },
  {
   "cell_type": "markdown",
   "id": "59d4c788",
   "metadata": {},
   "source": [
    "Value -200 seems to be an unwanted outlier\n",
    "\n",
    "## pt08.s3_nox \t \t"
   ]
  },
  {
   "cell_type": "code",
   "execution_count": 45,
   "id": "5d2f8b54",
   "metadata": {
    "scrolled": false
   },
   "outputs": [
    {
     "data": {
      "text/plain": [
       "<function matplotlib.pyplot.show(close=None, block=None)>"
      ]
     },
     "execution_count": 45,
     "metadata": {},
     "output_type": "execute_result"
    },
    {
     "data": {
      "image/png": "[encoded data removed]",
      "text/plain": [
       "<Figure size 1080x576 with 1 Axes>"
      ]
     },
     "metadata": {
      "needs_background": "light"
     },
     "output_type": "display_data"
    }
   ],
   "source": [
    "x_lst = df['pt08.s3_nox'].value_counts()\n",
    "\n",
    "plt.title('pt08.s3_nox')\n",
    "plt.xlabel('Value')\n",
    "plt.ylabel('Number of entries')\n",
    "plt.scatter(x_lst.index, x_lst.values, s=5)\n",
    "plt.show"
   ]
  },
  {
   "cell_type": "code",
   "execution_count": 46,
   "id": "ac35c8d4",
   "metadata": {},
   "outputs": [
    {
     "data": {
      "text/plain": [
       "-200     289\n",
       " 733      24\n",
       " 846      24\n",
       " 767      22\n",
       " 816      21\n",
       " 800      21\n",
       "        ... \n",
       " 1389      1\n",
       " 1406      1\n",
       " 1488      1\n",
       " 441       1\n",
       " 1279      1\n",
       " 1363      1\n",
       "Name: pt08.s3_nox, Length: 1204, dtype: int64"
      ]
     },
     "execution_count": 46,
     "metadata": {},
     "output_type": "execute_result"
    }
   ],
   "source": [
    "df['pt08.s3_nox'].value_counts()"
   ]
  },
  {
   "cell_type": "code",
   "execution_count": 47,
   "id": "a871ec60",
   "metadata": {},
   "outputs": [],
   "source": [
    "# filter column so that values below 200 aren't included\n",
    "filt = df['pt08.s3_nox'].between(200, 3000)\n",
    "filt_df = df['pt08.s3_nox'].loc[filt]"
   ]
  },
  {
   "cell_type": "code",
   "execution_count": 48,
   "id": "5ea6fc43",
   "metadata": {},
   "outputs": [
    {
     "data": {
      "text/plain": [
       "<function matplotlib.pyplot.show(close=None, block=None)>"
      ]
     },
     "execution_count": 48,
     "metadata": {},
     "output_type": "execute_result"
    },
    {
     "data": {
      "image/png": "[encoded data removed]",
      "text/plain": [
       "<Figure size 1080x576 with 1 Axes>"
      ]
     },
     "metadata": {
      "needs_background": "light"
     },
     "output_type": "display_data"
    }
   ],
   "source": [
    "# histogram based on filtered column\n",
    "plt.title('pt08.s3_nox')\n",
    "plt.xlabel('Value')\n",
    "plt.ylabel('Number of entries')\n",
    "plt.hist(filt_df, bins=20)\n",
    "plt.show"
   ]
  },
  {
   "cell_type": "markdown",
   "id": "23c46389",
   "metadata": {},
   "source": [
    "Value -200 seems to be an unwanted outlier\n",
    "\n",
    "## no2_gt\t"
   ]
  },
  {
   "cell_type": "code",
   "execution_count": 49,
   "id": "f687f9e5",
   "metadata": {
    "scrolled": false
   },
   "outputs": [
    {
     "data": {
      "text/plain": [
       "<function matplotlib.pyplot.show(close=None, block=None)>"
      ]
     },
     "execution_count": 49,
     "metadata": {},
     "output_type": "execute_result"
    },
    {
     "data": {
      "image/png": "[encoded data removed]",
      "text/plain": [
       "<Figure size 1080x576 with 1 Axes>"
      ]
     },
     "metadata": {
      "needs_background": "light"
     },
     "output_type": "display_data"
    }
   ],
   "source": [
    "x_lst = df['no2_gt'].value_counts()\n",
    "\n",
    "plt.title('no2_gt')\n",
    "plt.xlabel('Value')\n",
    "plt.ylabel('Number of entries')\n",
    "plt.scatter(x_lst.index, x_lst.values, s=5)\n",
    "plt.show"
   ]
  },
  {
   "cell_type": "code",
   "execution_count": 50,
   "id": "4acef34c",
   "metadata": {},
   "outputs": [
    {
     "data": {
      "text/plain": [
       "-200    1607\n",
       " 97       72\n",
       " 95       69\n",
       " 101      67\n",
       " 96       66\n",
       " 114      65\n",
       "        ... \n",
       " 255       1\n",
       " 269       1\n",
       " 257       1\n",
       " 248       1\n",
       " 229       1\n",
       " 310       1\n",
       "Name: no2_gt, Length: 268, dtype: int64"
      ]
     },
     "execution_count": 50,
     "metadata": {},
     "output_type": "execute_result"
    }
   ],
   "source": [
    "df['no2_gt'].value_counts()"
   ]
  },
  {
   "cell_type": "code",
   "execution_count": 51,
   "id": "9508d0fb",
   "metadata": {},
   "outputs": [],
   "source": [
    "# filter column so that values below -50 aren't included\n",
    "filt = df['no2_gt'].between(-50, 500)\n",
    "filt_df = df['no2_gt'].loc[filt]"
   ]
  },
  {
   "cell_type": "code",
   "execution_count": 52,
   "id": "14cab128",
   "metadata": {},
   "outputs": [
    {
     "data": {
      "text/plain": [
       "<function matplotlib.pyplot.show(close=None, block=None)>"
      ]
     },
     "execution_count": 52,
     "metadata": {},
     "output_type": "execute_result"
    },
    {
     "data": {
      "image/png": "[encoded data removed]",
      "text/plain": [
       "<Figure size 1080x576 with 1 Axes>"
      ]
     },
     "metadata": {
      "needs_background": "light"
     },
     "output_type": "display_data"
    }
   ],
   "source": [
    "# histogram based on filtered column\n",
    "plt.title('no2_gt')\n",
    "plt.xlabel('Value')\n",
    "plt.ylabel('Number of entries')\n",
    "plt.hist(filt_df, bins=20)\n",
    "plt.show"
   ]
  },
  {
   "cell_type": "markdown",
   "id": "f21b1957",
   "metadata": {},
   "source": [
    "Value -200 seems to be an unwanted outlier\n",
    "\n",
    "## PT08.S4(NO2)\t"
   ]
  },
  {
   "cell_type": "code",
   "execution_count": 53,
   "id": "2db4cd49",
   "metadata": {
    "scrolled": false
   },
   "outputs": [
    {
     "data": {
      "text/plain": [
       "<function matplotlib.pyplot.show(close=None, block=None)>"
      ]
     },
     "execution_count": 53,
     "metadata": {},
     "output_type": "execute_result"
    },
    {
     "data": {
      "image/png": "[encoded data removed]",
      "text/plain": [
       "<Figure size 1080x576 with 1 Axes>"
      ]
     },
     "metadata": {
      "needs_background": "light"
     },
     "output_type": "display_data"
    }
   ],
   "source": [
    "x_lst = df['pt08.s4_no2'].value_counts()\n",
    "\n",
    "plt.title('pt08.s4_no2')\n",
    "plt.xlabel('Value')\n",
    "plt.ylabel('Number of entries')\n",
    "plt.scatter(x_lst.index, x_lst.values, s=5)\n",
    "plt.show"
   ]
  },
  {
   "cell_type": "code",
   "execution_count": 54,
   "id": "2067f7a5",
   "metadata": {},
   "outputs": [
    {
     "data": {
      "text/plain": [
       "-200     289\n",
       " 1580     22\n",
       " 1539     20\n",
       " 1638     19\n",
       " 1488     19\n",
       " 1467     19\n",
       "        ... \n",
       " 2523      1\n",
       " 1908      1\n",
       " 2259      1\n",
       " 2365      1\n",
       " 2088      1\n",
       " 789       1\n",
       "Name: pt08.s4_no2, Length: 1550, dtype: int64"
      ]
     },
     "execution_count": 54,
     "metadata": {},
     "output_type": "execute_result"
    }
   ],
   "source": [
    "df['pt08.s4_no2'].value_counts()"
   ]
  },
  {
   "cell_type": "code",
   "execution_count": 55,
   "id": "b621382f",
   "metadata": {},
   "outputs": [],
   "source": [
    "# filter column so that values below 500 aren't included\n",
    "filt = df['pt08.s4_no2'].between(500, 3000)\n",
    "filt_df = df['pt08.s4_no2'].loc[filt]"
   ]
  },
  {
   "cell_type": "code",
   "execution_count": 56,
   "id": "9831beaf",
   "metadata": {},
   "outputs": [
    {
     "data": {
      "text/plain": [
       "<function matplotlib.pyplot.show(close=None, block=None)>"
      ]
     },
     "execution_count": 56,
     "metadata": {},
     "output_type": "execute_result"
    },
    {
     "data": {
      "image/png": "[encoded data removed]",
      "text/plain": [
       "<Figure size 1080x576 with 1 Axes>"
      ]
     },
     "metadata": {
      "needs_background": "light"
     },
     "output_type": "display_data"
    }
   ],
   "source": [
    "# histogram based on filtered column\n",
    "plt.title('pt08.s4_no2')\n",
    "plt.xlabel('Value')\n",
    "plt.ylabel('Number of entries')\n",
    "plt.hist(filt_df, bins=20)\n",
    "plt.show"
   ]
  },
  {
   "cell_type": "markdown",
   "id": "2a404910",
   "metadata": {},
   "source": [
    "Value -200 seems to be an unwanted outlier\n",
    "\n",
    "## pt08.s5_o3\t\t"
   ]
  },
  {
   "cell_type": "code",
   "execution_count": 57,
   "id": "1aa7a7f6",
   "metadata": {
    "scrolled": false
   },
   "outputs": [
    {
     "data": {
      "text/plain": [
       "<function matplotlib.pyplot.show(close=None, block=None)>"
      ]
     },
     "execution_count": 57,
     "metadata": {},
     "output_type": "execute_result"
    },
    {
     "data": {
      "image/png": "[encoded data removed]",
      "text/plain": [
       "<Figure size 1080x576 with 1 Axes>"
      ]
     },
     "metadata": {
      "needs_background": "light"
     },
     "output_type": "display_data"
    }
   ],
   "source": [
    "x_lst = df['pt08.s5_o3'].value_counts()\n",
    "\n",
    "plt.title('pt08.s5_o3')\n",
    "plt.xlabel('Value')\n",
    "plt.ylabel('Number of entries')\n",
    "plt.scatter(x_lst.index, x_lst.values, s=5)\n",
    "plt.show"
   ]
  },
  {
   "cell_type": "code",
   "execution_count": 58,
   "id": "8980e442",
   "metadata": {},
   "outputs": [
    {
     "data": {
      "text/plain": [
       "-200     289\n",
       " 836      19\n",
       " 825      18\n",
       " 799      17\n",
       " 826      17\n",
       " 777      17\n",
       "        ... \n",
       " 1746      1\n",
       " 1710      1\n",
       " 1905      1\n",
       " 1234      1\n",
       " 2184      1\n",
       " 1656      1\n",
       "Name: pt08.s5_o3, Length: 1682, dtype: int64"
      ]
     },
     "execution_count": 58,
     "metadata": {},
     "output_type": "execute_result"
    }
   ],
   "source": [
    "df['pt08.s5_o3'].value_counts()"
   ]
  },
  {
   "cell_type": "code",
   "execution_count": 59,
   "id": "556a6499",
   "metadata": {},
   "outputs": [],
   "source": [
    "# filter column so that values below 200 aren't included\n",
    "filt = df['pt08.s5_o3'].between(200, 3000)\n",
    "filt_df = df['pt08.s5_o3'].loc[filt]"
   ]
  },
  {
   "cell_type": "code",
   "execution_count": 60,
   "id": "ddeb7ede",
   "metadata": {},
   "outputs": [
    {
     "data": {
      "text/plain": [
       "<function matplotlib.pyplot.show(close=None, block=None)>"
      ]
     },
     "execution_count": 60,
     "metadata": {},
     "output_type": "execute_result"
    },
    {
     "data": {
      "image/png": "[encoded data removed]",
      "text/plain": [
       "<Figure size 1080x576 with 1 Axes>"
      ]
     },
     "metadata": {
      "needs_background": "light"
     },
     "output_type": "display_data"
    }
   ],
   "source": [
    "# histogram based on filtered column\n",
    "plt.title('pt08.s5_o3')\n",
    "plt.xlabel('Value')\n",
    "plt.ylabel('Number of entries')\n",
    "plt.hist(filt_df, bins=20)\n",
    "plt.show"
   ]
  },
  {
   "cell_type": "markdown",
   "id": "a9df350d",
   "metadata": {},
   "source": [
    "Value -200 seems to be an unwanted outlier\n",
    "\n",
    "## t"
   ]
  },
  {
   "cell_type": "code",
   "execution_count": 61,
   "id": "45569a51",
   "metadata": {
    "scrolled": false
   },
   "outputs": [
    {
     "data": {
      "text/plain": [
       "<function matplotlib.pyplot.show(close=None, block=None)>"
      ]
     },
     "execution_count": 61,
     "metadata": {},
     "output_type": "execute_result"
    },
    {
     "data": {
      "image/png": "[encoded data removed]",
      "text/plain": [
       "<Figure size 1080x576 with 1 Axes>"
      ]
     },
     "metadata": {
      "needs_background": "light"
     },
     "output_type": "display_data"
    }
   ],
   "source": [
    "x_lst = df['t'].value_counts()\n",
    "\n",
    "plt.title('t')\n",
    "plt.xlabel('Value')\n",
    "plt.ylabel('Number of entries')\n",
    "plt.scatter(x_lst.index, x_lst.values, s=5)\n",
    "plt.show"
   ]
  },
  {
   "cell_type": "code",
   "execution_count": 62,
   "id": "cb2e9ecf",
   "metadata": {},
   "outputs": [
    {
     "data": {
      "text/plain": [
       "-200.0    289\n",
       " 20.8      55\n",
       " 21.3      50\n",
       " 20.2      47\n",
       " 19.8      46\n",
       " 23.7      43\n",
       "         ... \n",
       " 41.6       1\n",
       " 44.3       1\n",
       " 44.6       1\n",
       " 43.4       1\n",
       " 43.1       1\n",
       " 0.3        1\n",
       "Name: t, Length: 420, dtype: int64"
      ]
     },
     "execution_count": 62,
     "metadata": {},
     "output_type": "execute_result"
    }
   ],
   "source": [
    "df['t'].value_counts()"
   ]
  },
  {
   "cell_type": "code",
   "execution_count": 63,
   "id": "6e7cb433",
   "metadata": {},
   "outputs": [],
   "source": [
    "# filter column so that values below -20 aren't included\n",
    "filt = df['t'].between(-20, 100)\n",
    "filt_df = df['t'].loc[filt]"
   ]
  },
  {
   "cell_type": "code",
   "execution_count": 64,
   "id": "f1de7d5f",
   "metadata": {},
   "outputs": [
    {
     "data": {
      "text/plain": [
       "<function matplotlib.pyplot.show(close=None, block=None)>"
      ]
     },
     "execution_count": 64,
     "metadata": {},
     "output_type": "execute_result"
    },
    {
     "data": {
      "image/png": "[encoded data removed]",
      "text/plain": [
       "<Figure size 1080x576 with 1 Axes>"
      ]
     },
     "metadata": {
      "needs_background": "light"
     },
     "output_type": "display_data"
    }
   ],
   "source": [
    "# histogram based on filtered column\n",
    "plt.title('t')\n",
    "plt.xlabel('Value')\n",
    "plt.ylabel('Number of entries')\n",
    "plt.hist(filt_df, bins=20)\n",
    "plt.show"
   ]
  },
  {
   "cell_type": "markdown",
   "id": "f7638d9d",
   "metadata": {},
   "source": [
    "Value -200 seems to be an unwanted outlier\n",
    "\n",
    "## rh\t"
   ]
  },
  {
   "cell_type": "code",
   "execution_count": 65,
   "id": "afb49997",
   "metadata": {
    "scrolled": false
   },
   "outputs": [
    {
     "data": {
      "text/plain": [
       "<function matplotlib.pyplot.show(close=None, block=None)>"
      ]
     },
     "execution_count": 65,
     "metadata": {},
     "output_type": "execute_result"
    },
    {
     "data": {
      "image/png": "[encoded data removed]",
      "text/plain": [
       "<Figure size 1080x576 with 1 Axes>"
      ]
     },
     "metadata": {
      "needs_background": "light"
     },
     "output_type": "display_data"
    }
   ],
   "source": [
    "x_lst = df['rh'].value_counts()\n",
    "\n",
    "plt.title('rh')\n",
    "plt.xlabel('Value')\n",
    "plt.ylabel('Number of entries')\n",
    "plt.scatter(x_lst.index, x_lst.values, s=5)\n",
    "plt.show"
   ]
  },
  {
   "cell_type": "code",
   "execution_count": 66,
   "id": "c788fb6d",
   "metadata": {},
   "outputs": [
    {
     "data": {
      "text/plain": [
       "-200.0    289\n",
       " 53.1      29\n",
       " 57.9      26\n",
       " 50.8      25\n",
       " 61.1      25\n",
       " 60.8      25\n",
       "         ... \n",
       " 9.8        1\n",
       " 9.9        1\n",
       " 12.9       1\n",
       " 85.2       1\n",
       " 85.6       1\n",
       " 86.6       1\n",
       "Name: rh, Length: 749, dtype: int64"
      ]
     },
     "execution_count": 66,
     "metadata": {},
     "output_type": "execute_result"
    }
   ],
   "source": [
    "df['rh'].value_counts()"
   ]
  },
  {
   "cell_type": "code",
   "execution_count": 67,
   "id": "f3c31ed0",
   "metadata": {},
   "outputs": [],
   "source": [
    "# filter column so that values below 0 aren't included\n",
    "filt = df['rh'].between(0, 100)\n",
    "filt_df = df['rh'].loc[filt]"
   ]
  },
  {
   "cell_type": "code",
   "execution_count": 68,
   "id": "abd53fd1",
   "metadata": {
    "scrolled": false
   },
   "outputs": [
    {
     "data": {
      "text/plain": [
       "<function matplotlib.pyplot.show(close=None, block=None)>"
      ]
     },
     "execution_count": 68,
     "metadata": {},
     "output_type": "execute_result"
    },
    {
     "data": {
      "image/png": "[encoded data removed]",
      "text/plain": [
       "<Figure size 1080x576 with 1 Axes>"
      ]
     },
     "metadata": {
      "needs_background": "light"
     },
     "output_type": "display_data"
    }
   ],
   "source": [
    "# histogram based on filtered column\n",
    "plt.title('rh')\n",
    "plt.xlabel('Value')\n",
    "plt.ylabel('Number of entries')\n",
    "plt.hist(filt_df, bins=20)\n",
    "plt.show"
   ]
  },
  {
   "cell_type": "markdown",
   "id": "ae0059bd",
   "metadata": {},
   "source": [
    "Value -200 seems to be an unwanted outlier\n",
    "\n",
    "## ah"
   ]
  },
  {
   "cell_type": "code",
   "execution_count": 69,
   "id": "15e08dfa",
   "metadata": {
    "scrolled": false
   },
   "outputs": [
    {
     "data": {
      "text/plain": [
       "<function matplotlib.pyplot.show(close=None, block=None)>"
      ]
     },
     "execution_count": 69,
     "metadata": {},
     "output_type": "execute_result"
    },
    {
     "data": {
      "image/png": "[encoded data removed]",
      "text/plain": [
       "<Figure size 1080x576 with 1 Axes>"
      ]
     },
     "metadata": {
      "needs_background": "light"
     },
     "output_type": "display_data"
    }
   ],
   "source": [
    "x_lst = df['ah'].value_counts()\n",
    "\n",
    "plt.title('ah')\n",
    "plt.xlabel('Value')\n",
    "plt.ylabel('Number of entries')\n",
    "plt.scatter(x_lst.index, x_lst.values, s=5)\n",
    "plt.show"
   ]
  },
  {
   "cell_type": "code",
   "execution_count": 70,
   "id": "37f14f14",
   "metadata": {},
   "outputs": [
    {
     "data": {
      "text/plain": [
       "-200.0000    289\n",
       " 0.8394        6\n",
       " 1.1199        6\n",
       " 0.8736        5\n",
       " 0.9271        5\n",
       " 0.8325        5\n",
       "            ... \n",
       " 1.1338        1\n",
       " 1.1235        1\n",
       " 1.1249        1\n",
       " 1.0469        1\n",
       " 1.0522        1\n",
       " 0.3358        1\n",
       "Name: ah, Length: 5918, dtype: int64"
      ]
     },
     "execution_count": 70,
     "metadata": {},
     "output_type": "execute_result"
    }
   ],
   "source": [
    "df['ah'].value_counts()"
   ]
  },
  {
   "cell_type": "code",
   "execution_count": 71,
   "id": "9f304ec9",
   "metadata": {},
   "outputs": [],
   "source": [
    "# filter column so that values below -10 aren't included\n",
    "filt = df['ah'].between(-10, 100)\n",
    "filt_df = df['ah'].loc[filt]"
   ]
  },
  {
   "cell_type": "code",
   "execution_count": 72,
   "id": "ceba8405",
   "metadata": {
    "scrolled": false
   },
   "outputs": [
    {
     "data": {
      "text/plain": [
       "<function matplotlib.pyplot.show(close=None, block=None)>"
      ]
     },
     "execution_count": 72,
     "metadata": {},
     "output_type": "execute_result"
    },
    {
     "data": {
      "image/png": "[encoded data removed]",
      "text/plain": [
       "<Figure size 1080x576 with 1 Axes>"
      ]
     },
     "metadata": {
      "needs_background": "light"
     },
     "output_type": "display_data"
    }
   ],
   "source": [
    "# histogram based on filtered column\n",
    "plt.title('ah')\n",
    "plt.xlabel('Value')\n",
    "plt.ylabel('Number of entries')\n",
    "plt.hist(filt_df, bins=20)\n",
    "plt.show"
   ]
  },
  {
   "cell_type": "markdown",
   "id": "17f7ca9a",
   "metadata": {},
   "source": [
    "## Schlussfolgerungen des Plottens\n",
    "\n",
    "- Der Wert **-200** ist ein **Ausreißer** und kommt in jeder Spalte mit Ausnahme von \"date\" vor.\n",
    "- Abgesehen davon keine Fehler erkennbar.\n"
   ]
  },
  {
   "cell_type": "markdown",
   "id": "cb22339d",
   "metadata": {},
   "source": [
    "\n",
    "## Häufigkeit des Ausreißers (-200) pro Spalte"
   ]
  },
  {
   "cell_type": "code",
   "execution_count": 73,
   "id": "d05afc10",
   "metadata": {},
   "outputs": [
    {
     "data": {
      "text/plain": [
       "date               0\n",
       "co_gt           1654\n",
       "pt08.s1_co       289\n",
       "nmhc_gt         7084\n",
       "c6h6_gt          289\n",
       "pt08.s2_nmhc     289\n",
       "nox_gt          1604\n",
       "pt08.s3_nox      289\n",
       "no2_gt          1607\n",
       "pt08.s4_no2      289\n",
       "pt08.s5_o3       289\n",
       "t                289\n",
       "rh               289\n",
       "ah               289\n",
       "dtype: int64"
      ]
     },
     "execution_count": 73,
     "metadata": {},
     "output_type": "execute_result"
    }
   ],
   "source": [
    "df.isin([-200]).sum(axis=0)"
   ]
  },
  {
   "cell_type": "markdown",
   "id": "24caba16",
   "metadata": {},
   "source": [
    "- **nmhc_gt** besteht zu **~90%** aus **Ausreißern** \n",
    "- nmhc_gt kann vernachlässigt werden\n",
    "\n",
    "\n",
    "- Handelt es sich um **289** unbrauchbare Zeilen? (Beinhalten sie alle Ausreißer der Spalten, bei denen ein Ausreißer 289 mal vorkommt?)"
   ]
  },
  {
   "cell_type": "code",
   "execution_count": 74,
   "id": "cc5f173b",
   "metadata": {
    "collapsed": true
   },
   "outputs": [
    {
     "data": {
      "text/plain": [
       "date               0\n",
       "co_gt           1619\n",
       "pt08.s1_co         0\n",
       "nmhc_gt         6822\n",
       "c6h6_gt            0\n",
       "pt08.s2_nmhc       0\n",
       "nox_gt          1563\n",
       "pt08.s3_nox        0\n",
       "no2_gt          1566\n",
       "pt08.s4_no2        0\n",
       "pt08.s5_o3         0\n",
       "t                  0\n",
       "rh                 0\n",
       "ah                 0\n",
       "dtype: int64"
      ]
     },
     "execution_count": 74,
     "metadata": {},
     "output_type": "execute_result"
    }
   ],
   "source": [
    "df.drop(df[df.ah == -200].index).isin([-200]).sum(axis=0)"
   ]
  },
  {
   "cell_type": "markdown",
   "id": "d7a03419",
   "metadata": {},
   "source": [
    "- Es existieren 289 unbrauchbare Zeilen, diese können entfernt werden"
   ]
  },
  {
   "cell_type": "code",
   "execution_count": 75,
   "id": "bd86abbb",
   "metadata": {},
   "outputs": [],
   "source": [
    "# drop rows containing only false values\n",
    "df.drop(df[df.ah == -200].index, inplace =True)\n",
    "\n",
    "# reset index\n",
    "df.reset_index(drop=True, inplace=True)"
   ]
  },
  {
   "cell_type": "markdown",
   "id": "64046ca6",
   "metadata": {},
   "source": [
    "## Lücken erkennen"
   ]
  },
  {
   "cell_type": "code",
   "execution_count": 76,
   "id": "0f9913c9",
   "metadata": {},
   "outputs": [
    {
     "data": {
      "text/plain": [
       "date            7709\n",
       "co_gt           7709\n",
       "pt08.s1_co      7709\n",
       "nmhc_gt         7709\n",
       "c6h6_gt         7709\n",
       "pt08.s2_nmhc    7709\n",
       "nox_gt          7709\n",
       "pt08.s3_nox     7709\n",
       "no2_gt          7709\n",
       "pt08.s4_no2     7709\n",
       "pt08.s5_o3      7709\n",
       "t               7709\n",
       "rh              7709\n",
       "ah              7709\n",
       "dtype: int64"
      ]
     },
     "execution_count": 76,
     "metadata": {},
     "output_type": "execute_result"
    }
   ],
   "source": [
    "df.count()"
   ]
  },
  {
   "cell_type": "markdown",
   "id": "13897dfe",
   "metadata": {},
   "source": [
    "- Es fehlen keine Werte\n",
    "\n"
   ]
  },
  {
   "cell_type": "markdown",
   "id": "b7aa442a",
   "metadata": {},
   "source": [
    "## Kleinste Werte pro Spalte exklusive -200"
   ]
  },
  {
   "cell_type": "code",
   "execution_count": 77,
   "id": "122ba06b",
   "metadata": {},
   "outputs": [
    {
     "data": {
      "text/plain": [
       "date            2004-03-10 18:00:00\n",
       "co_gt                           0.1\n",
       "pt08.s1_co                      647\n",
       "nmhc_gt                         7.0\n",
       "c6h6_gt                         0.1\n",
       "pt08.s2_nmhc                    383\n",
       "nox_gt                          2.0\n",
       "pt08.s3_nox                     322\n",
       "no2_gt                          2.0\n",
       "pt08.s4_no2                     657\n",
       "pt08.s5_o3                      253\n",
       "t                               0.3\n",
       "rh                              9.2\n",
       "ah                           0.1988\n",
       "dtype: object"
      ]
     },
     "execution_count": 77,
     "metadata": {},
     "output_type": "execute_result"
    }
   ],
   "source": [
    "df[df != -200].min()"
   ]
  },
  {
   "cell_type": "markdown",
   "id": "20bf9e1e",
   "metadata": {},
   "source": [
    "## Subset: Dataframe mit NaN-Eintrag anstelle von Wert -200"
   ]
  },
  {
   "cell_type": "code",
   "execution_count": 78,
   "id": "6cc106c5",
   "metadata": {},
   "outputs": [
    {
     "data": {
      "text/html": [
       "<div>\n",
       "<style scoped>\n",
       "    .dataframe tbody tr th:only-of-type {\n",
       "        vertical-align: middle;\n",
       "    }\n",
       "\n",
       "    .dataframe tbody tr th {\n",
       "        vertical-align: top;\n",
       "    }\n",
       "\n",
       "    .dataframe thead th {\n",
       "        text-align: right;\n",
       "    }\n",
       "</style>\n",
       "<table border=\"1\" class=\"dataframe\">\n",
       "  <thead>\n",
       "    <tr style=\"text-align: right;\">\n",
       "      <th></th>\n",
       "      <th>date</th>\n",
       "      <th>co_gt</th>\n",
       "      <th>pt08.s1_co</th>\n",
       "      <th>nmhc_gt</th>\n",
       "      <th>c6h6_gt</th>\n",
       "      <th>pt08.s2_nmhc</th>\n",
       "      <th>nox_gt</th>\n",
       "      <th>pt08.s3_nox</th>\n",
       "      <th>no2_gt</th>\n",
       "      <th>pt08.s4_no2</th>\n",
       "      <th>pt08.s5_o3</th>\n",
       "      <th>t</th>\n",
       "      <th>rh</th>\n",
       "      <th>ah</th>\n",
       "    </tr>\n",
       "  </thead>\n",
       "  <tbody>\n",
       "    <tr>\n",
       "      <th>0</th>\n",
       "      <td>2004-03-10 18:00:00</td>\n",
       "      <td>2.6</td>\n",
       "      <td>1360</td>\n",
       "      <td>150.0</td>\n",
       "      <td>11.9</td>\n",
       "      <td>1046</td>\n",
       "      <td>166.0</td>\n",
       "      <td>1056</td>\n",
       "      <td>113.0</td>\n",
       "      <td>1692</td>\n",
       "      <td>1268</td>\n",
       "      <td>13.6</td>\n",
       "      <td>48.9</td>\n",
       "      <td>0.7578</td>\n",
       "    </tr>\n",
       "    <tr>\n",
       "      <th>1</th>\n",
       "      <td>2004-03-10 19:00:00</td>\n",
       "      <td>2.0</td>\n",
       "      <td>1292</td>\n",
       "      <td>112.0</td>\n",
       "      <td>9.4</td>\n",
       "      <td>955</td>\n",
       "      <td>103.0</td>\n",
       "      <td>1174</td>\n",
       "      <td>92.0</td>\n",
       "      <td>1559</td>\n",
       "      <td>972</td>\n",
       "      <td>13.3</td>\n",
       "      <td>47.7</td>\n",
       "      <td>0.7255</td>\n",
       "    </tr>\n",
       "    <tr>\n",
       "      <th>2</th>\n",
       "      <td>2004-03-10 20:00:00</td>\n",
       "      <td>2.2</td>\n",
       "      <td>1402</td>\n",
       "      <td>88.0</td>\n",
       "      <td>9.0</td>\n",
       "      <td>939</td>\n",
       "      <td>131.0</td>\n",
       "      <td>1140</td>\n",
       "      <td>114.0</td>\n",
       "      <td>1555</td>\n",
       "      <td>1074</td>\n",
       "      <td>11.9</td>\n",
       "      <td>54.0</td>\n",
       "      <td>0.7502</td>\n",
       "    </tr>\n",
       "    <tr>\n",
       "      <th>3</th>\n",
       "      <td>2004-03-10 21:00:00</td>\n",
       "      <td>2.2</td>\n",
       "      <td>1376</td>\n",
       "      <td>80.0</td>\n",
       "      <td>9.2</td>\n",
       "      <td>948</td>\n",
       "      <td>172.0</td>\n",
       "      <td>1092</td>\n",
       "      <td>122.0</td>\n",
       "      <td>1584</td>\n",
       "      <td>1203</td>\n",
       "      <td>11.0</td>\n",
       "      <td>60.0</td>\n",
       "      <td>0.7867</td>\n",
       "    </tr>\n",
       "    <tr>\n",
       "      <th>4</th>\n",
       "      <td>2004-03-10 22:00:00</td>\n",
       "      <td>1.6</td>\n",
       "      <td>1272</td>\n",
       "      <td>51.0</td>\n",
       "      <td>6.5</td>\n",
       "      <td>836</td>\n",
       "      <td>131.0</td>\n",
       "      <td>1205</td>\n",
       "      <td>116.0</td>\n",
       "      <td>1490</td>\n",
       "      <td>1110</td>\n",
       "      <td>11.2</td>\n",
       "      <td>59.6</td>\n",
       "      <td>0.7888</td>\n",
       "    </tr>\n",
       "    <tr>\n",
       "      <th>5</th>\n",
       "      <td>2004-03-10 23:00:00</td>\n",
       "      <td>1.2</td>\n",
       "      <td>1197</td>\n",
       "      <td>38.0</td>\n",
       "      <td>4.7</td>\n",
       "      <td>750</td>\n",
       "      <td>89.0</td>\n",
       "      <td>1337</td>\n",
       "      <td>96.0</td>\n",
       "      <td>1393</td>\n",
       "      <td>949</td>\n",
       "      <td>11.2</td>\n",
       "      <td>59.2</td>\n",
       "      <td>0.7848</td>\n",
       "    </tr>\n",
       "    <tr>\n",
       "      <th>...</th>\n",
       "      <td>...</td>\n",
       "      <td>...</td>\n",
       "      <td>...</td>\n",
       "      <td>...</td>\n",
       "      <td>...</td>\n",
       "      <td>...</td>\n",
       "      <td>...</td>\n",
       "      <td>...</td>\n",
       "      <td>...</td>\n",
       "      <td>...</td>\n",
       "      <td>...</td>\n",
       "      <td>...</td>\n",
       "      <td>...</td>\n",
       "      <td>...</td>\n",
       "    </tr>\n",
       "    <tr>\n",
       "      <th>7703</th>\n",
       "      <td>2005-02-06 18:00:00</td>\n",
       "      <td>1.1</td>\n",
       "      <td>925</td>\n",
       "      <td>NaN</td>\n",
       "      <td>2.9</td>\n",
       "      <td>649</td>\n",
       "      <td>186.0</td>\n",
       "      <td>1003</td>\n",
       "      <td>142.0</td>\n",
       "      <td>819</td>\n",
       "      <td>570</td>\n",
       "      <td>6.9</td>\n",
       "      <td>36.4</td>\n",
       "      <td>0.3635</td>\n",
       "    </tr>\n",
       "    <tr>\n",
       "      <th>7704</th>\n",
       "      <td>2005-02-06 19:00:00</td>\n",
       "      <td>1.6</td>\n",
       "      <td>985</td>\n",
       "      <td>NaN</td>\n",
       "      <td>4.5</td>\n",
       "      <td>736</td>\n",
       "      <td>227.0</td>\n",
       "      <td>891</td>\n",
       "      <td>165.0</td>\n",
       "      <td>875</td>\n",
       "      <td>774</td>\n",
       "      <td>6.0</td>\n",
       "      <td>38.0</td>\n",
       "      <td>0.3584</td>\n",
       "    </tr>\n",
       "    <tr>\n",
       "      <th>7705</th>\n",
       "      <td>2005-02-06 20:00:00</td>\n",
       "      <td>1.8</td>\n",
       "      <td>1002</td>\n",
       "      <td>NaN</td>\n",
       "      <td>5.3</td>\n",
       "      <td>780</td>\n",
       "      <td>252.0</td>\n",
       "      <td>855</td>\n",
       "      <td>179.0</td>\n",
       "      <td>892</td>\n",
       "      <td>857</td>\n",
       "      <td>5.8</td>\n",
       "      <td>36.4</td>\n",
       "      <td>0.3385</td>\n",
       "    </tr>\n",
       "    <tr>\n",
       "      <th>7706</th>\n",
       "      <td>2005-02-06 21:00:00</td>\n",
       "      <td>1.4</td>\n",
       "      <td>938</td>\n",
       "      <td>NaN</td>\n",
       "      <td>3.7</td>\n",
       "      <td>692</td>\n",
       "      <td>193.0</td>\n",
       "      <td>937</td>\n",
       "      <td>149.0</td>\n",
       "      <td>805</td>\n",
       "      <td>737</td>\n",
       "      <td>5.8</td>\n",
       "      <td>35.4</td>\n",
       "      <td>0.3286</td>\n",
       "    </tr>\n",
       "    <tr>\n",
       "      <th>7707</th>\n",
       "      <td>2005-02-06 22:00:00</td>\n",
       "      <td>1.1</td>\n",
       "      <td>896</td>\n",
       "      <td>NaN</td>\n",
       "      <td>2.6</td>\n",
       "      <td>627</td>\n",
       "      <td>158.0</td>\n",
       "      <td>1033</td>\n",
       "      <td>126.0</td>\n",
       "      <td>782</td>\n",
       "      <td>610</td>\n",
       "      <td>5.4</td>\n",
       "      <td>36.6</td>\n",
       "      <td>0.3304</td>\n",
       "    </tr>\n",
       "    <tr>\n",
       "      <th>7708</th>\n",
       "      <td>2005-02-06 23:00:00</td>\n",
       "      <td>1.0</td>\n",
       "      <td>907</td>\n",
       "      <td>NaN</td>\n",
       "      <td>2.4</td>\n",
       "      <td>614</td>\n",
       "      <td>150.0</td>\n",
       "      <td>1052</td>\n",
       "      <td>120.0</td>\n",
       "      <td>782</td>\n",
       "      <td>627</td>\n",
       "      <td>5.1</td>\n",
       "      <td>37.9</td>\n",
       "      <td>0.3358</td>\n",
       "    </tr>\n",
       "  </tbody>\n",
       "</table>\n",
       "<p>7709 rows × 14 columns</p>\n",
       "</div>"
      ],
      "text/plain": [
       "                    date  co_gt  pt08.s1_co  nmhc_gt  c6h6_gt  pt08.s2_nmhc  \\\n",
       "0    2004-03-10 18:00:00    2.6        1360    150.0     11.9          1046   \n",
       "1    2004-03-10 19:00:00    2.0        1292    112.0      9.4           955   \n",
       "2    2004-03-10 20:00:00    2.2        1402     88.0      9.0           939   \n",
       "3    2004-03-10 21:00:00    2.2        1376     80.0      9.2           948   \n",
       "4    2004-03-10 22:00:00    1.6        1272     51.0      6.5           836   \n",
       "5    2004-03-10 23:00:00    1.2        1197     38.0      4.7           750   \n",
       "...                  ...    ...         ...      ...      ...           ...   \n",
       "7703 2005-02-06 18:00:00    1.1         925      NaN      2.9           649   \n",
       "7704 2005-02-06 19:00:00    1.6         985      NaN      4.5           736   \n",
       "7705 2005-02-06 20:00:00    1.8        1002      NaN      5.3           780   \n",
       "7706 2005-02-06 21:00:00    1.4         938      NaN      3.7           692   \n",
       "7707 2005-02-06 22:00:00    1.1         896      NaN      2.6           627   \n",
       "7708 2005-02-06 23:00:00    1.0         907      NaN      2.4           614   \n",
       "\n",
       "      nox_gt  pt08.s3_nox  no2_gt  pt08.s4_no2  pt08.s5_o3     t    rh      ah  \n",
       "0      166.0         1056   113.0         1692        1268  13.6  48.9  0.7578  \n",
       "1      103.0         1174    92.0         1559         972  13.3  47.7  0.7255  \n",
       "2      131.0         1140   114.0         1555        1074  11.9  54.0  0.7502  \n",
       "3      172.0         1092   122.0         1584        1203  11.0  60.0  0.7867  \n",
       "4      131.0         1205   116.0         1490        1110  11.2  59.6  0.7888  \n",
       "5       89.0         1337    96.0         1393         949  11.2  59.2  0.7848  \n",
       "...      ...          ...     ...          ...         ...   ...   ...     ...  \n",
       "7703   186.0         1003   142.0          819         570   6.9  36.4  0.3635  \n",
       "7704   227.0          891   165.0          875         774   6.0  38.0  0.3584  \n",
       "7705   252.0          855   179.0          892         857   5.8  36.4  0.3385  \n",
       "7706   193.0          937   149.0          805         737   5.8  35.4  0.3286  \n",
       "7707   158.0         1033   126.0          782         610   5.4  36.6  0.3304  \n",
       "7708   150.0         1052   120.0          782         627   5.1  37.9  0.3358  \n",
       "\n",
       "[7709 rows x 14 columns]"
      ]
     },
     "execution_count": 78,
     "metadata": {},
     "output_type": "execute_result"
    }
   ],
   "source": [
    "nan_df = df[df != -200]\n",
    "nan_df"
   ]
  },
  {
   "cell_type": "code",
   "execution_count": 79,
   "id": "4293464d",
   "metadata": {},
   "outputs": [
    {
     "data": {
      "text/plain": [
       "date               0\n",
       "co_gt           1619\n",
       "pt08.s1_co         0\n",
       "nmhc_gt         6822\n",
       "c6h6_gt            0\n",
       "pt08.s2_nmhc       0\n",
       "nox_gt          1563\n",
       "pt08.s3_nox        0\n",
       "no2_gt          1566\n",
       "pt08.s4_no2        0\n",
       "pt08.s5_o3         0\n",
       "t                  0\n",
       "rh                 0\n",
       "ah                 0\n",
       "dtype: int64"
      ]
     },
     "execution_count": 79,
     "metadata": {},
     "output_type": "execute_result"
    }
   ],
   "source": [
    "# check if the frequency of -200 in 'df' matches the frequency of NaN values in 'nan_df':\n",
    "nan_df.shape[0] - nan_df.count()"
   ]
  },
  {
   "cell_type": "code",
   "execution_count": 80,
   "id": "761285f0",
   "metadata": {},
   "outputs": [
    {
     "data": {
      "text/plain": [
       "date               0\n",
       "co_gt           1619\n",
       "pt08.s1_co         0\n",
       "nmhc_gt         6822\n",
       "c6h6_gt            0\n",
       "pt08.s2_nmhc       0\n",
       "nox_gt          1563\n",
       "pt08.s3_nox        0\n",
       "no2_gt          1566\n",
       "pt08.s4_no2        0\n",
       "pt08.s5_o3         0\n",
       "t                  0\n",
       "rh                 0\n",
       "ah                 0\n",
       "dtype: int64"
      ]
     },
     "execution_count": 80,
     "metadata": {},
     "output_type": "execute_result"
    }
   ],
   "source": [
    "df.isin([-200]).sum(axis=0)"
   ]
  },
  {
   "cell_type": "markdown",
   "id": "63559850",
   "metadata": {},
   "source": [
    "## nan_df: NaN mit Mittelwert/ Median auffüllen"
   ]
  },
  {
   "cell_type": "code",
   "execution_count": 81,
   "id": "af2c4b43",
   "metadata": {
    "collapsed": true
   },
   "outputs": [
    {
     "data": {
      "text/html": [
       "<div>\n",
       "<style scoped>\n",
       "    .dataframe tbody tr th:only-of-type {\n",
       "        vertical-align: middle;\n",
       "    }\n",
       "\n",
       "    .dataframe tbody tr th {\n",
       "        vertical-align: top;\n",
       "    }\n",
       "\n",
       "    .dataframe thead th {\n",
       "        text-align: right;\n",
       "    }\n",
       "</style>\n",
       "<table border=\"1\" class=\"dataframe\">\n",
       "  <thead>\n",
       "    <tr style=\"text-align: right;\">\n",
       "      <th></th>\n",
       "      <th>co_gt</th>\n",
       "      <th>pt08.s1_co</th>\n",
       "      <th>nmhc_gt</th>\n",
       "      <th>c6h6_gt</th>\n",
       "      <th>pt08.s2_nmhc</th>\n",
       "      <th>nox_gt</th>\n",
       "      <th>pt08.s3_nox</th>\n",
       "      <th>no2_gt</th>\n",
       "      <th>pt08.s4_no2</th>\n",
       "      <th>pt08.s5_o3</th>\n",
       "      <th>t</th>\n",
       "      <th>rh</th>\n",
       "      <th>ah</th>\n",
       "    </tr>\n",
       "  </thead>\n",
       "  <tbody>\n",
       "    <tr>\n",
       "      <th>count</th>\n",
       "      <td>6090.000000</td>\n",
       "      <td>7709.000000</td>\n",
       "      <td>887.000000</td>\n",
       "      <td>7709.000000</td>\n",
       "      <td>7709.000000</td>\n",
       "      <td>6146.000000</td>\n",
       "      <td>7709.000000</td>\n",
       "      <td>6143.000000</td>\n",
       "      <td>7709.000000</td>\n",
       "      <td>7709.000000</td>\n",
       "      <td>7709.000000</td>\n",
       "      <td>7709.000000</td>\n",
       "      <td>7709.000000</td>\n",
       "    </tr>\n",
       "    <tr>\n",
       "      <th>mean</th>\n",
       "      <td>2.168604</td>\n",
       "      <td>1098.303412</td>\n",
       "      <td>218.607666</td>\n",
       "      <td>10.458205</td>\n",
       "      <td>953.579453</td>\n",
       "      <td>232.360072</td>\n",
       "      <td>848.762615</td>\n",
       "      <td>106.251831</td>\n",
       "      <td>1507.352834</td>\n",
       "      <td>1024.200026</td>\n",
       "      <td>19.476041</td>\n",
       "      <td>48.969244</td>\n",
       "      <td>1.082099</td>\n",
       "    </tr>\n",
       "    <tr>\n",
       "      <th>std</th>\n",
       "      <td>1.464540</td>\n",
       "      <td>219.938457</td>\n",
       "      <td>206.615130</td>\n",
       "      <td>7.580282</td>\n",
       "      <td>268.035911</td>\n",
       "      <td>209.976677</td>\n",
       "      <td>259.638998</td>\n",
       "      <td>44.739751</td>\n",
       "      <td>331.314334</td>\n",
       "      <td>393.937025</td>\n",
       "      <td>8.662273</td>\n",
       "      <td>17.286378</td>\n",
       "      <td>0.394650</td>\n",
       "    </tr>\n",
       "    <tr>\n",
       "      <th>min</th>\n",
       "      <td>0.100000</td>\n",
       "      <td>647.000000</td>\n",
       "      <td>7.000000</td>\n",
       "      <td>0.100000</td>\n",
       "      <td>383.000000</td>\n",
       "      <td>2.000000</td>\n",
       "      <td>322.000000</td>\n",
       "      <td>2.000000</td>\n",
       "      <td>657.000000</td>\n",
       "      <td>253.000000</td>\n",
       "      <td>0.300000</td>\n",
       "      <td>9.200000</td>\n",
       "      <td>0.198800</td>\n",
       "    </tr>\n",
       "    <tr>\n",
       "      <th>25%</th>\n",
       "      <td>1.100000</td>\n",
       "      <td>932.000000</td>\n",
       "      <td>66.000000</td>\n",
       "      <td>4.700000</td>\n",
       "      <td>749.000000</td>\n",
       "      <td>89.000000</td>\n",
       "      <td>672.000000</td>\n",
       "      <td>73.000000</td>\n",
       "      <td>1305.000000</td>\n",
       "      <td>737.000000</td>\n",
       "      <td>13.100000</td>\n",
       "      <td>35.500000</td>\n",
       "      <td>0.816700</td>\n",
       "    </tr>\n",
       "    <tr>\n",
       "      <th>50%</th>\n",
       "      <td>1.800000</td>\n",
       "      <td>1061.000000</td>\n",
       "      <td>145.000000</td>\n",
       "      <td>8.600000</td>\n",
       "      <td>925.000000</td>\n",
       "      <td>164.000000</td>\n",
       "      <td>818.000000</td>\n",
       "      <td>103.000000</td>\n",
       "      <td>1508.000000</td>\n",
       "      <td>962.000000</td>\n",
       "      <td>19.300000</td>\n",
       "      <td>49.400000</td>\n",
       "      <td>1.046800</td>\n",
       "    </tr>\n",
       "    <tr>\n",
       "      <th>75%</th>\n",
       "      <td>2.900000</td>\n",
       "      <td>1234.000000</td>\n",
       "      <td>297.000000</td>\n",
       "      <td>14.400000</td>\n",
       "      <td>1130.000000</td>\n",
       "      <td>303.750000</td>\n",
       "      <td>984.000000</td>\n",
       "      <td>132.000000</td>\n",
       "      <td>1707.000000</td>\n",
       "      <td>1272.000000</td>\n",
       "      <td>25.400000</td>\n",
       "      <td>62.100000</td>\n",
       "      <td>1.371300</td>\n",
       "    </tr>\n",
       "    <tr>\n",
       "      <th>max</th>\n",
       "      <td>11.900000</td>\n",
       "      <td>2040.000000</td>\n",
       "      <td>1189.000000</td>\n",
       "      <td>63.700000</td>\n",
       "      <td>2214.000000</td>\n",
       "      <td>1479.000000</td>\n",
       "      <td>2683.000000</td>\n",
       "      <td>333.000000</td>\n",
       "      <td>2775.000000</td>\n",
       "      <td>2523.000000</td>\n",
       "      <td>44.600000</td>\n",
       "      <td>88.700000</td>\n",
       "      <td>2.231000</td>\n",
       "    </tr>\n",
       "  </tbody>\n",
       "</table>\n",
       "</div>"
      ],
      "text/plain": [
       "             co_gt   pt08.s1_co      nmhc_gt      c6h6_gt  pt08.s2_nmhc  \\\n",
       "count  6090.000000  7709.000000   887.000000  7709.000000   7709.000000   \n",
       "mean      2.168604  1098.303412   218.607666    10.458205    953.579453   \n",
       "std       1.464540   219.938457   206.615130     7.580282    268.035911   \n",
       "min       0.100000   647.000000     7.000000     0.100000    383.000000   \n",
       "25%       1.100000   932.000000    66.000000     4.700000    749.000000   \n",
       "50%       1.800000  1061.000000   145.000000     8.600000    925.000000   \n",
       "75%       2.900000  1234.000000   297.000000    14.400000   1130.000000   \n",
       "max      11.900000  2040.000000  1189.000000    63.700000   2214.000000   \n",
       "\n",
       "            nox_gt  pt08.s3_nox       no2_gt  pt08.s4_no2   pt08.s5_o3  \\\n",
       "count  6146.000000  7709.000000  6143.000000  7709.000000  7709.000000   \n",
       "mean    232.360072   848.762615   106.251831  1507.352834  1024.200026   \n",
       "std     209.976677   259.638998    44.739751   331.314334   393.937025   \n",
       "min       2.000000   322.000000     2.000000   657.000000   253.000000   \n",
       "25%      89.000000   672.000000    73.000000  1305.000000   737.000000   \n",
       "50%     164.000000   818.000000   103.000000  1508.000000   962.000000   \n",
       "75%     303.750000   984.000000   132.000000  1707.000000  1272.000000   \n",
       "max    1479.000000  2683.000000   333.000000  2775.000000  2523.000000   \n",
       "\n",
       "                 t           rh           ah  \n",
       "count  7709.000000  7709.000000  7709.000000  \n",
       "mean     19.476041    48.969244     1.082099  \n",
       "std       8.662273    17.286378     0.394650  \n",
       "min       0.300000     9.200000     0.198800  \n",
       "25%      13.100000    35.500000     0.816700  \n",
       "50%      19.300000    49.400000     1.046800  \n",
       "75%      25.400000    62.100000     1.371300  \n",
       "max      44.600000    88.700000     2.231000  "
      ]
     },
     "execution_count": 81,
     "metadata": {},
     "output_type": "execute_result"
    }
   ],
   "source": [
    "# count() per column indicates missing values\n",
    "nan_df.describe()"
   ]
  },
  {
   "cell_type": "markdown",
   "id": "a8c7a7dc",
   "metadata": {},
   "source": [
    "### Mittelwert:"
   ]
  },
  {
   "cell_type": "code",
   "execution_count": 82,
   "id": "a5798b14",
   "metadata": {
    "collapsed": true
   },
   "outputs": [
    {
     "data": {
      "text/html": [
       "<div>\n",
       "<style scoped>\n",
       "    .dataframe tbody tr th:only-of-type {\n",
       "        vertical-align: middle;\n",
       "    }\n",
       "\n",
       "    .dataframe tbody tr th {\n",
       "        vertical-align: top;\n",
       "    }\n",
       "\n",
       "    .dataframe thead th {\n",
       "        text-align: right;\n",
       "    }\n",
       "</style>\n",
       "<table border=\"1\" class=\"dataframe\">\n",
       "  <thead>\n",
       "    <tr style=\"text-align: right;\">\n",
       "      <th></th>\n",
       "      <th>co_gt</th>\n",
       "      <th>pt08.s1_co</th>\n",
       "      <th>nmhc_gt</th>\n",
       "      <th>c6h6_gt</th>\n",
       "      <th>pt08.s2_nmhc</th>\n",
       "      <th>nox_gt</th>\n",
       "      <th>pt08.s3_nox</th>\n",
       "      <th>no2_gt</th>\n",
       "      <th>pt08.s4_no2</th>\n",
       "      <th>pt08.s5_o3</th>\n",
       "      <th>t</th>\n",
       "      <th>rh</th>\n",
       "      <th>ah</th>\n",
       "    </tr>\n",
       "  </thead>\n",
       "  <tbody>\n",
       "    <tr>\n",
       "      <th>count</th>\n",
       "      <td>7709.000000</td>\n",
       "      <td>7709.000000</td>\n",
       "      <td>7709.000000</td>\n",
       "      <td>7709.000000</td>\n",
       "      <td>7709.000000</td>\n",
       "      <td>7709.000000</td>\n",
       "      <td>7709.000000</td>\n",
       "      <td>7709.000000</td>\n",
       "      <td>7709.000000</td>\n",
       "      <td>7709.000000</td>\n",
       "      <td>7709.000000</td>\n",
       "      <td>7709.000000</td>\n",
       "      <td>7709.000000</td>\n",
       "    </tr>\n",
       "    <tr>\n",
       "      <th>mean</th>\n",
       "      <td>2.168604</td>\n",
       "      <td>1098.303412</td>\n",
       "      <td>218.607666</td>\n",
       "      <td>10.458205</td>\n",
       "      <td>953.579453</td>\n",
       "      <td>232.360072</td>\n",
       "      <td>848.762615</td>\n",
       "      <td>106.251831</td>\n",
       "      <td>1507.352834</td>\n",
       "      <td>1024.200026</td>\n",
       "      <td>19.476041</td>\n",
       "      <td>48.969244</td>\n",
       "      <td>1.082099</td>\n",
       "    </tr>\n",
       "    <tr>\n",
       "      <th>std</th>\n",
       "      <td>1.301677</td>\n",
       "      <td>219.938457</td>\n",
       "      <td>70.049998</td>\n",
       "      <td>7.580282</td>\n",
       "      <td>268.035911</td>\n",
       "      <td>187.482678</td>\n",
       "      <td>259.638998</td>\n",
       "      <td>39.937200</td>\n",
       "      <td>331.314334</td>\n",
       "      <td>393.937025</td>\n",
       "      <td>8.662273</td>\n",
       "      <td>17.286378</td>\n",
       "      <td>0.394650</td>\n",
       "    </tr>\n",
       "    <tr>\n",
       "      <th>min</th>\n",
       "      <td>0.100000</td>\n",
       "      <td>647.000000</td>\n",
       "      <td>7.000000</td>\n",
       "      <td>0.100000</td>\n",
       "      <td>383.000000</td>\n",
       "      <td>2.000000</td>\n",
       "      <td>322.000000</td>\n",
       "      <td>2.000000</td>\n",
       "      <td>657.000000</td>\n",
       "      <td>253.000000</td>\n",
       "      <td>0.300000</td>\n",
       "      <td>9.200000</td>\n",
       "      <td>0.198800</td>\n",
       "    </tr>\n",
       "    <tr>\n",
       "      <th>25%</th>\n",
       "      <td>1.300000</td>\n",
       "      <td>932.000000</td>\n",
       "      <td>218.607666</td>\n",
       "      <td>4.700000</td>\n",
       "      <td>749.000000</td>\n",
       "      <td>105.000000</td>\n",
       "      <td>672.000000</td>\n",
       "      <td>82.000000</td>\n",
       "      <td>1305.000000</td>\n",
       "      <td>737.000000</td>\n",
       "      <td>13.100000</td>\n",
       "      <td>35.500000</td>\n",
       "      <td>0.816700</td>\n",
       "    </tr>\n",
       "    <tr>\n",
       "      <th>50%</th>\n",
       "      <td>2.168604</td>\n",
       "      <td>1061.000000</td>\n",
       "      <td>218.607666</td>\n",
       "      <td>8.600000</td>\n",
       "      <td>925.000000</td>\n",
       "      <td>221.000000</td>\n",
       "      <td>818.000000</td>\n",
       "      <td>106.251831</td>\n",
       "      <td>1508.000000</td>\n",
       "      <td>962.000000</td>\n",
       "      <td>19.300000</td>\n",
       "      <td>49.400000</td>\n",
       "      <td>1.046800</td>\n",
       "    </tr>\n",
       "    <tr>\n",
       "      <th>75%</th>\n",
       "      <td>2.600000</td>\n",
       "      <td>1234.000000</td>\n",
       "      <td>218.607666</td>\n",
       "      <td>14.400000</td>\n",
       "      <td>1130.000000</td>\n",
       "      <td>255.000000</td>\n",
       "      <td>984.000000</td>\n",
       "      <td>124.000000</td>\n",
       "      <td>1707.000000</td>\n",
       "      <td>1272.000000</td>\n",
       "      <td>25.400000</td>\n",
       "      <td>62.100000</td>\n",
       "      <td>1.371300</td>\n",
       "    </tr>\n",
       "    <tr>\n",
       "      <th>max</th>\n",
       "      <td>11.900000</td>\n",
       "      <td>2040.000000</td>\n",
       "      <td>1189.000000</td>\n",
       "      <td>63.700000</td>\n",
       "      <td>2214.000000</td>\n",
       "      <td>1479.000000</td>\n",
       "      <td>2683.000000</td>\n",
       "      <td>333.000000</td>\n",
       "      <td>2775.000000</td>\n",
       "      <td>2523.000000</td>\n",
       "      <td>44.600000</td>\n",
       "      <td>88.700000</td>\n",
       "      <td>2.231000</td>\n",
       "    </tr>\n",
       "  </tbody>\n",
       "</table>\n",
       "</div>"
      ],
      "text/plain": [
       "             co_gt   pt08.s1_co      nmhc_gt      c6h6_gt  pt08.s2_nmhc  \\\n",
       "count  7709.000000  7709.000000  7709.000000  7709.000000   7709.000000   \n",
       "mean      2.168604  1098.303412   218.607666    10.458205    953.579453   \n",
       "std       1.301677   219.938457    70.049998     7.580282    268.035911   \n",
       "min       0.100000   647.000000     7.000000     0.100000    383.000000   \n",
       "25%       1.300000   932.000000   218.607666     4.700000    749.000000   \n",
       "50%       2.168604  1061.000000   218.607666     8.600000    925.000000   \n",
       "75%       2.600000  1234.000000   218.607666    14.400000   1130.000000   \n",
       "max      11.900000  2040.000000  1189.000000    63.700000   2214.000000   \n",
       "\n",
       "            nox_gt  pt08.s3_nox       no2_gt  pt08.s4_no2   pt08.s5_o3  \\\n",
       "count  7709.000000  7709.000000  7709.000000  7709.000000  7709.000000   \n",
       "mean    232.360072   848.762615   106.251831  1507.352834  1024.200026   \n",
       "std     187.482678   259.638998    39.937200   331.314334   393.937025   \n",
       "min       2.000000   322.000000     2.000000   657.000000   253.000000   \n",
       "25%     105.000000   672.000000    82.000000  1305.000000   737.000000   \n",
       "50%     221.000000   818.000000   106.251831  1508.000000   962.000000   \n",
       "75%     255.000000   984.000000   124.000000  1707.000000  1272.000000   \n",
       "max    1479.000000  2683.000000   333.000000  2775.000000  2523.000000   \n",
       "\n",
       "                 t           rh           ah  \n",
       "count  7709.000000  7709.000000  7709.000000  \n",
       "mean     19.476041    48.969244     1.082099  \n",
       "std       8.662273    17.286378     0.394650  \n",
       "min       0.300000     9.200000     0.198800  \n",
       "25%      13.100000    35.500000     0.816700  \n",
       "50%      19.300000    49.400000     1.046800  \n",
       "75%      25.400000    62.100000     1.371300  \n",
       "max      44.600000    88.700000     2.231000  "
      ]
     },
     "execution_count": 82,
     "metadata": {},
     "output_type": "execute_result"
    }
   ],
   "source": [
    "nan_df.fillna(nan_df.mean(numeric_only=True)).describe()"
   ]
  },
  {
   "cell_type": "markdown",
   "id": "8a6e5fcc",
   "metadata": {},
   "source": [
    "### Median:"
   ]
  },
  {
   "cell_type": "code",
   "execution_count": 83,
   "id": "b83676ac",
   "metadata": {
    "collapsed": true
   },
   "outputs": [
    {
     "data": {
      "text/html": [
       "<div>\n",
       "<style scoped>\n",
       "    .dataframe tbody tr th:only-of-type {\n",
       "        vertical-align: middle;\n",
       "    }\n",
       "\n",
       "    .dataframe tbody tr th {\n",
       "        vertical-align: top;\n",
       "    }\n",
       "\n",
       "    .dataframe thead th {\n",
       "        text-align: right;\n",
       "    }\n",
       "</style>\n",
       "<table border=\"1\" class=\"dataframe\">\n",
       "  <thead>\n",
       "    <tr style=\"text-align: right;\">\n",
       "      <th></th>\n",
       "      <th>co_gt</th>\n",
       "      <th>pt08.s1_co</th>\n",
       "      <th>nmhc_gt</th>\n",
       "      <th>c6h6_gt</th>\n",
       "      <th>pt08.s2_nmhc</th>\n",
       "      <th>nox_gt</th>\n",
       "      <th>pt08.s3_nox</th>\n",
       "      <th>no2_gt</th>\n",
       "      <th>pt08.s4_no2</th>\n",
       "      <th>pt08.s5_o3</th>\n",
       "      <th>t</th>\n",
       "      <th>rh</th>\n",
       "      <th>ah</th>\n",
       "    </tr>\n",
       "  </thead>\n",
       "  <tbody>\n",
       "    <tr>\n",
       "      <th>count</th>\n",
       "      <td>7709.000000</td>\n",
       "      <td>7709.000000</td>\n",
       "      <td>7709.000000</td>\n",
       "      <td>7709.000000</td>\n",
       "      <td>7709.000000</td>\n",
       "      <td>7709.000000</td>\n",
       "      <td>7709.000000</td>\n",
       "      <td>7709.000000</td>\n",
       "      <td>7709.000000</td>\n",
       "      <td>7709.000000</td>\n",
       "      <td>7709.000000</td>\n",
       "      <td>7709.000000</td>\n",
       "      <td>7709.000000</td>\n",
       "    </tr>\n",
       "    <tr>\n",
       "      <th>mean</th>\n",
       "      <td>2.091192</td>\n",
       "      <td>1098.303412</td>\n",
       "      <td>153.469322</td>\n",
       "      <td>10.458205</td>\n",
       "      <td>953.579453</td>\n",
       "      <td>218.500065</td>\n",
       "      <td>848.762615</td>\n",
       "      <td>105.591257</td>\n",
       "      <td>1507.352834</td>\n",
       "      <td>1024.200026</td>\n",
       "      <td>19.476041</td>\n",
       "      <td>48.969244</td>\n",
       "      <td>1.082099</td>\n",
       "    </tr>\n",
       "    <tr>\n",
       "      <th>std</th>\n",
       "      <td>1.310309</td>\n",
       "      <td>219.938457</td>\n",
       "      <td>73.883364</td>\n",
       "      <td>7.580282</td>\n",
       "      <td>268.035911</td>\n",
       "      <td>189.486738</td>\n",
       "      <td>259.638998</td>\n",
       "      <td>39.958627</td>\n",
       "      <td>331.314334</td>\n",
       "      <td>393.937025</td>\n",
       "      <td>8.662273</td>\n",
       "      <td>17.286378</td>\n",
       "      <td>0.394650</td>\n",
       "    </tr>\n",
       "    <tr>\n",
       "      <th>min</th>\n",
       "      <td>0.100000</td>\n",
       "      <td>647.000000</td>\n",
       "      <td>7.000000</td>\n",
       "      <td>0.100000</td>\n",
       "      <td>383.000000</td>\n",
       "      <td>2.000000</td>\n",
       "      <td>322.000000</td>\n",
       "      <td>2.000000</td>\n",
       "      <td>657.000000</td>\n",
       "      <td>253.000000</td>\n",
       "      <td>0.300000</td>\n",
       "      <td>9.200000</td>\n",
       "      <td>0.198800</td>\n",
       "    </tr>\n",
       "    <tr>\n",
       "      <th>25%</th>\n",
       "      <td>1.300000</td>\n",
       "      <td>932.000000</td>\n",
       "      <td>145.000000</td>\n",
       "      <td>4.700000</td>\n",
       "      <td>749.000000</td>\n",
       "      <td>105.000000</td>\n",
       "      <td>672.000000</td>\n",
       "      <td>82.000000</td>\n",
       "      <td>1305.000000</td>\n",
       "      <td>737.000000</td>\n",
       "      <td>13.100000</td>\n",
       "      <td>35.500000</td>\n",
       "      <td>0.816700</td>\n",
       "    </tr>\n",
       "    <tr>\n",
       "      <th>50%</th>\n",
       "      <td>1.800000</td>\n",
       "      <td>1061.000000</td>\n",
       "      <td>145.000000</td>\n",
       "      <td>8.600000</td>\n",
       "      <td>925.000000</td>\n",
       "      <td>164.000000</td>\n",
       "      <td>818.000000</td>\n",
       "      <td>103.000000</td>\n",
       "      <td>1508.000000</td>\n",
       "      <td>962.000000</td>\n",
       "      <td>19.300000</td>\n",
       "      <td>49.400000</td>\n",
       "      <td>1.046800</td>\n",
       "    </tr>\n",
       "    <tr>\n",
       "      <th>75%</th>\n",
       "      <td>2.600000</td>\n",
       "      <td>1234.000000</td>\n",
       "      <td>145.000000</td>\n",
       "      <td>14.400000</td>\n",
       "      <td>1130.000000</td>\n",
       "      <td>255.000000</td>\n",
       "      <td>984.000000</td>\n",
       "      <td>124.000000</td>\n",
       "      <td>1707.000000</td>\n",
       "      <td>1272.000000</td>\n",
       "      <td>25.400000</td>\n",
       "      <td>62.100000</td>\n",
       "      <td>1.371300</td>\n",
       "    </tr>\n",
       "    <tr>\n",
       "      <th>max</th>\n",
       "      <td>11.900000</td>\n",
       "      <td>2040.000000</td>\n",
       "      <td>1189.000000</td>\n",
       "      <td>63.700000</td>\n",
       "      <td>2214.000000</td>\n",
       "      <td>1479.000000</td>\n",
       "      <td>2683.000000</td>\n",
       "      <td>333.000000</td>\n",
       "      <td>2775.000000</td>\n",
       "      <td>2523.000000</td>\n",
       "      <td>44.600000</td>\n",
       "      <td>88.700000</td>\n",
       "      <td>2.231000</td>\n",
       "    </tr>\n",
       "  </tbody>\n",
       "</table>\n",
       "</div>"
      ],
      "text/plain": [
       "             co_gt   pt08.s1_co      nmhc_gt      c6h6_gt  pt08.s2_nmhc  \\\n",
       "count  7709.000000  7709.000000  7709.000000  7709.000000   7709.000000   \n",
       "mean      2.091192  1098.303412   153.469322    10.458205    953.579453   \n",
       "std       1.310309   219.938457    73.883364     7.580282    268.035911   \n",
       "min       0.100000   647.000000     7.000000     0.100000    383.000000   \n",
       "25%       1.300000   932.000000   145.000000     4.700000    749.000000   \n",
       "50%       1.800000  1061.000000   145.000000     8.600000    925.000000   \n",
       "75%       2.600000  1234.000000   145.000000    14.400000   1130.000000   \n",
       "max      11.900000  2040.000000  1189.000000    63.700000   2214.000000   \n",
       "\n",
       "            nox_gt  pt08.s3_nox       no2_gt  pt08.s4_no2   pt08.s5_o3  \\\n",
       "count  7709.000000  7709.000000  7709.000000  7709.000000  7709.000000   \n",
       "mean    218.500065   848.762615   105.591257  1507.352834  1024.200026   \n",
       "std     189.486738   259.638998    39.958627   331.314334   393.937025   \n",
       "min       2.000000   322.000000     2.000000   657.000000   253.000000   \n",
       "25%     105.000000   672.000000    82.000000  1305.000000   737.000000   \n",
       "50%     164.000000   818.000000   103.000000  1508.000000   962.000000   \n",
       "75%     255.000000   984.000000   124.000000  1707.000000  1272.000000   \n",
       "max    1479.000000  2683.000000   333.000000  2775.000000  2523.000000   \n",
       "\n",
       "                 t           rh           ah  \n",
       "count  7709.000000  7709.000000  7709.000000  \n",
       "mean     19.476041    48.969244     1.082099  \n",
       "std       8.662273    17.286378     0.394650  \n",
       "min       0.300000     9.200000     0.198800  \n",
       "25%      13.100000    35.500000     0.816700  \n",
       "50%      19.300000    49.400000     1.046800  \n",
       "75%      25.400000    62.100000     1.371300  \n",
       "max      44.600000    88.700000     2.231000  "
      ]
     },
     "execution_count": 83,
     "metadata": {},
     "output_type": "execute_result"
    }
   ],
   "source": [
    "nan_df.fillna(nan_df.median(numeric_only=True)).describe()"
   ]
  },
  {
   "cell_type": "markdown",
   "id": "e78bcefc",
   "metadata": {},
   "source": [
    "# Alternative Füll-Strategie + nmhc_gt droppen\n",
    "\n",
    "- NaN-Werte mit monatlichem Durchschnitt der jeweiligen Stunde auffüllen\n",
    "- falls dies nicht möglich ist (kein Durchschnitt für jew. Monat + Stunde verfügbar), dann Gesamtdurchschnitt der jew. Stunde\n",
    "- Basierend auf 'nan_df', hier als **'try_df'**\n",
    "- Neue Spalte 'hour'\n",
    "- Neue Spalte 'month'\n",
    "- 'nmhc_gt' wird entfernt"
   ]
  },
  {
   "cell_type": "code",
   "execution_count": 84,
   "id": "f0be4f40",
   "metadata": {},
   "outputs": [],
   "source": [
    "# copy of 'nan_df', named 'try_df'\n",
    "try_df = nan_df.copy()"
   ]
  },
  {
   "cell_type": "code",
   "execution_count": 85,
   "id": "4acdd0bc",
   "metadata": {},
   "outputs": [
    {
     "data": {
      "text/html": [
       "<div>\n",
       "<style scoped>\n",
       "    .dataframe tbody tr th:only-of-type {\n",
       "        vertical-align: middle;\n",
       "    }\n",
       "\n",
       "    .dataframe tbody tr th {\n",
       "        vertical-align: top;\n",
       "    }\n",
       "\n",
       "    .dataframe thead th {\n",
       "        text-align: right;\n",
       "    }\n",
       "</style>\n",
       "<table border=\"1\" class=\"dataframe\">\n",
       "  <thead>\n",
       "    <tr style=\"text-align: right;\">\n",
       "      <th></th>\n",
       "      <th>date</th>\n",
       "      <th>co_gt</th>\n",
       "      <th>pt08.s1_co</th>\n",
       "      <th>nmhc_gt</th>\n",
       "      <th>c6h6_gt</th>\n",
       "      <th>pt08.s2_nmhc</th>\n",
       "      <th>nox_gt</th>\n",
       "      <th>pt08.s3_nox</th>\n",
       "      <th>no2_gt</th>\n",
       "      <th>pt08.s4_no2</th>\n",
       "      <th>pt08.s5_o3</th>\n",
       "      <th>t</th>\n",
       "      <th>rh</th>\n",
       "      <th>ah</th>\n",
       "      <th>month</th>\n",
       "      <th>hour</th>\n",
       "    </tr>\n",
       "  </thead>\n",
       "  <tbody>\n",
       "    <tr>\n",
       "      <th>0</th>\n",
       "      <td>2004-03-10 18:00:00</td>\n",
       "      <td>2.6</td>\n",
       "      <td>1360</td>\n",
       "      <td>150.0</td>\n",
       "      <td>11.9</td>\n",
       "      <td>1046</td>\n",
       "      <td>166.0</td>\n",
       "      <td>1056</td>\n",
       "      <td>113.0</td>\n",
       "      <td>1692</td>\n",
       "      <td>1268</td>\n",
       "      <td>13.6</td>\n",
       "      <td>48.9</td>\n",
       "      <td>0.7578</td>\n",
       "      <td>3</td>\n",
       "      <td>18</td>\n",
       "    </tr>\n",
       "    <tr>\n",
       "      <th>1</th>\n",
       "      <td>2004-03-10 19:00:00</td>\n",
       "      <td>2.0</td>\n",
       "      <td>1292</td>\n",
       "      <td>112.0</td>\n",
       "      <td>9.4</td>\n",
       "      <td>955</td>\n",
       "      <td>103.0</td>\n",
       "      <td>1174</td>\n",
       "      <td>92.0</td>\n",
       "      <td>1559</td>\n",
       "      <td>972</td>\n",
       "      <td>13.3</td>\n",
       "      <td>47.7</td>\n",
       "      <td>0.7255</td>\n",
       "      <td>3</td>\n",
       "      <td>19</td>\n",
       "    </tr>\n",
       "    <tr>\n",
       "      <th>2</th>\n",
       "      <td>2004-03-10 20:00:00</td>\n",
       "      <td>2.2</td>\n",
       "      <td>1402</td>\n",
       "      <td>88.0</td>\n",
       "      <td>9.0</td>\n",
       "      <td>939</td>\n",
       "      <td>131.0</td>\n",
       "      <td>1140</td>\n",
       "      <td>114.0</td>\n",
       "      <td>1555</td>\n",
       "      <td>1074</td>\n",
       "      <td>11.9</td>\n",
       "      <td>54.0</td>\n",
       "      <td>0.7502</td>\n",
       "      <td>3</td>\n",
       "      <td>20</td>\n",
       "    </tr>\n",
       "  </tbody>\n",
       "</table>\n",
       "</div>"
      ],
      "text/plain": [
       "                 date  co_gt  pt08.s1_co  nmhc_gt  c6h6_gt  pt08.s2_nmhc  \\\n",
       "0 2004-03-10 18:00:00    2.6        1360    150.0     11.9          1046   \n",
       "1 2004-03-10 19:00:00    2.0        1292    112.0      9.4           955   \n",
       "2 2004-03-10 20:00:00    2.2        1402     88.0      9.0           939   \n",
       "\n",
       "   nox_gt  pt08.s3_nox  no2_gt  pt08.s4_no2  pt08.s5_o3     t    rh      ah  \\\n",
       "0   166.0         1056   113.0         1692        1268  13.6  48.9  0.7578   \n",
       "1   103.0         1174    92.0         1559         972  13.3  47.7  0.7255   \n",
       "2   131.0         1140   114.0         1555        1074  11.9  54.0  0.7502   \n",
       "\n",
       "   month  hour  \n",
       "0      3    18  \n",
       "1      3    19  \n",
       "2      3    20  "
      ]
     },
     "execution_count": 85,
     "metadata": {},
     "output_type": "execute_result"
    }
   ],
   "source": [
    "# creation of columns 'hour' and 'month'\n",
    "try_df['month']= try_df['date'].apply(lambda x: x.month)\n",
    "try_df['hour']= try_df['date'].apply(lambda x: x.hour)\n",
    "try_df.head(3)"
   ]
  },
  {
   "cell_type": "code",
   "execution_count": 86,
   "id": "fa35ce2a",
   "metadata": {
    "scrolled": false
   },
   "outputs": [],
   "source": [
    "# drop column 'nmhc_gt', it has 90% missing data\n",
    "try_df.drop(columns='nmhc_gt', inplace=True)"
   ]
  },
  {
   "cell_type": "code",
   "execution_count": 87,
   "id": "6d0a855f",
   "metadata": {},
   "outputs": [
    {
     "data": {
      "text/plain": [
       "date               0\n",
       "co_gt           1619\n",
       "pt08.s1_co         0\n",
       "c6h6_gt            0\n",
       "pt08.s2_nmhc       0\n",
       "nox_gt          1563\n",
       "pt08.s3_nox        0\n",
       "no2_gt          1566\n",
       "pt08.s4_no2        0\n",
       "pt08.s5_o3         0\n",
       "t                  0\n",
       "rh                 0\n",
       "ah                 0\n",
       "month              0\n",
       "hour               0\n",
       "dtype: int64"
      ]
     },
     "execution_count": 87,
     "metadata": {},
     "output_type": "execute_result"
    }
   ],
   "source": [
    "# check which columns need to be filled\n",
    "try_df.shape[0] - try_df.count()"
   ]
  },
  {
   "cell_type": "code",
   "execution_count": 88,
   "id": "93e9dddc",
   "metadata": {},
   "outputs": [],
   "source": [
    "# fill NaN values with monthly average of the respective hour\n",
    "try_df['co_gt']=try_df['co_gt'].fillna(try_df.groupby(['month','hour'])['co_gt'].transform('mean'))\n",
    "try_df['nox_gt']=try_df['nox_gt'].fillna(try_df.groupby(['month','hour'])['nox_gt'].transform('mean'))\n",
    "try_df['no2_gt']=try_df['no2_gt'].fillna(try_df.groupby(['month','hour'])['no2_gt'].transform('mean'))"
   ]
  },
  {
   "cell_type": "code",
   "execution_count": 89,
   "id": "c0fc251c",
   "metadata": {},
   "outputs": [
    {
     "data": {
      "text/plain": [
       "date              0\n",
       "co_gt            30\n",
       "pt08.s1_co        0\n",
       "c6h6_gt           0\n",
       "pt08.s2_nmhc      0\n",
       "nox_gt          292\n",
       "pt08.s3_nox       0\n",
       "no2_gt          292\n",
       "pt08.s4_no2       0\n",
       "pt08.s5_o3        0\n",
       "t                 0\n",
       "rh                0\n",
       "ah                0\n",
       "month             0\n",
       "hour              0\n",
       "dtype: int64"
      ]
     },
     "execution_count": 89,
     "metadata": {},
     "output_type": "execute_result"
    }
   ],
   "source": [
    "# count left out NaN values\n",
    "try_df.shape[0] - try_df.count()"
   ]
  },
  {
   "cell_type": "code",
   "execution_count": 90,
   "id": "aed743b4",
   "metadata": {},
   "outputs": [],
   "source": [
    "# fill left out NaN values with total average of respective hour\n",
    "try_df['co_gt']=try_df['co_gt'].fillna(try_df.groupby(['hour'])['co_gt'].transform('mean'))\n",
    "try_df['nox_gt']=try_df['nox_gt'].fillna(try_df.groupby(['hour'])['nox_gt'].transform('mean'))\n",
    "try_df['no2_gt']=try_df['no2_gt'].fillna(try_df.groupby(['hour'])['no2_gt'].transform('mean'))"
   ]
  },
  {
   "cell_type": "code",
   "execution_count": 91,
   "id": "ee56b5af",
   "metadata": {},
   "outputs": [
    {
     "data": {
      "text/plain": [
       "date            0\n",
       "co_gt           0\n",
       "pt08.s1_co      0\n",
       "c6h6_gt         0\n",
       "pt08.s2_nmhc    0\n",
       "nox_gt          0\n",
       "pt08.s3_nox     0\n",
       "no2_gt          0\n",
       "pt08.s4_no2     0\n",
       "pt08.s5_o3      0\n",
       "t               0\n",
       "rh              0\n",
       "ah              0\n",
       "month           0\n",
       "hour            0\n",
       "dtype: int64"
      ]
     },
     "execution_count": 91,
     "metadata": {},
     "output_type": "execute_result"
    }
   ],
   "source": [
    "# no more NaN values left\n",
    "try_df.shape[0] - try_df.count()"
   ]
  },
  {
   "cell_type": "code",
   "execution_count": 92,
   "id": "d0713a7b",
   "metadata": {},
   "outputs": [
    {
     "data": {
      "text/html": [
       "<div>\n",
       "<style scoped>\n",
       "    .dataframe tbody tr th:only-of-type {\n",
       "        vertical-align: middle;\n",
       "    }\n",
       "\n",
       "    .dataframe tbody tr th {\n",
       "        vertical-align: top;\n",
       "    }\n",
       "\n",
       "    .dataframe thead th {\n",
       "        text-align: right;\n",
       "    }\n",
       "</style>\n",
       "<table border=\"1\" class=\"dataframe\">\n",
       "  <thead>\n",
       "    <tr style=\"text-align: right;\">\n",
       "      <th></th>\n",
       "      <th>date</th>\n",
       "      <th>co_gt</th>\n",
       "      <th>pt08.s1_co</th>\n",
       "      <th>c6h6_gt</th>\n",
       "      <th>pt08.s2_nmhc</th>\n",
       "      <th>nox_gt</th>\n",
       "      <th>pt08.s3_nox</th>\n",
       "      <th>no2_gt</th>\n",
       "      <th>pt08.s4_no2</th>\n",
       "      <th>pt08.s5_o3</th>\n",
       "      <th>t</th>\n",
       "      <th>rh</th>\n",
       "      <th>ah</th>\n",
       "      <th>month</th>\n",
       "      <th>hour</th>\n",
       "    </tr>\n",
       "  </thead>\n",
       "  <tbody>\n",
       "    <tr>\n",
       "      <th>0</th>\n",
       "      <td>2004-03-10 18:00:00</td>\n",
       "      <td>2.6</td>\n",
       "      <td>1360</td>\n",
       "      <td>11.9</td>\n",
       "      <td>1046</td>\n",
       "      <td>166.0</td>\n",
       "      <td>1056</td>\n",
       "      <td>113.0</td>\n",
       "      <td>1692</td>\n",
       "      <td>1268</td>\n",
       "      <td>13.6</td>\n",
       "      <td>48.9</td>\n",
       "      <td>0.7578</td>\n",
       "      <td>3</td>\n",
       "      <td>18</td>\n",
       "    </tr>\n",
       "    <tr>\n",
       "      <th>1</th>\n",
       "      <td>2004-03-10 19:00:00</td>\n",
       "      <td>2.0</td>\n",
       "      <td>1292</td>\n",
       "      <td>9.4</td>\n",
       "      <td>955</td>\n",
       "      <td>103.0</td>\n",
       "      <td>1174</td>\n",
       "      <td>92.0</td>\n",
       "      <td>1559</td>\n",
       "      <td>972</td>\n",
       "      <td>13.3</td>\n",
       "      <td>47.7</td>\n",
       "      <td>0.7255</td>\n",
       "      <td>3</td>\n",
       "      <td>19</td>\n",
       "    </tr>\n",
       "    <tr>\n",
       "      <th>2</th>\n",
       "      <td>2004-03-10 20:00:00</td>\n",
       "      <td>2.2</td>\n",
       "      <td>1402</td>\n",
       "      <td>9.0</td>\n",
       "      <td>939</td>\n",
       "      <td>131.0</td>\n",
       "      <td>1140</td>\n",
       "      <td>114.0</td>\n",
       "      <td>1555</td>\n",
       "      <td>1074</td>\n",
       "      <td>11.9</td>\n",
       "      <td>54.0</td>\n",
       "      <td>0.7502</td>\n",
       "      <td>3</td>\n",
       "      <td>20</td>\n",
       "    </tr>\n",
       "    <tr>\n",
       "      <th>3</th>\n",
       "      <td>2004-03-10 21:00:00</td>\n",
       "      <td>2.2</td>\n",
       "      <td>1376</td>\n",
       "      <td>9.2</td>\n",
       "      <td>948</td>\n",
       "      <td>172.0</td>\n",
       "      <td>1092</td>\n",
       "      <td>122.0</td>\n",
       "      <td>1584</td>\n",
       "      <td>1203</td>\n",
       "      <td>11.0</td>\n",
       "      <td>60.0</td>\n",
       "      <td>0.7867</td>\n",
       "      <td>3</td>\n",
       "      <td>21</td>\n",
       "    </tr>\n",
       "    <tr>\n",
       "      <th>4</th>\n",
       "      <td>2004-03-10 22:00:00</td>\n",
       "      <td>1.6</td>\n",
       "      <td>1272</td>\n",
       "      <td>6.5</td>\n",
       "      <td>836</td>\n",
       "      <td>131.0</td>\n",
       "      <td>1205</td>\n",
       "      <td>116.0</td>\n",
       "      <td>1490</td>\n",
       "      <td>1110</td>\n",
       "      <td>11.2</td>\n",
       "      <td>59.6</td>\n",
       "      <td>0.7888</td>\n",
       "      <td>3</td>\n",
       "      <td>22</td>\n",
       "    </tr>\n",
       "  </tbody>\n",
       "</table>\n",
       "</div>"
      ],
      "text/plain": [
       "                 date  co_gt  pt08.s1_co  c6h6_gt  pt08.s2_nmhc  nox_gt  \\\n",
       "0 2004-03-10 18:00:00    2.6        1360     11.9          1046   166.0   \n",
       "1 2004-03-10 19:00:00    2.0        1292      9.4           955   103.0   \n",
       "2 2004-03-10 20:00:00    2.2        1402      9.0           939   131.0   \n",
       "3 2004-03-10 21:00:00    2.2        1376      9.2           948   172.0   \n",
       "4 2004-03-10 22:00:00    1.6        1272      6.5           836   131.0   \n",
       "\n",
       "   pt08.s3_nox  no2_gt  pt08.s4_no2  pt08.s5_o3     t    rh      ah  month  \\\n",
       "0         1056   113.0         1692        1268  13.6  48.9  0.7578      3   \n",
       "1         1174    92.0         1559         972  13.3  47.7  0.7255      3   \n",
       "2         1140   114.0         1555        1074  11.9  54.0  0.7502      3   \n",
       "3         1092   122.0         1584        1203  11.0  60.0  0.7867      3   \n",
       "4         1205   116.0         1490        1110  11.2  59.6  0.7888      3   \n",
       "\n",
       "   hour  \n",
       "0    18  \n",
       "1    19  \n",
       "2    20  \n",
       "3    21  \n",
       "4    22  "
      ]
     },
     "execution_count": 92,
     "metadata": {},
     "output_type": "execute_result"
    }
   ],
   "source": [
    "try_df.head()\n"
   ]
  },
  {
   "cell_type": "code",
   "execution_count": null,
   "id": "85348919",
   "metadata": {},
   "outputs": [],
   "source": []
  }
 ],
 "metadata": {
  "kernelspec": {
   "display_name": "Python 3 (ipykernel)",
   "language": "python",
   "name": "python3"
  },
  "language_info": {
   "codemirror_mode": {
    "name": "ipython",
    "version": 3
   },
   "file_extension": ".py",
   "mimetype": "text/x-python",
   "name": "python",
   "nbconvert_exporter": "python",
   "pygments_lexer": "ipython3",
   "version": "3.9.7"
  }
 },
 "nbformat": 4,
 "nbformat_minor": 5
}
