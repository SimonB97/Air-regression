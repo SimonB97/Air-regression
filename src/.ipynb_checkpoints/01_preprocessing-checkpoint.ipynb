{
 "cells": [
  {
   "cell_type": "code",
   "execution_count": 1,
   "id": "d8a7e37b",
   "metadata": {},
   "outputs": [],
   "source": [
    "# imports\n",
    "import pandas as pd"
   ]
  },
  {
   "cell_type": "code",
   "execution_count": 2,
   "id": "5e083356",
   "metadata": {},
   "outputs": [],
   "source": [
    "# read in the dataframe\n",
    "path = 'csv/0_AirQuality.csv'\n",
    "df = pd.read_csv(path, sep=';')"
   ]
  },
  {
   "cell_type": "markdown",
   "id": "d9c80c65",
   "metadata": {},
   "source": [
    "# Cleaning der Daten"
   ]
  },
  {
   "cell_type": "code",
   "execution_count": 3,
   "id": "861fcffa",
   "metadata": {},
   "outputs": [],
   "source": [
    "# Remove columns that only contains NaN/None/Null-values\n",
    "df.dropna(axis = \"columns\", how = \"all\", inplace = True)"
   ]
  },
  {
   "cell_type": "code",
   "execution_count": 4,
   "id": "62ee87c7",
   "metadata": {},
   "outputs": [
    {
     "data": {
      "text/html": [
       "<div>\n",
       "<style scoped>\n",
       "    .dataframe tbody tr th:only-of-type {\n",
       "        vertical-align: middle;\n",
       "    }\n",
       "\n",
       "    .dataframe tbody tr th {\n",
       "        vertical-align: top;\n",
       "    }\n",
       "\n",
       "    .dataframe thead th {\n",
       "        text-align: right;\n",
       "    }\n",
       "</style>\n",
       "<table border=\"1\" class=\"dataframe\">\n",
       "  <thead>\n",
       "    <tr style=\"text-align: right;\">\n",
       "      <th></th>\n",
       "      <th>Date</th>\n",
       "      <th>Time</th>\n",
       "      <th>CO(GT)</th>\n",
       "      <th>PT08.S1(CO)</th>\n",
       "      <th>NMHC(GT)</th>\n",
       "      <th>C6H6(GT)</th>\n",
       "      <th>PT08.S2(NMHC)</th>\n",
       "      <th>NOx(GT)</th>\n",
       "      <th>PT08.S3(NOx)</th>\n",
       "      <th>NO2(GT)</th>\n",
       "      <th>PT08.S4(NO2)</th>\n",
       "      <th>PT08.S5(O3)</th>\n",
       "      <th>T</th>\n",
       "      <th>RH</th>\n",
       "      <th>AH</th>\n",
       "    </tr>\n",
       "  </thead>\n",
       "  <tbody>\n",
       "    <tr>\n",
       "      <th>0</th>\n",
       "      <td>10/03/2004</td>\n",
       "      <td>18.00.00</td>\n",
       "      <td>2.6</td>\n",
       "      <td>1360</td>\n",
       "      <td>150</td>\n",
       "      <td>11.9</td>\n",
       "      <td>1046</td>\n",
       "      <td>166</td>\n",
       "      <td>1056</td>\n",
       "      <td>113</td>\n",
       "      <td>1692</td>\n",
       "      <td>1268</td>\n",
       "      <td>13.6</td>\n",
       "      <td>48.9</td>\n",
       "      <td>0.7578</td>\n",
       "    </tr>\n",
       "    <tr>\n",
       "      <th>1</th>\n",
       "      <td>10/03/2004</td>\n",
       "      <td>19.00.00</td>\n",
       "      <td>2.0</td>\n",
       "      <td>1292</td>\n",
       "      <td>112</td>\n",
       "      <td>9.4</td>\n",
       "      <td>955</td>\n",
       "      <td>103</td>\n",
       "      <td>1174</td>\n",
       "      <td>92</td>\n",
       "      <td>1559</td>\n",
       "      <td>972</td>\n",
       "      <td>13.3</td>\n",
       "      <td>47.7</td>\n",
       "      <td>0.7255</td>\n",
       "    </tr>\n",
       "    <tr>\n",
       "      <th>2</th>\n",
       "      <td>10/03/2004</td>\n",
       "      <td>20.00.00</td>\n",
       "      <td>2.2</td>\n",
       "      <td>1402</td>\n",
       "      <td>88</td>\n",
       "      <td>9.0</td>\n",
       "      <td>939</td>\n",
       "      <td>131</td>\n",
       "      <td>1140</td>\n",
       "      <td>114</td>\n",
       "      <td>1555</td>\n",
       "      <td>1074</td>\n",
       "      <td>11.9</td>\n",
       "      <td>54.0</td>\n",
       "      <td>0.7502</td>\n",
       "    </tr>\n",
       "    <tr>\n",
       "      <th>3</th>\n",
       "      <td>10/03/2004</td>\n",
       "      <td>21.00.00</td>\n",
       "      <td>2.2</td>\n",
       "      <td>1376</td>\n",
       "      <td>80</td>\n",
       "      <td>9.2</td>\n",
       "      <td>948</td>\n",
       "      <td>172</td>\n",
       "      <td>1092</td>\n",
       "      <td>122</td>\n",
       "      <td>1584</td>\n",
       "      <td>1203</td>\n",
       "      <td>11.0</td>\n",
       "      <td>60.0</td>\n",
       "      <td>0.7867</td>\n",
       "    </tr>\n",
       "    <tr>\n",
       "      <th>4</th>\n",
       "      <td>10/03/2004</td>\n",
       "      <td>22.00.00</td>\n",
       "      <td>1.6</td>\n",
       "      <td>1272</td>\n",
       "      <td>51</td>\n",
       "      <td>6.5</td>\n",
       "      <td>836</td>\n",
       "      <td>131</td>\n",
       "      <td>1205</td>\n",
       "      <td>116</td>\n",
       "      <td>1490</td>\n",
       "      <td>1110</td>\n",
       "      <td>11.2</td>\n",
       "      <td>59.6</td>\n",
       "      <td>0.7888</td>\n",
       "    </tr>\n",
       "    <tr>\n",
       "      <th>...</th>\n",
       "      <td>...</td>\n",
       "      <td>...</td>\n",
       "      <td>...</td>\n",
       "      <td>...</td>\n",
       "      <td>...</td>\n",
       "      <td>...</td>\n",
       "      <td>...</td>\n",
       "      <td>...</td>\n",
       "      <td>...</td>\n",
       "      <td>...</td>\n",
       "      <td>...</td>\n",
       "      <td>...</td>\n",
       "      <td>...</td>\n",
       "      <td>...</td>\n",
       "      <td>...</td>\n",
       "    </tr>\n",
       "    <tr>\n",
       "      <th>7993</th>\n",
       "      <td>06/02/2005</td>\n",
       "      <td>19.00.00</td>\n",
       "      <td>1.6</td>\n",
       "      <td>985</td>\n",
       "      <td>-200</td>\n",
       "      <td>4.5</td>\n",
       "      <td>736</td>\n",
       "      <td>227</td>\n",
       "      <td>891</td>\n",
       "      <td>165</td>\n",
       "      <td>875</td>\n",
       "      <td>774</td>\n",
       "      <td>6.0</td>\n",
       "      <td>38.0</td>\n",
       "      <td>0.3584</td>\n",
       "    </tr>\n",
       "    <tr>\n",
       "      <th>7994</th>\n",
       "      <td>06/02/2005</td>\n",
       "      <td>20.00.00</td>\n",
       "      <td>1.8</td>\n",
       "      <td>1002</td>\n",
       "      <td>-200</td>\n",
       "      <td>5.3</td>\n",
       "      <td>780</td>\n",
       "      <td>252</td>\n",
       "      <td>855</td>\n",
       "      <td>179</td>\n",
       "      <td>892</td>\n",
       "      <td>857</td>\n",
       "      <td>5.8</td>\n",
       "      <td>36.4</td>\n",
       "      <td>0.3385</td>\n",
       "    </tr>\n",
       "    <tr>\n",
       "      <th>7995</th>\n",
       "      <td>06/02/2005</td>\n",
       "      <td>21.00.00</td>\n",
       "      <td>1.4</td>\n",
       "      <td>938</td>\n",
       "      <td>-200</td>\n",
       "      <td>3.7</td>\n",
       "      <td>692</td>\n",
       "      <td>193</td>\n",
       "      <td>937</td>\n",
       "      <td>149</td>\n",
       "      <td>805</td>\n",
       "      <td>737</td>\n",
       "      <td>5.8</td>\n",
       "      <td>35.4</td>\n",
       "      <td>0.3286</td>\n",
       "    </tr>\n",
       "    <tr>\n",
       "      <th>7996</th>\n",
       "      <td>06/02/2005</td>\n",
       "      <td>22.00.00</td>\n",
       "      <td>1.1</td>\n",
       "      <td>896</td>\n",
       "      <td>-200</td>\n",
       "      <td>2.6</td>\n",
       "      <td>627</td>\n",
       "      <td>158</td>\n",
       "      <td>1033</td>\n",
       "      <td>126</td>\n",
       "      <td>782</td>\n",
       "      <td>610</td>\n",
       "      <td>5.4</td>\n",
       "      <td>36.6</td>\n",
       "      <td>0.3304</td>\n",
       "    </tr>\n",
       "    <tr>\n",
       "      <th>7997</th>\n",
       "      <td>06/02/2005</td>\n",
       "      <td>23.00.00</td>\n",
       "      <td>1.0</td>\n",
       "      <td>907</td>\n",
       "      <td>-200</td>\n",
       "      <td>2.4</td>\n",
       "      <td>614</td>\n",
       "      <td>150</td>\n",
       "      <td>1052</td>\n",
       "      <td>120</td>\n",
       "      <td>782</td>\n",
       "      <td>627</td>\n",
       "      <td>5.1</td>\n",
       "      <td>37.9</td>\n",
       "      <td>0.3358</td>\n",
       "    </tr>\n",
       "  </tbody>\n",
       "</table>\n",
       "<p>7998 rows × 15 columns</p>\n",
       "</div>"
      ],
      "text/plain": [
       "            Date      Time  CO(GT)  PT08.S1(CO)  NMHC(GT)  C6H6(GT)  \\\n",
       "0     10/03/2004  18.00.00     2.6         1360       150      11.9   \n",
       "1     10/03/2004  19.00.00     2.0         1292       112       9.4   \n",
       "2     10/03/2004  20.00.00     2.2         1402        88       9.0   \n",
       "3     10/03/2004  21.00.00     2.2         1376        80       9.2   \n",
       "4     10/03/2004  22.00.00     1.6         1272        51       6.5   \n",
       "...          ...       ...     ...          ...       ...       ...   \n",
       "7993  06/02/2005  19.00.00     1.6          985      -200       4.5   \n",
       "7994  06/02/2005  20.00.00     1.8         1002      -200       5.3   \n",
       "7995  06/02/2005  21.00.00     1.4          938      -200       3.7   \n",
       "7996  06/02/2005  22.00.00     1.1          896      -200       2.6   \n",
       "7997  06/02/2005  23.00.00     1.0          907      -200       2.4   \n",
       "\n",
       "      PT08.S2(NMHC)  NOx(GT)  PT08.S3(NOx)  NO2(GT)  PT08.S4(NO2)  \\\n",
       "0              1046      166          1056      113          1692   \n",
       "1               955      103          1174       92          1559   \n",
       "2               939      131          1140      114          1555   \n",
       "3               948      172          1092      122          1584   \n",
       "4               836      131          1205      116          1490   \n",
       "...             ...      ...           ...      ...           ...   \n",
       "7993            736      227           891      165           875   \n",
       "7994            780      252           855      179           892   \n",
       "7995            692      193           937      149           805   \n",
       "7996            627      158          1033      126           782   \n",
       "7997            614      150          1052      120           782   \n",
       "\n",
       "      PT08.S5(O3)     T    RH      AH  \n",
       "0            1268  13.6  48.9  0.7578  \n",
       "1             972  13.3  47.7  0.7255  \n",
       "2            1074  11.9  54.0  0.7502  \n",
       "3            1203  11.0  60.0  0.7867  \n",
       "4            1110  11.2  59.6  0.7888  \n",
       "...           ...   ...   ...     ...  \n",
       "7993          774   6.0  38.0  0.3584  \n",
       "7994          857   5.8  36.4  0.3385  \n",
       "7995          737   5.8  35.4  0.3286  \n",
       "7996          610   5.4  36.6  0.3304  \n",
       "7997          627   5.1  37.9  0.3358  \n",
       "\n",
       "[7998 rows x 15 columns]"
      ]
     },
     "execution_count": 4,
     "metadata": {},
     "output_type": "execute_result"
    }
   ],
   "source": [
    "df"
   ]
  },
  {
   "cell_type": "markdown",
   "id": "e5cacbf3",
   "metadata": {},
   "source": [
    "## Korrektur des Datums"
   ]
  },
  {
   "cell_type": "code",
   "execution_count": 5,
   "id": "de6190a1",
   "metadata": {},
   "outputs": [],
   "source": [
    "df[\"Date\"] = df[\"Date\"] + \" \"+ df[\"Time\"]\n",
    "df.drop(columns= [\"Time\"], inplace = True)\n",
    "df[\"Date\"] = pd.to_datetime(df[\"Date\"], format = \"%d/%m/%Y %H.%M.%S\")\n"
   ]
  },
  {
   "cell_type": "code",
   "execution_count": 6,
   "id": "e01c5b08",
   "metadata": {
    "scrolled": true
   },
   "outputs": [
    {
     "data": {
      "text/html": [
       "<div>\n",
       "<style scoped>\n",
       "    .dataframe tbody tr th:only-of-type {\n",
       "        vertical-align: middle;\n",
       "    }\n",
       "\n",
       "    .dataframe tbody tr th {\n",
       "        vertical-align: top;\n",
       "    }\n",
       "\n",
       "    .dataframe thead th {\n",
       "        text-align: right;\n",
       "    }\n",
       "</style>\n",
       "<table border=\"1\" class=\"dataframe\">\n",
       "  <thead>\n",
       "    <tr style=\"text-align: right;\">\n",
       "      <th></th>\n",
       "      <th>Date</th>\n",
       "      <th>CO(GT)</th>\n",
       "      <th>PT08.S1(CO)</th>\n",
       "      <th>NMHC(GT)</th>\n",
       "      <th>C6H6(GT)</th>\n",
       "      <th>PT08.S2(NMHC)</th>\n",
       "      <th>NOx(GT)</th>\n",
       "      <th>PT08.S3(NOx)</th>\n",
       "      <th>NO2(GT)</th>\n",
       "      <th>PT08.S4(NO2)</th>\n",
       "      <th>PT08.S5(O3)</th>\n",
       "      <th>T</th>\n",
       "      <th>RH</th>\n",
       "      <th>AH</th>\n",
       "    </tr>\n",
       "  </thead>\n",
       "  <tbody>\n",
       "    <tr>\n",
       "      <th>0</th>\n",
       "      <td>2004-03-10 18:00:00</td>\n",
       "      <td>2.6</td>\n",
       "      <td>1360</td>\n",
       "      <td>150</td>\n",
       "      <td>11.9</td>\n",
       "      <td>1046</td>\n",
       "      <td>166</td>\n",
       "      <td>1056</td>\n",
       "      <td>113</td>\n",
       "      <td>1692</td>\n",
       "      <td>1268</td>\n",
       "      <td>13.6</td>\n",
       "      <td>48.9</td>\n",
       "      <td>0.7578</td>\n",
       "    </tr>\n",
       "    <tr>\n",
       "      <th>1</th>\n",
       "      <td>2004-03-10 19:00:00</td>\n",
       "      <td>2.0</td>\n",
       "      <td>1292</td>\n",
       "      <td>112</td>\n",
       "      <td>9.4</td>\n",
       "      <td>955</td>\n",
       "      <td>103</td>\n",
       "      <td>1174</td>\n",
       "      <td>92</td>\n",
       "      <td>1559</td>\n",
       "      <td>972</td>\n",
       "      <td>13.3</td>\n",
       "      <td>47.7</td>\n",
       "      <td>0.7255</td>\n",
       "    </tr>\n",
       "    <tr>\n",
       "      <th>2</th>\n",
       "      <td>2004-03-10 20:00:00</td>\n",
       "      <td>2.2</td>\n",
       "      <td>1402</td>\n",
       "      <td>88</td>\n",
       "      <td>9.0</td>\n",
       "      <td>939</td>\n",
       "      <td>131</td>\n",
       "      <td>1140</td>\n",
       "      <td>114</td>\n",
       "      <td>1555</td>\n",
       "      <td>1074</td>\n",
       "      <td>11.9</td>\n",
       "      <td>54.0</td>\n",
       "      <td>0.7502</td>\n",
       "    </tr>\n",
       "    <tr>\n",
       "      <th>3</th>\n",
       "      <td>2004-03-10 21:00:00</td>\n",
       "      <td>2.2</td>\n",
       "      <td>1376</td>\n",
       "      <td>80</td>\n",
       "      <td>9.2</td>\n",
       "      <td>948</td>\n",
       "      <td>172</td>\n",
       "      <td>1092</td>\n",
       "      <td>122</td>\n",
       "      <td>1584</td>\n",
       "      <td>1203</td>\n",
       "      <td>11.0</td>\n",
       "      <td>60.0</td>\n",
       "      <td>0.7867</td>\n",
       "    </tr>\n",
       "    <tr>\n",
       "      <th>4</th>\n",
       "      <td>2004-03-10 22:00:00</td>\n",
       "      <td>1.6</td>\n",
       "      <td>1272</td>\n",
       "      <td>51</td>\n",
       "      <td>6.5</td>\n",
       "      <td>836</td>\n",
       "      <td>131</td>\n",
       "      <td>1205</td>\n",
       "      <td>116</td>\n",
       "      <td>1490</td>\n",
       "      <td>1110</td>\n",
       "      <td>11.2</td>\n",
       "      <td>59.6</td>\n",
       "      <td>0.7888</td>\n",
       "    </tr>\n",
       "    <tr>\n",
       "      <th>...</th>\n",
       "      <td>...</td>\n",
       "      <td>...</td>\n",
       "      <td>...</td>\n",
       "      <td>...</td>\n",
       "      <td>...</td>\n",
       "      <td>...</td>\n",
       "      <td>...</td>\n",
       "      <td>...</td>\n",
       "      <td>...</td>\n",
       "      <td>...</td>\n",
       "      <td>...</td>\n",
       "      <td>...</td>\n",
       "      <td>...</td>\n",
       "      <td>...</td>\n",
       "    </tr>\n",
       "    <tr>\n",
       "      <th>7993</th>\n",
       "      <td>2005-02-06 19:00:00</td>\n",
       "      <td>1.6</td>\n",
       "      <td>985</td>\n",
       "      <td>-200</td>\n",
       "      <td>4.5</td>\n",
       "      <td>736</td>\n",
       "      <td>227</td>\n",
       "      <td>891</td>\n",
       "      <td>165</td>\n",
       "      <td>875</td>\n",
       "      <td>774</td>\n",
       "      <td>6.0</td>\n",
       "      <td>38.0</td>\n",
       "      <td>0.3584</td>\n",
       "    </tr>\n",
       "    <tr>\n",
       "      <th>7994</th>\n",
       "      <td>2005-02-06 20:00:00</td>\n",
       "      <td>1.8</td>\n",
       "      <td>1002</td>\n",
       "      <td>-200</td>\n",
       "      <td>5.3</td>\n",
       "      <td>780</td>\n",
       "      <td>252</td>\n",
       "      <td>855</td>\n",
       "      <td>179</td>\n",
       "      <td>892</td>\n",
       "      <td>857</td>\n",
       "      <td>5.8</td>\n",
       "      <td>36.4</td>\n",
       "      <td>0.3385</td>\n",
       "    </tr>\n",
       "    <tr>\n",
       "      <th>7995</th>\n",
       "      <td>2005-02-06 21:00:00</td>\n",
       "      <td>1.4</td>\n",
       "      <td>938</td>\n",
       "      <td>-200</td>\n",
       "      <td>3.7</td>\n",
       "      <td>692</td>\n",
       "      <td>193</td>\n",
       "      <td>937</td>\n",
       "      <td>149</td>\n",
       "      <td>805</td>\n",
       "      <td>737</td>\n",
       "      <td>5.8</td>\n",
       "      <td>35.4</td>\n",
       "      <td>0.3286</td>\n",
       "    </tr>\n",
       "    <tr>\n",
       "      <th>7996</th>\n",
       "      <td>2005-02-06 22:00:00</td>\n",
       "      <td>1.1</td>\n",
       "      <td>896</td>\n",
       "      <td>-200</td>\n",
       "      <td>2.6</td>\n",
       "      <td>627</td>\n",
       "      <td>158</td>\n",
       "      <td>1033</td>\n",
       "      <td>126</td>\n",
       "      <td>782</td>\n",
       "      <td>610</td>\n",
       "      <td>5.4</td>\n",
       "      <td>36.6</td>\n",
       "      <td>0.3304</td>\n",
       "    </tr>\n",
       "    <tr>\n",
       "      <th>7997</th>\n",
       "      <td>2005-02-06 23:00:00</td>\n",
       "      <td>1.0</td>\n",
       "      <td>907</td>\n",
       "      <td>-200</td>\n",
       "      <td>2.4</td>\n",
       "      <td>614</td>\n",
       "      <td>150</td>\n",
       "      <td>1052</td>\n",
       "      <td>120</td>\n",
       "      <td>782</td>\n",
       "      <td>627</td>\n",
       "      <td>5.1</td>\n",
       "      <td>37.9</td>\n",
       "      <td>0.3358</td>\n",
       "    </tr>\n",
       "  </tbody>\n",
       "</table>\n",
       "<p>7998 rows × 14 columns</p>\n",
       "</div>"
      ],
      "text/plain": [
       "                    Date  CO(GT)  PT08.S1(CO)  NMHC(GT)  C6H6(GT)  \\\n",
       "0    2004-03-10 18:00:00     2.6         1360       150      11.9   \n",
       "1    2004-03-10 19:00:00     2.0         1292       112       9.4   \n",
       "2    2004-03-10 20:00:00     2.2         1402        88       9.0   \n",
       "3    2004-03-10 21:00:00     2.2         1376        80       9.2   \n",
       "4    2004-03-10 22:00:00     1.6         1272        51       6.5   \n",
       "...                  ...     ...          ...       ...       ...   \n",
       "7993 2005-02-06 19:00:00     1.6          985      -200       4.5   \n",
       "7994 2005-02-06 20:00:00     1.8         1002      -200       5.3   \n",
       "7995 2005-02-06 21:00:00     1.4          938      -200       3.7   \n",
       "7996 2005-02-06 22:00:00     1.1          896      -200       2.6   \n",
       "7997 2005-02-06 23:00:00     1.0          907      -200       2.4   \n",
       "\n",
       "      PT08.S2(NMHC)  NOx(GT)  PT08.S3(NOx)  NO2(GT)  PT08.S4(NO2)  \\\n",
       "0              1046      166          1056      113          1692   \n",
       "1               955      103          1174       92          1559   \n",
       "2               939      131          1140      114          1555   \n",
       "3               948      172          1092      122          1584   \n",
       "4               836      131          1205      116          1490   \n",
       "...             ...      ...           ...      ...           ...   \n",
       "7993            736      227           891      165           875   \n",
       "7994            780      252           855      179           892   \n",
       "7995            692      193           937      149           805   \n",
       "7996            627      158          1033      126           782   \n",
       "7997            614      150          1052      120           782   \n",
       "\n",
       "      PT08.S5(O3)     T    RH      AH  \n",
       "0            1268  13.6  48.9  0.7578  \n",
       "1             972  13.3  47.7  0.7255  \n",
       "2            1074  11.9  54.0  0.7502  \n",
       "3            1203  11.0  60.0  0.7867  \n",
       "4            1110  11.2  59.6  0.7888  \n",
       "...           ...   ...   ...     ...  \n",
       "7993          774   6.0  38.0  0.3584  \n",
       "7994          857   5.8  36.4  0.3385  \n",
       "7995          737   5.8  35.4  0.3286  \n",
       "7996          610   5.4  36.6  0.3304  \n",
       "7997          627   5.1  37.9  0.3358  \n",
       "\n",
       "[7998 rows x 14 columns]"
      ]
     },
     "execution_count": 6,
     "metadata": {},
     "output_type": "execute_result"
    }
   ],
   "source": [
    "df"
   ]
  },
  {
   "cell_type": "code",
   "execution_count": 7,
   "id": "192c484e",
   "metadata": {},
   "outputs": [
    {
     "data": {
      "text/plain": [
       "dtype('<M8[ns]')"
      ]
     },
     "execution_count": 7,
     "metadata": {},
     "output_type": "execute_result"
    }
   ],
   "source": [
    "df.dtypes.Date"
   ]
  },
  {
   "cell_type": "markdown",
   "id": "024f15bb",
   "metadata": {},
   "source": [
    "## Anpassung der Spaltennamen"
   ]
  },
  {
   "cell_type": "code",
   "execution_count": 8,
   "id": "6aa5437f",
   "metadata": {},
   "outputs": [],
   "source": [
    "df.rename(columns = {\"CO(GT)\" : \"CO_GT\", \"PT08.S1(CO)\": \"PT08_S1_CO\", \"NMHC(GT)\": \"NMHC_GT\", \"C6H6(GT)\": \"C6H6_GT\", \"PT08.S2(NMHC)\": \"PT08_S2_NMHC\",\"NOx(GT)\":\"NOx_GT\",\"PT08.S3(NOx)\": \"PT08_S3_NOx\", \"NO2(GT)\": \"NO2_GT\", \"PT08.S4(NO2)\": \"PT08_S4_NO2\", \"PT08.S5(O3)\": \"PT08_S5_O3\"}, inplace = True)"
   ]
  },
  {
   "cell_type": "code",
   "execution_count": 9,
   "id": "19b00e1f",
   "metadata": {},
   "outputs": [],
   "source": [
    "df.columns = [x.lower() for x in df.columns]"
   ]
  },
  {
   "cell_type": "code",
   "execution_count": 10,
   "id": "8c51092c",
   "metadata": {
    "scrolled": false
   },
   "outputs": [
    {
     "data": {
      "text/html": [
       "<div>\n",
       "<style scoped>\n",
       "    .dataframe tbody tr th:only-of-type {\n",
       "        vertical-align: middle;\n",
       "    }\n",
       "\n",
       "    .dataframe tbody tr th {\n",
       "        vertical-align: top;\n",
       "    }\n",
       "\n",
       "    .dataframe thead th {\n",
       "        text-align: right;\n",
       "    }\n",
       "</style>\n",
       "<table border=\"1\" class=\"dataframe\">\n",
       "  <thead>\n",
       "    <tr style=\"text-align: right;\">\n",
       "      <th></th>\n",
       "      <th>date</th>\n",
       "      <th>co_gt</th>\n",
       "      <th>pt08_s1_co</th>\n",
       "      <th>nmhc_gt</th>\n",
       "      <th>c6h6_gt</th>\n",
       "      <th>pt08_s2_nmhc</th>\n",
       "      <th>nox_gt</th>\n",
       "      <th>pt08_s3_nox</th>\n",
       "      <th>no2_gt</th>\n",
       "      <th>pt08_s4_no2</th>\n",
       "      <th>pt08_s5_o3</th>\n",
       "      <th>t</th>\n",
       "      <th>rh</th>\n",
       "      <th>ah</th>\n",
       "    </tr>\n",
       "  </thead>\n",
       "  <tbody>\n",
       "    <tr>\n",
       "      <th>0</th>\n",
       "      <td>2004-03-10 18:00:00</td>\n",
       "      <td>2.6</td>\n",
       "      <td>1360</td>\n",
       "      <td>150</td>\n",
       "      <td>11.9</td>\n",
       "      <td>1046</td>\n",
       "      <td>166</td>\n",
       "      <td>1056</td>\n",
       "      <td>113</td>\n",
       "      <td>1692</td>\n",
       "      <td>1268</td>\n",
       "      <td>13.6</td>\n",
       "      <td>48.9</td>\n",
       "      <td>0.7578</td>\n",
       "    </tr>\n",
       "    <tr>\n",
       "      <th>1</th>\n",
       "      <td>2004-03-10 19:00:00</td>\n",
       "      <td>2.0</td>\n",
       "      <td>1292</td>\n",
       "      <td>112</td>\n",
       "      <td>9.4</td>\n",
       "      <td>955</td>\n",
       "      <td>103</td>\n",
       "      <td>1174</td>\n",
       "      <td>92</td>\n",
       "      <td>1559</td>\n",
       "      <td>972</td>\n",
       "      <td>13.3</td>\n",
       "      <td>47.7</td>\n",
       "      <td>0.7255</td>\n",
       "    </tr>\n",
       "    <tr>\n",
       "      <th>2</th>\n",
       "      <td>2004-03-10 20:00:00</td>\n",
       "      <td>2.2</td>\n",
       "      <td>1402</td>\n",
       "      <td>88</td>\n",
       "      <td>9.0</td>\n",
       "      <td>939</td>\n",
       "      <td>131</td>\n",
       "      <td>1140</td>\n",
       "      <td>114</td>\n",
       "      <td>1555</td>\n",
       "      <td>1074</td>\n",
       "      <td>11.9</td>\n",
       "      <td>54.0</td>\n",
       "      <td>0.7502</td>\n",
       "    </tr>\n",
       "    <tr>\n",
       "      <th>3</th>\n",
       "      <td>2004-03-10 21:00:00</td>\n",
       "      <td>2.2</td>\n",
       "      <td>1376</td>\n",
       "      <td>80</td>\n",
       "      <td>9.2</td>\n",
       "      <td>948</td>\n",
       "      <td>172</td>\n",
       "      <td>1092</td>\n",
       "      <td>122</td>\n",
       "      <td>1584</td>\n",
       "      <td>1203</td>\n",
       "      <td>11.0</td>\n",
       "      <td>60.0</td>\n",
       "      <td>0.7867</td>\n",
       "    </tr>\n",
       "    <tr>\n",
       "      <th>4</th>\n",
       "      <td>2004-03-10 22:00:00</td>\n",
       "      <td>1.6</td>\n",
       "      <td>1272</td>\n",
       "      <td>51</td>\n",
       "      <td>6.5</td>\n",
       "      <td>836</td>\n",
       "      <td>131</td>\n",
       "      <td>1205</td>\n",
       "      <td>116</td>\n",
       "      <td>1490</td>\n",
       "      <td>1110</td>\n",
       "      <td>11.2</td>\n",
       "      <td>59.6</td>\n",
       "      <td>0.7888</td>\n",
       "    </tr>\n",
       "    <tr>\n",
       "      <th>...</th>\n",
       "      <td>...</td>\n",
       "      <td>...</td>\n",
       "      <td>...</td>\n",
       "      <td>...</td>\n",
       "      <td>...</td>\n",
       "      <td>...</td>\n",
       "      <td>...</td>\n",
       "      <td>...</td>\n",
       "      <td>...</td>\n",
       "      <td>...</td>\n",
       "      <td>...</td>\n",
       "      <td>...</td>\n",
       "      <td>...</td>\n",
       "      <td>...</td>\n",
       "    </tr>\n",
       "    <tr>\n",
       "      <th>7993</th>\n",
       "      <td>2005-02-06 19:00:00</td>\n",
       "      <td>1.6</td>\n",
       "      <td>985</td>\n",
       "      <td>-200</td>\n",
       "      <td>4.5</td>\n",
       "      <td>736</td>\n",
       "      <td>227</td>\n",
       "      <td>891</td>\n",
       "      <td>165</td>\n",
       "      <td>875</td>\n",
       "      <td>774</td>\n",
       "      <td>6.0</td>\n",
       "      <td>38.0</td>\n",
       "      <td>0.3584</td>\n",
       "    </tr>\n",
       "    <tr>\n",
       "      <th>7994</th>\n",
       "      <td>2005-02-06 20:00:00</td>\n",
       "      <td>1.8</td>\n",
       "      <td>1002</td>\n",
       "      <td>-200</td>\n",
       "      <td>5.3</td>\n",
       "      <td>780</td>\n",
       "      <td>252</td>\n",
       "      <td>855</td>\n",
       "      <td>179</td>\n",
       "      <td>892</td>\n",
       "      <td>857</td>\n",
       "      <td>5.8</td>\n",
       "      <td>36.4</td>\n",
       "      <td>0.3385</td>\n",
       "    </tr>\n",
       "    <tr>\n",
       "      <th>7995</th>\n",
       "      <td>2005-02-06 21:00:00</td>\n",
       "      <td>1.4</td>\n",
       "      <td>938</td>\n",
       "      <td>-200</td>\n",
       "      <td>3.7</td>\n",
       "      <td>692</td>\n",
       "      <td>193</td>\n",
       "      <td>937</td>\n",
       "      <td>149</td>\n",
       "      <td>805</td>\n",
       "      <td>737</td>\n",
       "      <td>5.8</td>\n",
       "      <td>35.4</td>\n",
       "      <td>0.3286</td>\n",
       "    </tr>\n",
       "    <tr>\n",
       "      <th>7996</th>\n",
       "      <td>2005-02-06 22:00:00</td>\n",
       "      <td>1.1</td>\n",
       "      <td>896</td>\n",
       "      <td>-200</td>\n",
       "      <td>2.6</td>\n",
       "      <td>627</td>\n",
       "      <td>158</td>\n",
       "      <td>1033</td>\n",
       "      <td>126</td>\n",
       "      <td>782</td>\n",
       "      <td>610</td>\n",
       "      <td>5.4</td>\n",
       "      <td>36.6</td>\n",
       "      <td>0.3304</td>\n",
       "    </tr>\n",
       "    <tr>\n",
       "      <th>7997</th>\n",
       "      <td>2005-02-06 23:00:00</td>\n",
       "      <td>1.0</td>\n",
       "      <td>907</td>\n",
       "      <td>-200</td>\n",
       "      <td>2.4</td>\n",
       "      <td>614</td>\n",
       "      <td>150</td>\n",
       "      <td>1052</td>\n",
       "      <td>120</td>\n",
       "      <td>782</td>\n",
       "      <td>627</td>\n",
       "      <td>5.1</td>\n",
       "      <td>37.9</td>\n",
       "      <td>0.3358</td>\n",
       "    </tr>\n",
       "  </tbody>\n",
       "</table>\n",
       "<p>7998 rows × 14 columns</p>\n",
       "</div>"
      ],
      "text/plain": [
       "                    date  co_gt  pt08_s1_co  nmhc_gt  c6h6_gt  pt08_s2_nmhc  \\\n",
       "0    2004-03-10 18:00:00    2.6        1360      150     11.9          1046   \n",
       "1    2004-03-10 19:00:00    2.0        1292      112      9.4           955   \n",
       "2    2004-03-10 20:00:00    2.2        1402       88      9.0           939   \n",
       "3    2004-03-10 21:00:00    2.2        1376       80      9.2           948   \n",
       "4    2004-03-10 22:00:00    1.6        1272       51      6.5           836   \n",
       "...                  ...    ...         ...      ...      ...           ...   \n",
       "7993 2005-02-06 19:00:00    1.6         985     -200      4.5           736   \n",
       "7994 2005-02-06 20:00:00    1.8        1002     -200      5.3           780   \n",
       "7995 2005-02-06 21:00:00    1.4         938     -200      3.7           692   \n",
       "7996 2005-02-06 22:00:00    1.1         896     -200      2.6           627   \n",
       "7997 2005-02-06 23:00:00    1.0         907     -200      2.4           614   \n",
       "\n",
       "      nox_gt  pt08_s3_nox  no2_gt  pt08_s4_no2  pt08_s5_o3     t    rh      ah  \n",
       "0        166         1056     113         1692        1268  13.6  48.9  0.7578  \n",
       "1        103         1174      92         1559         972  13.3  47.7  0.7255  \n",
       "2        131         1140     114         1555        1074  11.9  54.0  0.7502  \n",
       "3        172         1092     122         1584        1203  11.0  60.0  0.7867  \n",
       "4        131         1205     116         1490        1110  11.2  59.6  0.7888  \n",
       "...      ...          ...     ...          ...         ...   ...   ...     ...  \n",
       "7993     227          891     165          875         774   6.0  38.0  0.3584  \n",
       "7994     252          855     179          892         857   5.8  36.4  0.3385  \n",
       "7995     193          937     149          805         737   5.8  35.4  0.3286  \n",
       "7996     158         1033     126          782         610   5.4  36.6  0.3304  \n",
       "7997     150         1052     120          782         627   5.1  37.9  0.3358  \n",
       "\n",
       "[7998 rows x 14 columns]"
      ]
     },
     "execution_count": 10,
     "metadata": {},
     "output_type": "execute_result"
    }
   ],
   "source": [
    "df "
   ]
  },
  {
   "cell_type": "markdown",
   "id": "4941d7b8",
   "metadata": {},
   "source": [
    "\n",
    "# Plotting data to evaluate their plausibility \n",
    "______________"
   ]
  },
  {
   "cell_type": "code",
   "execution_count": 11,
   "id": "61ed9c0e",
   "metadata": {
    "scrolled": false
   },
   "outputs": [
    {
     "data": {
      "text/html": [
       "<div>\n",
       "<style scoped>\n",
       "    .dataframe tbody tr th:only-of-type {\n",
       "        vertical-align: middle;\n",
       "    }\n",
       "\n",
       "    .dataframe tbody tr th {\n",
       "        vertical-align: top;\n",
       "    }\n",
       "\n",
       "    .dataframe thead th {\n",
       "        text-align: right;\n",
       "    }\n",
       "</style>\n",
       "<table border=\"1\" class=\"dataframe\">\n",
       "  <thead>\n",
       "    <tr style=\"text-align: right;\">\n",
       "      <th></th>\n",
       "      <th>co_gt</th>\n",
       "      <th>pt08_s1_co</th>\n",
       "      <th>nmhc_gt</th>\n",
       "      <th>c6h6_gt</th>\n",
       "      <th>pt08_s2_nmhc</th>\n",
       "      <th>nox_gt</th>\n",
       "      <th>pt08_s3_nox</th>\n",
       "      <th>no2_gt</th>\n",
       "      <th>pt08_s4_no2</th>\n",
       "      <th>pt08_s5_o3</th>\n",
       "      <th>t</th>\n",
       "      <th>rh</th>\n",
       "      <th>ah</th>\n",
       "    </tr>\n",
       "  </thead>\n",
       "  <tbody>\n",
       "    <tr>\n",
       "      <th>count</th>\n",
       "      <td>7998.000000</td>\n",
       "      <td>7998.000000</td>\n",
       "      <td>7998.000000</td>\n",
       "      <td>7998.000000</td>\n",
       "      <td>7998.000000</td>\n",
       "      <td>7998.000000</td>\n",
       "      <td>7998.000000</td>\n",
       "      <td>7998.000000</td>\n",
       "      <td>7998.000000</td>\n",
       "      <td>7998.000000</td>\n",
       "      <td>7998.000000</td>\n",
       "      <td>7998.000000</td>\n",
       "      <td>7998.000000</td>\n",
       "    </tr>\n",
       "    <tr>\n",
       "      <th>mean</th>\n",
       "      <td>-39.626619</td>\n",
       "      <td>1051.390473</td>\n",
       "      <td>-152.138785</td>\n",
       "      <td>2.853501</td>\n",
       "      <td>911.895974</td>\n",
       "      <td>149.096524</td>\n",
       "      <td>810.866592</td>\n",
       "      <td>45.156164</td>\n",
       "      <td>1445.659290</td>\n",
       "      <td>979.964741</td>\n",
       "      <td>11.545486</td>\n",
       "      <td>39.972981</td>\n",
       "      <td>-6.183809</td>\n",
       "    </tr>\n",
       "    <tr>\n",
       "      <th>std</th>\n",
       "      <td>81.903331</td>\n",
       "      <td>324.558998</td>\n",
       "      <td>150.096708</td>\n",
       "      <td>39.977717</td>\n",
       "      <td>340.000627</td>\n",
       "      <td>260.628377</td>\n",
       "      <td>321.385807</td>\n",
       "      <td>129.330765</td>\n",
       "      <td>455.347712</td>\n",
       "      <td>449.200147</td>\n",
       "      <td>41.835465</td>\n",
       "      <td>49.468677</td>\n",
       "      <td>37.531010</td>\n",
       "    </tr>\n",
       "    <tr>\n",
       "      <th>min</th>\n",
       "      <td>-200.000000</td>\n",
       "      <td>-200.000000</td>\n",
       "      <td>-200.000000</td>\n",
       "      <td>-200.000000</td>\n",
       "      <td>-200.000000</td>\n",
       "      <td>-200.000000</td>\n",
       "      <td>-200.000000</td>\n",
       "      <td>-200.000000</td>\n",
       "      <td>-200.000000</td>\n",
       "      <td>-200.000000</td>\n",
       "      <td>-200.000000</td>\n",
       "      <td>-200.000000</td>\n",
       "      <td>-200.000000</td>\n",
       "    </tr>\n",
       "    <tr>\n",
       "      <th>25%</th>\n",
       "      <td>0.500000</td>\n",
       "      <td>917.000000</td>\n",
       "      <td>-200.000000</td>\n",
       "      <td>4.300000</td>\n",
       "      <td>727.000000</td>\n",
       "      <td>39.000000</td>\n",
       "      <td>652.000000</td>\n",
       "      <td>44.000000</td>\n",
       "      <td>1275.250000</td>\n",
       "      <td>710.000000</td>\n",
       "      <td>12.300000</td>\n",
       "      <td>33.800000</td>\n",
       "      <td>0.779300</td>\n",
       "    </tr>\n",
       "    <tr>\n",
       "      <th>50%</th>\n",
       "      <td>1.500000</td>\n",
       "      <td>1051.500000</td>\n",
       "      <td>-200.000000</td>\n",
       "      <td>8.300000</td>\n",
       "      <td>911.000000</td>\n",
       "      <td>122.000000</td>\n",
       "      <td>807.000000</td>\n",
       "      <td>90.000000</td>\n",
       "      <td>1494.000000</td>\n",
       "      <td>942.000000</td>\n",
       "      <td>18.700000</td>\n",
       "      <td>48.500000</td>\n",
       "      <td>1.031600</td>\n",
       "    </tr>\n",
       "    <tr>\n",
       "      <th>75%</th>\n",
       "      <td>2.600000</td>\n",
       "      <td>1225.000000</td>\n",
       "      <td>-200.000000</td>\n",
       "      <td>14.200000</td>\n",
       "      <td>1122.000000</td>\n",
       "      <td>259.750000</td>\n",
       "      <td>976.000000</td>\n",
       "      <td>125.000000</td>\n",
       "      <td>1698.000000</td>\n",
       "      <td>1253.750000</td>\n",
       "      <td>25.100000</td>\n",
       "      <td>61.600000</td>\n",
       "      <td>1.358525</td>\n",
       "    </tr>\n",
       "    <tr>\n",
       "      <th>max</th>\n",
       "      <td>11.900000</td>\n",
       "      <td>2040.000000</td>\n",
       "      <td>1189.000000</td>\n",
       "      <td>63.700000</td>\n",
       "      <td>2214.000000</td>\n",
       "      <td>1479.000000</td>\n",
       "      <td>2683.000000</td>\n",
       "      <td>333.000000</td>\n",
       "      <td>2775.000000</td>\n",
       "      <td>2523.000000</td>\n",
       "      <td>44.600000</td>\n",
       "      <td>88.700000</td>\n",
       "      <td>2.231000</td>\n",
       "    </tr>\n",
       "  </tbody>\n",
       "</table>\n",
       "</div>"
      ],
      "text/plain": [
       "             co_gt   pt08_s1_co      nmhc_gt      c6h6_gt  pt08_s2_nmhc  \\\n",
       "count  7998.000000  7998.000000  7998.000000  7998.000000   7998.000000   \n",
       "mean    -39.626619  1051.390473  -152.138785     2.853501    911.895974   \n",
       "std      81.903331   324.558998   150.096708    39.977717    340.000627   \n",
       "min    -200.000000  -200.000000  -200.000000  -200.000000   -200.000000   \n",
       "25%       0.500000   917.000000  -200.000000     4.300000    727.000000   \n",
       "50%       1.500000  1051.500000  -200.000000     8.300000    911.000000   \n",
       "75%       2.600000  1225.000000  -200.000000    14.200000   1122.000000   \n",
       "max      11.900000  2040.000000  1189.000000    63.700000   2214.000000   \n",
       "\n",
       "            nox_gt  pt08_s3_nox       no2_gt  pt08_s4_no2   pt08_s5_o3  \\\n",
       "count  7998.000000  7998.000000  7998.000000  7998.000000  7998.000000   \n",
       "mean    149.096524   810.866592    45.156164  1445.659290   979.964741   \n",
       "std     260.628377   321.385807   129.330765   455.347712   449.200147   \n",
       "min    -200.000000  -200.000000  -200.000000  -200.000000  -200.000000   \n",
       "25%      39.000000   652.000000    44.000000  1275.250000   710.000000   \n",
       "50%     122.000000   807.000000    90.000000  1494.000000   942.000000   \n",
       "75%     259.750000   976.000000   125.000000  1698.000000  1253.750000   \n",
       "max    1479.000000  2683.000000   333.000000  2775.000000  2523.000000   \n",
       "\n",
       "                 t           rh           ah  \n",
       "count  7998.000000  7998.000000  7998.000000  \n",
       "mean     11.545486    39.972981    -6.183809  \n",
       "std      41.835465    49.468677    37.531010  \n",
       "min    -200.000000  -200.000000  -200.000000  \n",
       "25%      12.300000    33.800000     0.779300  \n",
       "50%      18.700000    48.500000     1.031600  \n",
       "75%      25.100000    61.600000     1.358525  \n",
       "max      44.600000    88.700000     2.231000  "
      ]
     },
     "execution_count": 11,
     "metadata": {},
     "output_type": "execute_result"
    }
   ],
   "source": [
    "# imports\n",
    "import matplotlib.pyplot as plt\n",
    "\n",
    "# configuration of how plots are displayed (width, height)\n",
    "plt.rcParams['figure.figsize'] = [15, 8]\n",
    "\n",
    "df.describe()"
   ]
  },
  {
   "cell_type": "markdown",
   "id": "11d8ce3d",
   "metadata": {},
   "source": [
    "## co_gt:"
   ]
  },
  {
   "cell_type": "code",
   "execution_count": 12,
   "id": "1fc3fde2",
   "metadata": {},
   "outputs": [
    {
     "data": {
      "text/plain": [
       "<function matplotlib.pyplot.show(close=None, block=None)>"
      ]
     },
     "execution_count": 12,
     "metadata": {},
     "output_type": "execute_result"
    },
    {
     "data": {
      "image/png": "[encoded data removed]",
      "text/plain": [
       "<Figure size 1080x576 with 1 Axes>"
      ]
     },
     "metadata": {
      "needs_background": "light"
     },
     "output_type": "display_data"
    }
   ],
   "source": [
    "x_lst = df['co_gt'].value_counts()\n",
    "\n",
    "plt.title('co_gt')\n",
    "plt.xlabel('Value')\n",
    "plt.ylabel('Number of entries')\n",
    "plt.scatter(x_lst.index, x_lst.values, s=5)\n",
    "plt.show"
   ]
  },
  {
   "cell_type": "code",
   "execution_count": 13,
   "id": "a7472896",
   "metadata": {},
   "outputs": [
    {
     "data": {
      "text/plain": [
       "-200.0    1654\n",
       " 1.0       240\n",
       " 1.6       227\n",
       " 1.7       221\n",
       " 1.4       215\n",
       "          ... \n",
       " 11.9        1\n",
       " 9.5         1\n",
       " 7.6         1\n",
       " 7.0         1\n",
       " 8.5         1\n",
       "Name: co_gt, Length: 96, dtype: int64"
      ]
     },
     "execution_count": 13,
     "metadata": {},
     "output_type": "execute_result"
    }
   ],
   "source": [
    "df['co_gt'].value_counts()"
   ]
  },
  {
   "cell_type": "code",
   "execution_count": 14,
   "id": "9c06f895",
   "metadata": {},
   "outputs": [],
   "source": [
    "# filter column so that values below -5 aren't included\n",
    "filt = df['co_gt'].between(-5, 30)\n",
    "filt_df = df['co_gt'].loc[filt]"
   ]
  },
  {
   "cell_type": "code",
   "execution_count": 15,
   "id": "dfe0b015",
   "metadata": {},
   "outputs": [
    {
     "data": {
      "text/plain": [
       "<function matplotlib.pyplot.show(close=None, block=None)>"
      ]
     },
     "execution_count": 15,
     "metadata": {},
     "output_type": "execute_result"
    },
    {
     "data": {
      "image/png": "[encoded data removed]",
      "text/plain": [
       "<Figure size 1080x576 with 1 Axes>"
      ]
     },
     "metadata": {
      "needs_background": "light"
     },
     "output_type": "display_data"
    }
   ],
   "source": [
    "plt.title('co_gt')\n",
    "plt.xlabel('Value')\n",
    "plt.ylabel('Number of entries')\n",
    "plt.hist(filt_df, bins= 12)\n",
    "plt.show"
   ]
  },
  {
   "cell_type": "markdown",
   "id": "cf4d0413",
   "metadata": {},
   "source": [
    "Value -200 seems to be an unwanted outlier\n",
    "\n",
    "## pt08.s1_co "
   ]
  },
  {
   "cell_type": "code",
   "execution_count": 16,
   "id": "4f562417",
   "metadata": {
    "scrolled": false
   },
   "outputs": [
    {
     "data": {
      "text/plain": [
       "<function matplotlib.pyplot.show(close=None, block=None)>"
      ]
     },
     "execution_count": 16,
     "metadata": {},
     "output_type": "execute_result"
    },
    {
     "data": {
      "image/png": "[encoded data removed]",
      "text/plain": [
       "<Figure size 1080x576 with 1 Axes>"
      ]
     },
     "metadata": {
      "needs_background": "light"
     },
     "output_type": "display_data"
    }
   ],
   "source": [
    "x_lst = df['pt08_s1_co'].value_counts()\n",
    "\n",
    "plt.title('pt08_s1_co')\n",
    "plt.xlabel('Value')\n",
    "plt.ylabel('Number of entries')\n",
    "plt.scatter(x_lst.index, x_lst.values, s=5)\n",
    "plt.show"
   ]
  },
  {
   "cell_type": "code",
   "execution_count": 17,
   "id": "0af1dba6",
   "metadata": {
    "scrolled": false
   },
   "outputs": [
    {
     "data": {
      "text/plain": [
       "-200     289\n",
       " 969      25\n",
       " 973      24\n",
       " 1100     24\n",
       " 925      24\n",
       "        ... \n",
       " 1776      1\n",
       " 717       1\n",
       " 731       1\n",
       " 782       1\n",
       " 1655      1\n",
       "Name: pt08_s1_co, Length: 1028, dtype: int64"
      ]
     },
     "execution_count": 17,
     "metadata": {},
     "output_type": "execute_result"
    }
   ],
   "source": [
    "df['pt08_s1_co'].value_counts()"
   ]
  },
  {
   "cell_type": "code",
   "execution_count": 18,
   "id": "77632abd",
   "metadata": {},
   "outputs": [],
   "source": [
    "# filter column so that values below 500 aren't included\n",
    "filt = df['pt08_s1_co'].between(500, 2500)\n",
    "filt_df = df['pt08_s1_co'].loc[filt]"
   ]
  },
  {
   "cell_type": "code",
   "execution_count": 19,
   "id": "506b359f",
   "metadata": {},
   "outputs": [
    {
     "data": {
      "text/plain": [
       "<function matplotlib.pyplot.show(close=None, block=None)>"
      ]
     },
     "execution_count": 19,
     "metadata": {},
     "output_type": "execute_result"
    },
    {
     "data": {
      "image/png": "[encoded data removed]",
      "text/plain": [
       "<Figure size 1080x576 with 1 Axes>"
      ]
     },
     "metadata": {
      "needs_background": "light"
     },
     "output_type": "display_data"
    }
   ],
   "source": [
    "# histogram based on filtered column\n",
    "plt.title('pt08_s1_co')\n",
    "plt.xlabel('Value')\n",
    "plt.ylabel('Number of entries')\n",
    "plt.hist(filt_df, bins=20)\n",
    "plt.show"
   ]
  },
  {
   "cell_type": "markdown",
   "id": "7aa7c163",
   "metadata": {},
   "source": [
    "Value -200 seems to be an unwanted outlier\n",
    "\n",
    "## nmhc_gt"
   ]
  },
  {
   "cell_type": "code",
   "execution_count": 20,
   "id": "2be36d69",
   "metadata": {},
   "outputs": [
    {
     "data": {
      "text/plain": [
       "<function matplotlib.pyplot.show(close=None, block=None)>"
      ]
     },
     "execution_count": 20,
     "metadata": {},
     "output_type": "execute_result"
    },
    {
     "data": {
      "image/png": "[encoded data removed]",
      "text/plain": [
       "<Figure size 1080x576 with 1 Axes>"
      ]
     },
     "metadata": {
      "needs_background": "light"
     },
     "output_type": "display_data"
    }
   ],
   "source": [
    "x_lst = df['nmhc_gt'].value_counts()\n",
    "\n",
    "plt.title('nmhc_gt')\n",
    "plt.xlabel('Value')\n",
    "plt.ylabel('Number of entries')\n",
    "plt.scatter(x_lst.index, x_lst.values, s=5)\n",
    "plt.show"
   ]
  },
  {
   "cell_type": "code",
   "execution_count": 21,
   "id": "9ce5a4c5",
   "metadata": {},
   "outputs": [
    {
     "data": {
      "text/plain": [
       "-200    7084\n",
       " 66       14\n",
       " 40        9\n",
       " 29        9\n",
       " 88        8\n",
       "        ... \n",
       " 422       1\n",
       " 424       1\n",
       " 339       1\n",
       " 445       1\n",
       " 307       1\n",
       "Name: nmhc_gt, Length: 430, dtype: int64"
      ]
     },
     "execution_count": 21,
     "metadata": {},
     "output_type": "execute_result"
    }
   ],
   "source": [
    "df['nmhc_gt'].value_counts()"
   ]
  },
  {
   "cell_type": "code",
   "execution_count": 22,
   "id": "1457f0d9",
   "metadata": {},
   "outputs": [],
   "source": [
    "# filter column so that values below 0 aren't included\n",
    "filt = df['nmhc_gt'].between(0, 1500)\n",
    "filt_df = df['nmhc_gt'].loc[filt]"
   ]
  },
  {
   "cell_type": "code",
   "execution_count": 23,
   "id": "f65b7bcc",
   "metadata": {},
   "outputs": [
    {
     "data": {
      "text/plain": [
       "<function matplotlib.pyplot.show(close=None, block=None)>"
      ]
     },
     "execution_count": 23,
     "metadata": {},
     "output_type": "execute_result"
    },
    {
     "data": {
      "image/png": "[encoded data removed]",
      "text/plain": [
       "<Figure size 1080x576 with 1 Axes>"
      ]
     },
     "metadata": {
      "needs_background": "light"
     },
     "output_type": "display_data"
    }
   ],
   "source": [
    "# histogram based on filtered column\n",
    "plt.title('nmhc_gt')\n",
    "plt.xlabel('Value')\n",
    "plt.ylabel('Number of entries')\n",
    "plt.hist(filt_df, bins=20)\n",
    "plt.show"
   ]
  },
  {
   "cell_type": "markdown",
   "id": "512f117d",
   "metadata": {},
   "source": [
    "Value -200 seems to be an unwanted outlier\n",
    "\n",
    "## c6h6_gt"
   ]
  },
  {
   "cell_type": "code",
   "execution_count": 24,
   "id": "fa167cc0",
   "metadata": {
    "scrolled": false
   },
   "outputs": [
    {
     "data": {
      "text/plain": [
       "<function matplotlib.pyplot.show(close=None, block=None)>"
      ]
     },
     "execution_count": 24,
     "metadata": {},
     "output_type": "execute_result"
    },
    {
     "data": {
      "image/png": "[encoded data removed]",
      "text/plain": [
       "<Figure size 1080x576 with 1 Axes>"
      ]
     },
     "metadata": {
      "needs_background": "light"
     },
     "output_type": "display_data"
    }
   ],
   "source": [
    "x_lst = df['c6h6_gt'].value_counts()\n",
    "\n",
    "plt.title('c6h6_gt')\n",
    "plt.xlabel('Value')\n",
    "plt.ylabel('Number of entries')\n",
    "plt.scatter(x_lst.index, x_lst.values, s=5)\n",
    "plt.show"
   ]
  },
  {
   "cell_type": "code",
   "execution_count": 25,
   "id": "06782b33",
   "metadata": {},
   "outputs": [
    {
     "data": {
      "text/plain": [
       "6160    63.7\n",
       "5520    52.1\n",
       "6672    50.8\n",
       "6159    50.7\n",
       "6193    50.6\n",
       "6192    49.5\n",
       "6194    49.4\n",
       "5690    48.2\n",
       "6048    47.7\n",
       "5736    47.5\n",
       "Name: c6h6_gt, dtype: float64"
      ]
     },
     "execution_count": 25,
     "metadata": {},
     "output_type": "execute_result"
    }
   ],
   "source": [
    "df['c6h6_gt'].nlargest(10)"
   ]
  },
  {
   "cell_type": "code",
   "execution_count": 26,
   "id": "f95381c3",
   "metadata": {},
   "outputs": [],
   "source": [
    "# filter column so that values below 0 aren't included\n",
    "filt = df['c6h6_gt'].between(-10, 100)\n",
    "filt_df = df['c6h6_gt'].loc[filt]"
   ]
  },
  {
   "cell_type": "code",
   "execution_count": 27,
   "id": "9f24e9a6",
   "metadata": {
    "scrolled": false
   },
   "outputs": [
    {
     "data": {
      "text/plain": [
       "<function matplotlib.pyplot.show(close=None, block=None)>"
      ]
     },
     "execution_count": 27,
     "metadata": {},
     "output_type": "execute_result"
    },
    {
     "data": {
      "image/png": "[encoded data removed]",
      "text/plain": [
       "<Figure size 1080x576 with 1 Axes>"
      ]
     },
     "metadata": {
      "needs_background": "light"
     },
     "output_type": "display_data"
    }
   ],
   "source": [
    "# histogram based on filtered column\n",
    "plt.title('c6h6_gt')\n",
    "plt.xlabel('Value')\n",
    "plt.ylabel('Number of entries')\n",
    "plt.hist(filt_df, bins=20)\n",
    "plt.show"
   ]
  },
  {
   "cell_type": "markdown",
   "id": "f1764ee5",
   "metadata": {},
   "source": [
    "Value -200 seems to be an unwanted outlier\n",
    "\n",
    "## pt08.s2_nmhc\t"
   ]
  },
  {
   "cell_type": "code",
   "execution_count": 28,
   "id": "8e9358e6",
   "metadata": {
    "scrolled": false
   },
   "outputs": [
    {
     "data": {
      "text/plain": [
       "<function matplotlib.pyplot.show(close=None, block=None)>"
      ]
     },
     "execution_count": 28,
     "metadata": {},
     "output_type": "execute_result"
    },
    {
     "data": {
      "image/png": "[encoded data removed]",
      "text/plain": [
       "<Figure size 1080x576 with 1 Axes>"
      ]
     },
     "metadata": {
      "needs_background": "light"
     },
     "output_type": "display_data"
    }
   ],
   "source": [
    "x_lst = df['pt08_s2_nmhc'].value_counts()\n",
    "\n",
    "plt.title('pt08_s2_nmhc')\n",
    "plt.xlabel('Value')\n",
    "plt.ylabel('Number of entries')\n",
    "plt.scatter(x_lst.index, x_lst.values, s=5)\n",
    "plt.show"
   ]
  },
  {
   "cell_type": "code",
   "execution_count": 29,
   "id": "dd74973f",
   "metadata": {},
   "outputs": [
    {
     "data": {
      "text/plain": [
       "-200     289\n",
       " 853      22\n",
       " 776      20\n",
       " 859      20\n",
       " 814      19\n",
       "        ... \n",
       " 1536      1\n",
       " 1866      1\n",
       " 1569      1\n",
       " 1782      1\n",
       " 1284      1\n",
       "Name: pt08_s2_nmhc, Length: 1222, dtype: int64"
      ]
     },
     "execution_count": 29,
     "metadata": {},
     "output_type": "execute_result"
    }
   ],
   "source": [
    "df['pt08_s2_nmhc'].value_counts()"
   ]
  },
  {
   "cell_type": "code",
   "execution_count": 30,
   "id": "ad56cdc6",
   "metadata": {},
   "outputs": [],
   "source": [
    "# filter column so that values below 200 aren't included\n",
    "filt = df['pt08_s2_nmhc'].between(200, 3000)\n",
    "filt_df = df['pt08_s2_nmhc'].loc[filt]"
   ]
  },
  {
   "cell_type": "code",
   "execution_count": 31,
   "id": "b8485e86",
   "metadata": {},
   "outputs": [
    {
     "data": {
      "text/plain": [
       "<function matplotlib.pyplot.show(close=None, block=None)>"
      ]
     },
     "execution_count": 31,
     "metadata": {},
     "output_type": "execute_result"
    },
    {
     "data": {
      "image/png": "[encoded data removed]",
      "text/plain": [
       "<Figure size 1080x576 with 1 Axes>"
      ]
     },
     "metadata": {
      "needs_background": "light"
     },
     "output_type": "display_data"
    }
   ],
   "source": [
    "# histogram based on filtered column\n",
    "plt.title('pt08_s2_nmhc')\n",
    "plt.xlabel('Value')\n",
    "plt.ylabel('Number of entries')\n",
    "plt.hist(filt_df, bins=20)\n",
    "plt.show"
   ]
  },
  {
   "cell_type": "markdown",
   "id": "fac27311",
   "metadata": {},
   "source": [
    "Value -200 seems to be an unwanted outlier\n",
    "\n",
    "## nox_gt \t"
   ]
  },
  {
   "cell_type": "code",
   "execution_count": 32,
   "id": "d4e936df",
   "metadata": {
    "scrolled": false
   },
   "outputs": [
    {
     "data": {
      "text/plain": [
       "<function matplotlib.pyplot.show(close=None, block=None)>"
      ]
     },
     "execution_count": 32,
     "metadata": {},
     "output_type": "execute_result"
    },
    {
     "data": {
      "image/png": "[encoded data removed]",
      "text/plain": [
       "<Figure size 1080x576 with 1 Axes>"
      ]
     },
     "metadata": {
      "needs_background": "light"
     },
     "output_type": "display_data"
    }
   ],
   "source": [
    "x_lst = df['nox_gt'].value_counts()\n",
    "\n",
    "plt.title('nox_gt')\n",
    "plt.xlabel('Value')\n",
    "plt.ylabel('Number of entries')\n",
    "plt.scatter(x_lst.index, x_lst.values, s=5)\n",
    "plt.show"
   ]
  },
  {
   "cell_type": "code",
   "execution_count": 33,
   "id": "ac7185c4",
   "metadata": {},
   "outputs": [
    {
     "data": {
      "text/plain": [
       "-200     1604\n",
       " 89        39\n",
       " 65        37\n",
       " 41        36\n",
       " 57        32\n",
       "         ... \n",
       " 856        1\n",
       " 949        1\n",
       " 932        1\n",
       " 1134       1\n",
       " 708        1\n",
       "Name: nox_gt, Length: 891, dtype: int64"
      ]
     },
     "execution_count": 33,
     "metadata": {},
     "output_type": "execute_result"
    }
   ],
   "source": [
    "df['nox_gt'].value_counts()"
   ]
  },
  {
   "cell_type": "code",
   "execution_count": 34,
   "id": "0b6f843a",
   "metadata": {},
   "outputs": [],
   "source": [
    "# filter column so that values below -50 aren't included\n",
    "filt = df['nox_gt'].between(-50, 3000)\n",
    "filt_df = df['nox_gt'].loc[filt]"
   ]
  },
  {
   "cell_type": "code",
   "execution_count": 35,
   "id": "dc0e874c",
   "metadata": {},
   "outputs": [
    {
     "data": {
      "text/plain": [
       "<function matplotlib.pyplot.show(close=None, block=None)>"
      ]
     },
     "execution_count": 35,
     "metadata": {},
     "output_type": "execute_result"
    },
    {
     "data": {
      "image/png": "[encoded data removed]",
      "text/plain": [
       "<Figure size 1080x576 with 1 Axes>"
      ]
     },
     "metadata": {
      "needs_background": "light"
     },
     "output_type": "display_data"
    }
   ],
   "source": [
    "# histogram based on filtered column\n",
    "plt.title('nox_gt')\n",
    "plt.xlabel('Value')\n",
    "plt.ylabel('Number of entries')\n",
    "plt.hist(filt_df, bins=20)\n",
    "plt.show"
   ]
  },
  {
   "cell_type": "markdown",
   "id": "59d4c788",
   "metadata": {},
   "source": [
    "Value -200 seems to be an unwanted outlier\n",
    "\n",
    "## pt08.s3_nox \t \t"
   ]
  },
  {
   "cell_type": "code",
   "execution_count": 36,
   "id": "5d2f8b54",
   "metadata": {
    "scrolled": false
   },
   "outputs": [
    {
     "data": {
      "text/plain": [
       "<function matplotlib.pyplot.show(close=None, block=None)>"
      ]
     },
     "execution_count": 36,
     "metadata": {},
     "output_type": "execute_result"
    },
    {
     "data": {
      "image/png": "[encoded data removed]",
      "text/plain": [
       "<Figure size 1080x576 with 1 Axes>"
      ]
     },
     "metadata": {
      "needs_background": "light"
     },
     "output_type": "display_data"
    }
   ],
   "source": [
    "x_lst = df['pt08_s3_nox'].value_counts()\n",
    "\n",
    "plt.title('pt08_s3_nox')\n",
    "plt.xlabel('Value')\n",
    "plt.ylabel('Number of entries')\n",
    "plt.scatter(x_lst.index, x_lst.values, s=5)\n",
    "plt.show"
   ]
  },
  {
   "cell_type": "code",
   "execution_count": 37,
   "id": "ac35c8d4",
   "metadata": {},
   "outputs": [
    {
     "data": {
      "text/plain": [
       "-200     289\n",
       " 733      24\n",
       " 846      24\n",
       " 767      22\n",
       " 816      21\n",
       "        ... \n",
       " 1406      1\n",
       " 1488      1\n",
       " 441       1\n",
       " 1279      1\n",
       " 1363      1\n",
       "Name: pt08_s3_nox, Length: 1204, dtype: int64"
      ]
     },
     "execution_count": 37,
     "metadata": {},
     "output_type": "execute_result"
    }
   ],
   "source": [
    "df['pt08_s3_nox'].value_counts()"
   ]
  },
  {
   "cell_type": "code",
   "execution_count": 38,
   "id": "a871ec60",
   "metadata": {},
   "outputs": [],
   "source": [
    "# filter column so that values below 200 aren't included\n",
    "filt = df['pt08_s3_nox'].between(200, 3000)\n",
    "filt_df = df['pt08_s3_nox'].loc[filt]"
   ]
  },
  {
   "cell_type": "code",
   "execution_count": 39,
   "id": "5ea6fc43",
   "metadata": {},
   "outputs": [
    {
     "data": {
      "text/plain": [
       "<function matplotlib.pyplot.show(close=None, block=None)>"
      ]
     },
     "execution_count": 39,
     "metadata": {},
     "output_type": "execute_result"
    },
    {
     "data": {
      "image/png": "[encoded data removed]",
      "text/plain": [
       "<Figure size 1080x576 with 1 Axes>"
      ]
     },
     "metadata": {
      "needs_background": "light"
     },
     "output_type": "display_data"
    }
   ],
   "source": [
    "# histogram based on filtered column\n",
    "plt.title('pt08_s3_nox')\n",
    "plt.xlabel('Value')\n",
    "plt.ylabel('Number of entries')\n",
    "plt.hist(filt_df, bins=20)\n",
    "plt.show"
   ]
  },
  {
   "cell_type": "markdown",
   "id": "23c46389",
   "metadata": {},
   "source": [
    "Value -200 seems to be an unwanted outlier\n",
    "\n",
    "## no2_gt\t"
   ]
  },
  {
   "cell_type": "code",
   "execution_count": 40,
   "id": "f687f9e5",
   "metadata": {
    "scrolled": false
   },
   "outputs": [
    {
     "data": {
      "text/plain": [
       "<function matplotlib.pyplot.show(close=None, block=None)>"
      ]
     },
     "execution_count": 40,
     "metadata": {},
     "output_type": "execute_result"
    },
    {
     "data": {
      "image/png": "[encoded data removed]",
      "text/plain": [
       "<Figure size 1080x576 with 1 Axes>"
      ]
     },
     "metadata": {
      "needs_background": "light"
     },
     "output_type": "display_data"
    }
   ],
   "source": [
    "x_lst = df['no2_gt'].value_counts()\n",
    "\n",
    "plt.title('no2_gt')\n",
    "plt.xlabel('Value')\n",
    "plt.ylabel('Number of entries')\n",
    "plt.scatter(x_lst.index, x_lst.values, s=5)\n",
    "plt.show"
   ]
  },
  {
   "cell_type": "code",
   "execution_count": 41,
   "id": "4acef34c",
   "metadata": {},
   "outputs": [
    {
     "data": {
      "text/plain": [
       "-200    1607\n",
       " 97       72\n",
       " 95       69\n",
       " 101      67\n",
       " 96       66\n",
       "        ... \n",
       " 269       1\n",
       " 257       1\n",
       " 248       1\n",
       " 229       1\n",
       " 310       1\n",
       "Name: no2_gt, Length: 268, dtype: int64"
      ]
     },
     "execution_count": 41,
     "metadata": {},
     "output_type": "execute_result"
    }
   ],
   "source": [
    "df['no2_gt'].value_counts()"
   ]
  },
  {
   "cell_type": "code",
   "execution_count": 42,
   "id": "9508d0fb",
   "metadata": {},
   "outputs": [],
   "source": [
    "# filter column so that values below -50 aren't included\n",
    "filt = df['no2_gt'].between(-50, 500)\n",
    "filt_df = df['no2_gt'].loc[filt]"
   ]
  },
  {
   "cell_type": "code",
   "execution_count": 43,
   "id": "14cab128",
   "metadata": {},
   "outputs": [
    {
     "data": {
      "text/plain": [
       "<function matplotlib.pyplot.show(close=None, block=None)>"
      ]
     },
     "execution_count": 43,
     "metadata": {},
     "output_type": "execute_result"
    },
    {
     "data": {
      "image/png": "[encoded data removed]",
      "text/plain": [
       "<Figure size 1080x576 with 1 Axes>"
      ]
     },
     "metadata": {
      "needs_background": "light"
     },
     "output_type": "display_data"
    }
   ],
   "source": [
    "# histogram based on filtered column\n",
    "plt.title('no2_gt')\n",
    "plt.xlabel('Value')\n",
    "plt.ylabel('Number of entries')\n",
    "plt.hist(filt_df, bins=20)\n",
    "plt.show"
   ]
  },
  {
   "cell_type": "markdown",
   "id": "f21b1957",
   "metadata": {},
   "source": [
    "Value -200 seems to be an unwanted outlier\n",
    "\n",
    "## PT08.S4(NO2)\t"
   ]
  },
  {
   "cell_type": "code",
   "execution_count": 44,
   "id": "2db4cd49",
   "metadata": {
    "scrolled": false
   },
   "outputs": [
    {
     "data": {
      "text/plain": [
       "<function matplotlib.pyplot.show(close=None, block=None)>"
      ]
     },
     "execution_count": 44,
     "metadata": {},
     "output_type": "execute_result"
    },
    {
     "data": {
      "image/png": "[encoded data removed]",
      "text/plain": [
       "<Figure size 1080x576 with 1 Axes>"
      ]
     },
     "metadata": {
      "needs_background": "light"
     },
     "output_type": "display_data"
    }
   ],
   "source": [
    "x_lst = df['pt08_s4_no2'].value_counts()\n",
    "\n",
    "plt.title('pt08_s4_no2')\n",
    "plt.xlabel('Value')\n",
    "plt.ylabel('Number of entries')\n",
    "plt.scatter(x_lst.index, x_lst.values, s=5)\n",
    "plt.show"
   ]
  },
  {
   "cell_type": "code",
   "execution_count": 45,
   "id": "2067f7a5",
   "metadata": {},
   "outputs": [
    {
     "data": {
      "text/plain": [
       "-200     289\n",
       " 1580     22\n",
       " 1539     20\n",
       " 1638     19\n",
       " 1488     19\n",
       "        ... \n",
       " 1908      1\n",
       " 2259      1\n",
       " 2365      1\n",
       " 2088      1\n",
       " 789       1\n",
       "Name: pt08_s4_no2, Length: 1550, dtype: int64"
      ]
     },
     "execution_count": 45,
     "metadata": {},
     "output_type": "execute_result"
    }
   ],
   "source": [
    "df['pt08_s4_no2'].value_counts()"
   ]
  },
  {
   "cell_type": "code",
   "execution_count": 46,
   "id": "b621382f",
   "metadata": {},
   "outputs": [],
   "source": [
    "# filter column so that values below 500 aren't included\n",
    "filt = df['pt08_s4_no2'].between(500, 3000)\n",
    "filt_df = df['pt08_s4_no2'].loc[filt]"
   ]
  },
  {
   "cell_type": "code",
   "execution_count": 47,
   "id": "9831beaf",
   "metadata": {},
   "outputs": [
    {
     "data": {
      "text/plain": [
       "<function matplotlib.pyplot.show(close=None, block=None)>"
      ]
     },
     "execution_count": 47,
     "metadata": {},
     "output_type": "execute_result"
    },
    {
     "data": {
      "image/png": "[encoded data removed]",
      "text/plain": [
       "<Figure size 1080x576 with 1 Axes>"
      ]
     },
     "metadata": {
      "needs_background": "light"
     },
     "output_type": "display_data"
    }
   ],
   "source": [
    "# histogram based on filtered column\n",
    "plt.title('pt08_s4_no2')\n",
    "plt.xlabel('Value')\n",
    "plt.ylabel('Number of entries')\n",
    "plt.hist(filt_df, bins=20)\n",
    "plt.show"
   ]
  },
  {
   "cell_type": "markdown",
   "id": "2a404910",
   "metadata": {},
   "source": [
    "Value -200 seems to be an unwanted outlier\n",
    "\n",
    "## pt08.s5_o3\t\t"
   ]
  },
  {
   "cell_type": "code",
   "execution_count": 48,
   "id": "1aa7a7f6",
   "metadata": {
    "scrolled": false
   },
   "outputs": [
    {
     "data": {
      "text/plain": [
       "<function matplotlib.pyplot.show(close=None, block=None)>"
      ]
     },
     "execution_count": 48,
     "metadata": {},
     "output_type": "execute_result"
    },
    {
     "data": {
      "image/png": "[encoded data removed]",
      "text/plain": [
       "<Figure size 1080x576 with 1 Axes>"
      ]
     },
     "metadata": {
      "needs_background": "light"
     },
     "output_type": "display_data"
    }
   ],
   "source": [
    "x_lst = df['pt08_s5_o3'].value_counts()\n",
    "\n",
    "plt.title('pt08_s5_o3')\n",
    "plt.xlabel('Value')\n",
    "plt.ylabel('Number of entries')\n",
    "plt.scatter(x_lst.index, x_lst.values, s=5)\n",
    "plt.show"
   ]
  },
  {
   "cell_type": "code",
   "execution_count": 49,
   "id": "8980e442",
   "metadata": {},
   "outputs": [
    {
     "data": {
      "text/plain": [
       "-200     289\n",
       " 836      19\n",
       " 825      18\n",
       " 799      17\n",
       " 826      17\n",
       "        ... \n",
       " 1710      1\n",
       " 1905      1\n",
       " 1234      1\n",
       " 2184      1\n",
       " 1656      1\n",
       "Name: pt08_s5_o3, Length: 1682, dtype: int64"
      ]
     },
     "execution_count": 49,
     "metadata": {},
     "output_type": "execute_result"
    }
   ],
   "source": [
    "df['pt08_s5_o3'].value_counts()"
   ]
  },
  {
   "cell_type": "code",
   "execution_count": 50,
   "id": "556a6499",
   "metadata": {},
   "outputs": [],
   "source": [
    "# filter column so that values below 200 aren't included\n",
    "filt = df['pt08_s5_o3'].between(200, 3000)\n",
    "filt_df = df['pt08_s5_o3'].loc[filt]"
   ]
  },
  {
   "cell_type": "code",
   "execution_count": 51,
   "id": "ddeb7ede",
   "metadata": {},
   "outputs": [
    {
     "data": {
      "text/plain": [
       "<function matplotlib.pyplot.show(close=None, block=None)>"
      ]
     },
     "execution_count": 51,
     "metadata": {},
     "output_type": "execute_result"
    },
    {
     "data": {
      "image/png": "[encoded data removed]",
      "text/plain": [
       "<Figure size 1080x576 with 1 Axes>"
      ]
     },
     "metadata": {
      "needs_background": "light"
     },
     "output_type": "display_data"
    }
   ],
   "source": [
    "# histogram based on filtered column\n",
    "plt.title('pt08_s5_o3')\n",
    "plt.xlabel('Value')\n",
    "plt.ylabel('Number of entries')\n",
    "plt.hist(filt_df, bins=20)\n",
    "plt.show"
   ]
  },
  {
   "cell_type": "markdown",
   "id": "a9df350d",
   "metadata": {},
   "source": [
    "Value -200 seems to be an unwanted outlier\n",
    "\n",
    "## t"
   ]
  },
  {
   "cell_type": "code",
   "execution_count": 52,
   "id": "45569a51",
   "metadata": {
    "scrolled": false
   },
   "outputs": [
    {
     "data": {
      "text/plain": [
       "<function matplotlib.pyplot.show(close=None, block=None)>"
      ]
     },
     "execution_count": 52,
     "metadata": {},
     "output_type": "execute_result"
    },
    {
     "data": {
      "image/png": "[encoded data removed]",
      "text/plain": [
       "<Figure size 1080x576 with 1 Axes>"
      ]
     },
     "metadata": {
      "needs_background": "light"
     },
     "output_type": "display_data"
    }
   ],
   "source": [
    "x_lst = df['t'].value_counts()\n",
    "\n",
    "plt.title('t')\n",
    "plt.xlabel('Value')\n",
    "plt.ylabel('Number of entries')\n",
    "plt.scatter(x_lst.index, x_lst.values, s=5)\n",
    "plt.show"
   ]
  },
  {
   "cell_type": "code",
   "execution_count": 53,
   "id": "cb2e9ecf",
   "metadata": {},
   "outputs": [
    {
     "data": {
      "text/plain": [
       "-200.0    289\n",
       " 20.8      55\n",
       " 21.3      50\n",
       " 20.2      47\n",
       " 19.8      46\n",
       "         ... \n",
       " 44.3       1\n",
       " 44.6       1\n",
       " 43.4       1\n",
       " 43.1       1\n",
       " 0.3        1\n",
       "Name: t, Length: 420, dtype: int64"
      ]
     },
     "execution_count": 53,
     "metadata": {},
     "output_type": "execute_result"
    }
   ],
   "source": [
    "df['t'].value_counts()"
   ]
  },
  {
   "cell_type": "code",
   "execution_count": 54,
   "id": "6e7cb433",
   "metadata": {},
   "outputs": [],
   "source": [
    "# filter column so that values below -20 aren't included\n",
    "filt = df['t'].between(-20, 100)\n",
    "filt_df = df['t'].loc[filt]"
   ]
  },
  {
   "cell_type": "code",
   "execution_count": 55,
   "id": "f1de7d5f",
   "metadata": {},
   "outputs": [
    {
     "data": {
      "text/plain": [
       "<function matplotlib.pyplot.show(close=None, block=None)>"
      ]
     },
     "execution_count": 55,
     "metadata": {},
     "output_type": "execute_result"
    },
    {
     "data": {
      "image/png": "[encoded data removed]",
      "text/plain": [
       "<Figure size 1080x576 with 1 Axes>"
      ]
     },
     "metadata": {
      "needs_background": "light"
     },
     "output_type": "display_data"
    }
   ],
   "source": [
    "# histogram based on filtered column\n",
    "plt.title('t')\n",
    "plt.xlabel('Value')\n",
    "plt.ylabel('Number of entries')\n",
    "plt.hist(filt_df, bins=20)\n",
    "plt.show"
   ]
  },
  {
   "cell_type": "markdown",
   "id": "f7638d9d",
   "metadata": {},
   "source": [
    "Value -200 seems to be an unwanted outlier\n",
    "\n",
    "## rh\t"
   ]
  },
  {
   "cell_type": "code",
   "execution_count": 56,
   "id": "afb49997",
   "metadata": {
    "scrolled": false
   },
   "outputs": [
    {
     "data": {
      "text/plain": [
       "<function matplotlib.pyplot.show(close=None, block=None)>"
      ]
     },
     "execution_count": 56,
     "metadata": {},
     "output_type": "execute_result"
    },
    {
     "data": {
      "image/png": "[encoded data removed]",
      "text/plain": [
       "<Figure size 1080x576 with 1 Axes>"
      ]
     },
     "metadata": {
      "needs_background": "light"
     },
     "output_type": "display_data"
    }
   ],
   "source": [
    "x_lst = df['rh'].value_counts()\n",
    "\n",
    "plt.title('rh')\n",
    "plt.xlabel('Value')\n",
    "plt.ylabel('Number of entries')\n",
    "plt.scatter(x_lst.index, x_lst.values, s=5)\n",
    "plt.show"
   ]
  },
  {
   "cell_type": "code",
   "execution_count": 57,
   "id": "c788fb6d",
   "metadata": {},
   "outputs": [
    {
     "data": {
      "text/plain": [
       "-200.0    289\n",
       " 53.1      29\n",
       " 57.9      26\n",
       " 50.8      25\n",
       " 61.1      25\n",
       "         ... \n",
       " 9.9        1\n",
       " 12.9       1\n",
       " 85.2       1\n",
       " 85.6       1\n",
       " 86.6       1\n",
       "Name: rh, Length: 749, dtype: int64"
      ]
     },
     "execution_count": 57,
     "metadata": {},
     "output_type": "execute_result"
    }
   ],
   "source": [
    "df['rh'].value_counts()"
   ]
  },
  {
   "cell_type": "code",
   "execution_count": 58,
   "id": "f3c31ed0",
   "metadata": {},
   "outputs": [],
   "source": [
    "# filter column so that values below 0 aren't included\n",
    "filt = df['rh'].between(0, 100)\n",
    "filt_df = df['rh'].loc[filt]"
   ]
  },
  {
   "cell_type": "code",
   "execution_count": 59,
   "id": "abd53fd1",
   "metadata": {
    "scrolled": false
   },
   "outputs": [
    {
     "data": {
      "text/plain": [
       "<function matplotlib.pyplot.show(close=None, block=None)>"
      ]
     },
     "execution_count": 59,
     "metadata": {},
     "output_type": "execute_result"
    },
    {
     "data": {
      "image/png": "[encoded data removed]",
      "text/plain": [
       "<Figure size 1080x576 with 1 Axes>"
      ]
     },
     "metadata": {
      "needs_background": "light"
     },
     "output_type": "display_data"
    }
   ],
   "source": [
    "# histogram based on filtered column\n",
    "plt.title('rh')\n",
    "plt.xlabel('Value')\n",
    "plt.ylabel('Number of entries')\n",
    "plt.hist(filt_df, bins=20)\n",
    "plt.show"
   ]
  },
  {
   "cell_type": "markdown",
   "id": "ae0059bd",
   "metadata": {},
   "source": [
    "Value -200 seems to be an unwanted outlier\n",
    "\n",
    "## ah"
   ]
  },
  {
   "cell_type": "code",
   "execution_count": 60,
   "id": "15e08dfa",
   "metadata": {
    "scrolled": false
   },
   "outputs": [
    {
     "data": {
      "text/plain": [
       "<function matplotlib.pyplot.show(close=None, block=None)>"
      ]
     },
     "execution_count": 60,
     "metadata": {},
     "output_type": "execute_result"
    },
    {
     "data": {
      "image/png": "[encoded data removed]",
      "text/plain": [
       "<Figure size 1080x576 with 1 Axes>"
      ]
     },
     "metadata": {
      "needs_background": "light"
     },
     "output_type": "display_data"
    }
   ],
   "source": [
    "x_lst = df['ah'].value_counts()\n",
    "\n",
    "plt.title('ah')\n",
    "plt.xlabel('Value')\n",
    "plt.ylabel('Number of entries')\n",
    "plt.scatter(x_lst.index, x_lst.values, s=5)\n",
    "plt.show"
   ]
  },
  {
   "cell_type": "code",
   "execution_count": 61,
   "id": "37f14f14",
   "metadata": {},
   "outputs": [
    {
     "data": {
      "text/plain": [
       "-200.0000    289\n",
       " 0.8394        6\n",
       " 1.1199        6\n",
       " 0.8736        5\n",
       " 0.9271        5\n",
       "            ... \n",
       " 1.1235        1\n",
       " 1.1249        1\n",
       " 1.0469        1\n",
       " 1.0522        1\n",
       " 0.3358        1\n",
       "Name: ah, Length: 5918, dtype: int64"
      ]
     },
     "execution_count": 61,
     "metadata": {},
     "output_type": "execute_result"
    }
   ],
   "source": [
    "df['ah'].value_counts()"
   ]
  },
  {
   "cell_type": "code",
   "execution_count": 62,
   "id": "9f304ec9",
   "metadata": {},
   "outputs": [],
   "source": [
    "# filter column so that values below -10 aren't included\n",
    "filt = df['ah'].between(-10, 100)\n",
    "filt_df = df['ah'].loc[filt]"
   ]
  },
  {
   "cell_type": "code",
   "execution_count": 63,
   "id": "ceba8405",
   "metadata": {
    "scrolled": false
   },
   "outputs": [
    {
     "data": {
      "text/plain": [
       "<function matplotlib.pyplot.show(close=None, block=None)>"
      ]
     },
     "execution_count": 63,
     "metadata": {},
     "output_type": "execute_result"
    },
    {
     "data": {
      "image/png": "[encoded data removed]",
      "text/plain": [
       "<Figure size 1080x576 with 1 Axes>"
      ]
     },
     "metadata": {
      "needs_background": "light"
     },
     "output_type": "display_data"
    }
   ],
   "source": [
    "# histogram based on filtered column\n",
    "plt.title('ah')\n",
    "plt.xlabel('Value')\n",
    "plt.ylabel('Number of entries')\n",
    "plt.hist(filt_df, bins=20)\n",
    "plt.show"
   ]
  },
  {
   "cell_type": "code",
   "execution_count": 64,
   "id": "b9657c26",
   "metadata": {},
   "outputs": [],
   "source": [
    "df.to_csv(\"csv/1_AirQuality.csv\", sep=';', index = False)"
   ]
  }
 ],
 "metadata": {
  "kernelspec": {
   "display_name": "Python 3 (ipykernel)",
   "language": "python",
   "name": "python3"
  },
  "language_info": {
   "codemirror_mode": {
    "name": "ipython",
    "version": 3
   },
   "file_extension": ".py",
   "mimetype": "text/x-python",
   "name": "python",
   "nbconvert_exporter": "python",
   "pygments_lexer": "ipython3",
   "version": "3.9.7"
  }
 },
 "nbformat": 4,
 "nbformat_minor": 5
}
