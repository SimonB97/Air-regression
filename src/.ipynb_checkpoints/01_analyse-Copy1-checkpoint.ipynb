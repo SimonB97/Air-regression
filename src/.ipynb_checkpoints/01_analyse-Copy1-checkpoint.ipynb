{
 "cells": [
  {
   "cell_type": "markdown",
   "id": "f407473c",
   "metadata": {},
   "source": [
    "# Given data + code examples"
   ]
  },
  {
   "cell_type": "code",
   "execution_count": 1,
   "id": "d8a7e37b",
   "metadata": {},
   "outputs": [],
   "source": [
    "# imports\n",
    "import pandas as pd"
   ]
  },
  {
   "cell_type": "code",
   "execution_count": 2,
   "id": "5e083356",
   "metadata": {},
   "outputs": [],
   "source": [
    "# read in the dataframe\n",
    "\n",
    "# not necessary anymore because csv changed: affected columns contain integers now instead of objects (strings):\n",
    "# [added argument \"thousands=','\" so that pandas can convert strings into float values correctly]\n",
    "url = 'https://raw.githubusercontent.com/joa24jm/21-12-13_air-qual/master/data/01_raw/AirQualityUCI.csv'\n",
    "df = pd.read_csv(url, sep=';', decimal=',')"
   ]
  },
  {
   "cell_type": "code",
   "execution_count": 3,
   "id": "76bd4044",
   "metadata": {
    "scrolled": true
   },
   "outputs": [
    {
     "data": {
      "text/html": [
       "<div>\n",
       "<style scoped>\n",
       "    .dataframe tbody tr th:only-of-type {\n",
       "        vertical-align: middle;\n",
       "    }\n",
       "\n",
       "    .dataframe tbody tr th {\n",
       "        vertical-align: top;\n",
       "    }\n",
       "\n",
       "    .dataframe thead th {\n",
       "        text-align: right;\n",
       "    }\n",
       "</style>\n",
       "<table border=\"1\" class=\"dataframe\">\n",
       "  <thead>\n",
       "    <tr style=\"text-align: right;\">\n",
       "      <th></th>\n",
       "      <th>CO(GT)</th>\n",
       "      <th>PT08.S1(CO)</th>\n",
       "      <th>NMHC(GT)</th>\n",
       "      <th>C6H6(GT)</th>\n",
       "      <th>PT08.S2(NMHC)</th>\n",
       "      <th>NOx(GT)</th>\n",
       "      <th>PT08.S3(NOx)</th>\n",
       "      <th>NO2(GT)</th>\n",
       "      <th>PT08.S4(NO2)</th>\n",
       "      <th>PT08.S5(O3)</th>\n",
       "      <th>T</th>\n",
       "      <th>RH</th>\n",
       "      <th>AH</th>\n",
       "      <th>Unnamed: 15</th>\n",
       "      <th>Unnamed: 16</th>\n",
       "    </tr>\n",
       "  </thead>\n",
       "  <tbody>\n",
       "    <tr>\n",
       "      <th>count</th>\n",
       "      <td>7998.000000</td>\n",
       "      <td>7998.000000</td>\n",
       "      <td>7998.000000</td>\n",
       "      <td>7998.000000</td>\n",
       "      <td>7998.000000</td>\n",
       "      <td>7998.000000</td>\n",
       "      <td>7998.000000</td>\n",
       "      <td>7998.000000</td>\n",
       "      <td>7998.000000</td>\n",
       "      <td>7998.000000</td>\n",
       "      <td>7998.000000</td>\n",
       "      <td>7998.000000</td>\n",
       "      <td>7998.000000</td>\n",
       "      <td>0.0</td>\n",
       "      <td>0.0</td>\n",
       "    </tr>\n",
       "    <tr>\n",
       "      <th>mean</th>\n",
       "      <td>-39.626619</td>\n",
       "      <td>1051.390473</td>\n",
       "      <td>-152.138785</td>\n",
       "      <td>2.853501</td>\n",
       "      <td>911.895974</td>\n",
       "      <td>149.096524</td>\n",
       "      <td>810.866592</td>\n",
       "      <td>45.156164</td>\n",
       "      <td>1445.659290</td>\n",
       "      <td>979.964741</td>\n",
       "      <td>11.545486</td>\n",
       "      <td>39.972981</td>\n",
       "      <td>-6.183809</td>\n",
       "      <td>NaN</td>\n",
       "      <td>NaN</td>\n",
       "    </tr>\n",
       "    <tr>\n",
       "      <th>std</th>\n",
       "      <td>81.903331</td>\n",
       "      <td>324.558998</td>\n",
       "      <td>150.096708</td>\n",
       "      <td>39.977717</td>\n",
       "      <td>340.000627</td>\n",
       "      <td>260.628377</td>\n",
       "      <td>321.385807</td>\n",
       "      <td>129.330765</td>\n",
       "      <td>455.347712</td>\n",
       "      <td>449.200147</td>\n",
       "      <td>41.835465</td>\n",
       "      <td>49.468677</td>\n",
       "      <td>37.531010</td>\n",
       "      <td>NaN</td>\n",
       "      <td>NaN</td>\n",
       "    </tr>\n",
       "    <tr>\n",
       "      <th>min</th>\n",
       "      <td>-200.000000</td>\n",
       "      <td>-200.000000</td>\n",
       "      <td>-200.000000</td>\n",
       "      <td>-200.000000</td>\n",
       "      <td>-200.000000</td>\n",
       "      <td>-200.000000</td>\n",
       "      <td>-200.000000</td>\n",
       "      <td>-200.000000</td>\n",
       "      <td>-200.000000</td>\n",
       "      <td>-200.000000</td>\n",
       "      <td>-200.000000</td>\n",
       "      <td>-200.000000</td>\n",
       "      <td>-200.000000</td>\n",
       "      <td>NaN</td>\n",
       "      <td>NaN</td>\n",
       "    </tr>\n",
       "    <tr>\n",
       "      <th>25%</th>\n",
       "      <td>0.500000</td>\n",
       "      <td>917.000000</td>\n",
       "      <td>-200.000000</td>\n",
       "      <td>4.300000</td>\n",
       "      <td>727.000000</td>\n",
       "      <td>39.000000</td>\n",
       "      <td>652.000000</td>\n",
       "      <td>44.000000</td>\n",
       "      <td>1275.250000</td>\n",
       "      <td>710.000000</td>\n",
       "      <td>12.300000</td>\n",
       "      <td>33.800000</td>\n",
       "      <td>0.779300</td>\n",
       "      <td>NaN</td>\n",
       "      <td>NaN</td>\n",
       "    </tr>\n",
       "    <tr>\n",
       "      <th>50%</th>\n",
       "      <td>1.500000</td>\n",
       "      <td>1051.500000</td>\n",
       "      <td>-200.000000</td>\n",
       "      <td>8.300000</td>\n",
       "      <td>911.000000</td>\n",
       "      <td>122.000000</td>\n",
       "      <td>807.000000</td>\n",
       "      <td>90.000000</td>\n",
       "      <td>1494.000000</td>\n",
       "      <td>942.000000</td>\n",
       "      <td>18.700000</td>\n",
       "      <td>48.500000</td>\n",
       "      <td>1.031600</td>\n",
       "      <td>NaN</td>\n",
       "      <td>NaN</td>\n",
       "    </tr>\n",
       "    <tr>\n",
       "      <th>75%</th>\n",
       "      <td>2.600000</td>\n",
       "      <td>1225.000000</td>\n",
       "      <td>-200.000000</td>\n",
       "      <td>14.200000</td>\n",
       "      <td>1122.000000</td>\n",
       "      <td>259.750000</td>\n",
       "      <td>976.000000</td>\n",
       "      <td>125.000000</td>\n",
       "      <td>1698.000000</td>\n",
       "      <td>1253.750000</td>\n",
       "      <td>25.100000</td>\n",
       "      <td>61.600000</td>\n",
       "      <td>1.358525</td>\n",
       "      <td>NaN</td>\n",
       "      <td>NaN</td>\n",
       "    </tr>\n",
       "    <tr>\n",
       "      <th>max</th>\n",
       "      <td>11.900000</td>\n",
       "      <td>2040.000000</td>\n",
       "      <td>1189.000000</td>\n",
       "      <td>63.700000</td>\n",
       "      <td>2214.000000</td>\n",
       "      <td>1479.000000</td>\n",
       "      <td>2683.000000</td>\n",
       "      <td>333.000000</td>\n",
       "      <td>2775.000000</td>\n",
       "      <td>2523.000000</td>\n",
       "      <td>44.600000</td>\n",
       "      <td>88.700000</td>\n",
       "      <td>2.231000</td>\n",
       "      <td>NaN</td>\n",
       "      <td>NaN</td>\n",
       "    </tr>\n",
       "  </tbody>\n",
       "</table>\n",
       "</div>"
      ],
      "text/plain": [
       "            CO(GT)  PT08.S1(CO)     NMHC(GT)     C6H6(GT)  PT08.S2(NMHC)  \\\n",
       "count  7998.000000  7998.000000  7998.000000  7998.000000    7998.000000   \n",
       "mean    -39.626619  1051.390473  -152.138785     2.853501     911.895974   \n",
       "std      81.903331   324.558998   150.096708    39.977717     340.000627   \n",
       "min    -200.000000  -200.000000  -200.000000  -200.000000    -200.000000   \n",
       "25%       0.500000   917.000000  -200.000000     4.300000     727.000000   \n",
       "50%       1.500000  1051.500000  -200.000000     8.300000     911.000000   \n",
       "75%       2.600000  1225.000000  -200.000000    14.200000    1122.000000   \n",
       "max      11.900000  2040.000000  1189.000000    63.700000    2214.000000   \n",
       "\n",
       "           NOx(GT)  PT08.S3(NOx)      NO2(GT)  PT08.S4(NO2)  PT08.S5(O3)  \\\n",
       "count  7998.000000   7998.000000  7998.000000   7998.000000  7998.000000   \n",
       "mean    149.096524    810.866592    45.156164   1445.659290   979.964741   \n",
       "std     260.628377    321.385807   129.330765    455.347712   449.200147   \n",
       "min    -200.000000   -200.000000  -200.000000   -200.000000  -200.000000   \n",
       "25%      39.000000    652.000000    44.000000   1275.250000   710.000000   \n",
       "50%     122.000000    807.000000    90.000000   1494.000000   942.000000   \n",
       "75%     259.750000    976.000000   125.000000   1698.000000  1253.750000   \n",
       "max    1479.000000   2683.000000   333.000000   2775.000000  2523.000000   \n",
       "\n",
       "                 T           RH           AH  Unnamed: 15  Unnamed: 16  \n",
       "count  7998.000000  7998.000000  7998.000000          0.0          0.0  \n",
       "mean     11.545486    39.972981    -6.183809          NaN          NaN  \n",
       "std      41.835465    49.468677    37.531010          NaN          NaN  \n",
       "min    -200.000000  -200.000000  -200.000000          NaN          NaN  \n",
       "25%      12.300000    33.800000     0.779300          NaN          NaN  \n",
       "50%      18.700000    48.500000     1.031600          NaN          NaN  \n",
       "75%      25.100000    61.600000     1.358525          NaN          NaN  \n",
       "max      44.600000    88.700000     2.231000          NaN          NaN  "
      ]
     },
     "execution_count": 3,
     "metadata": {},
     "output_type": "execute_result"
    }
   ],
   "source": [
    "# describe the dataframe\n",
    "df.describe()"
   ]
  },
  {
   "cell_type": "markdown",
   "id": "83dcdabc",
   "metadata": {},
   "source": [
    "# Start of code added for training purposes"
   ]
  },
  {
   "cell_type": "code",
   "execution_count": 4,
   "id": "fe665a62",
   "metadata": {},
   "outputs": [],
   "source": [
    "# drop columns without Values\n",
    "df.drop(columns=['Unnamed: 15', 'Unnamed: 16'], inplace=True)"
   ]
  },
  {
   "cell_type": "code",
   "execution_count": 5,
   "id": "bc10f3f0",
   "metadata": {},
   "outputs": [
    {
     "data": {
      "text/html": [
       "<div>\n",
       "<style scoped>\n",
       "    .dataframe tbody tr th:only-of-type {\n",
       "        vertical-align: middle;\n",
       "    }\n",
       "\n",
       "    .dataframe tbody tr th {\n",
       "        vertical-align: top;\n",
       "    }\n",
       "\n",
       "    .dataframe thead th {\n",
       "        text-align: right;\n",
       "    }\n",
       "</style>\n",
       "<table border=\"1\" class=\"dataframe\">\n",
       "  <thead>\n",
       "    <tr style=\"text-align: right;\">\n",
       "      <th></th>\n",
       "      <th>Date</th>\n",
       "      <th>Time</th>\n",
       "      <th>CO(GT)</th>\n",
       "      <th>PT08.S1(CO)</th>\n",
       "      <th>NMHC(GT)</th>\n",
       "      <th>C6H6(GT)</th>\n",
       "      <th>PT08.S2(NMHC)</th>\n",
       "      <th>NOx(GT)</th>\n",
       "      <th>PT08.S3(NOx)</th>\n",
       "      <th>NO2(GT)</th>\n",
       "      <th>PT08.S4(NO2)</th>\n",
       "      <th>PT08.S5(O3)</th>\n",
       "      <th>T</th>\n",
       "      <th>RH</th>\n",
       "      <th>AH</th>\n",
       "    </tr>\n",
       "  </thead>\n",
       "  <tbody>\n",
       "    <tr>\n",
       "      <th>0</th>\n",
       "      <td>10/03/2004</td>\n",
       "      <td>18.00.00</td>\n",
       "      <td>2.6</td>\n",
       "      <td>1360</td>\n",
       "      <td>150</td>\n",
       "      <td>11.9</td>\n",
       "      <td>1046</td>\n",
       "      <td>166</td>\n",
       "      <td>1056</td>\n",
       "      <td>113</td>\n",
       "      <td>1692</td>\n",
       "      <td>1268</td>\n",
       "      <td>13.6</td>\n",
       "      <td>48.9</td>\n",
       "      <td>0.7578</td>\n",
       "    </tr>\n",
       "    <tr>\n",
       "      <th>1</th>\n",
       "      <td>10/03/2004</td>\n",
       "      <td>19.00.00</td>\n",
       "      <td>2.0</td>\n",
       "      <td>1292</td>\n",
       "      <td>112</td>\n",
       "      <td>9.4</td>\n",
       "      <td>955</td>\n",
       "      <td>103</td>\n",
       "      <td>1174</td>\n",
       "      <td>92</td>\n",
       "      <td>1559</td>\n",
       "      <td>972</td>\n",
       "      <td>13.3</td>\n",
       "      <td>47.7</td>\n",
       "      <td>0.7255</td>\n",
       "    </tr>\n",
       "    <tr>\n",
       "      <th>2</th>\n",
       "      <td>10/03/2004</td>\n",
       "      <td>20.00.00</td>\n",
       "      <td>2.2</td>\n",
       "      <td>1402</td>\n",
       "      <td>88</td>\n",
       "      <td>9.0</td>\n",
       "      <td>939</td>\n",
       "      <td>131</td>\n",
       "      <td>1140</td>\n",
       "      <td>114</td>\n",
       "      <td>1555</td>\n",
       "      <td>1074</td>\n",
       "      <td>11.9</td>\n",
       "      <td>54.0</td>\n",
       "      <td>0.7502</td>\n",
       "    </tr>\n",
       "    <tr>\n",
       "      <th>3</th>\n",
       "      <td>10/03/2004</td>\n",
       "      <td>21.00.00</td>\n",
       "      <td>2.2</td>\n",
       "      <td>1376</td>\n",
       "      <td>80</td>\n",
       "      <td>9.2</td>\n",
       "      <td>948</td>\n",
       "      <td>172</td>\n",
       "      <td>1092</td>\n",
       "      <td>122</td>\n",
       "      <td>1584</td>\n",
       "      <td>1203</td>\n",
       "      <td>11.0</td>\n",
       "      <td>60.0</td>\n",
       "      <td>0.7867</td>\n",
       "    </tr>\n",
       "    <tr>\n",
       "      <th>4</th>\n",
       "      <td>10/03/2004</td>\n",
       "      <td>22.00.00</td>\n",
       "      <td>1.6</td>\n",
       "      <td>1272</td>\n",
       "      <td>51</td>\n",
       "      <td>6.5</td>\n",
       "      <td>836</td>\n",
       "      <td>131</td>\n",
       "      <td>1205</td>\n",
       "      <td>116</td>\n",
       "      <td>1490</td>\n",
       "      <td>1110</td>\n",
       "      <td>11.2</td>\n",
       "      <td>59.6</td>\n",
       "      <td>0.7888</td>\n",
       "    </tr>\n",
       "    <tr>\n",
       "      <th>...</th>\n",
       "      <td>...</td>\n",
       "      <td>...</td>\n",
       "      <td>...</td>\n",
       "      <td>...</td>\n",
       "      <td>...</td>\n",
       "      <td>...</td>\n",
       "      <td>...</td>\n",
       "      <td>...</td>\n",
       "      <td>...</td>\n",
       "      <td>...</td>\n",
       "      <td>...</td>\n",
       "      <td>...</td>\n",
       "      <td>...</td>\n",
       "      <td>...</td>\n",
       "      <td>...</td>\n",
       "    </tr>\n",
       "    <tr>\n",
       "      <th>7993</th>\n",
       "      <td>06/02/2005</td>\n",
       "      <td>19.00.00</td>\n",
       "      <td>1.6</td>\n",
       "      <td>985</td>\n",
       "      <td>-200</td>\n",
       "      <td>4.5</td>\n",
       "      <td>736</td>\n",
       "      <td>227</td>\n",
       "      <td>891</td>\n",
       "      <td>165</td>\n",
       "      <td>875</td>\n",
       "      <td>774</td>\n",
       "      <td>6.0</td>\n",
       "      <td>38.0</td>\n",
       "      <td>0.3584</td>\n",
       "    </tr>\n",
       "    <tr>\n",
       "      <th>7994</th>\n",
       "      <td>06/02/2005</td>\n",
       "      <td>20.00.00</td>\n",
       "      <td>1.8</td>\n",
       "      <td>1002</td>\n",
       "      <td>-200</td>\n",
       "      <td>5.3</td>\n",
       "      <td>780</td>\n",
       "      <td>252</td>\n",
       "      <td>855</td>\n",
       "      <td>179</td>\n",
       "      <td>892</td>\n",
       "      <td>857</td>\n",
       "      <td>5.8</td>\n",
       "      <td>36.4</td>\n",
       "      <td>0.3385</td>\n",
       "    </tr>\n",
       "    <tr>\n",
       "      <th>7995</th>\n",
       "      <td>06/02/2005</td>\n",
       "      <td>21.00.00</td>\n",
       "      <td>1.4</td>\n",
       "      <td>938</td>\n",
       "      <td>-200</td>\n",
       "      <td>3.7</td>\n",
       "      <td>692</td>\n",
       "      <td>193</td>\n",
       "      <td>937</td>\n",
       "      <td>149</td>\n",
       "      <td>805</td>\n",
       "      <td>737</td>\n",
       "      <td>5.8</td>\n",
       "      <td>35.4</td>\n",
       "      <td>0.3286</td>\n",
       "    </tr>\n",
       "    <tr>\n",
       "      <th>7996</th>\n",
       "      <td>06/02/2005</td>\n",
       "      <td>22.00.00</td>\n",
       "      <td>1.1</td>\n",
       "      <td>896</td>\n",
       "      <td>-200</td>\n",
       "      <td>2.6</td>\n",
       "      <td>627</td>\n",
       "      <td>158</td>\n",
       "      <td>1033</td>\n",
       "      <td>126</td>\n",
       "      <td>782</td>\n",
       "      <td>610</td>\n",
       "      <td>5.4</td>\n",
       "      <td>36.6</td>\n",
       "      <td>0.3304</td>\n",
       "    </tr>\n",
       "    <tr>\n",
       "      <th>7997</th>\n",
       "      <td>06/02/2005</td>\n",
       "      <td>23.00.00</td>\n",
       "      <td>1.0</td>\n",
       "      <td>907</td>\n",
       "      <td>-200</td>\n",
       "      <td>2.4</td>\n",
       "      <td>614</td>\n",
       "      <td>150</td>\n",
       "      <td>1052</td>\n",
       "      <td>120</td>\n",
       "      <td>782</td>\n",
       "      <td>627</td>\n",
       "      <td>5.1</td>\n",
       "      <td>37.9</td>\n",
       "      <td>0.3358</td>\n",
       "    </tr>\n",
       "  </tbody>\n",
       "</table>\n",
       "<p>7998 rows × 15 columns</p>\n",
       "</div>"
      ],
      "text/plain": [
       "            Date      Time  CO(GT)  PT08.S1(CO)  NMHC(GT)  C6H6(GT)  \\\n",
       "0     10/03/2004  18.00.00     2.6         1360       150      11.9   \n",
       "1     10/03/2004  19.00.00     2.0         1292       112       9.4   \n",
       "2     10/03/2004  20.00.00     2.2         1402        88       9.0   \n",
       "3     10/03/2004  21.00.00     2.2         1376        80       9.2   \n",
       "4     10/03/2004  22.00.00     1.6         1272        51       6.5   \n",
       "...          ...       ...     ...          ...       ...       ...   \n",
       "7993  06/02/2005  19.00.00     1.6          985      -200       4.5   \n",
       "7994  06/02/2005  20.00.00     1.8         1002      -200       5.3   \n",
       "7995  06/02/2005  21.00.00     1.4          938      -200       3.7   \n",
       "7996  06/02/2005  22.00.00     1.1          896      -200       2.6   \n",
       "7997  06/02/2005  23.00.00     1.0          907      -200       2.4   \n",
       "\n",
       "      PT08.S2(NMHC)  NOx(GT)  PT08.S3(NOx)  NO2(GT)  PT08.S4(NO2)  \\\n",
       "0              1046      166          1056      113          1692   \n",
       "1               955      103          1174       92          1559   \n",
       "2               939      131          1140      114          1555   \n",
       "3               948      172          1092      122          1584   \n",
       "4               836      131          1205      116          1490   \n",
       "...             ...      ...           ...      ...           ...   \n",
       "7993            736      227           891      165           875   \n",
       "7994            780      252           855      179           892   \n",
       "7995            692      193           937      149           805   \n",
       "7996            627      158          1033      126           782   \n",
       "7997            614      150          1052      120           782   \n",
       "\n",
       "      PT08.S5(O3)     T    RH      AH  \n",
       "0            1268  13.6  48.9  0.7578  \n",
       "1             972  13.3  47.7  0.7255  \n",
       "2            1074  11.9  54.0  0.7502  \n",
       "3            1203  11.0  60.0  0.7867  \n",
       "4            1110  11.2  59.6  0.7888  \n",
       "...           ...   ...   ...     ...  \n",
       "7993          774   6.0  38.0  0.3584  \n",
       "7994          857   5.8  36.4  0.3385  \n",
       "7995          737   5.8  35.4  0.3286  \n",
       "7996          610   5.4  36.6  0.3304  \n",
       "7997          627   5.1  37.9  0.3358  \n",
       "\n",
       "[7998 rows x 15 columns]"
      ]
     },
     "execution_count": 5,
     "metadata": {},
     "output_type": "execute_result"
    }
   ],
   "source": [
    "df"
   ]
  },
  {
   "cell_type": "code",
   "execution_count": 6,
   "id": "8b15b943",
   "metadata": {},
   "outputs": [
    {
     "data": {
      "text/plain": [
       "Date              object\n",
       "Time              object\n",
       "CO(GT)           float64\n",
       "PT08.S1(CO)        int64\n",
       "NMHC(GT)           int64\n",
       "C6H6(GT)         float64\n",
       "PT08.S2(NMHC)      int64\n",
       "NOx(GT)            int64\n",
       "PT08.S3(NOx)       int64\n",
       "NO2(GT)            int64\n",
       "PT08.S4(NO2)       int64\n",
       "PT08.S5(O3)        int64\n",
       "T                float64\n",
       "RH               float64\n",
       "AH               float64\n",
       "dtype: object"
      ]
     },
     "execution_count": 6,
     "metadata": {},
     "output_type": "execute_result"
    }
   ],
   "source": [
    "# checking datatypes of all columns\n",
    "df.dtypes"
   ]
  },
  {
   "cell_type": "code",
   "execution_count": 7,
   "id": "c6f6ae0f",
   "metadata": {},
   "outputs": [],
   "source": [
    "# 'Date'-column changed to contain date and time combined\n",
    "df['Date'] = df['Date'] + ' ' + df['Time']"
   ]
  },
  {
   "cell_type": "code",
   "execution_count": 8,
   "id": "ee4641b4",
   "metadata": {},
   "outputs": [],
   "source": [
    "# parsing 'Date' into datetime-format\n",
    "df['Date'] = pd.to_datetime(df['Date'], format='%d/%m/%Y %H.%M.%S')\n",
    "# dropping old column 'Time'\n",
    "df.drop(columns='Time', inplace=True)"
   ]
  },
  {
   "cell_type": "code",
   "execution_count": 9,
   "id": "4c118706",
   "metadata": {},
   "outputs": [
    {
     "data": {
      "text/html": [
       "<div>\n",
       "<style scoped>\n",
       "    .dataframe tbody tr th:only-of-type {\n",
       "        vertical-align: middle;\n",
       "    }\n",
       "\n",
       "    .dataframe tbody tr th {\n",
       "        vertical-align: top;\n",
       "    }\n",
       "\n",
       "    .dataframe thead th {\n",
       "        text-align: right;\n",
       "    }\n",
       "</style>\n",
       "<table border=\"1\" class=\"dataframe\">\n",
       "  <thead>\n",
       "    <tr style=\"text-align: right;\">\n",
       "      <th></th>\n",
       "      <th>Date</th>\n",
       "      <th>CO(GT)</th>\n",
       "      <th>PT08.S1(CO)</th>\n",
       "      <th>NMHC(GT)</th>\n",
       "      <th>C6H6(GT)</th>\n",
       "      <th>PT08.S2(NMHC)</th>\n",
       "      <th>NOx(GT)</th>\n",
       "      <th>PT08.S3(NOx)</th>\n",
       "      <th>NO2(GT)</th>\n",
       "      <th>PT08.S4(NO2)</th>\n",
       "      <th>PT08.S5(O3)</th>\n",
       "      <th>T</th>\n",
       "      <th>RH</th>\n",
       "      <th>AH</th>\n",
       "    </tr>\n",
       "  </thead>\n",
       "  <tbody>\n",
       "    <tr>\n",
       "      <th>0</th>\n",
       "      <td>2004-03-10 18:00:00</td>\n",
       "      <td>2.6</td>\n",
       "      <td>1360</td>\n",
       "      <td>150</td>\n",
       "      <td>11.9</td>\n",
       "      <td>1046</td>\n",
       "      <td>166</td>\n",
       "      <td>1056</td>\n",
       "      <td>113</td>\n",
       "      <td>1692</td>\n",
       "      <td>1268</td>\n",
       "      <td>13.6</td>\n",
       "      <td>48.9</td>\n",
       "      <td>0.7578</td>\n",
       "    </tr>\n",
       "    <tr>\n",
       "      <th>1</th>\n",
       "      <td>2004-03-10 19:00:00</td>\n",
       "      <td>2.0</td>\n",
       "      <td>1292</td>\n",
       "      <td>112</td>\n",
       "      <td>9.4</td>\n",
       "      <td>955</td>\n",
       "      <td>103</td>\n",
       "      <td>1174</td>\n",
       "      <td>92</td>\n",
       "      <td>1559</td>\n",
       "      <td>972</td>\n",
       "      <td>13.3</td>\n",
       "      <td>47.7</td>\n",
       "      <td>0.7255</td>\n",
       "    </tr>\n",
       "    <tr>\n",
       "      <th>2</th>\n",
       "      <td>2004-03-10 20:00:00</td>\n",
       "      <td>2.2</td>\n",
       "      <td>1402</td>\n",
       "      <td>88</td>\n",
       "      <td>9.0</td>\n",
       "      <td>939</td>\n",
       "      <td>131</td>\n",
       "      <td>1140</td>\n",
       "      <td>114</td>\n",
       "      <td>1555</td>\n",
       "      <td>1074</td>\n",
       "      <td>11.9</td>\n",
       "      <td>54.0</td>\n",
       "      <td>0.7502</td>\n",
       "    </tr>\n",
       "    <tr>\n",
       "      <th>3</th>\n",
       "      <td>2004-03-10 21:00:00</td>\n",
       "      <td>2.2</td>\n",
       "      <td>1376</td>\n",
       "      <td>80</td>\n",
       "      <td>9.2</td>\n",
       "      <td>948</td>\n",
       "      <td>172</td>\n",
       "      <td>1092</td>\n",
       "      <td>122</td>\n",
       "      <td>1584</td>\n",
       "      <td>1203</td>\n",
       "      <td>11.0</td>\n",
       "      <td>60.0</td>\n",
       "      <td>0.7867</td>\n",
       "    </tr>\n",
       "    <tr>\n",
       "      <th>4</th>\n",
       "      <td>2004-03-10 22:00:00</td>\n",
       "      <td>1.6</td>\n",
       "      <td>1272</td>\n",
       "      <td>51</td>\n",
       "      <td>6.5</td>\n",
       "      <td>836</td>\n",
       "      <td>131</td>\n",
       "      <td>1205</td>\n",
       "      <td>116</td>\n",
       "      <td>1490</td>\n",
       "      <td>1110</td>\n",
       "      <td>11.2</td>\n",
       "      <td>59.6</td>\n",
       "      <td>0.7888</td>\n",
       "    </tr>\n",
       "    <tr>\n",
       "      <th>...</th>\n",
       "      <td>...</td>\n",
       "      <td>...</td>\n",
       "      <td>...</td>\n",
       "      <td>...</td>\n",
       "      <td>...</td>\n",
       "      <td>...</td>\n",
       "      <td>...</td>\n",
       "      <td>...</td>\n",
       "      <td>...</td>\n",
       "      <td>...</td>\n",
       "      <td>...</td>\n",
       "      <td>...</td>\n",
       "      <td>...</td>\n",
       "      <td>...</td>\n",
       "    </tr>\n",
       "    <tr>\n",
       "      <th>7993</th>\n",
       "      <td>2005-02-06 19:00:00</td>\n",
       "      <td>1.6</td>\n",
       "      <td>985</td>\n",
       "      <td>-200</td>\n",
       "      <td>4.5</td>\n",
       "      <td>736</td>\n",
       "      <td>227</td>\n",
       "      <td>891</td>\n",
       "      <td>165</td>\n",
       "      <td>875</td>\n",
       "      <td>774</td>\n",
       "      <td>6.0</td>\n",
       "      <td>38.0</td>\n",
       "      <td>0.3584</td>\n",
       "    </tr>\n",
       "    <tr>\n",
       "      <th>7994</th>\n",
       "      <td>2005-02-06 20:00:00</td>\n",
       "      <td>1.8</td>\n",
       "      <td>1002</td>\n",
       "      <td>-200</td>\n",
       "      <td>5.3</td>\n",
       "      <td>780</td>\n",
       "      <td>252</td>\n",
       "      <td>855</td>\n",
       "      <td>179</td>\n",
       "      <td>892</td>\n",
       "      <td>857</td>\n",
       "      <td>5.8</td>\n",
       "      <td>36.4</td>\n",
       "      <td>0.3385</td>\n",
       "    </tr>\n",
       "    <tr>\n",
       "      <th>7995</th>\n",
       "      <td>2005-02-06 21:00:00</td>\n",
       "      <td>1.4</td>\n",
       "      <td>938</td>\n",
       "      <td>-200</td>\n",
       "      <td>3.7</td>\n",
       "      <td>692</td>\n",
       "      <td>193</td>\n",
       "      <td>937</td>\n",
       "      <td>149</td>\n",
       "      <td>805</td>\n",
       "      <td>737</td>\n",
       "      <td>5.8</td>\n",
       "      <td>35.4</td>\n",
       "      <td>0.3286</td>\n",
       "    </tr>\n",
       "    <tr>\n",
       "      <th>7996</th>\n",
       "      <td>2005-02-06 22:00:00</td>\n",
       "      <td>1.1</td>\n",
       "      <td>896</td>\n",
       "      <td>-200</td>\n",
       "      <td>2.6</td>\n",
       "      <td>627</td>\n",
       "      <td>158</td>\n",
       "      <td>1033</td>\n",
       "      <td>126</td>\n",
       "      <td>782</td>\n",
       "      <td>610</td>\n",
       "      <td>5.4</td>\n",
       "      <td>36.6</td>\n",
       "      <td>0.3304</td>\n",
       "    </tr>\n",
       "    <tr>\n",
       "      <th>7997</th>\n",
       "      <td>2005-02-06 23:00:00</td>\n",
       "      <td>1.0</td>\n",
       "      <td>907</td>\n",
       "      <td>-200</td>\n",
       "      <td>2.4</td>\n",
       "      <td>614</td>\n",
       "      <td>150</td>\n",
       "      <td>1052</td>\n",
       "      <td>120</td>\n",
       "      <td>782</td>\n",
       "      <td>627</td>\n",
       "      <td>5.1</td>\n",
       "      <td>37.9</td>\n",
       "      <td>0.3358</td>\n",
       "    </tr>\n",
       "  </tbody>\n",
       "</table>\n",
       "<p>7998 rows × 14 columns</p>\n",
       "</div>"
      ],
      "text/plain": [
       "                    Date  CO(GT)  PT08.S1(CO)  NMHC(GT)  C6H6(GT)  \\\n",
       "0    2004-03-10 18:00:00     2.6         1360       150      11.9   \n",
       "1    2004-03-10 19:00:00     2.0         1292       112       9.4   \n",
       "2    2004-03-10 20:00:00     2.2         1402        88       9.0   \n",
       "3    2004-03-10 21:00:00     2.2         1376        80       9.2   \n",
       "4    2004-03-10 22:00:00     1.6         1272        51       6.5   \n",
       "...                  ...     ...          ...       ...       ...   \n",
       "7993 2005-02-06 19:00:00     1.6          985      -200       4.5   \n",
       "7994 2005-02-06 20:00:00     1.8         1002      -200       5.3   \n",
       "7995 2005-02-06 21:00:00     1.4          938      -200       3.7   \n",
       "7996 2005-02-06 22:00:00     1.1          896      -200       2.6   \n",
       "7997 2005-02-06 23:00:00     1.0          907      -200       2.4   \n",
       "\n",
       "      PT08.S2(NMHC)  NOx(GT)  PT08.S3(NOx)  NO2(GT)  PT08.S4(NO2)  \\\n",
       "0              1046      166          1056      113          1692   \n",
       "1               955      103          1174       92          1559   \n",
       "2               939      131          1140      114          1555   \n",
       "3               948      172          1092      122          1584   \n",
       "4               836      131          1205      116          1490   \n",
       "...             ...      ...           ...      ...           ...   \n",
       "7993            736      227           891      165           875   \n",
       "7994            780      252           855      179           892   \n",
       "7995            692      193           937      149           805   \n",
       "7996            627      158          1033      126           782   \n",
       "7997            614      150          1052      120           782   \n",
       "\n",
       "      PT08.S5(O3)     T    RH      AH  \n",
       "0            1268  13.6  48.9  0.7578  \n",
       "1             972  13.3  47.7  0.7255  \n",
       "2            1074  11.9  54.0  0.7502  \n",
       "3            1203  11.0  60.0  0.7867  \n",
       "4            1110  11.2  59.6  0.7888  \n",
       "...           ...   ...   ...     ...  \n",
       "7993          774   6.0  38.0  0.3584  \n",
       "7994          857   5.8  36.4  0.3385  \n",
       "7995          737   5.8  35.4  0.3286  \n",
       "7996          610   5.4  36.6  0.3304  \n",
       "7997          627   5.1  37.9  0.3358  \n",
       "\n",
       "[7998 rows x 14 columns]"
      ]
     },
     "execution_count": 9,
     "metadata": {},
     "output_type": "execute_result"
    }
   ],
   "source": [
    "df"
   ]
  },
  {
   "cell_type": "code",
   "execution_count": 10,
   "id": "a98fe299",
   "metadata": {},
   "outputs": [],
   "source": [
    "# this isn't necessary anymore because following columns datatypes changed to integers (from objects before):\n",
    "\n",
    "# convert given columns into datatype float\n",
    "# additional argument was needed in read_csv() function for pandas to recognize commas in strings correctly (cell 3)\n",
    "\n",
    "# df['CO(GT)'] = df['CO(GT)'].astype(float)\n",
    "# df['C6H6(GT)'] = df['C6H6(GT)'].astype(float)\n",
    "# df['T'] = df['T'].astype(float)\n",
    "# df['RH'] = df['RH'].astype(float)\n",
    "# df['AH'] = df['AH'].astype(float)"
   ]
  },
  {
   "cell_type": "markdown",
   "id": "11323693",
   "metadata": {},
   "source": [
    "### Grouping and aggregation"
   ]
  },
  {
   "cell_type": "code",
   "execution_count": 11,
   "id": "f5193431",
   "metadata": {},
   "outputs": [],
   "source": [
    "date_group = df.groupby('Date')"
   ]
  },
  {
   "cell_type": "code",
   "execution_count": 12,
   "id": "ad6fa79d",
   "metadata": {},
   "outputs": [
    {
     "data": {
      "text/plain": [
       "<pandas.core.groupby.generic.DataFrameGroupBy object at 0x00000272D72D9610>"
      ]
     },
     "execution_count": 12,
     "metadata": {},
     "output_type": "execute_result"
    }
   ],
   "source": [
    "date_group"
   ]
  },
  {
   "cell_type": "markdown",
   "id": "4941d7b8",
   "metadata": {},
   "source": [
    "\n",
    "# Plotting data to evaluate their plausibility \n",
    "______________"
   ]
  },
  {
   "cell_type": "code",
   "execution_count": 13,
   "id": "61ed9c0e",
   "metadata": {
    "scrolled": false
   },
   "outputs": [
    {
     "data": {
      "text/html": [
       "<div>\n",
       "<style scoped>\n",
       "    .dataframe tbody tr th:only-of-type {\n",
       "        vertical-align: middle;\n",
       "    }\n",
       "\n",
       "    .dataframe tbody tr th {\n",
       "        vertical-align: top;\n",
       "    }\n",
       "\n",
       "    .dataframe thead th {\n",
       "        text-align: right;\n",
       "    }\n",
       "</style>\n",
       "<table border=\"1\" class=\"dataframe\">\n",
       "  <thead>\n",
       "    <tr style=\"text-align: right;\">\n",
       "      <th></th>\n",
       "      <th>CO(GT)</th>\n",
       "      <th>PT08.S1(CO)</th>\n",
       "      <th>NMHC(GT)</th>\n",
       "      <th>C6H6(GT)</th>\n",
       "      <th>PT08.S2(NMHC)</th>\n",
       "      <th>NOx(GT)</th>\n",
       "      <th>PT08.S3(NOx)</th>\n",
       "      <th>NO2(GT)</th>\n",
       "      <th>PT08.S4(NO2)</th>\n",
       "      <th>PT08.S5(O3)</th>\n",
       "      <th>T</th>\n",
       "      <th>RH</th>\n",
       "      <th>AH</th>\n",
       "    </tr>\n",
       "  </thead>\n",
       "  <tbody>\n",
       "    <tr>\n",
       "      <th>count</th>\n",
       "      <td>7998.000000</td>\n",
       "      <td>7998.000000</td>\n",
       "      <td>7998.000000</td>\n",
       "      <td>7998.000000</td>\n",
       "      <td>7998.000000</td>\n",
       "      <td>7998.000000</td>\n",
       "      <td>7998.000000</td>\n",
       "      <td>7998.000000</td>\n",
       "      <td>7998.000000</td>\n",
       "      <td>7998.000000</td>\n",
       "      <td>7998.000000</td>\n",
       "      <td>7998.000000</td>\n",
       "      <td>7998.000000</td>\n",
       "    </tr>\n",
       "    <tr>\n",
       "      <th>mean</th>\n",
       "      <td>-39.626619</td>\n",
       "      <td>1051.390473</td>\n",
       "      <td>-152.138785</td>\n",
       "      <td>2.853501</td>\n",
       "      <td>911.895974</td>\n",
       "      <td>149.096524</td>\n",
       "      <td>810.866592</td>\n",
       "      <td>45.156164</td>\n",
       "      <td>1445.659290</td>\n",
       "      <td>979.964741</td>\n",
       "      <td>11.545486</td>\n",
       "      <td>39.972981</td>\n",
       "      <td>-6.183809</td>\n",
       "    </tr>\n",
       "    <tr>\n",
       "      <th>std</th>\n",
       "      <td>81.903331</td>\n",
       "      <td>324.558998</td>\n",
       "      <td>150.096708</td>\n",
       "      <td>39.977717</td>\n",
       "      <td>340.000627</td>\n",
       "      <td>260.628377</td>\n",
       "      <td>321.385807</td>\n",
       "      <td>129.330765</td>\n",
       "      <td>455.347712</td>\n",
       "      <td>449.200147</td>\n",
       "      <td>41.835465</td>\n",
       "      <td>49.468677</td>\n",
       "      <td>37.531010</td>\n",
       "    </tr>\n",
       "    <tr>\n",
       "      <th>min</th>\n",
       "      <td>-200.000000</td>\n",
       "      <td>-200.000000</td>\n",
       "      <td>-200.000000</td>\n",
       "      <td>-200.000000</td>\n",
       "      <td>-200.000000</td>\n",
       "      <td>-200.000000</td>\n",
       "      <td>-200.000000</td>\n",
       "      <td>-200.000000</td>\n",
       "      <td>-200.000000</td>\n",
       "      <td>-200.000000</td>\n",
       "      <td>-200.000000</td>\n",
       "      <td>-200.000000</td>\n",
       "      <td>-200.000000</td>\n",
       "    </tr>\n",
       "    <tr>\n",
       "      <th>25%</th>\n",
       "      <td>0.500000</td>\n",
       "      <td>917.000000</td>\n",
       "      <td>-200.000000</td>\n",
       "      <td>4.300000</td>\n",
       "      <td>727.000000</td>\n",
       "      <td>39.000000</td>\n",
       "      <td>652.000000</td>\n",
       "      <td>44.000000</td>\n",
       "      <td>1275.250000</td>\n",
       "      <td>710.000000</td>\n",
       "      <td>12.300000</td>\n",
       "      <td>33.800000</td>\n",
       "      <td>0.779300</td>\n",
       "    </tr>\n",
       "    <tr>\n",
       "      <th>50%</th>\n",
       "      <td>1.500000</td>\n",
       "      <td>1051.500000</td>\n",
       "      <td>-200.000000</td>\n",
       "      <td>8.300000</td>\n",
       "      <td>911.000000</td>\n",
       "      <td>122.000000</td>\n",
       "      <td>807.000000</td>\n",
       "      <td>90.000000</td>\n",
       "      <td>1494.000000</td>\n",
       "      <td>942.000000</td>\n",
       "      <td>18.700000</td>\n",
       "      <td>48.500000</td>\n",
       "      <td>1.031600</td>\n",
       "    </tr>\n",
       "    <tr>\n",
       "      <th>75%</th>\n",
       "      <td>2.600000</td>\n",
       "      <td>1225.000000</td>\n",
       "      <td>-200.000000</td>\n",
       "      <td>14.200000</td>\n",
       "      <td>1122.000000</td>\n",
       "      <td>259.750000</td>\n",
       "      <td>976.000000</td>\n",
       "      <td>125.000000</td>\n",
       "      <td>1698.000000</td>\n",
       "      <td>1253.750000</td>\n",
       "      <td>25.100000</td>\n",
       "      <td>61.600000</td>\n",
       "      <td>1.358525</td>\n",
       "    </tr>\n",
       "    <tr>\n",
       "      <th>max</th>\n",
       "      <td>11.900000</td>\n",
       "      <td>2040.000000</td>\n",
       "      <td>1189.000000</td>\n",
       "      <td>63.700000</td>\n",
       "      <td>2214.000000</td>\n",
       "      <td>1479.000000</td>\n",
       "      <td>2683.000000</td>\n",
       "      <td>333.000000</td>\n",
       "      <td>2775.000000</td>\n",
       "      <td>2523.000000</td>\n",
       "      <td>44.600000</td>\n",
       "      <td>88.700000</td>\n",
       "      <td>2.231000</td>\n",
       "    </tr>\n",
       "  </tbody>\n",
       "</table>\n",
       "</div>"
      ],
      "text/plain": [
       "            CO(GT)  PT08.S1(CO)     NMHC(GT)     C6H6(GT)  PT08.S2(NMHC)  \\\n",
       "count  7998.000000  7998.000000  7998.000000  7998.000000    7998.000000   \n",
       "mean    -39.626619  1051.390473  -152.138785     2.853501     911.895974   \n",
       "std      81.903331   324.558998   150.096708    39.977717     340.000627   \n",
       "min    -200.000000  -200.000000  -200.000000  -200.000000    -200.000000   \n",
       "25%       0.500000   917.000000  -200.000000     4.300000     727.000000   \n",
       "50%       1.500000  1051.500000  -200.000000     8.300000     911.000000   \n",
       "75%       2.600000  1225.000000  -200.000000    14.200000    1122.000000   \n",
       "max      11.900000  2040.000000  1189.000000    63.700000    2214.000000   \n",
       "\n",
       "           NOx(GT)  PT08.S3(NOx)      NO2(GT)  PT08.S4(NO2)  PT08.S5(O3)  \\\n",
       "count  7998.000000   7998.000000  7998.000000   7998.000000  7998.000000   \n",
       "mean    149.096524    810.866592    45.156164   1445.659290   979.964741   \n",
       "std     260.628377    321.385807   129.330765    455.347712   449.200147   \n",
       "min    -200.000000   -200.000000  -200.000000   -200.000000  -200.000000   \n",
       "25%      39.000000    652.000000    44.000000   1275.250000   710.000000   \n",
       "50%     122.000000    807.000000    90.000000   1494.000000   942.000000   \n",
       "75%     259.750000    976.000000   125.000000   1698.000000  1253.750000   \n",
       "max    1479.000000   2683.000000   333.000000   2775.000000  2523.000000   \n",
       "\n",
       "                 T           RH           AH  \n",
       "count  7998.000000  7998.000000  7998.000000  \n",
       "mean     11.545486    39.972981    -6.183809  \n",
       "std      41.835465    49.468677    37.531010  \n",
       "min    -200.000000  -200.000000  -200.000000  \n",
       "25%      12.300000    33.800000     0.779300  \n",
       "50%      18.700000    48.500000     1.031600  \n",
       "75%      25.100000    61.600000     1.358525  \n",
       "max      44.600000    88.700000     2.231000  "
      ]
     },
     "execution_count": 13,
     "metadata": {},
     "output_type": "execute_result"
    }
   ],
   "source": [
    "# imports\n",
    "import matplotlib.pyplot as plt\n",
    "\n",
    "# configuration of how plots are displayed (width, height)\n",
    "plt.rcParams['figure.figsize'] = [15, 8]\n",
    "\n",
    "df.describe()"
   ]
  },
  {
   "cell_type": "markdown",
   "id": "11d8ce3d",
   "metadata": {},
   "source": [
    "## CO(GT):"
   ]
  },
  {
   "cell_type": "code",
   "execution_count": 14,
   "id": "1fc3fde2",
   "metadata": {},
   "outputs": [
    {
     "data": {
      "text/plain": [
       "<function matplotlib.pyplot.show(close=None, block=None)>"
      ]
     },
     "execution_count": 14,
     "metadata": {},
     "output_type": "execute_result"
    },
    {
     "data": {
      "image/png": "[encoded data removed]",
      "text/plain": [
       "<Figure size 1080x576 with 1 Axes>"
      ]
     },
     "metadata": {
      "needs_background": "light"
     },
     "output_type": "display_data"
    }
   ],
   "source": [
    "x_lst = df['CO(GT)'].value_counts()\n",
    "\n",
    "plt.title('CO(GT)')\n",
    "plt.xlabel('Value')\n",
    "plt.ylabel('Number of entries')\n",
    "plt.scatter(x_lst.index, x_lst.values, s=5)\n",
    "plt.show"
   ]
  },
  {
   "cell_type": "code",
   "execution_count": 15,
   "id": "a7472896",
   "metadata": {},
   "outputs": [
    {
     "data": {
      "text/plain": [
       "-200.0    1654\n",
       " 1.0       240\n",
       " 1.6       227\n",
       " 1.7       221\n",
       " 1.4       215\n",
       "          ... \n",
       " 11.9        1\n",
       " 9.5         1\n",
       " 7.6         1\n",
       " 7.0         1\n",
       " 8.5         1\n",
       "Name: CO(GT), Length: 96, dtype: int64"
      ]
     },
     "execution_count": 15,
     "metadata": {},
     "output_type": "execute_result"
    }
   ],
   "source": [
    "df['CO(GT)'].value_counts()"
   ]
  },
  {
   "cell_type": "code",
   "execution_count": 16,
   "id": "9c06f895",
   "metadata": {},
   "outputs": [],
   "source": [
    "# filter column so that values below -5 aren't included\n",
    "filt = df['CO(GT)'].between(-5, 30)\n",
    "filt_df = df['CO(GT)'].loc[filt]"
   ]
  },
  {
   "cell_type": "code",
   "execution_count": 17,
   "id": "dfe0b015",
   "metadata": {},
   "outputs": [
    {
     "data": {
      "text/plain": [
       "<function matplotlib.pyplot.show(close=None, block=None)>"
      ]
     },
     "execution_count": 17,
     "metadata": {},
     "output_type": "execute_result"
    },
    {
     "data": {
      "image/png": "[encoded data removed]",
      "text/plain": [
       "<Figure size 1080x576 with 1 Axes>"
      ]
     },
     "metadata": {
      "needs_background": "light"
     },
     "output_type": "display_data"
    }
   ],
   "source": [
    "plt.title('CO(GT)')\n",
    "plt.xlabel('Value')\n",
    "plt.ylabel('Number of entries')\n",
    "plt.hist(filt_df, bins= 12)\n",
    "plt.show"
   ]
  },
  {
   "cell_type": "markdown",
   "id": "cf4d0413",
   "metadata": {},
   "source": [
    "Value -200 seems to be an unwanted outlier\n",
    "\n",
    "## PT08.S1(CO)"
   ]
  },
  {
   "cell_type": "code",
   "execution_count": 18,
   "id": "4f562417",
   "metadata": {
    "scrolled": false
   },
   "outputs": [
    {
     "data": {
      "text/plain": [
       "<function matplotlib.pyplot.show(close=None, block=None)>"
      ]
     },
     "execution_count": 18,
     "metadata": {},
     "output_type": "execute_result"
    },
    {
     "data": {
      "image/png": "[encoded data removed]",
      "text/plain": [
       "<Figure size 1080x576 with 1 Axes>"
      ]
     },
     "metadata": {
      "needs_background": "light"
     },
     "output_type": "display_data"
    }
   ],
   "source": [
    "x_lst = df['PT08.S1(CO)'].value_counts()\n",
    "\n",
    "plt.title('PT08.S1(CO)')\n",
    "plt.xlabel('Value')\n",
    "plt.ylabel('Number of entries')\n",
    "plt.scatter(x_lst.index, x_lst.values, s=5)\n",
    "plt.show"
   ]
  },
  {
   "cell_type": "code",
   "execution_count": 19,
   "id": "0af1dba6",
   "metadata": {
    "scrolled": false
   },
   "outputs": [
    {
     "data": {
      "text/plain": [
       "-200     289\n",
       " 969      25\n",
       " 973      24\n",
       " 1100     24\n",
       " 925      24\n",
       "        ... \n",
       " 1776      1\n",
       " 717       1\n",
       " 731       1\n",
       " 782       1\n",
       " 1655      1\n",
       "Name: PT08.S1(CO), Length: 1028, dtype: int64"
      ]
     },
     "execution_count": 19,
     "metadata": {},
     "output_type": "execute_result"
    }
   ],
   "source": [
    "df['PT08.S1(CO)'].value_counts()"
   ]
  },
  {
   "cell_type": "code",
   "execution_count": 20,
   "id": "77632abd",
   "metadata": {},
   "outputs": [],
   "source": [
    "# filter column so that values below 500 aren't included\n",
    "filt = df['PT08.S1(CO)'].between(500, 2500)\n",
    "filt_df = df['PT08.S1(CO)'].loc[filt]"
   ]
  },
  {
   "cell_type": "code",
   "execution_count": 21,
   "id": "506b359f",
   "metadata": {},
   "outputs": [
    {
     "data": {
      "text/plain": [
       "<function matplotlib.pyplot.show(close=None, block=None)>"
      ]
     },
     "execution_count": 21,
     "metadata": {},
     "output_type": "execute_result"
    },
    {
     "data": {
      "image/png": "[encoded data removed]",
      "text/plain": [
       "<Figure size 1080x576 with 1 Axes>"
      ]
     },
     "metadata": {
      "needs_background": "light"
     },
     "output_type": "display_data"
    }
   ],
   "source": [
    "# histogram based on filtered column\n",
    "plt.title('PT08.S1(CO)')\n",
    "plt.xlabel('Value')\n",
    "plt.ylabel('Number of entries')\n",
    "plt.hist(filt_df, bins=20)\n",
    "plt.show"
   ]
  },
  {
   "cell_type": "markdown",
   "id": "7aa7c163",
   "metadata": {},
   "source": [
    "Value -200 seems to be an unwanted outlier\n",
    "\n",
    "## NMHC(GT)"
   ]
  },
  {
   "cell_type": "code",
   "execution_count": 22,
   "id": "2be36d69",
   "metadata": {},
   "outputs": [
    {
     "data": {
      "text/plain": [
       "<function matplotlib.pyplot.show(close=None, block=None)>"
      ]
     },
     "execution_count": 22,
     "metadata": {},
     "output_type": "execute_result"
    },
    {
     "data": {
      "image/png": "[encoded data removed]",
      "text/plain": [
       "<Figure size 1080x576 with 1 Axes>"
      ]
     },
     "metadata": {
      "needs_background": "light"
     },
     "output_type": "display_data"
    }
   ],
   "source": [
    "x_lst = df['NMHC(GT)'].value_counts()\n",
    "\n",
    "plt.title('NMHC(GT)')\n",
    "plt.xlabel('Value')\n",
    "plt.ylabel('Number of entries')\n",
    "plt.scatter(x_lst.index, x_lst.values, s=5)\n",
    "plt.show"
   ]
  },
  {
   "cell_type": "code",
   "execution_count": 23,
   "id": "9ce5a4c5",
   "metadata": {},
   "outputs": [
    {
     "data": {
      "text/plain": [
       "-200    7084\n",
       " 66       14\n",
       " 40        9\n",
       " 29        9\n",
       " 88        8\n",
       "        ... \n",
       " 422       1\n",
       " 424       1\n",
       " 339       1\n",
       " 445       1\n",
       " 307       1\n",
       "Name: NMHC(GT), Length: 430, dtype: int64"
      ]
     },
     "execution_count": 23,
     "metadata": {},
     "output_type": "execute_result"
    }
   ],
   "source": [
    "df['NMHC(GT)'].value_counts()"
   ]
  },
  {
   "cell_type": "code",
   "execution_count": 24,
   "id": "1457f0d9",
   "metadata": {},
   "outputs": [],
   "source": [
    "# filter column so that values below 0 aren't included\n",
    "filt = df['NMHC(GT)'].between(0, 1500)\n",
    "filt_df = df['NMHC(GT)'].loc[filt]"
   ]
  },
  {
   "cell_type": "code",
   "execution_count": 25,
   "id": "f65b7bcc",
   "metadata": {},
   "outputs": [
    {
     "data": {
      "text/plain": [
       "<function matplotlib.pyplot.show(close=None, block=None)>"
      ]
     },
     "execution_count": 25,
     "metadata": {},
     "output_type": "execute_result"
    },
    {
     "data": {
      "image/png": "[encoded data removed]",
      "text/plain": [
       "<Figure size 1080x576 with 1 Axes>"
      ]
     },
     "metadata": {
      "needs_background": "light"
     },
     "output_type": "display_data"
    }
   ],
   "source": [
    "# histogram based on filtered column\n",
    "plt.title('NMHC(GT)')\n",
    "plt.xlabel('Value')\n",
    "plt.ylabel('Number of entries')\n",
    "plt.hist(filt_df, bins=20)\n",
    "plt.show"
   ]
  },
  {
   "cell_type": "markdown",
   "id": "512f117d",
   "metadata": {},
   "source": [
    "Value -200 seems to be an unwanted outlier\n",
    "\n",
    "## C6H6(GT)"
   ]
  },
  {
   "cell_type": "code",
   "execution_count": 26,
   "id": "fa167cc0",
   "metadata": {
    "scrolled": false
   },
   "outputs": [
    {
     "data": {
      "text/plain": [
       "<function matplotlib.pyplot.show(close=None, block=None)>"
      ]
     },
     "execution_count": 26,
     "metadata": {},
     "output_type": "execute_result"
    },
    {
     "data": {
      "image/png": "[encoded data removed]",
      "text/plain": [
       "<Figure size 1080x576 with 1 Axes>"
      ]
     },
     "metadata": {
      "needs_background": "light"
     },
     "output_type": "display_data"
    }
   ],
   "source": [
    "x_lst = df['C6H6(GT)'].value_counts()\n",
    "\n",
    "plt.title('C6H6(GT)')\n",
    "plt.xlabel('Value')\n",
    "plt.ylabel('Number of entries')\n",
    "plt.scatter(x_lst.index, x_lst.values, s=5)\n",
    "plt.show"
   ]
  },
  {
   "cell_type": "code",
   "execution_count": 27,
   "id": "06782b33",
   "metadata": {},
   "outputs": [
    {
     "data": {
      "text/plain": [
       "6160    63.7\n",
       "5520    52.1\n",
       "6672    50.8\n",
       "6159    50.7\n",
       "6193    50.6\n",
       "6192    49.5\n",
       "6194    49.4\n",
       "5690    48.2\n",
       "6048    47.7\n",
       "5736    47.5\n",
       "Name: C6H6(GT), dtype: float64"
      ]
     },
     "execution_count": 27,
     "metadata": {},
     "output_type": "execute_result"
    }
   ],
   "source": [
    "df['C6H6(GT)'].nlargest(10)"
   ]
  },
  {
   "cell_type": "code",
   "execution_count": 28,
   "id": "f95381c3",
   "metadata": {},
   "outputs": [],
   "source": [
    "# filter column so that values below 0 aren't included\n",
    "filt = df['C6H6(GT)'].between(-10, 100)\n",
    "filt_df = df['C6H6(GT)'].loc[filt]"
   ]
  },
  {
   "cell_type": "code",
   "execution_count": 29,
   "id": "9f24e9a6",
   "metadata": {
    "scrolled": false
   },
   "outputs": [
    {
     "data": {
      "text/plain": [
       "<function matplotlib.pyplot.show(close=None, block=None)>"
      ]
     },
     "execution_count": 29,
     "metadata": {},
     "output_type": "execute_result"
    },
    {
     "data": {
      "image/png": "[encoded data removed]",
      "text/plain": [
       "<Figure size 1080x576 with 1 Axes>"
      ]
     },
     "metadata": {
      "needs_background": "light"
     },
     "output_type": "display_data"
    }
   ],
   "source": [
    "# histogram based on filtered column\n",
    "plt.title('C6H6(GT)')\n",
    "plt.xlabel('Value')\n",
    "plt.ylabel('Number of entries')\n",
    "plt.hist(filt_df, bins=20)\n",
    "plt.show"
   ]
  },
  {
   "cell_type": "markdown",
   "id": "f1764ee5",
   "metadata": {},
   "source": [
    "Value -200 seems to be an unwanted outlier\n",
    "\n",
    "## PT08.S2(NMHC) \t"
   ]
  },
  {
   "cell_type": "code",
   "execution_count": 30,
   "id": "8e9358e6",
   "metadata": {
    "scrolled": false
   },
   "outputs": [
    {
     "data": {
      "text/plain": [
       "<function matplotlib.pyplot.show(close=None, block=None)>"
      ]
     },
     "execution_count": 30,
     "metadata": {},
     "output_type": "execute_result"
    },
    {
     "data": {
      "image/png": "[encoded data removed]",
      "text/plain": [
       "<Figure size 1080x576 with 1 Axes>"
      ]
     },
     "metadata": {
      "needs_background": "light"
     },
     "output_type": "display_data"
    }
   ],
   "source": [
    "x_lst = df['PT08.S2(NMHC)'].value_counts()\n",
    "\n",
    "plt.title('PT08.S2(NMHC)')\n",
    "plt.xlabel('Value')\n",
    "plt.ylabel('Number of entries')\n",
    "plt.scatter(x_lst.index, x_lst.values, s=5)\n",
    "plt.show"
   ]
  },
  {
   "cell_type": "code",
   "execution_count": 31,
   "id": "dd74973f",
   "metadata": {},
   "outputs": [
    {
     "data": {
      "text/plain": [
       "-200     289\n",
       " 853      22\n",
       " 776      20\n",
       " 859      20\n",
       " 814      19\n",
       "        ... \n",
       " 1536      1\n",
       " 1866      1\n",
       " 1569      1\n",
       " 1782      1\n",
       " 1284      1\n",
       "Name: PT08.S2(NMHC), Length: 1222, dtype: int64"
      ]
     },
     "execution_count": 31,
     "metadata": {},
     "output_type": "execute_result"
    }
   ],
   "source": [
    "df['PT08.S2(NMHC)'].value_counts()"
   ]
  },
  {
   "cell_type": "code",
   "execution_count": 32,
   "id": "ad56cdc6",
   "metadata": {},
   "outputs": [],
   "source": [
    "# filter column so that values below 200 aren't included\n",
    "filt = df['PT08.S2(NMHC)'].between(200, 3000)\n",
    "filt_df = df['PT08.S2(NMHC)'].loc[filt]"
   ]
  },
  {
   "cell_type": "code",
   "execution_count": 33,
   "id": "b8485e86",
   "metadata": {},
   "outputs": [
    {
     "data": {
      "text/plain": [
       "<function matplotlib.pyplot.show(close=None, block=None)>"
      ]
     },
     "execution_count": 33,
     "metadata": {},
     "output_type": "execute_result"
    },
    {
     "data": {
      "image/png": "[encoded data removed]",
      "text/plain": [
       "<Figure size 1080x576 with 1 Axes>"
      ]
     },
     "metadata": {
      "needs_background": "light"
     },
     "output_type": "display_data"
    }
   ],
   "source": [
    "# histogram based on filtered column\n",
    "plt.title('PT08.S2(NMHC)')\n",
    "plt.xlabel('Value')\n",
    "plt.ylabel('Number of entries')\n",
    "plt.hist(filt_df, bins=20)\n",
    "plt.show"
   ]
  },
  {
   "cell_type": "markdown",
   "id": "fac27311",
   "metadata": {},
   "source": [
    "Value -200 seems to be an unwanted outlier\n",
    "\n",
    "## NOx(GT) \t"
   ]
  },
  {
   "cell_type": "code",
   "execution_count": 34,
   "id": "d4e936df",
   "metadata": {
    "scrolled": false
   },
   "outputs": [
    {
     "data": {
      "text/plain": [
       "<function matplotlib.pyplot.show(close=None, block=None)>"
      ]
     },
     "execution_count": 34,
     "metadata": {},
     "output_type": "execute_result"
    },
    {
     "data": {
      "image/png": "[encoded data removed]",
      "text/plain": [
       "<Figure size 1080x576 with 1 Axes>"
      ]
     },
     "metadata": {
      "needs_background": "light"
     },
     "output_type": "display_data"
    }
   ],
   "source": [
    "x_lst = df['NOx(GT)'].value_counts()\n",
    "\n",
    "plt.title('NOx(GT)')\n",
    "plt.xlabel('Value')\n",
    "plt.ylabel('Number of entries')\n",
    "plt.scatter(x_lst.index, x_lst.values, s=5)\n",
    "plt.show"
   ]
  },
  {
   "cell_type": "code",
   "execution_count": 35,
   "id": "ac7185c4",
   "metadata": {},
   "outputs": [
    {
     "data": {
      "text/plain": [
       "-200     1604\n",
       " 89        39\n",
       " 65        37\n",
       " 41        36\n",
       " 57        32\n",
       "         ... \n",
       " 856        1\n",
       " 949        1\n",
       " 932        1\n",
       " 1134       1\n",
       " 708        1\n",
       "Name: NOx(GT), Length: 891, dtype: int64"
      ]
     },
     "execution_count": 35,
     "metadata": {},
     "output_type": "execute_result"
    }
   ],
   "source": [
    "df['NOx(GT)'].value_counts()"
   ]
  },
  {
   "cell_type": "code",
   "execution_count": 36,
   "id": "0b6f843a",
   "metadata": {},
   "outputs": [],
   "source": [
    "# filter column so that values below -50 aren't included\n",
    "filt = df['NOx(GT)'].between(-50, 3000)\n",
    "filt_df = df['NOx(GT)'].loc[filt]"
   ]
  },
  {
   "cell_type": "code",
   "execution_count": 37,
   "id": "dc0e874c",
   "metadata": {},
   "outputs": [
    {
     "data": {
      "text/plain": [
       "<function matplotlib.pyplot.show(close=None, block=None)>"
      ]
     },
     "execution_count": 37,
     "metadata": {},
     "output_type": "execute_result"
    },
    {
     "data": {
      "image/png": "[encoded data removed]",
      "text/plain": [
       "<Figure size 1080x576 with 1 Axes>"
      ]
     },
     "metadata": {
      "needs_background": "light"
     },
     "output_type": "display_data"
    }
   ],
   "source": [
    "# histogram based on filtered column\n",
    "plt.title('NOx(GT)')\n",
    "plt.xlabel('Value')\n",
    "plt.ylabel('Number of entries')\n",
    "plt.hist(filt_df, bins=20)\n",
    "plt.show"
   ]
  },
  {
   "cell_type": "markdown",
   "id": "59d4c788",
   "metadata": {},
   "source": [
    "Value -200 seems to be an unwanted outlier\n",
    "\n",
    "## PT08.S3(NOx) \t \t"
   ]
  },
  {
   "cell_type": "code",
   "execution_count": 38,
   "id": "5d2f8b54",
   "metadata": {
    "scrolled": false
   },
   "outputs": [
    {
     "data": {
      "text/plain": [
       "<function matplotlib.pyplot.show(close=None, block=None)>"
      ]
     },
     "execution_count": 38,
     "metadata": {},
     "output_type": "execute_result"
    },
    {
     "data": {
      "image/png": "[encoded data removed]",
      "text/plain": [
       "<Figure size 1080x576 with 1 Axes>"
      ]
     },
     "metadata": {
      "needs_background": "light"
     },
     "output_type": "display_data"
    }
   ],
   "source": [
    "x_lst = df['PT08.S3(NOx)'].value_counts()\n",
    "\n",
    "plt.title('PT08.S3(NOx)')\n",
    "plt.xlabel('Value')\n",
    "plt.ylabel('Number of entries')\n",
    "plt.scatter(x_lst.index, x_lst.values, s=5)\n",
    "plt.show"
   ]
  },
  {
   "cell_type": "code",
   "execution_count": 39,
   "id": "ac35c8d4",
   "metadata": {},
   "outputs": [
    {
     "data": {
      "text/plain": [
       "-200     289\n",
       " 733      24\n",
       " 846      24\n",
       " 767      22\n",
       " 816      21\n",
       "        ... \n",
       " 1406      1\n",
       " 1488      1\n",
       " 441       1\n",
       " 1279      1\n",
       " 1363      1\n",
       "Name: PT08.S3(NOx), Length: 1204, dtype: int64"
      ]
     },
     "execution_count": 39,
     "metadata": {},
     "output_type": "execute_result"
    }
   ],
   "source": [
    "df['PT08.S3(NOx)'].value_counts()"
   ]
  },
  {
   "cell_type": "code",
   "execution_count": 40,
   "id": "a871ec60",
   "metadata": {},
   "outputs": [],
   "source": [
    "# filter column so that values below 200 aren't included\n",
    "filt = df['PT08.S3(NOx)'].between(200, 3000)\n",
    "filt_df = df['PT08.S3(NOx)'].loc[filt]"
   ]
  },
  {
   "cell_type": "code",
   "execution_count": 41,
   "id": "5ea6fc43",
   "metadata": {},
   "outputs": [
    {
     "data": {
      "text/plain": [
       "<function matplotlib.pyplot.show(close=None, block=None)>"
      ]
     },
     "execution_count": 41,
     "metadata": {},
     "output_type": "execute_result"
    },
    {
     "data": {
      "image/png": "[encoded data removed]",
      "text/plain": [
       "<Figure size 1080x576 with 1 Axes>"
      ]
     },
     "metadata": {
      "needs_background": "light"
     },
     "output_type": "display_data"
    }
   ],
   "source": [
    "# histogram based on filtered column\n",
    "plt.title('PT08.S3(NOx)')\n",
    "plt.xlabel('Value')\n",
    "plt.ylabel('Number of entries')\n",
    "plt.hist(filt_df, bins=20)\n",
    "plt.show"
   ]
  },
  {
   "cell_type": "markdown",
   "id": "23c46389",
   "metadata": {},
   "source": [
    "Value -200 seems to be an unwanted outlier\n",
    "\n",
    "## NO2(GT)\t"
   ]
  },
  {
   "cell_type": "code",
   "execution_count": 42,
   "id": "f687f9e5",
   "metadata": {
    "scrolled": false
   },
   "outputs": [
    {
     "data": {
      "text/plain": [
       "<function matplotlib.pyplot.show(close=None, block=None)>"
      ]
     },
     "execution_count": 42,
     "metadata": {},
     "output_type": "execute_result"
    },
    {
     "data": {
      "image/png": "[encoded data removed]",
      "text/plain": [
       "<Figure size 1080x576 with 1 Axes>"
      ]
     },
     "metadata": {
      "needs_background": "light"
     },
     "output_type": "display_data"
    }
   ],
   "source": [
    "x_lst = df['NO2(GT)'].value_counts()\n",
    "\n",
    "plt.title('NO2(GT)')\n",
    "plt.xlabel('Value')\n",
    "plt.ylabel('Number of entries')\n",
    "plt.scatter(x_lst.index, x_lst.values, s=5)\n",
    "plt.show"
   ]
  },
  {
   "cell_type": "code",
   "execution_count": 43,
   "id": "4acef34c",
   "metadata": {},
   "outputs": [
    {
     "data": {
      "text/plain": [
       "-200    1607\n",
       " 97       72\n",
       " 95       69\n",
       " 101      67\n",
       " 96       66\n",
       "        ... \n",
       " 269       1\n",
       " 257       1\n",
       " 248       1\n",
       " 229       1\n",
       " 310       1\n",
       "Name: NO2(GT), Length: 268, dtype: int64"
      ]
     },
     "execution_count": 43,
     "metadata": {},
     "output_type": "execute_result"
    }
   ],
   "source": [
    "df['NO2(GT)'].value_counts()"
   ]
  },
  {
   "cell_type": "code",
   "execution_count": 44,
   "id": "9508d0fb",
   "metadata": {},
   "outputs": [],
   "source": [
    "# filter column so that values below -50 aren't included\n",
    "filt = df['NO2(GT)'].between(-50, 500)\n",
    "filt_df = df['NO2(GT)'].loc[filt]"
   ]
  },
  {
   "cell_type": "code",
   "execution_count": 45,
   "id": "14cab128",
   "metadata": {},
   "outputs": [
    {
     "data": {
      "text/plain": [
       "<function matplotlib.pyplot.show(close=None, block=None)>"
      ]
     },
     "execution_count": 45,
     "metadata": {},
     "output_type": "execute_result"
    },
    {
     "data": {
      "image/png": "[encoded data removed]",
      "text/plain": [
       "<Figure size 1080x576 with 1 Axes>"
      ]
     },
     "metadata": {
      "needs_background": "light"
     },
     "output_type": "display_data"
    }
   ],
   "source": [
    "# histogram based on filtered column\n",
    "plt.title('NO2(GT)')\n",
    "plt.xlabel('Value')\n",
    "plt.ylabel('Number of entries')\n",
    "plt.hist(filt_df, bins=20)\n",
    "plt.show"
   ]
  },
  {
   "cell_type": "markdown",
   "id": "f21b1957",
   "metadata": {},
   "source": [
    "Value -200 seems to be an unwanted outlier\n",
    "\n",
    "## PT08.S4(NO2)\t"
   ]
  },
  {
   "cell_type": "code",
   "execution_count": 46,
   "id": "2db4cd49",
   "metadata": {
    "scrolled": false
   },
   "outputs": [
    {
     "data": {
      "text/plain": [
       "<function matplotlib.pyplot.show(close=None, block=None)>"
      ]
     },
     "execution_count": 46,
     "metadata": {},
     "output_type": "execute_result"
    },
    {
     "data": {
      "image/png": "[encoded data removed]",
      "text/plain": [
       "<Figure size 1080x576 with 1 Axes>"
      ]
     },
     "metadata": {
      "needs_background": "light"
     },
     "output_type": "display_data"
    }
   ],
   "source": [
    "x_lst = df['PT08.S4(NO2)'].value_counts()\n",
    "\n",
    "plt.title('PT08.S4(NO2)')\n",
    "plt.xlabel('Value')\n",
    "plt.ylabel('Number of entries')\n",
    "plt.scatter(x_lst.index, x_lst.values, s=5)\n",
    "plt.show"
   ]
  },
  {
   "cell_type": "code",
   "execution_count": 47,
   "id": "2067f7a5",
   "metadata": {},
   "outputs": [
    {
     "data": {
      "text/plain": [
       "-200     289\n",
       " 1580     22\n",
       " 1539     20\n",
       " 1638     19\n",
       " 1488     19\n",
       "        ... \n",
       " 1908      1\n",
       " 2259      1\n",
       " 2365      1\n",
       " 2088      1\n",
       " 789       1\n",
       "Name: PT08.S4(NO2), Length: 1550, dtype: int64"
      ]
     },
     "execution_count": 47,
     "metadata": {},
     "output_type": "execute_result"
    }
   ],
   "source": [
    "df['PT08.S4(NO2)'].value_counts()"
   ]
  },
  {
   "cell_type": "code",
   "execution_count": 48,
   "id": "b621382f",
   "metadata": {},
   "outputs": [],
   "source": [
    "# filter column so that values below 500 aren't included\n",
    "filt = df['PT08.S4(NO2)'].between(500, 3000)\n",
    "filt_df = df['PT08.S4(NO2)'].loc[filt]"
   ]
  },
  {
   "cell_type": "code",
   "execution_count": 49,
   "id": "9831beaf",
   "metadata": {},
   "outputs": [
    {
     "data": {
      "text/plain": [
       "<function matplotlib.pyplot.show(close=None, block=None)>"
      ]
     },
     "execution_count": 49,
     "metadata": {},
     "output_type": "execute_result"
    },
    {
     "data": {
      "image/png": "[encoded data removed]",
      "text/plain": [
       "<Figure size 1080x576 with 1 Axes>"
      ]
     },
     "metadata": {
      "needs_background": "light"
     },
     "output_type": "display_data"
    }
   ],
   "source": [
    "# histogram based on filtered column\n",
    "plt.title('PT08.S4(NO2)')\n",
    "plt.xlabel('Value')\n",
    "plt.ylabel('Number of entries')\n",
    "plt.hist(filt_df, bins=20)\n",
    "plt.show"
   ]
  },
  {
   "cell_type": "markdown",
   "id": "2a404910",
   "metadata": {},
   "source": [
    "Value -200 seems to be an unwanted outlier\n",
    "\n",
    "## PT08.S5(O3) \t\t"
   ]
  },
  {
   "cell_type": "code",
   "execution_count": 50,
   "id": "1aa7a7f6",
   "metadata": {
    "scrolled": false
   },
   "outputs": [
    {
     "data": {
      "text/plain": [
       "<function matplotlib.pyplot.show(close=None, block=None)>"
      ]
     },
     "execution_count": 50,
     "metadata": {},
     "output_type": "execute_result"
    },
    {
     "data": {
      "image/png": "[encoded data removed]",
      "text/plain": [
       "<Figure size 1080x576 with 1 Axes>"
      ]
     },
     "metadata": {
      "needs_background": "light"
     },
     "output_type": "display_data"
    }
   ],
   "source": [
    "x_lst = df['PT08.S5(O3)'].value_counts()\n",
    "\n",
    "plt.title('PT08.S5(O3)')\n",
    "plt.xlabel('Value')\n",
    "plt.ylabel('Number of entries')\n",
    "plt.scatter(x_lst.index, x_lst.values, s=5)\n",
    "plt.show"
   ]
  },
  {
   "cell_type": "code",
   "execution_count": 51,
   "id": "8980e442",
   "metadata": {},
   "outputs": [
    {
     "data": {
      "text/plain": [
       "-200     289\n",
       " 836      19\n",
       " 825      18\n",
       " 799      17\n",
       " 826      17\n",
       "        ... \n",
       " 1710      1\n",
       " 1905      1\n",
       " 1234      1\n",
       " 2184      1\n",
       " 1656      1\n",
       "Name: PT08.S5(O3), Length: 1682, dtype: int64"
      ]
     },
     "execution_count": 51,
     "metadata": {},
     "output_type": "execute_result"
    }
   ],
   "source": [
    "df['PT08.S5(O3)'].value_counts()"
   ]
  },
  {
   "cell_type": "code",
   "execution_count": 52,
   "id": "556a6499",
   "metadata": {},
   "outputs": [],
   "source": [
    "# filter column so that values below 200 aren't included\n",
    "filt = df['PT08.S5(O3)'].between(200, 3000)\n",
    "filt_df = df['PT08.S5(O3)'].loc[filt]"
   ]
  },
  {
   "cell_type": "code",
   "execution_count": 53,
   "id": "ddeb7ede",
   "metadata": {},
   "outputs": [
    {
     "data": {
      "text/plain": [
       "<function matplotlib.pyplot.show(close=None, block=None)>"
      ]
     },
     "execution_count": 53,
     "metadata": {},
     "output_type": "execute_result"
    },
    {
     "data": {
      "image/png": "[encoded data removed]",
      "text/plain": [
       "<Figure size 1080x576 with 1 Axes>"
      ]
     },
     "metadata": {
      "needs_background": "light"
     },
     "output_type": "display_data"
    }
   ],
   "source": [
    "# histogram based on filtered column\n",
    "plt.title('PT08.S5(O3)')\n",
    "plt.xlabel('Value')\n",
    "plt.ylabel('Number of entries')\n",
    "plt.hist(filt_df, bins=20)\n",
    "plt.show"
   ]
  },
  {
   "cell_type": "markdown",
   "id": "a9df350d",
   "metadata": {},
   "source": [
    "Value -200 seems to be an unwanted outlier\n",
    "\n",
    "## T\t"
   ]
  },
  {
   "cell_type": "code",
   "execution_count": 54,
   "id": "45569a51",
   "metadata": {
    "scrolled": false
   },
   "outputs": [
    {
     "data": {
      "text/plain": [
       "<function matplotlib.pyplot.show(close=None, block=None)>"
      ]
     },
     "execution_count": 54,
     "metadata": {},
     "output_type": "execute_result"
    },
    {
     "data": {
      "image/png": "[encoded data removed]",
      "text/plain": [
       "<Figure size 1080x576 with 1 Axes>"
      ]
     },
     "metadata": {
      "needs_background": "light"
     },
     "output_type": "display_data"
    }
   ],
   "source": [
    "x_lst = df['T'].value_counts()\n",
    "\n",
    "plt.title('T')\n",
    "plt.xlabel('Value')\n",
    "plt.ylabel('Number of entries')\n",
    "plt.scatter(x_lst.index, x_lst.values, s=5)\n",
    "plt.show"
   ]
  },
  {
   "cell_type": "code",
   "execution_count": 55,
   "id": "cb2e9ecf",
   "metadata": {},
   "outputs": [
    {
     "data": {
      "text/plain": [
       "-200.0    289\n",
       " 20.8      55\n",
       " 21.3      50\n",
       " 20.2      47\n",
       " 19.8      46\n",
       "         ... \n",
       " 44.3       1\n",
       " 44.6       1\n",
       " 43.4       1\n",
       " 43.1       1\n",
       " 0.3        1\n",
       "Name: T, Length: 420, dtype: int64"
      ]
     },
     "execution_count": 55,
     "metadata": {},
     "output_type": "execute_result"
    }
   ],
   "source": [
    "df['T'].value_counts()"
   ]
  },
  {
   "cell_type": "code",
   "execution_count": 56,
   "id": "6e7cb433",
   "metadata": {},
   "outputs": [],
   "source": [
    "# filter column so that values below -20 aren't included\n",
    "filt = df['T'].between(-20, 100)\n",
    "filt_df = df['T'].loc[filt]"
   ]
  },
  {
   "cell_type": "code",
   "execution_count": 57,
   "id": "f1de7d5f",
   "metadata": {},
   "outputs": [
    {
     "data": {
      "text/plain": [
       "<function matplotlib.pyplot.show(close=None, block=None)>"
      ]
     },
     "execution_count": 57,
     "metadata": {},
     "output_type": "execute_result"
    },
    {
     "data": {
      "image/png": "[encoded data removed]",
      "text/plain": [
       "<Figure size 1080x576 with 1 Axes>"
      ]
     },
     "metadata": {
      "needs_background": "light"
     },
     "output_type": "display_data"
    }
   ],
   "source": [
    "# histogram based on filtered column\n",
    "plt.title('T')\n",
    "plt.xlabel('Value')\n",
    "plt.ylabel('Number of entries')\n",
    "plt.hist(filt_df, bins=20)\n",
    "plt.show"
   ]
  },
  {
   "cell_type": "markdown",
   "id": "f7638d9d",
   "metadata": {},
   "source": [
    "Value -200 seems to be an unwanted outlier\n",
    "\n",
    "## RH\t"
   ]
  },
  {
   "cell_type": "code",
   "execution_count": 58,
   "id": "afb49997",
   "metadata": {
    "scrolled": false
   },
   "outputs": [
    {
     "data": {
      "text/plain": [
       "<function matplotlib.pyplot.show(close=None, block=None)>"
      ]
     },
     "execution_count": 58,
     "metadata": {},
     "output_type": "execute_result"
    },
    {
     "data": {
      "image/png": "[encoded data removed]",
      "text/plain": [
       "<Figure size 1080x576 with 1 Axes>"
      ]
     },
     "metadata": {
      "needs_background": "light"
     },
     "output_type": "display_data"
    }
   ],
   "source": [
    "x_lst = df['RH'].value_counts()\n",
    "\n",
    "plt.title('RH')\n",
    "plt.xlabel('Value')\n",
    "plt.ylabel('Number of entries')\n",
    "plt.scatter(x_lst.index, x_lst.values, s=5)\n",
    "plt.show"
   ]
  },
  {
   "cell_type": "code",
   "execution_count": 59,
   "id": "c788fb6d",
   "metadata": {},
   "outputs": [
    {
     "data": {
      "text/plain": [
       "-200.0    289\n",
       " 53.1      29\n",
       " 57.9      26\n",
       " 50.8      25\n",
       " 61.1      25\n",
       "         ... \n",
       " 9.9        1\n",
       " 12.9       1\n",
       " 85.2       1\n",
       " 85.6       1\n",
       " 86.6       1\n",
       "Name: RH, Length: 749, dtype: int64"
      ]
     },
     "execution_count": 59,
     "metadata": {},
     "output_type": "execute_result"
    }
   ],
   "source": [
    "df['RH'].value_counts()"
   ]
  },
  {
   "cell_type": "code",
   "execution_count": 60,
   "id": "f3c31ed0",
   "metadata": {},
   "outputs": [],
   "source": [
    "# filter column so that values below 0 aren't included\n",
    "filt = df['RH'].between(0, 100)\n",
    "filt_df = df['RH'].loc[filt]"
   ]
  },
  {
   "cell_type": "code",
   "execution_count": 61,
   "id": "abd53fd1",
   "metadata": {
    "scrolled": false
   },
   "outputs": [
    {
     "data": {
      "text/plain": [
       "<function matplotlib.pyplot.show(close=None, block=None)>"
      ]
     },
     "execution_count": 61,
     "metadata": {},
     "output_type": "execute_result"
    },
    {
     "data": {
      "image/png": "[encoded data removed]",
      "text/plain": [
       "<Figure size 1080x576 with 1 Axes>"
      ]
     },
     "metadata": {
      "needs_background": "light"
     },
     "output_type": "display_data"
    }
   ],
   "source": [
    "# histogram based on filtered column\n",
    "plt.title('RH')\n",
    "plt.xlabel('Value')\n",
    "plt.ylabel('Number of entries')\n",
    "plt.hist(filt_df, bins=20)\n",
    "plt.show"
   ]
  },
  {
   "cell_type": "markdown",
   "id": "ae0059bd",
   "metadata": {},
   "source": [
    "Value -200 seems to be an unwanted outlier\n",
    "\n",
    "## AH\t"
   ]
  },
  {
   "cell_type": "code",
   "execution_count": 62,
   "id": "15e08dfa",
   "metadata": {
    "scrolled": false
   },
   "outputs": [
    {
     "data": {
      "text/plain": [
       "<function matplotlib.pyplot.show(close=None, block=None)>"
      ]
     },
     "execution_count": 62,
     "metadata": {},
     "output_type": "execute_result"
    },
    {
     "data": {
      "image/png": "[encoded data removed]",
      "text/plain": [
       "<Figure size 1080x576 with 1 Axes>"
      ]
     },
     "metadata": {
      "needs_background": "light"
     },
     "output_type": "display_data"
    }
   ],
   "source": [
    "x_lst = df['AH'].value_counts()\n",
    "\n",
    "plt.title('AH')\n",
    "plt.xlabel('Value')\n",
    "plt.ylabel('Number of entries')\n",
    "plt.scatter(x_lst.index, x_lst.values, s=5)\n",
    "plt.show"
   ]
  },
  {
   "cell_type": "code",
   "execution_count": 63,
   "id": "37f14f14",
   "metadata": {},
   "outputs": [
    {
     "data": {
      "text/plain": [
       "-200.0000    289\n",
       " 0.8394        6\n",
       " 1.1199        6\n",
       " 0.8736        5\n",
       " 0.9271        5\n",
       "            ... \n",
       " 1.1235        1\n",
       " 1.1249        1\n",
       " 1.0469        1\n",
       " 1.0522        1\n",
       " 0.3358        1\n",
       "Name: AH, Length: 5918, dtype: int64"
      ]
     },
     "execution_count": 63,
     "metadata": {},
     "output_type": "execute_result"
    }
   ],
   "source": [
    "df['AH'].value_counts()"
   ]
  },
  {
   "cell_type": "code",
   "execution_count": 64,
   "id": "9f304ec9",
   "metadata": {},
   "outputs": [],
   "source": [
    "# filter column so that values below -10 aren't included\n",
    "filt = df['AH'].between(-10, 100)\n",
    "filt_df = df['AH'].loc[filt]"
   ]
  },
  {
   "cell_type": "code",
   "execution_count": 65,
   "id": "ceba8405",
   "metadata": {
    "scrolled": false
   },
   "outputs": [
    {
     "data": {
      "text/plain": [
       "<function matplotlib.pyplot.show(close=None, block=None)>"
      ]
     },
     "execution_count": 65,
     "metadata": {},
     "output_type": "execute_result"
    },
    {
     "data": {
      "image/png": "[encoded data removed]",
      "text/plain": [
       "<Figure size 1080x576 with 1 Axes>"
      ]
     },
     "metadata": {
      "needs_background": "light"
     },
     "output_type": "display_data"
    }
   ],
   "source": [
    "# histogram based on filtered column\n",
    "plt.title('AH')\n",
    "plt.xlabel('Value')\n",
    "plt.ylabel('Number of entries')\n",
    "plt.hist(filt_df, bins=20)\n",
    "plt.show"
   ]
  }
 ],
 "metadata": {
  "kernelspec": {
   "display_name": "Python 3 (ipykernel)",
   "language": "python",
   "name": "python3"
  },
  "language_info": {
   "codemirror_mode": {
    "name": "ipython",
    "version": 3
   },
   "file_extension": ".py",
   "mimetype": "text/x-python",
   "name": "python",
   "nbconvert_exporter": "python",
   "pygments_lexer": "ipython3",
   "version": "3.9.7"
  }
 },
 "nbformat": 4,
 "nbformat_minor": 5
}
